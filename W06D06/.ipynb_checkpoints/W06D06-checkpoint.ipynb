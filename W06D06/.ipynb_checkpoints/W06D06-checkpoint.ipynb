{
 "cells": [
  {
   "cell_type": "code",
   "execution_count": 1,
   "id": "317ebdca",
   "metadata": {},
   "outputs": [],
   "source": [
    "class Point:\n",
    "    def __init__(self,x=0,y=0):\n",
    "        self.x=x\n",
    "        self.y=y\n",
    "    \n",
    "    def __add__(self,other):\n",
    "        x=self.x + other.x\n",
    "        y=self.y + other.y\n",
    "        return Point(x, y)\n",
    "    \n",
    "p1=Point(3,4)\n",
    "p2=Point(5,10)\n",
    "p3 = p1 + p2"
   ]
  },
  {
   "cell_type": "code",
   "execution_count": 2,
   "id": "a86703ab",
   "metadata": {},
   "outputs": [
    {
     "name": "stdout",
     "output_type": "stream",
     "text": [
      "<__main__.Point object at 0x0000012D7C610640>\n"
     ]
    }
   ],
   "source": [
    "print(p3)"
   ]
  },
  {
   "cell_type": "code",
   "execution_count": 3,
   "id": "7dfe05b4",
   "metadata": {},
   "outputs": [
    {
     "name": "stdout",
     "output_type": "stream",
     "text": [
      "8\n",
      "14\n"
     ]
    }
   ],
   "source": [
    "print(p3.x)\n",
    "print(p3.y)"
   ]
  },
  {
   "cell_type": "code",
   "execution_count": 15,
   "id": "1c5357f3",
   "metadata": {},
   "outputs": [],
   "source": [
    "class Complex:\n",
    "    def __init__(self, real, compl):\n",
    "        self.real = real\n",
    "        self.compl = compl\n",
    "    \n",
    "    def __add__(self, other):\n",
    "        return Complex(self.real+other.real, self.compl + other.compl)\n",
    "    \n",
    "    def __sub__(self, other):\n",
    "        return Complex(self.real-other.real, self.compl-other.compl)\n",
    "\n",
    "    def __repr__(self):\n",
    "        return f\"Real part: {self.real},\\nImaginary part: {self.compl}\""
   ]
  },
  {
   "cell_type": "code",
   "execution_count": 16,
   "id": "17603703",
   "metadata": {},
   "outputs": [
    {
     "name": "stdout",
     "output_type": "stream",
     "text": [
      "Real part: 2,\n",
      "Imaginary part: 1\n"
     ]
    }
   ],
   "source": [
    "c1 = Complex(4, 2)\n",
    "c2 = Complex(2, 1)\n",
    "print(c1 - c2)"
   ]
  },
  {
   "cell_type": "code",
   "execution_count": 17,
   "id": "489c8f71",
   "metadata": {},
   "outputs": [],
   "source": [
    "c3 = c1 + c2"
   ]
  },
  {
   "cell_type": "code",
   "execution_count": 18,
   "id": "bdf09d50",
   "metadata": {},
   "outputs": [
    {
     "data": {
      "text/plain": [
       "Real part: 6,\n",
       "Imaginary part: 3"
      ]
     },
     "execution_count": 18,
     "metadata": {},
     "output_type": "execute_result"
    }
   ],
   "source": [
    "c3"
   ]
  },
  {
   "cell_type": "code",
   "execution_count": 13,
   "id": "e74d1b37",
   "metadata": {},
   "outputs": [
    {
     "data": {
      "text/plain": [
       "6"
      ]
     },
     "execution_count": 13,
     "metadata": {},
     "output_type": "execute_result"
    }
   ],
   "source": [
    "c3.real"
   ]
  },
  {
   "cell_type": "code",
   "execution_count": 14,
   "id": "49ecabf1",
   "metadata": {},
   "outputs": [
    {
     "data": {
      "text/plain": [
       "3"
      ]
     },
     "execution_count": 14,
     "metadata": {},
     "output_type": "execute_result"
    }
   ],
   "source": [
    "c3.compl"
   ]
  },
  {
   "cell_type": "code",
   "execution_count": 19,
   "id": "b03211c0",
   "metadata": {},
   "outputs": [
    {
     "data": {
      "text/plain": [
       "Real part: 4,\n",
       "Imaginary part: 2"
      ]
     },
     "execution_count": 19,
     "metadata": {},
     "output_type": "execute_result"
    }
   ],
   "source": [
    "c1"
   ]
  },
  {
   "cell_type": "code",
   "execution_count": 20,
   "id": "d37349a9",
   "metadata": {},
   "outputs": [
    {
     "data": {
      "text/plain": [
       "Real part: 2,\n",
       "Imaginary part: 1"
      ]
     },
     "execution_count": 20,
     "metadata": {},
     "output_type": "execute_result"
    }
   ],
   "source": [
    "c2"
   ]
  },
  {
   "cell_type": "code",
   "execution_count": 22,
   "id": "57137825",
   "metadata": {},
   "outputs": [],
   "source": [
    "class Complex:\n",
    "    def __init__(self, real, compl):\n",
    "        self.real = real\n",
    "        self.compl = compl\n",
    "    \n",
    "    def __add__(self, other):\n",
    "        return Complex(self.real+other.real, self.compl + other.compl)\n",
    "    \n",
    "    def __sub__(self, other):\n",
    "        return Complex(self.real-other.real, self.compl-other.compl)\n",
    "\n",
    "#     def __repr__(self):\n",
    "#         return f\"Real part: {self.real},\\nImaginary part: {self.compl}\"\n",
    "    \n",
    "    def __str__(self):\n",
    "        return f\"Real part: {self.real},\\nImaginary part: {self.compl}\""
   ]
  },
  {
   "cell_type": "code",
   "execution_count": 23,
   "id": "a67351d9",
   "metadata": {},
   "outputs": [
    {
     "name": "stdout",
     "output_type": "stream",
     "text": [
      "Real part: 2,\n",
      "Imaginary part: 1\n"
     ]
    }
   ],
   "source": [
    "c1 = Complex(4, 2)\n",
    "c2 = Complex(2, 1)\n",
    "print(c1 - c2)"
   ]
  },
  {
   "cell_type": "code",
   "execution_count": 24,
   "id": "99457276",
   "metadata": {},
   "outputs": [
    {
     "data": {
      "text/plain": [
       "<__main__.Complex at 0x12d7d5a8460>"
      ]
     },
     "execution_count": 24,
     "metadata": {},
     "output_type": "execute_result"
    }
   ],
   "source": [
    "c1 + c2"
   ]
  },
  {
   "cell_type": "code",
   "execution_count": 25,
   "id": "4da3e172",
   "metadata": {},
   "outputs": [
    {
     "name": "stdout",
     "output_type": "stream",
     "text": [
      "Real part: 6,\n",
      "Imaginary part: 3\n"
     ]
    }
   ],
   "source": [
    "print(c1 + c2)"
   ]
  },
  {
   "cell_type": "code",
   "execution_count": 26,
   "id": "ec0fcf3f",
   "metadata": {},
   "outputs": [],
   "source": [
    "c3  = c1 + c2"
   ]
  },
  {
   "cell_type": "code",
   "execution_count": 27,
   "id": "391234f6",
   "metadata": {},
   "outputs": [
    {
     "name": "stdout",
     "output_type": "stream",
     "text": [
      "Real part: 6,\n",
      "Imaginary part: 3\n"
     ]
    }
   ],
   "source": [
    "print(c3)"
   ]
  },
  {
   "cell_type": "code",
   "execution_count": 28,
   "id": "93bcc3c4",
   "metadata": {},
   "outputs": [
    {
     "data": {
      "text/plain": [
       "<__main__.Complex at 0x12d7d5a8520>"
      ]
     },
     "execution_count": 28,
     "metadata": {},
     "output_type": "execute_result"
    }
   ],
   "source": [
    "c3"
   ]
  },
  {
   "cell_type": "code",
   "execution_count": null,
   "id": "10f65a73",
   "metadata": {},
   "outputs": [],
   "source": [
    "__lt__, __gt__, __eq__ etc..."
   ]
  },
  {
   "cell_type": "markdown",
   "id": "25fdbc25",
   "metadata": {},
   "source": [
    "## `Inheritence`"
   ]
  },
  {
   "cell_type": "code",
   "execution_count": null,
   "id": "327b9b11",
   "metadata": {},
   "outputs": [],
   "source": [
    "Deriving the properties and methods from the existing class"
   ]
  },
  {
   "cell_type": "code",
   "execution_count": null,
   "id": "c4ba1e40",
   "metadata": {},
   "outputs": [],
   "source": [
    "Animal\n",
    "  |\n",
    " Dog\n",
    "\n",
    "Bird -->  fly\n",
    "  |\n",
    " Crow ->  fly\n",
    "# Reusebility\n",
    "# Reduces the code"
   ]
  },
  {
   "cell_type": "code",
   "execution_count": 33,
   "id": "b77272db",
   "metadata": {},
   "outputs": [
    {
     "name": "stdout",
     "output_type": "stream",
     "text": [
      "Hey I am an Animal\n",
      "Hey I am a Dog!!\n"
     ]
    }
   ],
   "source": [
    "# Single Inheritence\n",
    "#parent class\n",
    "class Animal:\n",
    "    def __init__(self):\n",
    "        print(\"Hey I am an Animal\")\n",
    "    \n",
    "    def does_with_legs(self):\n",
    "        print(\"It walks\")\n",
    "    \n",
    "    def eat(self):\n",
    "        print(\"Animal eats eats\")\n",
    "#child class\n",
    "class Dog(Animal):\n",
    "    def __init__(self):\n",
    "        super().__init__()\n",
    "        print(\"Hey I am a Dog!!\")\n",
    "    \n",
    "    def barks(self, name):\n",
    "        print(f\"{lucy} Barks loudly\")\n",
    "    \n",
    "    def eat(self):\n",
    "        print(\"Bruno eats\")\n",
    "bruno = Dog()"
   ]
  },
  {
   "cell_type": "code",
   "execution_count": 34,
   "id": "bfe57042",
   "metadata": {},
   "outputs": [
    {
     "name": "stdout",
     "output_type": "stream",
     "text": [
      "It walks\n"
     ]
    }
   ],
   "source": [
    "bruno.does_with_legs()"
   ]
  },
  {
   "cell_type": "code",
   "execution_count": 35,
   "id": "7132e025",
   "metadata": {},
   "outputs": [
    {
     "name": "stdout",
     "output_type": "stream",
     "text": [
      "Bruno eats\n"
     ]
    }
   ],
   "source": [
    "bruno.eat()"
   ]
  },
  {
   "cell_type": "code",
   "execution_count": 36,
   "id": "5b1248a5",
   "metadata": {},
   "outputs": [
    {
     "name": "stdout",
     "output_type": "stream",
     "text": [
      "Hey I am an Animal\n",
      "Hey I am a Dog!!\n"
     ]
    }
   ],
   "source": [
    "#parent class\n",
    "class Animal:\n",
    "    def __init__(self):\n",
    "        print(\"Hey I am an Animal\")\n",
    "    \n",
    "    def does_with_legs(self):\n",
    "        print(\"It walks\")\n",
    "    \n",
    "    def eat(self):\n",
    "        print(\"Animal eats eats\")\n",
    "#child class\n",
    "class Dog(Animal):\n",
    "    def __init__(self):\n",
    "        super().__init__()\n",
    "        print(\"Hey I am a Dog!!\")\n",
    "    \n",
    "    def barks(self, name):\n",
    "        print(f\"{lucy} Barks loudly\")\n",
    "    \n",
    "    def eat(self):\n",
    "        super().eat()\n",
    "        print(\"Bruno eats\")\n",
    "bruno = Dog()"
   ]
  },
  {
   "cell_type": "code",
   "execution_count": 37,
   "id": "c2821535",
   "metadata": {},
   "outputs": [
    {
     "name": "stdout",
     "output_type": "stream",
     "text": [
      "Animal eats eats\n",
      "Bruno eats\n"
     ]
    }
   ],
   "source": [
    "bruno.eat()"
   ]
  },
  {
   "cell_type": "code",
   "execution_count": null,
   "id": "89d9eda3",
   "metadata": {},
   "outputs": [],
   "source": [
    "Single Inheritence:\n",
    "    Parent -> child"
   ]
  },
  {
   "cell_type": "code",
   "execution_count": 38,
   "id": "782043d5",
   "metadata": {},
   "outputs": [
    {
     "name": "stdout",
     "output_type": "stream",
     "text": [
      "Help on Dog in module __main__ object:\n",
      "\n",
      "class Dog(Animal)\n",
      " |  Method resolution order:\n",
      " |      Dog\n",
      " |      Animal\n",
      " |      builtins.object\n",
      " |  \n",
      " |  Methods defined here:\n",
      " |  \n",
      " |  __init__(self)\n",
      " |      Initialize self.  See help(type(self)) for accurate signature.\n",
      " |  \n",
      " |  barks(self, name)\n",
      " |  \n",
      " |  eat(self)\n",
      " |  \n",
      " |  ----------------------------------------------------------------------\n",
      " |  Methods inherited from Animal:\n",
      " |  \n",
      " |  does_with_legs(self)\n",
      " |  \n",
      " |  ----------------------------------------------------------------------\n",
      " |  Data descriptors inherited from Animal:\n",
      " |  \n",
      " |  __dict__\n",
      " |      dictionary for instance variables (if defined)\n",
      " |  \n",
      " |  __weakref__\n",
      " |      list of weak references to the object (if defined)\n",
      "\n"
     ]
    }
   ],
   "source": [
    "help(bruno)"
   ]
  },
  {
   "cell_type": "code",
   "execution_count": null,
   "id": "f8bc2b32",
   "metadata": {},
   "outputs": [],
   "source": [
    "# Multilevel level inheritence:\n",
    "    Parent\n",
    "      |\n",
    "    child\n",
    "      |\n",
    "  grand-child"
   ]
  },
  {
   "cell_type": "code",
   "execution_count": 39,
   "id": "fee57c0e",
   "metadata": {},
   "outputs": [
    {
     "name": "stdout",
     "output_type": "stream",
     "text": [
      "I am Vehicle\n",
      "I am a car\n",
      "I am Tigor\n"
     ]
    }
   ],
   "source": [
    "class Vehicle:\n",
    "    def __init__(self):\n",
    "        print(\"I am Vehicle\")\n",
    "    def brand(self):\n",
    "        print(\"I am main Brand\")\n",
    "class Car(Vehicle):\n",
    "    def __init__(self):\n",
    "        super().__init__()\n",
    "        print(\"I am a car\")   \n",
    "    def has_airbag(self):\n",
    "        print(\"This car has Airbags.\")\n",
    "        \n",
    "class Tigor(Car):\n",
    "    def __init__(self):\n",
    "        super().__init__()\n",
    "        print(\"I am Tigor\")\n",
    "    def pickup(self):\n",
    "        print(\"Tigor has good pickup\")\n",
    "tigor = Tigor()"
   ]
  },
  {
   "cell_type": "code",
   "execution_count": 40,
   "id": "7e99a308",
   "metadata": {},
   "outputs": [
    {
     "name": "stdout",
     "output_type": "stream",
     "text": [
      "I am main Brand\n"
     ]
    }
   ],
   "source": [
    "tigor.brand()"
   ]
  },
  {
   "cell_type": "code",
   "execution_count": null,
   "id": "79cc3ebe",
   "metadata": {},
   "outputs": [],
   "source": [
    "# Hierarchal Inheritence\n",
    "            Employee\n",
    "               |\n",
    "_______________|___________\n",
    "|     |      |     |      |\n",
    "CEO  Manager CTO  HR    Gate Keeper"
   ]
  },
  {
   "cell_type": "code",
   "execution_count": 42,
   "id": "f2d0ec2f",
   "metadata": {},
   "outputs": [
    {
     "name": "stdout",
     "output_type": "stream",
     "text": [
      "I am an Employee\n",
      "I am a HR\n"
     ]
    }
   ],
   "source": [
    "class Employee:\n",
    "    def __init__(self, com_id, dob):\n",
    "        print(\"I am an Employee\")\n",
    "        self.company_id = com_id\n",
    "        self.dob = dob\n",
    "    def get_comp_id(self):\n",
    "        return self.company_id\n",
    "    def get_dob(self):\n",
    "        return self.dob\n",
    "class HR(Employee):\n",
    "    def __init__(self, com_id, dob):\n",
    "        super().__init__(com_id, dob)\n",
    "        print(\"I am a HR\")\n",
    "    def payroll(self):\n",
    "        print(\"Hey I'll see you at end of the month!!\")\n",
    "    def hire_employees(self):\n",
    "        print(\"I hire Employees\")\n",
    "hr = HR(2596, 1964)"
   ]
  },
  {
   "cell_type": "code",
   "execution_count": 43,
   "id": "c29f0058",
   "metadata": {},
   "outputs": [
    {
     "data": {
      "text/plain": [
       "2596"
      ]
     },
     "execution_count": 43,
     "metadata": {},
     "output_type": "execute_result"
    }
   ],
   "source": [
    "hr.get_comp_id()"
   ]
  },
  {
   "cell_type": "code",
   "execution_count": 44,
   "id": "0aefbc8f",
   "metadata": {},
   "outputs": [
    {
     "data": {
      "text/plain": [
       "1964"
      ]
     },
     "execution_count": 44,
     "metadata": {},
     "output_type": "execute_result"
    }
   ],
   "source": [
    "hr.get_dob()"
   ]
  },
  {
   "cell_type": "code",
   "execution_count": 45,
   "id": "9b9931b6",
   "metadata": {},
   "outputs": [
    {
     "name": "stdout",
     "output_type": "stream",
     "text": [
      "Hey I'll see you at end of the month!!\n"
     ]
    }
   ],
   "source": [
    "hr.payroll()"
   ]
  },
  {
   "cell_type": "code",
   "execution_count": 46,
   "id": "98a68ad6",
   "metadata": {},
   "outputs": [
    {
     "name": "stdout",
     "output_type": "stream",
     "text": [
      "I hire Employees\n"
     ]
    }
   ],
   "source": [
    "hr.hire_employees()"
   ]
  },
  {
   "cell_type": "code",
   "execution_count": 47,
   "id": "f4809d2a",
   "metadata": {},
   "outputs": [
    {
     "name": "stdout",
     "output_type": "stream",
     "text": [
      "I am an Employee\n",
      "I am a HR\n"
     ]
    }
   ],
   "source": [
    "hr2 = HR(5487, 1997)"
   ]
  },
  {
   "cell_type": "code",
   "execution_count": 48,
   "id": "c3bdfdb1",
   "metadata": {},
   "outputs": [
    {
     "data": {
      "text/plain": [
       "1997"
      ]
     },
     "execution_count": 48,
     "metadata": {},
     "output_type": "execute_result"
    }
   ],
   "source": [
    "hr2.get_dob()"
   ]
  },
  {
   "cell_type": "code",
   "execution_count": null,
   "id": "aa29bd2b",
   "metadata": {},
   "outputs": [],
   "source": [
    "# Multiple Inheritence\n",
    "P1   P2   P3\n",
    "|____|____|\n",
    "     |\n",
    "   child(P1,P3,P2)\n"
   ]
  },
  {
   "cell_type": "code",
   "execution_count": 50,
   "id": "f49c7cd7",
   "metadata": {},
   "outputs": [
    {
     "name": "stdout",
     "output_type": "stream",
     "text": [
      "Hey I am child\n",
      "I am P1\n",
      "I am P3\n",
      "I am P2\n"
     ]
    }
   ],
   "source": [
    "class P1:\n",
    "    def __init__(self):\n",
    "        print(\"I am P1\")\n",
    "        super().__init__()\n",
    "class P2:\n",
    "    def __init__(self):\n",
    "        print(\"I am P2\")\n",
    "        super().__init__()\n",
    "class P3:\n",
    "    def __init__(self):\n",
    "        print(\"I am P3\")\n",
    "        super().__init__()\n",
    "class child(P1, P3, P2):\n",
    "    def __init__(self):\n",
    "        print(\"Hey I am child\")\n",
    "        super().__init__()\n",
    "x1 = child()        "
   ]
  },
  {
   "cell_type": "code",
   "execution_count": 51,
   "id": "9ff658e6",
   "metadata": {},
   "outputs": [
    {
     "name": "stdout",
     "output_type": "stream",
     "text": [
      "Help on child in module __main__ object:\n",
      "\n",
      "class child(P1, P3, P2)\n",
      " |  Method resolution order:\n",
      " |      child\n",
      " |      P1\n",
      " |      P3\n",
      " |      P2\n",
      " |      builtins.object\n",
      " |  \n",
      " |  Methods defined here:\n",
      " |  \n",
      " |  __init__(self)\n",
      " |      Initialize self.  See help(type(self)) for accurate signature.\n",
      " |  \n",
      " |  ----------------------------------------------------------------------\n",
      " |  Data descriptors inherited from P1:\n",
      " |  \n",
      " |  __dict__\n",
      " |      dictionary for instance variables (if defined)\n",
      " |  \n",
      " |  __weakref__\n",
      " |      list of weak references to the object (if defined)\n",
      "\n"
     ]
    }
   ],
   "source": [
    "help(x1)"
   ]
  },
  {
   "cell_type": "code",
   "execution_count": null,
   "id": "b3d077d4",
   "metadata": {},
   "outputs": [],
   "source": [
    "class P1:\n",
    "    def __init__(self):\n",
    "        print(\"I am P1\")\n",
    "#         super().__init__()\n",
    "class P2:\n",
    "    def __init__(self):\n",
    "        print(\"I am P2\")\n",
    "        super().__init__()\n",
    "class P3:\n",
    "    def __init__(self):\n",
    "        print(\"I am P3\")\n",
    "        super().__init__()\n",
    "class child(P1, P3, P2):\n",
    "    def __init__(self):\n",
    "        print(\"Hey I am child\")\n",
    "        super().__init__()\n",
    "x1 = child()        "
   ]
  }
 ],
 "metadata": {
  "kernelspec": {
   "display_name": "Python 3 (ipykernel)",
   "language": "python",
   "name": "python3"
  },
  "language_info": {
   "codemirror_mode": {
    "name": "ipython",
    "version": 3
   },
   "file_extension": ".py",
   "mimetype": "text/x-python",
   "name": "python",
   "nbconvert_exporter": "python",
   "pygments_lexer": "ipython3",
   "version": "3.9.7"
  }
 },
 "nbformat": 4,
 "nbformat_minor": 5
}
