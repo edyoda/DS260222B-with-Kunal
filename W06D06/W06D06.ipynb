{
 "cells": [
  {
   "cell_type": "code",
   "execution_count": 1,
   "id": "855de374",
   "metadata": {},
   "outputs": [],
   "source": [
    "class Point:\n",
    "    def __init__(self,x=0,y=0):\n",
    "        self.x=x\n",
    "        self.y=y\n",
    "    \n",
    "    def __add__(self,other):\n",
    "        x=self.x + other.x\n",
    "        y=self.y + other.y\n",
    "        return Point(x, y)\n",
    "    \n",
    "p1=Point(3,4)\n",
    "p2=Point(5,10)\n",
    "p3 = p1 + p2"
   ]
  },
  {
   "cell_type": "code",
   "execution_count": 2,
   "id": "41cfbb97",
   "metadata": {},
   "outputs": [
    {
     "name": "stdout",
     "output_type": "stream",
     "text": [
      "<__main__.Point object at 0x0000012D7C610640>\n"
     ]
    }
   ],
   "source": [
    "print(p3)"
   ]
  },
  {
   "cell_type": "code",
   "execution_count": 3,
   "id": "8766d9ca",
   "metadata": {},
   "outputs": [
    {
     "name": "stdout",
     "output_type": "stream",
     "text": [
      "8\n",
      "14\n"
     ]
    }
   ],
   "source": [
    "print(p3.x)\n",
    "print(p3.y)"
   ]
  },
  {
   "cell_type": "code",
   "execution_count": 15,
   "id": "d06c91c4",
   "metadata": {},
   "outputs": [],
   "source": [
    "class Complex:\n",
    "    def __init__(self, real, compl):\n",
    "        self.real = real\n",
    "        self.compl = compl\n",
    "    \n",
    "    def __add__(self, other):\n",
    "        return Complex(self.real+other.real, self.compl + other.compl)\n",
    "    \n",
    "    def __sub__(self, other):\n",
    "        return Complex(self.real-other.real, self.compl-other.compl)\n",
    "\n",
    "    def __repr__(self):\n",
    "        return f\"Real part: {self.real},\\nImaginary part: {self.compl}\""
   ]
  },
  {
   "cell_type": "code",
   "execution_count": 16,
   "id": "7887c1be",
   "metadata": {},
   "outputs": [
    {
     "name": "stdout",
     "output_type": "stream",
     "text": [
      "Real part: 2,\n",
      "Imaginary part: 1\n"
     ]
    }
   ],
   "source": [
    "c1 = Complex(4, 2)\n",
    "c2 = Complex(2, 1)\n",
    "print(c1 - c2)"
   ]
  },
  {
   "cell_type": "code",
   "execution_count": 17,
   "id": "7ae56500",
   "metadata": {},
   "outputs": [],
   "source": [
    "c3 = c1 + c2"
   ]
  },
  {
   "cell_type": "code",
   "execution_count": 18,
   "id": "a5dea0f0",
   "metadata": {},
   "outputs": [
    {
     "data": {
      "text/plain": [
       "Real part: 6,\n",
       "Imaginary part: 3"
      ]
     },
     "execution_count": 18,
     "metadata": {},
     "output_type": "execute_result"
    }
   ],
   "source": [
    "c3"
   ]
  },
  {
   "cell_type": "code",
   "execution_count": 13,
   "id": "7141fb5b",
   "metadata": {},
   "outputs": [
    {
     "data": {
      "text/plain": [
       "6"
      ]
     },
     "execution_count": 13,
     "metadata": {},
     "output_type": "execute_result"
    }
   ],
   "source": [
    "c3.real"
   ]
  },
  {
   "cell_type": "code",
   "execution_count": 14,
   "id": "500e0cae",
   "metadata": {},
   "outputs": [
    {
     "data": {
      "text/plain": [
       "3"
      ]
     },
     "execution_count": 14,
     "metadata": {},
     "output_type": "execute_result"
    }
   ],
   "source": [
    "c3.compl"
   ]
  },
  {
   "cell_type": "code",
   "execution_count": 19,
   "id": "7be69ad8",
   "metadata": {},
   "outputs": [
    {
     "data": {
      "text/plain": [
       "Real part: 4,\n",
       "Imaginary part: 2"
      ]
     },
     "execution_count": 19,
     "metadata": {},
     "output_type": "execute_result"
    }
   ],
   "source": [
    "c1"
   ]
  },
  {
   "cell_type": "code",
   "execution_count": 20,
   "id": "85f63188",
   "metadata": {},
   "outputs": [
    {
     "data": {
      "text/plain": [
       "Real part: 2,\n",
       "Imaginary part: 1"
      ]
     },
     "execution_count": 20,
     "metadata": {},
     "output_type": "execute_result"
    }
   ],
   "source": [
    "c2"
   ]
  },
  {
   "cell_type": "code",
   "execution_count": 22,
   "id": "f6446a8b",
   "metadata": {},
   "outputs": [],
   "source": [
    "class Complex:\n",
    "    def __init__(self, real, compl):\n",
    "        self.real = real\n",
    "        self.compl = compl\n",
    "    \n",
    "    def __add__(self, other):\n",
    "        return Complex(self.real+other.real, self.compl + other.compl)\n",
    "    \n",
    "    def __sub__(self, other):\n",
    "        return Complex(self.real-other.real, self.compl-other.compl)\n",
    "\n",
    "#     def __repr__(self):\n",
    "#         return f\"Real part: {self.real},\\nImaginary part: {self.compl}\"\n",
    "    \n",
    "    def __str__(self):\n",
    "        return f\"Real part: {self.real},\\nImaginary part: {self.compl}\""
   ]
  },
  {
   "cell_type": "code",
   "execution_count": 23,
   "id": "54820bc0",
   "metadata": {},
   "outputs": [
    {
     "name": "stdout",
     "output_type": "stream",
     "text": [
      "Real part: 2,\n",
      "Imaginary part: 1\n"
     ]
    }
   ],
   "source": [
    "c1 = Complex(4, 2)\n",
    "c2 = Complex(2, 1)\n",
    "print(c1 - c2)"
   ]
  },
  {
   "cell_type": "code",
   "execution_count": 24,
   "id": "2deaf80a",
   "metadata": {},
   "outputs": [
    {
     "data": {
      "text/plain": [
       "<__main__.Complex at 0x12d7d5a8460>"
      ]
     },
     "execution_count": 24,
     "metadata": {},
     "output_type": "execute_result"
    }
   ],
   "source": [
    "c1 + c2"
   ]
  },
  {
   "cell_type": "code",
   "execution_count": 25,
   "id": "8759712f",
   "metadata": {},
   "outputs": [
    {
     "name": "stdout",
     "output_type": "stream",
     "text": [
      "Real part: 6,\n",
      "Imaginary part: 3\n"
     ]
    }
   ],
   "source": [
    "print(c1 + c2)"
   ]
  },
  {
   "cell_type": "code",
   "execution_count": 26,
   "id": "04929f65",
   "metadata": {},
   "outputs": [],
   "source": [
    "c3  = c1 + c2"
   ]
  },
  {
   "cell_type": "code",
   "execution_count": 27,
   "id": "687bc302",
   "metadata": {},
   "outputs": [
    {
     "name": "stdout",
     "output_type": "stream",
     "text": [
      "Real part: 6,\n",
      "Imaginary part: 3\n"
     ]
    }
   ],
   "source": [
    "print(c3)"
   ]
  },
  {
   "cell_type": "code",
   "execution_count": 28,
   "id": "481f8c6d",
   "metadata": {},
   "outputs": [
    {
     "data": {
      "text/plain": [
       "<__main__.Complex at 0x12d7d5a8520>"
      ]
     },
     "execution_count": 28,
     "metadata": {},
     "output_type": "execute_result"
    }
   ],
   "source": [
    "c3"
   ]
  },
  {
   "cell_type": "code",
   "execution_count": null,
   "id": "8c07d6be",
   "metadata": {},
   "outputs": [],
   "source": [
    "__lt__, __gt__, __eq__ etc..."
   ]
  },
  {
   "cell_type": "markdown",
   "id": "c960c950",
   "metadata": {},
   "source": [
    "## `Inheritence`"
   ]
  },
  {
   "cell_type": "code",
   "execution_count": null,
   "id": "827d1050",
   "metadata": {},
   "outputs": [],
   "source": [
    "Deriving the properties and methods from the existing class"
   ]
  },
  {
   "cell_type": "code",
   "execution_count": null,
   "id": "a3a1da2b",
   "metadata": {},
   "outputs": [],
   "source": [
    "Animal\n",
    "  |\n",
    " Dog\n",
    "\n",
    "Bird -->  fly\n",
    "  |\n",
    " Crow ->  fly\n",
    "# Reusebility\n",
    "# Reduces the code"
   ]
  },
  {
   "cell_type": "code",
   "execution_count": 33,
   "id": "1cf955fd",
   "metadata": {},
   "outputs": [
    {
     "name": "stdout",
     "output_type": "stream",
     "text": [
      "Hey I am an Animal\n",
      "Hey I am a Dog!!\n"
     ]
    }
   ],
   "source": [
    "# Single Inheritence\n",
    "#parent class\n",
    "class Animal:\n",
    "    def __init__(self):\n",
    "        print(\"Hey I am an Animal\")\n",
    "    \n",
    "    def does_with_legs(self):\n",
    "        print(\"It walks\")\n",
    "    \n",
    "    def eat(self):\n",
    "        print(\"Animal eats eats\")\n",
    "#child class\n",
    "class Dog(Animal):\n",
    "    def __init__(self):\n",
    "        super().__init__()\n",
    "        print(\"Hey I am a Dog!!\")\n",
    "    \n",
    "    def barks(self, name):\n",
    "        print(f\"{lucy} Barks loudly\")\n",
    "    \n",
    "    def eat(self):\n",
    "        print(\"Bruno eats\")\n",
    "bruno = Dog()"
   ]
  },
  {
   "cell_type": "code",
   "execution_count": 34,
   "id": "4f827c25",
   "metadata": {},
   "outputs": [
    {
     "name": "stdout",
     "output_type": "stream",
     "text": [
      "It walks\n"
     ]
    }
   ],
   "source": [
    "bruno.does_with_legs()"
   ]
  },
  {
   "cell_type": "code",
   "execution_count": 35,
   "id": "7dcb66d7",
   "metadata": {},
   "outputs": [
    {
     "name": "stdout",
     "output_type": "stream",
     "text": [
      "Bruno eats\n"
     ]
    }
   ],
   "source": [
    "bruno.eat()"
   ]
  },
  {
   "cell_type": "code",
   "execution_count": 36,
   "id": "8754e29f",
   "metadata": {},
   "outputs": [
    {
     "name": "stdout",
     "output_type": "stream",
     "text": [
      "Hey I am an Animal\n",
      "Hey I am a Dog!!\n"
     ]
    }
   ],
   "source": [
    "#parent class\n",
    "class Animal:\n",
    "    def __init__(self):\n",
    "        print(\"Hey I am an Animal\")\n",
    "    \n",
    "    def does_with_legs(self):\n",
    "        print(\"It walks\")\n",
    "    \n",
    "    def eat(self):\n",
    "        print(\"Animal eats eats\")\n",
    "#child class\n",
    "class Dog(Animal):\n",
    "    def __init__(self):\n",
    "        super().__init__()\n",
    "        print(\"Hey I am a Dog!!\")\n",
    "    \n",
    "    def barks(self, name):\n",
    "        print(f\"{lucy} Barks loudly\")\n",
    "    \n",
    "    def eat(self):\n",
    "        super().eat()\n",
    "        print(\"Bruno eats\")\n",
    "bruno = Dog()"
   ]
  },
  {
   "cell_type": "code",
   "execution_count": 37,
   "id": "bb110431",
   "metadata": {},
   "outputs": [
    {
     "name": "stdout",
     "output_type": "stream",
     "text": [
      "Animal eats eats\n",
      "Bruno eats\n"
     ]
    }
   ],
   "source": [
    "bruno.eat()"
   ]
  },
  {
   "cell_type": "code",
   "execution_count": null,
   "id": "e7fb802b",
   "metadata": {},
   "outputs": [],
   "source": [
    "Single Inheritence:\n",
    "    Parent -> child"
   ]
  },
  {
   "cell_type": "code",
   "execution_count": 38,
   "id": "b03a7801",
   "metadata": {},
   "outputs": [
    {
     "name": "stdout",
     "output_type": "stream",
     "text": [
      "Help on Dog in module __main__ object:\n",
      "\n",
      "class Dog(Animal)\n",
      " |  Method resolution order:\n",
      " |      Dog\n",
      " |      Animal\n",
      " |      builtins.object\n",
      " |  \n",
      " |  Methods defined here:\n",
      " |  \n",
      " |  __init__(self)\n",
      " |      Initialize self.  See help(type(self)) for accurate signature.\n",
      " |  \n",
      " |  barks(self, name)\n",
      " |  \n",
      " |  eat(self)\n",
      " |  \n",
      " |  ----------------------------------------------------------------------\n",
      " |  Methods inherited from Animal:\n",
      " |  \n",
      " |  does_with_legs(self)\n",
      " |  \n",
      " |  ----------------------------------------------------------------------\n",
      " |  Data descriptors inherited from Animal:\n",
      " |  \n",
      " |  __dict__\n",
      " |      dictionary for instance variables (if defined)\n",
      " |  \n",
      " |  __weakref__\n",
      " |      list of weak references to the object (if defined)\n",
      "\n"
     ]
    }
   ],
   "source": [
    "help(bruno)"
   ]
  },
  {
   "cell_type": "code",
   "execution_count": null,
   "id": "ebf7fa45",
   "metadata": {},
   "outputs": [],
   "source": [
    "# Multilevel level inheritence:\n",
    "    Parent\n",
    "      |\n",
    "    child\n",
    "      |\n",
    "  grand-child"
   ]
  },
  {
   "cell_type": "code",
   "execution_count": 39,
   "id": "b2a66000",
   "metadata": {},
   "outputs": [
    {
     "name": "stdout",
     "output_type": "stream",
     "text": [
      "I am Vehicle\n",
      "I am a car\n",
      "I am Tigor\n"
     ]
    }
   ],
   "source": [
    "class Vehicle:\n",
    "    def __init__(self):\n",
    "        print(\"I am Vehicle\")\n",
    "    def brand(self):\n",
    "        print(\"I am main Brand\")\n",
    "class Car(Vehicle):\n",
    "    def __init__(self):\n",
    "        super().__init__()\n",
    "        print(\"I am a car\")   \n",
    "    def has_airbag(self):\n",
    "        print(\"This car has Airbags.\")\n",
    "        \n",
    "class Tigor(Car):\n",
    "    def __init__(self):\n",
    "        super().__init__()\n",
    "        print(\"I am Tigor\")\n",
    "    def pickup(self):\n",
    "        print(\"Tigor has good pickup\")\n",
    "tigor = Tigor()"
   ]
  },
  {
   "cell_type": "code",
   "execution_count": 40,
   "id": "059edf0d",
   "metadata": {},
   "outputs": [
    {
     "name": "stdout",
     "output_type": "stream",
     "text": [
      "I am main Brand\n"
     ]
    }
   ],
   "source": [
    "tigor.brand()"
   ]
  },
  {
   "cell_type": "code",
   "execution_count": null,
   "id": "0fcfbbf4",
   "metadata": {},
   "outputs": [],
   "source": [
    "# Hierarchal Inheritence\n",
    "            Employee\n",
    "               |\n",
    "_______________|___________\n",
    "|     |      |     |      |\n",
    "CEO  Manager CTO  HR    Gate Keeper"
   ]
  },
  {
   "cell_type": "code",
   "execution_count": 42,
   "id": "9a19c4b2",
   "metadata": {},
   "outputs": [
    {
     "name": "stdout",
     "output_type": "stream",
     "text": [
      "I am an Employee\n",
      "I am a HR\n"
     ]
    }
   ],
   "source": [
    "class Employee:\n",
    "    def __init__(self, com_id, dob):\n",
    "        print(\"I am an Employee\")\n",
    "        self.company_id = com_id\n",
    "        self.dob = dob\n",
    "    def get_comp_id(self):\n",
    "        return self.company_id\n",
    "    def get_dob(self):\n",
    "        return self.dob\n",
    "class HR(Employee):\n",
    "    def __init__(self, com_id, dob):\n",
    "        super().__init__(com_id, dob)\n",
    "        print(\"I am a HR\")\n",
    "    def payroll(self):\n",
    "        print(\"Hey I'll see you at end of the month!!\")\n",
    "    def hire_employees(self):\n",
    "        print(\"I hire Employees\")\n",
    "hr = HR(2596, 1964)"
   ]
  },
  {
   "cell_type": "code",
   "execution_count": 43,
   "id": "dcc4d0a3",
   "metadata": {},
   "outputs": [
    {
     "data": {
      "text/plain": [
       "2596"
      ]
     },
     "execution_count": 43,
     "metadata": {},
     "output_type": "execute_result"
    }
   ],
   "source": [
    "hr.get_comp_id()"
   ]
  },
  {
   "cell_type": "code",
   "execution_count": 44,
   "id": "60c856a1",
   "metadata": {},
   "outputs": [
    {
     "data": {
      "text/plain": [
       "1964"
      ]
     },
     "execution_count": 44,
     "metadata": {},
     "output_type": "execute_result"
    }
   ],
   "source": [
    "hr.get_dob()"
   ]
  },
  {
   "cell_type": "code",
   "execution_count": 45,
   "id": "8fe3b65d",
   "metadata": {},
   "outputs": [
    {
     "name": "stdout",
     "output_type": "stream",
     "text": [
      "Hey I'll see you at end of the month!!\n"
     ]
    }
   ],
   "source": [
    "hr.payroll()"
   ]
  },
  {
   "cell_type": "code",
   "execution_count": 46,
   "id": "662d8541",
   "metadata": {},
   "outputs": [
    {
     "name": "stdout",
     "output_type": "stream",
     "text": [
      "I hire Employees\n"
     ]
    }
   ],
   "source": [
    "hr.hire_employees()"
   ]
  },
  {
   "cell_type": "code",
   "execution_count": 47,
   "id": "401f7857",
   "metadata": {},
   "outputs": [
    {
     "name": "stdout",
     "output_type": "stream",
     "text": [
      "I am an Employee\n",
      "I am a HR\n"
     ]
    }
   ],
   "source": [
    "hr2 = HR(5487, 1997)"
   ]
  },
  {
   "cell_type": "code",
   "execution_count": 48,
   "id": "89932a8f",
   "metadata": {},
   "outputs": [
    {
     "data": {
      "text/plain": [
       "1997"
      ]
     },
     "execution_count": 48,
     "metadata": {},
     "output_type": "execute_result"
    }
   ],
   "source": [
    "hr2.get_dob()"
   ]
  },
  {
   "cell_type": "code",
   "execution_count": null,
   "id": "48982c01",
   "metadata": {},
   "outputs": [],
   "source": [
    "# Multiple Inheritence\n",
    "P1   P2   P3\n",
    "|____|____|\n",
    "     |\n",
    "   child(P1,P3,P2)\n"
   ]
  },
  {
   "cell_type": "code",
   "execution_count": 50,
   "id": "39b9406e",
   "metadata": {},
   "outputs": [
    {
     "name": "stdout",
     "output_type": "stream",
     "text": [
      "Hey I am child\n",
      "I am P1\n",
      "I am P3\n",
      "I am P2\n"
     ]
    }
   ],
   "source": [
    "class P1:\n",
    "    def __init__(self):\n",
    "        print(\"I am P1\")\n",
    "        super().__init__()\n",
    "class P2:\n",
    "    def __init__(self):\n",
    "        print(\"I am P2\")\n",
    "        super().__init__()\n",
    "class P3:\n",
    "    def __init__(self):\n",
    "        print(\"I am P3\")\n",
    "        super().__init__()\n",
    "class child(P1, P3, P2):\n",
    "    def __init__(self):\n",
    "        print(\"Hey I am child\")\n",
    "        super().__init__()\n",
    "x1 = child()        "
   ]
  },
  {
   "cell_type": "code",
   "execution_count": 51,
   "id": "406cb183",
   "metadata": {},
   "outputs": [
    {
     "name": "stdout",
     "output_type": "stream",
     "text": [
      "Help on child in module __main__ object:\n",
      "\n",
      "class child(P1, P3, P2)\n",
      " |  Method resolution order:\n",
      " |      child\n",
      " |      P1\n",
      " |      P3\n",
      " |      P2\n",
      " |      builtins.object\n",
      " |  \n",
      " |  Methods defined here:\n",
      " |  \n",
      " |  __init__(self)\n",
      " |      Initialize self.  See help(type(self)) for accurate signature.\n",
      " |  \n",
      " |  ----------------------------------------------------------------------\n",
      " |  Data descriptors inherited from P1:\n",
      " |  \n",
      " |  __dict__\n",
      " |      dictionary for instance variables (if defined)\n",
      " |  \n",
      " |  __weakref__\n",
      " |      list of weak references to the object (if defined)\n",
      "\n"
     ]
    }
   ],
   "source": [
    "help(x1)"
   ]
  },
  {
   "cell_type": "code",
   "execution_count": 57,
   "id": "1e9414d6",
   "metadata": {},
   "outputs": [
    {
     "name": "stdout",
     "output_type": "stream",
     "text": [
      "Hey I am child\n",
      "I am P1\n",
      "I am P3\n",
      "I am P2\n"
     ]
    }
   ],
   "source": [
    "class P1:\n",
    "    def __init__(self):\n",
    "        print(\"I am P1\")\n",
    "        super().__init__()\n",
    "class P2:\n",
    "    def __init__(self):\n",
    "        print(\"I am P2\")\n",
    "        super().__init__()\n",
    "    def func1(self):\n",
    "        print(\"Hey I am funct in p2\")\n",
    "class P3:\n",
    "    def __init__(self):\n",
    "        print(\"I am P3\")\n",
    "        super().__init__()\n",
    "class child(P1, P3, P2):\n",
    "    def __init__(self):\n",
    "        print(\"Hey I am child\")\n",
    "        super().__init__()\n",
    "x1 = child()        "
   ]
  },
  {
   "cell_type": "code",
   "execution_count": 54,
   "id": "cbd2ccb6",
   "metadata": {},
   "outputs": [
    {
     "name": "stdout",
     "output_type": "stream",
     "text": [
      "Hey I am funct in p2\n"
     ]
    }
   ],
   "source": [
    "x1.func1()"
   ]
  },
  {
   "cell_type": "code",
   "execution_count": 58,
   "id": "ae365d06",
   "metadata": {},
   "outputs": [],
   "source": [
    "class chlid2(P2, P3, P1):\n",
    "    def __init__(self):\n",
    "        print(\"Hey I am child 2\")\n",
    "        super().__init__()"
   ]
  },
  {
   "cell_type": "code",
   "execution_count": 61,
   "id": "df8a7097",
   "metadata": {},
   "outputs": [
    {
     "name": "stdout",
     "output_type": "stream",
     "text": [
      "Hey I am child 2\n",
      "I am P2\n",
      "I am P3\n",
      "I am P1\n"
     ]
    }
   ],
   "source": [
    "x2 = chlid2()"
   ]
  },
  {
   "cell_type": "code",
   "execution_count": null,
   "id": "c4bac689",
   "metadata": {},
   "outputs": [],
   "source": [
    "# Hybrid Inheritence\n",
    "       A\n",
    "    ___|___\n",
    "    |     |\n",
    "    B     C\n",
    "    |_____|\n",
    "       |\n",
    "     child(B,C)\n",
    "        mro --> child->B->C->A"
   ]
  },
  {
   "cell_type": "code",
   "execution_count": null,
   "id": "5d7c37b5",
   "metadata": {},
   "outputs": [],
   "source": [
    "       A\n",
    "    ___|___\n",
    "    |     |\n",
    "    P1    P2\n",
    "    |     |\n",
    "    B     C\n",
    "    |_____|\n",
    "       |\n",
    "     child(B,C)\n",
    "        mro --> \n",
    "        pratiksha -> b c p1 p2 A\n",
    "        armaan    -> child-B-p1-c p2-A\n",
    "        sandeepan -> b p1 c p2 a  \n",
    "\n",
    "algorithm to find mro is called c3 linearization algorithm\n",
    "lay man way to figure it out -> depth first left to ryt\n",
    "                          child -> B -> P1 -> C -> P2 -> A"
   ]
  },
  {
   "cell_type": "code",
   "execution_count": 63,
   "id": "226e55b3",
   "metadata": {},
   "outputs": [
    {
     "name": "stdout",
     "output_type": "stream",
     "text": [
      "I am child\n",
      "I am B\n",
      "I am P1\n",
      "I am C\n",
      "I am P2\n",
      "I am A\n"
     ]
    }
   ],
   "source": [
    "class A:\n",
    "    def __init__(self):\n",
    "        print(\"I am A\")\n",
    "class P1(A):\n",
    "    def __init__(self):\n",
    "        print(\"I am P1\")\n",
    "        super().__init__()\n",
    "class P2(A):\n",
    "    def __init__(self):\n",
    "        print(\"I am P2\")\n",
    "        super().__init__()\n",
    "class B(P1):\n",
    "    def __init__(self):\n",
    "        print(\"I am B\")\n",
    "        super().__init__()\n",
    "class C(P2):\n",
    "    def __init__(self):\n",
    "        print(\"I am C\")\n",
    "        super().__init__()\n",
    "class child(B,C):\n",
    "    def __init__(self):\n",
    "        print(\"I am child\")\n",
    "        super().__init__()\n",
    "x1 = child()"
   ]
  },
  {
   "cell_type": "code",
   "execution_count": null,
   "id": "b477f343",
   "metadata": {},
   "outputs": [],
   "source": [
    "child -> B -> P1 -> C -> P2 -> A"
   ]
  },
  {
   "cell_type": "code",
   "execution_count": 64,
   "id": "3f8e6dbc",
   "metadata": {},
   "outputs": [
    {
     "name": "stdout",
     "output_type": "stream",
     "text": [
      "<re.Match object; span=(7, 15), match='adddfsdf'>\n",
      "None\n"
     ]
    }
   ],
   "source": [
    "import re\n",
    "print(re.search(\"a.*\",\"dfsddsfadddfsdf\"))\n",
    "print(re.search(\"^a.*\",\"dfsddsfadddfsdf\"))"
   ]
  },
  {
   "cell_type": "code",
   "execution_count": null,
   "id": "8b72d24a",
   "metadata": {},
   "outputs": [],
   "source": []
  }
 ],
 "metadata": {
  "kernelspec": {
   "display_name": "Python 3 (ipykernel)",
   "language": "python",
   "name": "python3"
  },
  "language_info": {
   "codemirror_mode": {
    "name": "ipython",
    "version": 3
   },
   "file_extension": ".py",
   "mimetype": "text/x-python",
   "name": "python",
   "nbconvert_exporter": "python",
   "pygments_lexer": "ipython3",
   "version": "3.9.7"
  }
 },
 "nbformat": 4,
 "nbformat_minor": 5
}
