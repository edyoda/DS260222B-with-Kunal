{
 "cells": [
  {
   "cell_type": "code",
   "execution_count": null,
   "id": "adc547f3",
   "metadata": {},
   "outputs": [],
   "source": [
    "Dictionary:\n",
    "    Mutable\n",
    "    Key is immutable and unique\n",
    "    |Values can be Mutable or Immutable\n",
    "    |------ Builtin Functions --:>\n",
    "                                get(),update(),pop(),values(),keys(),items(),clear()\n",
    "Set:\n",
    "    Mutable\n",
    "    values of set are immutable and unique\n",
    "    Its an unordered collection\n",
    "    |------ Builtin Functions ----:>\n",
    "                                add(), discard(), pop(), clear(), update()"
   ]
  },
  {
   "cell_type": "markdown",
   "id": "68043f92",
   "metadata": {},
   "source": [
    "Q1) Store Alphabets as \"keys\" and their ASCII values as \"values\" to those keys.\n",
    "Intuition: Use \"ord\" and \"chr\"\n",
    "Pseudocode:\n",
    "1.) Loop from a to z.\n",
    "2.) store them as keys and find their ascii to store them as values.\n",
    "3mins-->19:51"
   ]
  },
  {
   "cell_type": "code",
   "execution_count": 1,
   "id": "f1d400dd",
   "metadata": {},
   "outputs": [
    {
     "name": "stdout",
     "output_type": "stream",
     "text": [
      "{'a': 97, 'b': 98, 'c': 99, 'd': 100, 'e': 101, 'f': 102, 'g': 103, 'h': 104, 'i': 105, 'j': 106, 'k': 107, 'l': 108, 'm': 109, 'n': 110, 'o': 111, 'p': 112, 'q': 113, 'r': 114, 's': 115, 't': 116, 'u': 117, 'v': 118, 'w': 119, 'x': 120, 'y': 121, 'z': 122}\n"
     ]
    }
   ],
   "source": [
    "d = dict()\n",
    "for i in range(ord(\"a\"),ord(\"z\")+1):\n",
    "    d[chr(i)] = i\n",
    "print(d)"
   ]
  },
  {
   "cell_type": "markdown",
   "id": "e0d32410",
   "metadata": {},
   "source": [
    "Q2) Count the number of occurrence of each letter in word \"apple\". Store count of every letter with the letter in a dictionary.\n",
    "Intuition: Use in operator to check if it already exist.\n",
    "Pseudocode:\n",
    "1.)loop over all the chars in \"apple\".\n",
    "2.)if char already exist, increase it's count, else give it count = 1\n",
    "output:\n",
    "{\"a\":1,\"p\":2,\"l\":1,\"e\":1}\n",
    "10 mins-->20:01"
   ]
  },
  {
   "cell_type": "code",
   "execution_count": 2,
   "id": "1b923677",
   "metadata": {},
   "outputs": [],
   "source": [
    "l = [\"apple\",\"apple\",\"apple\"]\n",
    "i = 0\n",
    "count=0\n",
    "while i<len(l):\n",
    "    if l[i] == \"apple\":\n",
    "        count+=1\n",
    "    i+=1"
   ]
  },
  {
   "cell_type": "code",
   "execution_count": 3,
   "id": "95731c3c",
   "metadata": {},
   "outputs": [
    {
     "name": "stdout",
     "output_type": "stream",
     "text": [
      "3\n"
     ]
    }
   ],
   "source": [
    "print(count)"
   ]
  },
  {
   "cell_type": "code",
   "execution_count": 4,
   "id": "9febe6b4",
   "metadata": {},
   "outputs": [],
   "source": [
    "d = {}\n",
    "d[\"a\"] = 1\n",
    "d[\"p\"] = 1"
   ]
  },
  {
   "cell_type": "code",
   "execution_count": 5,
   "id": "65d5164a",
   "metadata": {},
   "outputs": [
    {
     "name": "stdout",
     "output_type": "stream",
     "text": [
      "1\n"
     ]
    }
   ],
   "source": [
    "print(d[\"p\"])"
   ]
  },
  {
   "cell_type": "code",
   "execution_count": 6,
   "id": "1b56fb4e",
   "metadata": {},
   "outputs": [],
   "source": [
    "d[\"p\"] += 1\n",
    "d[\"l\"] = 1\n",
    "d[\"e\"] = 1"
   ]
  },
  {
   "cell_type": "code",
   "execution_count": 7,
   "id": "88e0b9a0",
   "metadata": {},
   "outputs": [
    {
     "name": "stdout",
     "output_type": "stream",
     "text": [
      "{'a': 1, 'p': 2, 'l': 1, 'e': 1}\n"
     ]
    }
   ],
   "source": [
    "print(d)"
   ]
  },
  {
   "cell_type": "code",
   "execution_count": 8,
   "id": "83a2716b",
   "metadata": {},
   "outputs": [
    {
     "name": "stdout",
     "output_type": "stream",
     "text": [
      "appple\n"
     ]
    }
   ],
   "source": [
    "d = {}\n",
    "v = input()\n",
    "for i in v:\n",
    "    if i in d.keys():\n",
    "        d[i] += 1\n",
    "    else:\n",
    "        d[i] = 1"
   ]
  },
  {
   "cell_type": "code",
   "execution_count": 9,
   "id": "0515348e",
   "metadata": {},
   "outputs": [
    {
     "name": "stdout",
     "output_type": "stream",
     "text": [
      "{'a': 1, 'p': 3, 'l': 1, 'e': 1}\n"
     ]
    }
   ],
   "source": [
    "print(d)"
   ]
  },
  {
   "cell_type": "code",
   "execution_count": null,
   "id": "319dd530",
   "metadata": {},
   "outputs": [],
   "source": [
    "d[i] = v.count(i)"
   ]
  },
  {
   "cell_type": "markdown",
   "id": "75b17540",
   "metadata": {},
   "source": [
    "### `Python Set Operations`:"
   ]
  },
  {
   "cell_type": "code",
   "execution_count": null,
   "id": "b42b5543",
   "metadata": {},
   "outputs": [],
   "source": [
    "Union\n",
    "intersection\n",
    "difference\n",
    "symmetric difference\n",
    "check if subset()\n",
    "check if superset()"
   ]
  },
  {
   "cell_type": "code",
   "execution_count": 13,
   "id": "71f44cfe",
   "metadata": {},
   "outputs": [
    {
     "name": "stdout",
     "output_type": "stream",
     "text": [
      "{1, 2, 3, 4, 5, 'Venkata', 'Kuladeep'}\n"
     ]
    }
   ],
   "source": [
    "A = {1,2,3,4,5}\n",
    "B = {4,5,\"Venkata\",\"Kuladeep\"}\n",
    "C = A | B\n",
    "print(A.union(B))"
   ]
  },
  {
   "cell_type": "code",
   "execution_count": 11,
   "id": "4bbbe1e7",
   "metadata": {},
   "outputs": [
    {
     "name": "stdout",
     "output_type": "stream",
     "text": [
      "{1, 2, 3, 4, 5, 'Venkata', 'Kuladeep'}\n"
     ]
    }
   ],
   "source": [
    "print(C)"
   ]
  },
  {
   "cell_type": "code",
   "execution_count": 12,
   "id": "ee0b94b1",
   "metadata": {},
   "outputs": [
    {
     "name": "stdout",
     "output_type": "stream",
     "text": [
      "{4, 5}\n"
     ]
    }
   ],
   "source": [
    "D = A & B\n",
    "print(D)"
   ]
  },
  {
   "cell_type": "code",
   "execution_count": 14,
   "id": "0b089812",
   "metadata": {},
   "outputs": [
    {
     "name": "stdout",
     "output_type": "stream",
     "text": [
      "{4, 5}\n"
     ]
    }
   ],
   "source": [
    "print(A.intersection(B))"
   ]
  },
  {
   "cell_type": "code",
   "execution_count": 15,
   "id": "af37d7c2",
   "metadata": {},
   "outputs": [
    {
     "name": "stdout",
     "output_type": "stream",
     "text": [
      "{'Venkata', 'Kuladeep'}\n"
     ]
    }
   ],
   "source": [
    "E = B - A\n",
    "print(E)"
   ]
  },
  {
   "cell_type": "code",
   "execution_count": 16,
   "id": "54f4bc34",
   "metadata": {},
   "outputs": [
    {
     "name": "stdout",
     "output_type": "stream",
     "text": [
      "{'Venkata', 'Kuladeep'}\n"
     ]
    }
   ],
   "source": [
    "print(B.difference(A))"
   ]
  },
  {
   "cell_type": "code",
   "execution_count": 17,
   "id": "ff22cd09",
   "metadata": {},
   "outputs": [
    {
     "name": "stdout",
     "output_type": "stream",
     "text": [
      "{1, 2, 3, 'Venkata', 'Kuladeep'}\n"
     ]
    }
   ],
   "source": [
    "F = A ^ B\n",
    "print(F)"
   ]
  },
  {
   "cell_type": "code",
   "execution_count": 18,
   "id": "13a05103",
   "metadata": {},
   "outputs": [
    {
     "name": "stdout",
     "output_type": "stream",
     "text": [
      "{1, 2, 3, 'Venkata', 'Kuladeep'}\n"
     ]
    }
   ],
   "source": [
    "print(A.symmetric_difference(B))"
   ]
  },
  {
   "cell_type": "code",
   "execution_count": 19,
   "id": "108cb23e",
   "metadata": {},
   "outputs": [
    {
     "name": "stdout",
     "output_type": "stream",
     "text": [
      "True\n"
     ]
    }
   ],
   "source": [
    "A = {1,2,3,4,8}\n",
    "B = {2,8}\n",
    "C = {3,8,4}\n",
    "print(B.issubset(A))"
   ]
  },
  {
   "cell_type": "code",
   "execution_count": 20,
   "id": "bc0aa95c",
   "metadata": {},
   "outputs": [
    {
     "name": "stdout",
     "output_type": "stream",
     "text": [
      "False\n"
     ]
    }
   ],
   "source": [
    "print(C.issubset(B))"
   ]
  },
  {
   "cell_type": "code",
   "execution_count": 21,
   "id": "fb8ee4d7",
   "metadata": {},
   "outputs": [
    {
     "name": "stdout",
     "output_type": "stream",
     "text": [
      "True\n"
     ]
    }
   ],
   "source": [
    "print(A.issuperset(B))"
   ]
  },
  {
   "cell_type": "code",
   "execution_count": 22,
   "id": "c2f43dc1",
   "metadata": {},
   "outputs": [
    {
     "name": "stdout",
     "output_type": "stream",
     "text": [
      "True\n"
     ]
    }
   ],
   "source": [
    "print(A.issuperset(C))"
   ]
  },
  {
   "cell_type": "markdown",
   "id": "d854e6fd",
   "metadata": {},
   "source": [
    "Q1) From the below data\n",
    "students = {\"a\",\"b\",\"c\",\"d\",\"e\",\"f\",\"g\",\"h\"} dance = {\"a\",\"b\",\"c\",\"d\"} music = {\"e\",\"f\",\"b\",\"c\"}\n",
    "\n",
    "USE SET to solve:\n",
    "Q) which love both music and dance?"
   ]
  },
  {
   "cell_type": "markdown",
   "id": "228bbdee",
   "metadata": {},
   "source": [
    "Q2) Find the max appearing char by using sets.\n",
    "s = \"arrcaaaaccffffqqqqqqqqqqqqqqqqqqqqq\"\n",
    "\n",
    "Pseudocode:\n",
    "1.)Make a copy of unique elements from the string.\n",
    "2.)Iterate over those and count the occurence in the string."
   ]
  }
 ],
 "metadata": {
  "kernelspec": {
   "display_name": "Python 3 (ipykernel)",
   "language": "python",
   "name": "python3"
  },
  "language_info": {
   "codemirror_mode": {
    "name": "ipython",
    "version": 3
   },
   "file_extension": ".py",
   "mimetype": "text/x-python",
   "name": "python",
   "nbconvert_exporter": "python",
   "pygments_lexer": "ipython3",
   "version": "3.9.7"
  }
 },
 "nbformat": 4,
 "nbformat_minor": 5
}
