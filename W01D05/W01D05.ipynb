{
 "cells": [
  {
   "cell_type": "code",
   "execution_count": null,
   "id": "873dd4d5",
   "metadata": {},
   "outputs": [],
   "source": [
    "Mutable - changeble\n",
    "immutable - not changeable\n",
    "Data types:\n",
    "    Numeric Type:\n",
    "        int : -2,-1,0,1 --> immutable\n",
    "        float : 1.1,-2.3 --> immutable\n",
    "        complex: 2+5j,8-9j,-1-1j --> immutable\n",
    "    Sequence Type:\n",
    "        tuple --> immutable\n",
    "        str --> immutable\n",
    "        list --> mutable\n",
    "    Mapping Type:\n",
    "        dict --> mutable\n",
    "    Set Type:\n",
    "        set --> mutable\n",
    "    Boolean Type:\n",
    "        bool\n",
    "    None type:\n",
    "        None"
   ]
  },
  {
   "cell_type": "code",
   "execution_count": 3,
   "id": "5910d6da",
   "metadata": {},
   "outputs": [
    {
     "name": "stdout",
     "output_type": "stream",
     "text": [
      "0x1c681096950\n"
     ]
    }
   ],
   "source": [
    "a = 2"
   ]
  },
  {
   "cell_type": "code",
   "execution_count": 4,
   "id": "9d6d30dc",
   "metadata": {},
   "outputs": [
    {
     "name": "stdout",
     "output_type": "stream",
     "text": [
      "0x1c681096950\n"
     ]
    }
   ],
   "source": [
    "b = 2"
   ]
  },
  {
   "cell_type": "code",
   "execution_count": 5,
   "id": "18b70037",
   "metadata": {},
   "outputs": [
    {
     "name": "stdout",
     "output_type": "stream",
     "text": [
      "1952080030032\n",
      "1952080030032\n"
     ]
    }
   ],
   "source": [
    "print(id(a))\n",
    "print(id(b))"
   ]
  },
  {
   "cell_type": "code",
   "execution_count": 6,
   "id": "9712e219",
   "metadata": {},
   "outputs": [
    {
     "name": "stdout",
     "output_type": "stream",
     "text": [
      "1952080030064\n"
     ]
    }
   ],
   "source": [
    "a = 3\n",
    "print(id(a))"
   ]
  },
  {
   "cell_type": "code",
   "execution_count": 7,
   "id": "1dca93be",
   "metadata": {},
   "outputs": [
    {
     "name": "stdout",
     "output_type": "stream",
     "text": [
      "1952160170112\n"
     ]
    }
   ],
   "source": [
    "a = [1,2,3]\n",
    "print(id(a))"
   ]
  },
  {
   "cell_type": "code",
   "execution_count": 8,
   "id": "b04baa3e",
   "metadata": {},
   "outputs": [],
   "source": [
    "a.append(25)"
   ]
  },
  {
   "cell_type": "code",
   "execution_count": 9,
   "id": "210c965d",
   "metadata": {},
   "outputs": [
    {
     "name": "stdout",
     "output_type": "stream",
     "text": [
      "[1, 2, 3, 25]\n"
     ]
    }
   ],
   "source": [
    "print(a)"
   ]
  },
  {
   "cell_type": "code",
   "execution_count": 10,
   "id": "27f23b2d",
   "metadata": {},
   "outputs": [
    {
     "name": "stdout",
     "output_type": "stream",
     "text": [
      "1952160170112\n"
     ]
    }
   ],
   "source": [
    "print(id(a))"
   ]
  },
  {
   "cell_type": "code",
   "execution_count": 11,
   "id": "d6362188",
   "metadata": {},
   "outputs": [
    {
     "name": "stdout",
     "output_type": "stream",
     "text": [
      "1952160701360\n"
     ]
    }
   ],
   "source": [
    "s = \"Nibedita\"\n",
    "print(id(s))"
   ]
  },
  {
   "cell_type": "code",
   "execution_count": 13,
   "id": "a9c8b39a",
   "metadata": {},
   "outputs": [],
   "source": [
    "s = \"Nibedita\" + \"pati\""
   ]
  },
  {
   "cell_type": "code",
   "execution_count": 14,
   "id": "4c1dac1c",
   "metadata": {},
   "outputs": [
    {
     "name": "stdout",
     "output_type": "stream",
     "text": [
      "Nibeditapati\n"
     ]
    }
   ],
   "source": [
    "print(s)"
   ]
  },
  {
   "cell_type": "code",
   "execution_count": 15,
   "id": "504cbb75",
   "metadata": {},
   "outputs": [
    {
     "name": "stdout",
     "output_type": "stream",
     "text": [
      "1952160719536\n"
     ]
    }
   ],
   "source": [
    "print(id(s))"
   ]
  },
  {
   "cell_type": "code",
   "execution_count": 16,
   "id": "1a090f29",
   "metadata": {},
   "outputs": [
    {
     "name": "stdout",
     "output_type": "stream",
     "text": [
      "1952161019648 1952161019648\n"
     ]
    }
   ],
   "source": [
    "l = [1,2,3]\n",
    "g = l\n",
    "print(id(g),id(l))"
   ]
  },
  {
   "cell_type": "code",
   "execution_count": 17,
   "id": "ab2d5fa5",
   "metadata": {},
   "outputs": [],
   "source": [
    "g.append(\"Priya\")"
   ]
  },
  {
   "cell_type": "code",
   "execution_count": 18,
   "id": "d51744d3",
   "metadata": {},
   "outputs": [
    {
     "name": "stdout",
     "output_type": "stream",
     "text": [
      "[1, 2, 3, 'Priya']\n"
     ]
    }
   ],
   "source": [
    "print(l)"
   ]
  },
  {
   "cell_type": "code",
   "execution_count": 19,
   "id": "8c4c56d4",
   "metadata": {},
   "outputs": [
    {
     "name": "stdout",
     "output_type": "stream",
     "text": [
      "[1, 2, 3, 5]\n"
     ]
    }
   ],
   "source": [
    "l = [1,2,3]\n",
    "l = [1,2,3] + [5]\n",
    "print(l)"
   ]
  },
  {
   "cell_type": "code",
   "execution_count": 20,
   "id": "414ff318",
   "metadata": {},
   "outputs": [
    {
     "ename": "AttributeError",
     "evalue": "'tuple' object has no attribute 'append'",
     "output_type": "error",
     "traceback": [
      "\u001b[1;31m---------------------------------------------------------------------------\u001b[0m",
      "\u001b[1;31mAttributeError\u001b[0m                            Traceback (most recent call last)",
      "\u001b[1;32mC:\\Users\\KUNALC~1\\AppData\\Local\\Temp/ipykernel_25168/4179903007.py\u001b[0m in \u001b[0;36m<module>\u001b[1;34m\u001b[0m\n\u001b[0;32m      1\u001b[0m \u001b[0mt\u001b[0m \u001b[1;33m=\u001b[0m \u001b[1;33m(\u001b[0m\u001b[1;36m1\u001b[0m\u001b[1;33m,\u001b[0m\u001b[1;36m3\u001b[0m\u001b[1;33m,\u001b[0m\u001b[1;36m8\u001b[0m\u001b[1;33m)\u001b[0m\u001b[1;33m\u001b[0m\u001b[1;33m\u001b[0m\u001b[0m\n\u001b[1;32m----> 2\u001b[1;33m \u001b[0mt\u001b[0m\u001b[1;33m.\u001b[0m\u001b[0mappend\u001b[0m\u001b[1;33m(\u001b[0m\u001b[1;36m5\u001b[0m\u001b[1;33m)\u001b[0m\u001b[1;33m\u001b[0m\u001b[1;33m\u001b[0m\u001b[0m\n\u001b[0m",
      "\u001b[1;31mAttributeError\u001b[0m: 'tuple' object has no attribute 'append'"
     ]
    }
   ],
   "source": [
    "t = (1,3,8)\n",
    "t.append(5)"
   ]
  },
  {
   "cell_type": "code",
   "execution_count": 21,
   "id": "618575fc",
   "metadata": {},
   "outputs": [
    {
     "name": "stdout",
     "output_type": "stream",
     "text": [
      "(1, 2.0, 'ayush', 'kumar')\n"
     ]
    }
   ],
   "source": [
    "a=(1,2.0,\"ayush\")\n",
    "a=(1,2.0,\"ayush\")+(\"kumar\",)\n",
    "print(a)"
   ]
  },
  {
   "cell_type": "markdown",
   "id": "d8b15f5f",
   "metadata": {},
   "source": [
    "## `Arithmatic Operators`"
   ]
  },
  {
   "cell_type": "code",
   "execution_count": null,
   "id": "6f4661ba",
   "metadata": {},
   "outputs": [],
   "source": [
    "Airthmetic Opertaion are used to perform mathematical operation like add,div,sub,mul"
   ]
  },
  {
   "cell_type": "code",
   "execution_count": null,
   "id": "7bfecdb3",
   "metadata": {},
   "outputs": [],
   "source": [
    "# Addition Operator --> +"
   ]
  },
  {
   "cell_type": "code",
   "execution_count": 22,
   "id": "5c9ea5df",
   "metadata": {},
   "outputs": [
    {
     "name": "stdout",
     "output_type": "stream",
     "text": [
      "51\n"
     ]
    }
   ],
   "source": [
    "v1 = 25\n",
    "v2 = 26\n",
    "summation = v1 + v2\n",
    "print(summation)"
   ]
  },
  {
   "cell_type": "code",
   "execution_count": 23,
   "id": "d1024849",
   "metadata": {},
   "outputs": [
    {
     "name": "stdout",
     "output_type": "stream",
     "text": [
      "1\n"
     ]
    }
   ],
   "source": [
    "#Subtraction Operator\n",
    "sub = v2 - v1\n",
    "print(sub)"
   ]
  },
  {
   "cell_type": "code",
   "execution_count": 24,
   "id": "1046226b",
   "metadata": {},
   "outputs": [],
   "source": [
    "# Multiplication Operator\n",
    "mul = sub * 3"
   ]
  },
  {
   "cell_type": "code",
   "execution_count": 25,
   "id": "585e59d9",
   "metadata": {},
   "outputs": [
    {
     "name": "stdout",
     "output_type": "stream",
     "text": [
      "3\n"
     ]
    }
   ],
   "source": [
    "print(mul)"
   ]
  },
  {
   "cell_type": "code",
   "execution_count": 28,
   "id": "859d4163",
   "metadata": {},
   "outputs": [
    {
     "name": "stdout",
     "output_type": "stream",
     "text": [
      "2.0\n"
     ]
    }
   ],
   "source": [
    "# Division Operator\n",
    "a = 4\n",
    "b = 2\n",
    "div = a/b\n",
    "print(div)"
   ]
  },
  {
   "cell_type": "code",
   "execution_count": 29,
   "id": "4fa9e464",
   "metadata": {},
   "outputs": [
    {
     "name": "stdout",
     "output_type": "stream",
     "text": [
      "1\n"
     ]
    }
   ],
   "source": [
    "# Modulus Operator\n",
    "a = 4\n",
    "b = 3\n",
    "mod = a%b\n",
    "print(mod)"
   ]
  },
  {
   "cell_type": "code",
   "execution_count": 30,
   "id": "63b0c6e6",
   "metadata": {},
   "outputs": [
    {
     "name": "stdout",
     "output_type": "stream",
     "text": [
      "343\n"
     ]
    }
   ],
   "source": [
    "# Exponentiation Operator (power)\n",
    "a = 7\n",
    "pow_of_a = a**3\n",
    "print(pow_of_a)"
   ]
  },
  {
   "cell_type": "code",
   "execution_count": 31,
   "id": "6a53cc1e",
   "metadata": {},
   "outputs": [
    {
     "data": {
      "text/plain": [
       "25"
      ]
     },
     "execution_count": 31,
     "metadata": {},
     "output_type": "execute_result"
    }
   ],
   "source": [
    "5**2"
   ]
  },
  {
   "cell_type": "code",
   "execution_count": 33,
   "id": "04618a02",
   "metadata": {},
   "outputs": [
    {
     "data": {
      "text/plain": [
       "10"
      ]
     },
     "execution_count": 33,
     "metadata": {},
     "output_type": "execute_result"
    }
   ],
   "source": [
    "5*2"
   ]
  },
  {
   "cell_type": "code",
   "execution_count": 34,
   "id": "b9d9d125",
   "metadata": {},
   "outputs": [
    {
     "data": {
      "text/plain": [
       "125"
      ]
     },
     "execution_count": 34,
     "metadata": {},
     "output_type": "execute_result"
    }
   ],
   "source": [
    "5**3"
   ]
  },
  {
   "cell_type": "code",
   "execution_count": 35,
   "id": "636f9a1c",
   "metadata": {},
   "outputs": [
    {
     "name": "stdout",
     "output_type": "stream",
     "text": [
      "2\n"
     ]
    }
   ],
   "source": [
    "# Floor Division\n",
    "a = 5\n",
    "b = 2\n",
    "print(a//b)"
   ]
  },
  {
   "cell_type": "code",
   "execution_count": 36,
   "id": "c4099ecb",
   "metadata": {},
   "outputs": [
    {
     "data": {
      "text/plain": [
       "2.5"
      ]
     },
     "execution_count": 36,
     "metadata": {},
     "output_type": "execute_result"
    }
   ],
   "source": [
    "a/b"
   ]
  },
  {
   "cell_type": "code",
   "execution_count": 37,
   "id": "0efe53dd",
   "metadata": {},
   "outputs": [
    {
     "data": {
      "text/plain": [
       "3.5"
      ]
     },
     "execution_count": 37,
     "metadata": {},
     "output_type": "execute_result"
    }
   ],
   "source": [
    "7/2"
   ]
  },
  {
   "cell_type": "code",
   "execution_count": 38,
   "id": "48f3c651",
   "metadata": {},
   "outputs": [
    {
     "data": {
      "text/plain": [
       "3"
      ]
     },
     "execution_count": 38,
     "metadata": {},
     "output_type": "execute_result"
    }
   ],
   "source": [
    "7//2"
   ]
  },
  {
   "cell_type": "code",
   "execution_count": 39,
   "id": "66bf1758",
   "metadata": {},
   "outputs": [],
   "source": [
    "# Assignment Operator"
   ]
  },
  {
   "cell_type": "code",
   "execution_count": null,
   "id": "17aeff4b",
   "metadata": {},
   "outputs": [],
   "source": [
    "= -> Assigns right side to the left side operand"
   ]
  },
  {
   "cell_type": "code",
   "execution_count": null,
   "id": "05567425",
   "metadata": {},
   "outputs": [],
   "source": [
    "2 = a   X"
   ]
  },
  {
   "cell_type": "code",
   "execution_count": 40,
   "id": "b241af45",
   "metadata": {},
   "outputs": [],
   "source": [
    "a = 2"
   ]
  },
  {
   "cell_type": "code",
   "execution_count": null,
   "id": "c7ea9925",
   "metadata": {},
   "outputs": [],
   "source": [
    "a = a + 1"
   ]
  },
  {
   "cell_type": "code",
   "execution_count": 41,
   "id": "08b43460",
   "metadata": {},
   "outputs": [],
   "source": [
    "a += 1"
   ]
  },
  {
   "cell_type": "code",
   "execution_count": 42,
   "id": "1c9a49e3",
   "metadata": {},
   "outputs": [
    {
     "name": "stdout",
     "output_type": "stream",
     "text": [
      "3\n"
     ]
    }
   ],
   "source": [
    "print(a)"
   ]
  },
  {
   "cell_type": "code",
   "execution_count": null,
   "id": "c5bbb6e3",
   "metadata": {},
   "outputs": [],
   "source": [
    "#syntax\n",
    "variable += value"
   ]
  },
  {
   "cell_type": "code",
   "execution_count": null,
   "id": "85ea5195",
   "metadata": {},
   "outputs": [],
   "source": [
    "variable -= value"
   ]
  },
  {
   "cell_type": "code",
   "execution_count": 43,
   "id": "f1436474",
   "metadata": {},
   "outputs": [
    {
     "name": "stdout",
     "output_type": "stream",
     "text": [
      "1\n"
     ]
    }
   ],
   "source": [
    "a -= 2\n",
    "print(a)"
   ]
  },
  {
   "cell_type": "code",
   "execution_count": null,
   "id": "601f863e",
   "metadata": {},
   "outputs": [],
   "source": [
    "*=,/=,%=,//=,**="
   ]
  },
  {
   "cell_type": "code",
   "execution_count": 44,
   "id": "9da7cd8a",
   "metadata": {},
   "outputs": [],
   "source": [
    "# Comparision operator\n"
   ]
  },
  {
   "cell_type": "code",
   "execution_count": null,
   "id": "b9421082",
   "metadata": {},
   "outputs": [],
   "source": [
    "> --> Greater than\n",
    "< --> Less than\n",
    "== -> equals to\n",
    "!= -> not equals to\n",
    ">= -> Greater than equals to\n",
    "<= -> Less than equals to"
   ]
  },
  {
   "cell_type": "code",
   "execution_count": 45,
   "id": "afd6f139",
   "metadata": {},
   "outputs": [],
   "source": [
    "a = 5"
   ]
  },
  {
   "cell_type": "code",
   "execution_count": 46,
   "id": "fd42cc75",
   "metadata": {},
   "outputs": [
    {
     "name": "stdout",
     "output_type": "stream",
     "text": [
      "True\n"
     ]
    }
   ],
   "source": [
    "print(a > 2)"
   ]
  },
  {
   "cell_type": "code",
   "execution_count": 47,
   "id": "1f2c8648",
   "metadata": {},
   "outputs": [
    {
     "name": "stdout",
     "output_type": "stream",
     "text": [
      "False\n"
     ]
    }
   ],
   "source": [
    "print(a < 1)"
   ]
  },
  {
   "cell_type": "code",
   "execution_count": 48,
   "id": "26adc743",
   "metadata": {},
   "outputs": [
    {
     "name": "stdout",
     "output_type": "stream",
     "text": [
      "True\n"
     ]
    }
   ],
   "source": [
    "print(a == 5)"
   ]
  },
  {
   "cell_type": "code",
   "execution_count": 49,
   "id": "b8ba061f",
   "metadata": {},
   "outputs": [
    {
     "name": "stdout",
     "output_type": "stream",
     "text": [
      "True\n"
     ]
    }
   ],
   "source": [
    "a = 10\n",
    "b = 29\n",
    "print(a!=b)"
   ]
  },
  {
   "cell_type": "code",
   "execution_count": null,
   "id": "158990fd",
   "metadata": {},
   "outputs": [],
   "source": [
    "# Logical operators\n",
    "and, or , not"
   ]
  },
  {
   "cell_type": "code",
   "execution_count": 50,
   "id": "5e200036",
   "metadata": {},
   "outputs": [],
   "source": [
    "# and"
   ]
  },
  {
   "cell_type": "code",
   "execution_count": 51,
   "id": "0cf872f2",
   "metadata": {},
   "outputs": [
    {
     "data": {
      "text/plain": [
       "True"
      ]
     },
     "execution_count": 51,
     "metadata": {},
     "output_type": "execute_result"
    }
   ],
   "source": [
    "True and True #--> True"
   ]
  },
  {
   "cell_type": "code",
   "execution_count": 52,
   "id": "6c8f836f",
   "metadata": {},
   "outputs": [
    {
     "data": {
      "text/plain": [
       "False"
      ]
     },
     "execution_count": 52,
     "metadata": {},
     "output_type": "execute_result"
    }
   ],
   "source": [
    "True and False"
   ]
  },
  {
   "cell_type": "code",
   "execution_count": 53,
   "id": "5aa96d23",
   "metadata": {},
   "outputs": [
    {
     "data": {
      "text/plain": [
       "False"
      ]
     },
     "execution_count": 53,
     "metadata": {},
     "output_type": "execute_result"
    }
   ],
   "source": [
    "False and True"
   ]
  },
  {
   "cell_type": "code",
   "execution_count": 54,
   "id": "11e9b586",
   "metadata": {},
   "outputs": [
    {
     "data": {
      "text/plain": [
       "False"
      ]
     },
     "execution_count": 54,
     "metadata": {},
     "output_type": "execute_result"
    }
   ],
   "source": [
    "False and False"
   ]
  },
  {
   "cell_type": "code",
   "execution_count": 55,
   "id": "3d2c308c",
   "metadata": {},
   "outputs": [
    {
     "data": {
      "text/plain": [
       "False"
      ]
     },
     "execution_count": 55,
     "metadata": {},
     "output_type": "execute_result"
    }
   ],
   "source": [
    "a = 10\n",
    "b = 29\n",
    "a==b and a!=b"
   ]
  },
  {
   "cell_type": "code",
   "execution_count": null,
   "id": "6d7bbcdd",
   "metadata": {},
   "outputs": [],
   "source": [
    "# or"
   ]
  },
  {
   "cell_type": "code",
   "execution_count": null,
   "id": "ed906566",
   "metadata": {},
   "outputs": [],
   "source": [
    "if both operands is false then only it returns false"
   ]
  },
  {
   "cell_type": "code",
   "execution_count": 56,
   "id": "feee69b8",
   "metadata": {},
   "outputs": [
    {
     "data": {
      "text/plain": [
       "True"
      ]
     },
     "execution_count": 56,
     "metadata": {},
     "output_type": "execute_result"
    }
   ],
   "source": [
    "False or True"
   ]
  },
  {
   "cell_type": "code",
   "execution_count": 57,
   "id": "7f6c7519",
   "metadata": {},
   "outputs": [
    {
     "data": {
      "text/plain": [
       "True"
      ]
     },
     "execution_count": 57,
     "metadata": {},
     "output_type": "execute_result"
    }
   ],
   "source": [
    "True or False"
   ]
  },
  {
   "cell_type": "code",
   "execution_count": 58,
   "id": "98319145",
   "metadata": {},
   "outputs": [
    {
     "data": {
      "text/plain": [
       "True"
      ]
     },
     "execution_count": 58,
     "metadata": {},
     "output_type": "execute_result"
    }
   ],
   "source": [
    "True or True"
   ]
  },
  {
   "cell_type": "code",
   "execution_count": 59,
   "id": "c1a20531",
   "metadata": {},
   "outputs": [
    {
     "data": {
      "text/plain": [
       "False"
      ]
     },
     "execution_count": 59,
     "metadata": {},
     "output_type": "execute_result"
    }
   ],
   "source": [
    "False or False"
   ]
  },
  {
   "cell_type": "code",
   "execution_count": 60,
   "id": "75684f3a",
   "metadata": {},
   "outputs": [
    {
     "data": {
      "text/plain": [
       "False"
      ]
     },
     "execution_count": 60,
     "metadata": {},
     "output_type": "execute_result"
    }
   ],
   "source": [
    "not True"
   ]
  },
  {
   "cell_type": "code",
   "execution_count": 61,
   "id": "d57f99b7",
   "metadata": {},
   "outputs": [
    {
     "data": {
      "text/plain": [
       "True"
      ]
     },
     "execution_count": 61,
     "metadata": {},
     "output_type": "execute_result"
    }
   ],
   "source": [
    "not False"
   ]
  },
  {
   "cell_type": "code",
   "execution_count": 62,
   "id": "e9dec2e9",
   "metadata": {},
   "outputs": [
    {
     "data": {
      "text/plain": [
       "True"
      ]
     },
     "execution_count": 62,
     "metadata": {},
     "output_type": "execute_result"
    }
   ],
   "source": [
    "class_over = False\n",
    "not class_over"
   ]
  },
  {
   "cell_type": "markdown",
   "id": "96c6b4d6",
   "metadata": {},
   "source": [
    "## Membership Operators"
   ]
  },
  {
   "cell_type": "code",
   "execution_count": null,
   "id": "c53708c1",
   "metadata": {},
   "outputs": [],
   "source": [
    "in ,not in operator"
   ]
  },
  {
   "cell_type": "code",
   "execution_count": 63,
   "id": "5b15feb6",
   "metadata": {},
   "outputs": [
    {
     "name": "stdout",
     "output_type": "stream",
     "text": [
      "True\n"
     ]
    }
   ],
   "source": [
    "club = [\"Mayank\",\"Nikhil\",\"Saikumar\",\"Sayali\"]\n",
    "print(\"Mayank\" in club)"
   ]
  },
  {
   "cell_type": "code",
   "execution_count": 65,
   "id": "1ecbb538",
   "metadata": {},
   "outputs": [
    {
     "name": "stdout",
     "output_type": "stream",
     "text": [
      "False\n"
     ]
    }
   ],
   "source": [
    "alphabets = \"abcdefhijklmnopqrstuvwxyz\"\n",
    "print(\"g\" in alphabets)"
   ]
  },
  {
   "cell_type": "code",
   "execution_count": 66,
   "id": "0bd977e1",
   "metadata": {},
   "outputs": [
    {
     "name": "stdout",
     "output_type": "stream",
     "text": [
      "True\n"
     ]
    }
   ],
   "source": [
    "print(\"ganesh\" not in club)"
   ]
  },
  {
   "cell_type": "code",
   "execution_count": null,
   "id": "75fa5b68",
   "metadata": {},
   "outputs": [],
   "source": [
    "Syntax:\n",
    "    item in collection\n",
    "    item not in collection"
   ]
  },
  {
   "cell_type": "code",
   "execution_count": null,
   "id": "2c8407d7",
   "metadata": {},
   "outputs": [],
   "source": [
    "Identity operator:\n",
    "    is, is not\n",
    "    It evaluates if the variables on the either side of the operator point to the same object"
   ]
  },
  {
   "cell_type": "code",
   "execution_count": 67,
   "id": "37f0a9c0",
   "metadata": {},
   "outputs": [],
   "source": [
    "a = 2\n",
    "b = 2"
   ]
  },
  {
   "cell_type": "code",
   "execution_count": 68,
   "id": "eb5d0d6c",
   "metadata": {},
   "outputs": [
    {
     "data": {
      "text/plain": [
       "True"
      ]
     },
     "execution_count": 68,
     "metadata": {},
     "output_type": "execute_result"
    }
   ],
   "source": [
    "a is b"
   ]
  },
  {
   "cell_type": "code",
   "execution_count": 69,
   "id": "ba25ed23",
   "metadata": {},
   "outputs": [
    {
     "name": "stdout",
     "output_type": "stream",
     "text": [
      "False\n"
     ]
    }
   ],
   "source": [
    "c = 3\n",
    "print(a is c)"
   ]
  },
  {
   "cell_type": "code",
   "execution_count": 70,
   "id": "ccd663d7",
   "metadata": {},
   "outputs": [
    {
     "data": {
      "text/plain": [
       "True"
      ]
     },
     "execution_count": 70,
     "metadata": {},
     "output_type": "execute_result"
    }
   ],
   "source": [
    "a is not c"
   ]
  },
  {
   "cell_type": "code",
   "execution_count": null,
   "id": "97b694e6",
   "metadata": {},
   "outputs": [],
   "source": []
  }
 ],
 "metadata": {
  "kernelspec": {
   "display_name": "Python 3 (ipykernel)",
   "language": "python",
   "name": "python3"
  },
  "language_info": {
   "codemirror_mode": {
    "name": "ipython",
    "version": 3
   },
   "file_extension": ".py",
   "mimetype": "text/x-python",
   "name": "python",
   "nbconvert_exporter": "python",
   "pygments_lexer": "ipython3",
   "version": "3.9.7"
  }
 },
 "nbformat": 4,
 "nbformat_minor": 5
}
