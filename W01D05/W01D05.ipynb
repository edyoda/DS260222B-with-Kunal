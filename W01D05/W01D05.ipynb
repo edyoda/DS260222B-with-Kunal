{
 "cells": [
  {
   "cell_type": "code",
   "execution_count": null,
   "id": "a82ed3c4",
   "metadata": {},
   "outputs": [],
   "source": [
    "Mutable - changeble\n",
    "immutable - not changeable\n",
    "Data types:\n",
    "    Numeric Type:\n",
    "        int : -2,-1,0,1 --> immutable\n",
    "        float : 1.1,-2.3 --> immutable\n",
    "        complex: 2+5j,8-9j,-1-1j --> immutable\n",
    "    Sequence Type:\n",
    "        tuple --> immutable\n",
    "        str --> immutable\n",
    "        list --> mutable\n",
    "    Mapping Type:\n",
    "        dict --> mutable\n",
    "    Set Type:\n",
    "        set --> mutable\n",
    "    Boolean Type:\n",
    "        bool\n",
    "    None type:\n",
    "        None"
   ]
  },
  {
   "cell_type": "code",
   "execution_count": 3,
   "id": "2513c3d9",
   "metadata": {},
   "outputs": [
    {
     "name": "stdout",
     "output_type": "stream",
     "text": [
      "0x1c681096950\n"
     ]
    }
   ],
   "source": [
    "a = 2"
   ]
  },
  {
   "cell_type": "code",
   "execution_count": 4,
   "id": "3a05fe09",
   "metadata": {},
   "outputs": [
    {
     "name": "stdout",
     "output_type": "stream",
     "text": [
      "0x1c681096950\n"
     ]
    }
   ],
   "source": [
    "b = 2"
   ]
  },
  {
   "cell_type": "code",
   "execution_count": 5,
   "id": "278a65cc",
   "metadata": {},
   "outputs": [
    {
     "name": "stdout",
     "output_type": "stream",
     "text": [
      "1952080030032\n",
      "1952080030032\n"
     ]
    }
   ],
   "source": [
    "print(id(a))\n",
    "print(id(b))"
   ]
  },
  {
   "cell_type": "code",
   "execution_count": 6,
   "id": "f5cc1c81",
   "metadata": {},
   "outputs": [
    {
     "name": "stdout",
     "output_type": "stream",
     "text": [
      "1952080030064\n"
     ]
    }
   ],
   "source": [
    "a = 3\n",
    "print(id(a))"
   ]
  },
  {
   "cell_type": "code",
   "execution_count": 7,
   "id": "83f9dbb7",
   "metadata": {},
   "outputs": [
    {
     "name": "stdout",
     "output_type": "stream",
     "text": [
      "1952160170112\n"
     ]
    }
   ],
   "source": [
    "a = [1,2,3]\n",
    "print(id(a))"
   ]
  },
  {
   "cell_type": "code",
   "execution_count": 8,
   "id": "23791df9",
   "metadata": {},
   "outputs": [],
   "source": [
    "a.append(25)"
   ]
  },
  {
   "cell_type": "code",
   "execution_count": 9,
   "id": "9efcc352",
   "metadata": {},
   "outputs": [
    {
     "name": "stdout",
     "output_type": "stream",
     "text": [
      "[1, 2, 3, 25]\n"
     ]
    }
   ],
   "source": [
    "print(a)"
   ]
  },
  {
   "cell_type": "code",
   "execution_count": 10,
   "id": "85447038",
   "metadata": {},
   "outputs": [
    {
     "name": "stdout",
     "output_type": "stream",
     "text": [
      "1952160170112\n"
     ]
    }
   ],
   "source": [
    "print(id(a))"
   ]
  },
  {
   "cell_type": "code",
   "execution_count": 11,
   "id": "856e0f5b",
   "metadata": {},
   "outputs": [
    {
     "name": "stdout",
     "output_type": "stream",
     "text": [
      "1952160701360\n"
     ]
    }
   ],
   "source": [
    "s = \"Nibedita\"\n",
    "print(id(s))"
   ]
  },
  {
   "cell_type": "code",
   "execution_count": 13,
   "id": "d4c4dea3",
   "metadata": {},
   "outputs": [],
   "source": [
    "s = \"Nibedita\" + \"pati\""
   ]
  },
  {
   "cell_type": "code",
   "execution_count": 14,
   "id": "6b31c6fc",
   "metadata": {},
   "outputs": [
    {
     "name": "stdout",
     "output_type": "stream",
     "text": [
      "Nibeditapati\n"
     ]
    }
   ],
   "source": [
    "print(s)"
   ]
  },
  {
   "cell_type": "code",
   "execution_count": 15,
   "id": "fdba335a",
   "metadata": {},
   "outputs": [
    {
     "name": "stdout",
     "output_type": "stream",
     "text": [
      "1952160719536\n"
     ]
    }
   ],
   "source": [
    "print(id(s))"
   ]
  },
  {
   "cell_type": "code",
   "execution_count": 16,
   "id": "ca502fc1",
   "metadata": {},
   "outputs": [
    {
     "name": "stdout",
     "output_type": "stream",
     "text": [
      "1952161019648 1952161019648\n"
     ]
    }
   ],
   "source": [
    "l = [1,2,3]\n",
    "g = l\n",
    "print(id(g),id(l))"
   ]
  },
  {
   "cell_type": "code",
   "execution_count": 17,
   "id": "da621fb0",
   "metadata": {},
   "outputs": [],
   "source": [
    "g.append(\"Priya\")"
   ]
  },
  {
   "cell_type": "code",
   "execution_count": 18,
   "id": "c904abc1",
   "metadata": {},
   "outputs": [
    {
     "name": "stdout",
     "output_type": "stream",
     "text": [
      "[1, 2, 3, 'Priya']\n"
     ]
    }
   ],
   "source": [
    "print(l)"
   ]
  },
  {
   "cell_type": "code",
   "execution_count": 19,
   "id": "03c28033",
   "metadata": {},
   "outputs": [
    {
     "name": "stdout",
     "output_type": "stream",
     "text": [
      "[1, 2, 3, 5]\n"
     ]
    }
   ],
   "source": [
    "l = [1,2,3]\n",
    "l = [1,2,3] + [5]\n",
    "print(l)"
   ]
  },
  {
   "cell_type": "code",
   "execution_count": 20,
   "id": "c1e844d3",
   "metadata": {},
   "outputs": [
    {
     "ename": "AttributeError",
     "evalue": "'tuple' object has no attribute 'append'",
     "output_type": "error",
     "traceback": [
      "\u001b[1;31m---------------------------------------------------------------------------\u001b[0m",
      "\u001b[1;31mAttributeError\u001b[0m                            Traceback (most recent call last)",
      "\u001b[1;32mC:\\Users\\KUNALC~1\\AppData\\Local\\Temp/ipykernel_25168/4179903007.py\u001b[0m in \u001b[0;36m<module>\u001b[1;34m\u001b[0m\n\u001b[0;32m      1\u001b[0m \u001b[0mt\u001b[0m \u001b[1;33m=\u001b[0m \u001b[1;33m(\u001b[0m\u001b[1;36m1\u001b[0m\u001b[1;33m,\u001b[0m\u001b[1;36m3\u001b[0m\u001b[1;33m,\u001b[0m\u001b[1;36m8\u001b[0m\u001b[1;33m)\u001b[0m\u001b[1;33m\u001b[0m\u001b[1;33m\u001b[0m\u001b[0m\n\u001b[1;32m----> 2\u001b[1;33m \u001b[0mt\u001b[0m\u001b[1;33m.\u001b[0m\u001b[0mappend\u001b[0m\u001b[1;33m(\u001b[0m\u001b[1;36m5\u001b[0m\u001b[1;33m)\u001b[0m\u001b[1;33m\u001b[0m\u001b[1;33m\u001b[0m\u001b[0m\n\u001b[0m",
      "\u001b[1;31mAttributeError\u001b[0m: 'tuple' object has no attribute 'append'"
     ]
    }
   ],
   "source": [
    "t = (1,3,8)\n",
    "t.append(5)"
   ]
  },
  {
   "cell_type": "code",
   "execution_count": 21,
   "id": "0bb1033b",
   "metadata": {},
   "outputs": [
    {
     "name": "stdout",
     "output_type": "stream",
     "text": [
      "(1, 2.0, 'ayush', 'kumar')\n"
     ]
    }
   ],
   "source": [
    "a=(1,2.0,\"ayush\")\n",
    "a=(1,2.0,\"ayush\")+(\"kumar\",)\n",
    "print(a)"
   ]
  },
  {
   "cell_type": "markdown",
   "id": "ab51b794",
   "metadata": {},
   "source": [
    "## `Arithmatic Operators`"
   ]
  },
  {
   "cell_type": "code",
   "execution_count": null,
   "id": "06d5b50e",
   "metadata": {},
   "outputs": [],
   "source": [
    "Airthmetic Opertaion are used to perform mathematical operation like add,div,sub,mul"
   ]
  },
  {
   "cell_type": "code",
   "execution_count": null,
   "id": "1aeb85d4",
   "metadata": {},
   "outputs": [],
   "source": [
    "# Addition Operator --> +"
   ]
  },
  {
   "cell_type": "code",
   "execution_count": 22,
   "id": "2234aea5",
   "metadata": {},
   "outputs": [
    {
     "name": "stdout",
     "output_type": "stream",
     "text": [
      "51\n"
     ]
    }
   ],
   "source": [
    "v1 = 25\n",
    "v2 = 26\n",
    "summation = v1 + v2\n",
    "print(summation)"
   ]
  },
  {
   "cell_type": "code",
   "execution_count": 23,
   "id": "d7318ba9",
   "metadata": {},
   "outputs": [
    {
     "name": "stdout",
     "output_type": "stream",
     "text": [
      "1\n"
     ]
    }
   ],
   "source": [
    "#Subtraction Operator\n",
    "sub = v2 - v1\n",
    "print(sub)"
   ]
  },
  {
   "cell_type": "code",
   "execution_count": 24,
   "id": "42a95f55",
   "metadata": {},
   "outputs": [],
   "source": [
    "# Multiplication Operator\n",
    "mul = sub * 3"
   ]
  },
  {
   "cell_type": "code",
   "execution_count": 25,
   "id": "d934fed4",
   "metadata": {},
   "outputs": [
    {
     "name": "stdout",
     "output_type": "stream",
     "text": [
      "3\n"
     ]
    }
   ],
   "source": [
    "print(mul)"
   ]
  },
  {
   "cell_type": "code",
   "execution_count": 28,
   "id": "830e89da",
   "metadata": {},
   "outputs": [
    {
     "name": "stdout",
     "output_type": "stream",
     "text": [
      "2.0\n"
     ]
    }
   ],
   "source": [
    "# Division Operator\n",
    "a = 4\n",
    "b = 2\n",
    "div = a/b\n",
    "print(div)"
   ]
  },
  {
   "cell_type": "code",
   "execution_count": 29,
   "id": "8485997c",
   "metadata": {},
   "outputs": [
    {
     "name": "stdout",
     "output_type": "stream",
     "text": [
      "1\n"
     ]
    }
   ],
   "source": [
    "# Modulus Operator\n",
    "a = 4\n",
    "b = 3\n",
    "mod = a%b\n",
    "print(mod)"
   ]
  },
  {
   "cell_type": "code",
   "execution_count": 30,
   "id": "d0cbe31d",
   "metadata": {},
   "outputs": [
    {
     "name": "stdout",
     "output_type": "stream",
     "text": [
      "343\n"
     ]
    }
   ],
   "source": [
    "# Exponentiation Operator (power)\n",
    "a = 7\n",
    "pow_of_a = a**3\n",
    "print(pow_of_a)"
   ]
  },
  {
   "cell_type": "code",
   "execution_count": 31,
   "id": "0e67defd",
   "metadata": {},
   "outputs": [
    {
     "data": {
      "text/plain": [
       "25"
      ]
     },
     "execution_count": 31,
     "metadata": {},
     "output_type": "execute_result"
    }
   ],
   "source": [
    "5**2"
   ]
  },
  {
   "cell_type": "code",
   "execution_count": 33,
   "id": "249e8394",
   "metadata": {},
   "outputs": [
    {
     "data": {
      "text/plain": [
       "10"
      ]
     },
     "execution_count": 33,
     "metadata": {},
     "output_type": "execute_result"
    }
   ],
   "source": [
    "5*2"
   ]
  },
  {
   "cell_type": "code",
   "execution_count": 34,
   "id": "f9b0ba22",
   "metadata": {},
   "outputs": [
    {
     "data": {
      "text/plain": [
       "125"
      ]
     },
     "execution_count": 34,
     "metadata": {},
     "output_type": "execute_result"
    }
   ],
   "source": [
    "5**3"
   ]
  },
  {
   "cell_type": "code",
   "execution_count": 35,
   "id": "833dcf28",
   "metadata": {},
   "outputs": [
    {
     "name": "stdout",
     "output_type": "stream",
     "text": [
      "2\n"
     ]
    }
   ],
   "source": [
    "# Floor Division\n",
    "a = 5\n",
    "b = 2\n",
    "print(a//b)"
   ]
  },
  {
   "cell_type": "code",
   "execution_count": 36,
   "id": "edda1cd3",
   "metadata": {},
   "outputs": [
    {
     "data": {
      "text/plain": [
       "2.5"
      ]
     },
     "execution_count": 36,
     "metadata": {},
     "output_type": "execute_result"
    }
   ],
   "source": [
    "a/b"
   ]
  },
  {
   "cell_type": "code",
   "execution_count": 37,
   "id": "9f173bcc",
   "metadata": {},
   "outputs": [
    {
     "data": {
      "text/plain": [
       "3.5"
      ]
     },
     "execution_count": 37,
     "metadata": {},
     "output_type": "execute_result"
    }
   ],
   "source": [
    "7/2"
   ]
  },
  {
   "cell_type": "code",
   "execution_count": 38,
   "id": "13389d80",
   "metadata": {},
   "outputs": [
    {
     "data": {
      "text/plain": [
       "3"
      ]
     },
     "execution_count": 38,
     "metadata": {},
     "output_type": "execute_result"
    }
   ],
   "source": [
    "7//2"
   ]
  },
  {
   "cell_type": "code",
   "execution_count": 39,
   "id": "f0afd8e5",
   "metadata": {},
   "outputs": [],
   "source": [
    "# Assignment Operator"
   ]
  },
  {
   "cell_type": "code",
   "execution_count": null,
   "id": "004af6d1",
   "metadata": {},
   "outputs": [],
   "source": [
    "= -> Assigns right side to the left side operand"
   ]
  },
  {
   "cell_type": "code",
   "execution_count": null,
   "id": "7a7fe502",
   "metadata": {},
   "outputs": [],
   "source": [
    "2 = a   X"
   ]
  },
  {
   "cell_type": "code",
   "execution_count": 40,
   "id": "5f17fdc6",
   "metadata": {},
   "outputs": [],
   "source": [
    "a = 2"
   ]
  },
  {
   "cell_type": "code",
   "execution_count": null,
   "id": "e0463898",
   "metadata": {},
   "outputs": [],
   "source": [
    "a = a + 1"
   ]
  },
  {
   "cell_type": "code",
   "execution_count": 41,
   "id": "cdf2e57e",
   "metadata": {},
   "outputs": [],
   "source": [
    "a += 1"
   ]
  },
  {
   "cell_type": "code",
   "execution_count": 42,
   "id": "35c73cac",
   "metadata": {},
   "outputs": [
    {
     "name": "stdout",
     "output_type": "stream",
     "text": [
      "3\n"
     ]
    }
   ],
   "source": [
    "print(a)"
   ]
  },
  {
   "cell_type": "code",
   "execution_count": null,
   "id": "1cb5e320",
   "metadata": {},
   "outputs": [],
   "source": [
    "#syntax\n",
    "variable += value"
   ]
  },
  {
   "cell_type": "code",
   "execution_count": null,
   "id": "a9e7eee6",
   "metadata": {},
   "outputs": [],
   "source": [
    "variable -= value"
   ]
  },
  {
   "cell_type": "code",
   "execution_count": 43,
   "id": "b91b8e49",
   "metadata": {},
   "outputs": [
    {
     "name": "stdout",
     "output_type": "stream",
     "text": [
      "1\n"
     ]
    }
   ],
   "source": [
    "a -= 2\n",
    "print(a)"
   ]
  },
  {
   "cell_type": "code",
   "execution_count": null,
   "id": "2a03c6b6",
   "metadata": {},
   "outputs": [],
   "source": [
    "*=,/=,%=,//=,**="
   ]
  },
  {
   "cell_type": "code",
   "execution_count": 44,
   "id": "b3aa900b",
   "metadata": {},
   "outputs": [],
   "source": [
    "# Comparision operator\n"
   ]
  },
  {
   "cell_type": "code",
   "execution_count": null,
   "id": "c2a1f6bd",
   "metadata": {},
   "outputs": [],
   "source": [
    "> --> Greater than\n",
    "< --> Less than\n",
    "== -> equals to\n",
    "!= -> not equals to\n",
    ">= -> Greater than equals to\n",
    "<= -> Less than equals to"
   ]
  },
  {
   "cell_type": "code",
   "execution_count": 45,
   "id": "a30ca14f",
   "metadata": {},
   "outputs": [],
   "source": [
    "a = 5"
   ]
  },
  {
   "cell_type": "code",
   "execution_count": 46,
   "id": "2934e0f3",
   "metadata": {},
   "outputs": [
    {
     "name": "stdout",
     "output_type": "stream",
     "text": [
      "True\n"
     ]
    }
   ],
   "source": [
    "print(a > 2)"
   ]
  },
  {
   "cell_type": "code",
   "execution_count": 47,
   "id": "187bb232",
   "metadata": {},
   "outputs": [
    {
     "name": "stdout",
     "output_type": "stream",
     "text": [
      "False\n"
     ]
    }
   ],
   "source": [
    "print(a < 1)"
   ]
  },
  {
   "cell_type": "code",
   "execution_count": 48,
   "id": "c5cd6650",
   "metadata": {},
   "outputs": [
    {
     "name": "stdout",
     "output_type": "stream",
     "text": [
      "True\n"
     ]
    }
   ],
   "source": [
    "print(a == 5)"
   ]
  },
  {
   "cell_type": "code",
   "execution_count": 49,
   "id": "36cef4ed",
   "metadata": {},
   "outputs": [
    {
     "name": "stdout",
     "output_type": "stream",
     "text": [
      "True\n"
     ]
    }
   ],
   "source": [
    "a = 10\n",
    "b = 29\n",
    "print(a!=b)"
   ]
  },
  {
   "cell_type": "code",
   "execution_count": null,
   "id": "b3ebf2c2",
   "metadata": {},
   "outputs": [],
   "source": [
    "# Logical operators\n",
    "and, or , not"
   ]
  },
  {
   "cell_type": "code",
   "execution_count": 50,
   "id": "b059e1fb",
   "metadata": {},
   "outputs": [],
   "source": [
    "# and"
   ]
  },
  {
   "cell_type": "code",
   "execution_count": 51,
   "id": "c6f17d8d",
   "metadata": {},
   "outputs": [
    {
     "data": {
      "text/plain": [
       "True"
      ]
     },
     "execution_count": 51,
     "metadata": {},
     "output_type": "execute_result"
    }
   ],
   "source": [
    "True and True #--> True"
   ]
  },
  {
   "cell_type": "code",
   "execution_count": 52,
   "id": "8ab33c62",
   "metadata": {},
   "outputs": [
    {
     "data": {
      "text/plain": [
       "False"
      ]
     },
     "execution_count": 52,
     "metadata": {},
     "output_type": "execute_result"
    }
   ],
   "source": [
    "True and False"
   ]
  },
  {
   "cell_type": "code",
   "execution_count": 53,
   "id": "d11834cf",
   "metadata": {},
   "outputs": [
    {
     "data": {
      "text/plain": [
       "False"
      ]
     },
     "execution_count": 53,
     "metadata": {},
     "output_type": "execute_result"
    }
   ],
   "source": [
    "False and True"
   ]
  },
  {
   "cell_type": "code",
   "execution_count": 54,
   "id": "0b7d0987",
   "metadata": {},
   "outputs": [
    {
     "data": {
      "text/plain": [
       "False"
      ]
     },
     "execution_count": 54,
     "metadata": {},
     "output_type": "execute_result"
    }
   ],
   "source": [
    "False and False"
   ]
  },
  {
   "cell_type": "code",
   "execution_count": 55,
   "id": "43709796",
   "metadata": {},
   "outputs": [
    {
     "data": {
      "text/plain": [
       "False"
      ]
     },
     "execution_count": 55,
     "metadata": {},
     "output_type": "execute_result"
    }
   ],
   "source": [
    "a = 10\n",
    "b = 29\n",
    "a==b and a!=b"
   ]
  },
  {
   "cell_type": "code",
   "execution_count": null,
   "id": "c5fa6f78",
   "metadata": {},
   "outputs": [],
   "source": [
    "# or"
   ]
  },
  {
   "cell_type": "code",
   "execution_count": null,
   "id": "5f99df88",
   "metadata": {},
   "outputs": [],
   "source": [
    "if both operands is false then only it returns false"
   ]
  },
  {
   "cell_type": "code",
   "execution_count": 56,
   "id": "85817596",
   "metadata": {},
   "outputs": [
    {
     "data": {
      "text/plain": [
       "True"
      ]
     },
     "execution_count": 56,
     "metadata": {},
     "output_type": "execute_result"
    }
   ],
   "source": [
    "False or True"
   ]
  },
  {
   "cell_type": "code",
   "execution_count": 57,
   "id": "1b9c20b3",
   "metadata": {},
   "outputs": [
    {
     "data": {
      "text/plain": [
       "True"
      ]
     },
     "execution_count": 57,
     "metadata": {},
     "output_type": "execute_result"
    }
   ],
   "source": [
    "True or False"
   ]
  },
  {
   "cell_type": "code",
   "execution_count": 58,
   "id": "90bbc50d",
   "metadata": {},
   "outputs": [
    {
     "data": {
      "text/plain": [
       "True"
      ]
     },
     "execution_count": 58,
     "metadata": {},
     "output_type": "execute_result"
    }
   ],
   "source": [
    "True or True"
   ]
  },
  {
   "cell_type": "code",
   "execution_count": 59,
   "id": "891232b3",
   "metadata": {},
   "outputs": [
    {
     "data": {
      "text/plain": [
       "False"
      ]
     },
     "execution_count": 59,
     "metadata": {},
     "output_type": "execute_result"
    }
   ],
   "source": [
    "False or False"
   ]
  },
  {
   "cell_type": "code",
   "execution_count": 60,
   "id": "701ef0be",
   "metadata": {},
   "outputs": [
    {
     "data": {
      "text/plain": [
       "False"
      ]
     },
     "execution_count": 60,
     "metadata": {},
     "output_type": "execute_result"
    }
   ],
   "source": [
    "not True"
   ]
  },
  {
   "cell_type": "code",
   "execution_count": 61,
   "id": "946a0535",
   "metadata": {},
   "outputs": [
    {
     "data": {
      "text/plain": [
       "True"
      ]
     },
     "execution_count": 61,
     "metadata": {},
     "output_type": "execute_result"
    }
   ],
   "source": [
    "not False"
   ]
  },
  {
   "cell_type": "code",
   "execution_count": 62,
   "id": "9384d1e6",
   "metadata": {},
   "outputs": [
    {
     "data": {
      "text/plain": [
       "True"
      ]
     },
     "execution_count": 62,
     "metadata": {},
     "output_type": "execute_result"
    }
   ],
   "source": [
    "class_over = False\n",
    "not class_over"
   ]
  },
  {
   "cell_type": "markdown",
   "id": "b45ca20a",
   "metadata": {},
   "source": [
    "## Membership Operators"
   ]
  },
  {
   "cell_type": "code",
   "execution_count": null,
   "id": "925b2e3e",
   "metadata": {},
   "outputs": [],
   "source": [
    "in ,not in operator"
   ]
  },
  {
   "cell_type": "code",
   "execution_count": 63,
   "id": "df961e0e",
   "metadata": {},
   "outputs": [
    {
     "name": "stdout",
     "output_type": "stream",
     "text": [
      "True\n"
     ]
    }
   ],
   "source": [
    "club = [\"Mayank\",\"Nikhil\",\"Saikumar\",\"Sayali\"]\n",
    "print(\"Mayank\" in club)"
   ]
  },
  {
   "cell_type": "code",
   "execution_count": 65,
   "id": "0f911bed",
   "metadata": {},
   "outputs": [
    {
     "name": "stdout",
     "output_type": "stream",
     "text": [
      "False\n"
     ]
    }
   ],
   "source": [
    "alphabets = \"abcdefhijklmnopqrstuvwxyz\"\n",
    "print(\"g\" in alphabets)"
   ]
  },
  {
   "cell_type": "code",
   "execution_count": 66,
   "id": "75dd6322",
   "metadata": {},
   "outputs": [
    {
     "name": "stdout",
     "output_type": "stream",
     "text": [
      "True\n"
     ]
    }
   ],
   "source": [
    "print(\"ganesh\" not in club)"
   ]
  },
  {
   "cell_type": "code",
   "execution_count": null,
   "id": "331e198e",
   "metadata": {},
   "outputs": [],
   "source": [
    "Syntax:\n",
    "    item in collection\n",
    "    item not in collection"
   ]
  },
  {
   "cell_type": "code",
   "execution_count": null,
   "id": "0d1c3cd7",
   "metadata": {},
   "outputs": [],
   "source": [
    "Identity operator:\n",
    "    is, is not\n",
    "    It evaluates if the variables on the either side of the operator point to the same object"
   ]
  },
  {
   "cell_type": "code",
   "execution_count": 67,
   "id": "05d240a7",
   "metadata": {},
   "outputs": [],
   "source": [
    "a = 2\n",
    "b = 2"
   ]
  },
  {
   "cell_type": "code",
   "execution_count": 68,
   "id": "8b7310fe",
   "metadata": {},
   "outputs": [
    {
     "data": {
      "text/plain": [
       "True"
      ]
     },
     "execution_count": 68,
     "metadata": {},
     "output_type": "execute_result"
    }
   ],
   "source": [
    "a is b"
   ]
  },
  {
   "cell_type": "code",
   "execution_count": 69,
   "id": "0e7ed5c1",
   "metadata": {},
   "outputs": [
    {
     "name": "stdout",
     "output_type": "stream",
     "text": [
      "False\n"
     ]
    }
   ],
   "source": [
    "c = 3\n",
    "print(a is c)"
   ]
  },
  {
   "cell_type": "code",
   "execution_count": 70,
   "id": "f0f89b00",
   "metadata": {},
   "outputs": [
    {
     "data": {
      "text/plain": [
       "True"
      ]
     },
     "execution_count": 70,
     "metadata": {},
     "output_type": "execute_result"
    }
   ],
   "source": [
    "a is not c"
   ]
  },
  {
   "cell_type": "code",
   "execution_count": null,
   "id": "f6aafb7f",
   "metadata": {},
   "outputs": [],
   "source": []
  }
 ],
 "metadata": {
  "kernelspec": {
   "display_name": "Python 3 (ipykernel)",
   "language": "python",
   "name": "python3"
  },
  "language_info": {
   "codemirror_mode": {
    "name": "ipython",
    "version": 3
   },
   "file_extension": ".py",
   "mimetype": "text/x-python",
   "name": "python",
   "nbconvert_exporter": "python",
   "pygments_lexer": "ipython3",
   "version": "3.9.7"
  }
 },
 "nbformat": 4,
 "nbformat_minor": 5
}
