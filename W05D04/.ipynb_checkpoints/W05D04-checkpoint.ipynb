{
 "cells": [
  {
   "cell_type": "code",
   "execution_count": null,
   "id": "52e249a8",
   "metadata": {},
   "outputs": [],
   "source": [
    "Q1) list_of_fruits = [\"Orange\",\"apple\",\"mango\",\"litchi\",\"kiwi\"]\n",
    "WAP using filter to get the final list of fruits from the given list which contains all the fruits\n",
    "whose name contains the alphabet \"a\"\n",
    "5 mins\n",
    "19:46\n",
    "Q2) WAP to find out the 3rd power of all the elements of the given list using map function\n",
    "list_of_numbers = [2,8,4,6,9]\n",
    "5 mins\n",
    "19:51\n",
    "Q3) WAP to filter the list of alphabets where the filtered list should contain only those alphabets\n",
    "which was repeated atlest 2 times in the list\n",
    "list_of_aplphabet = ['a','a','b','c','d','d','e','e']\n",
    "filtered_list = ['a','d','e']\n",
    "10 mins 20:02"
   ]
  },
  {
   "cell_type": "code",
   "execution_count": 1,
   "id": "e0d6d187",
   "metadata": {},
   "outputs": [
    {
     "name": "stdout",
     "output_type": "stream",
     "text": [
      "['Orange', 'apple', 'mango']\n"
     ]
    }
   ],
   "source": [
    "# A1)\n",
    "list_of_fruits = [\"Orange\",\"apple\",\"mango\",\"litchi\",\"kiwi\"]\n",
    "list_of_final_fruits = list(filter(lambda fruit: \"a\" in fruit, list_of_fruits))\n",
    "print(list_of_final_fruits)"
   ]
  },
  {
   "cell_type": "code",
   "execution_count": 2,
   "id": "9566eade",
   "metadata": {},
   "outputs": [
    {
     "name": "stdout",
     "output_type": "stream",
     "text": [
      "[8, 512, 64, 216, 729]\n"
     ]
    }
   ],
   "source": [
    "# A2)\n",
    "list_of_numbers = [2,8,4,6,9]\n",
    "list_of_final_numbers = list(map(lambda x: x**3, list_of_numbers))\n",
    "print(list_of_final_numbers)"
   ]
  },
  {
   "cell_type": "code",
   "execution_count": 4,
   "id": "c9a938c6",
   "metadata": {},
   "outputs": [
    {
     "name": "stdout",
     "output_type": "stream",
     "text": [
      "['e', 'a', 'd']\n"
     ]
    }
   ],
   "source": [
    "list_of_aplphabet = ['a','a','b','c','d','d','e','e']\n",
    "def count_alpha(alpha):\n",
    "    if list_of_aplphabet.count(alpha) > 1:\n",
    "        return True\n",
    "filtered_list = list(set(filter(count_alpha, list_of_aplphabet)))\n",
    "print(filtered_list)"
   ]
  },
  {
   "cell_type": "code",
   "execution_count": null,
   "id": "ad694712",
   "metadata": {},
   "outputs": [],
   "source": [
    "list_of_aplphabet = ['a','a','b','c','d','d','e','e']\n",
    "def count_alpha(alpha):\n",
    "    if list_of_aplphabet.count(alpha) > 1:\n",
    "        return True\n",
    "filtered_list = list(set(filter(count_alpha, list_of_aplphabet)))\n",
    "print(filtered_list)"
   ]
  },
  {
   "cell_type": "markdown",
   "id": "0fecf7d5",
   "metadata": {},
   "source": [
    "# copy\n",
    "- deep copy\n",
    "- shallow copy"
   ]
  },
  {
   "cell_type": "code",
   "execution_count": 5,
   "id": "4ec67971",
   "metadata": {},
   "outputs": [
    {
     "name": "stdout",
     "output_type": "stream",
     "text": [
      "[1, 2, 4, 6, 'Jaiprakash']<<l\n",
      "[1, 2, 4, 6, 'Jaiprakash'] <<g\n"
     ]
    }
   ],
   "source": [
    "l = [1,2,4,6]\n",
    "g = l\n",
    "g.append(\"Jaiprakash\")\n",
    "print(l,end=\"<<l\\n\")\n",
    "print(g,\"<<g\")\n"
   ]
  },
  {
   "cell_type": "markdown",
   "id": "11f63c05",
   "metadata": {},
   "source": [
    "## `list comprehension`"
   ]
  },
  {
   "cell_type": "code",
   "execution_count": 11,
   "id": "ddc8b543",
   "metadata": {},
   "outputs": [],
   "source": [
    "s = \"NandaKishore\"\n",
    "l = []\n",
    "for i in s:\n",
    "    l.append(i)"
   ]
  },
  {
   "cell_type": "code",
   "execution_count": 12,
   "id": "489563bc",
   "metadata": {},
   "outputs": [
    {
     "name": "stdout",
     "output_type": "stream",
     "text": [
      "['N', 'a', 'n', 'd', 'a', 'K', 'i', 's', 'h', 'o', 'r', 'e']\n"
     ]
    }
   ],
   "source": [
    "print(l)"
   ]
  },
  {
   "cell_type": "code",
   "execution_count": 13,
   "id": "b6a6dac7",
   "metadata": {},
   "outputs": [
    {
     "name": "stdout",
     "output_type": "stream",
     "text": [
      "['N', 'a', 'n', 'd', 'a', 'K', 'i', 's', 'h', 'o', 'r', 'e']\n"
     ]
    }
   ],
   "source": [
    "g = [i for i in s]\n",
    "print(g)"
   ]
  },
  {
   "cell_type": "code",
   "execution_count": 14,
   "id": "4c3be418",
   "metadata": {},
   "outputs": [
    {
     "name": "stdout",
     "output_type": "stream",
     "text": [
      "[1, 2, 3, 4, 5, 6, 7, 8, 9, 10]\n"
     ]
    }
   ],
   "source": [
    "n_list = [i for i in range(1,11)]\n",
    "print(n_list)"
   ]
  },
  {
   "cell_type": "code",
   "execution_count": 15,
   "id": "fea9e54c",
   "metadata": {},
   "outputs": [
    {
     "name": "stdout",
     "output_type": "stream",
     "text": [
      "['a', 'b', 'c', 'd', 'e', 'f', 'g', 'h', 'i', 'j', 'k', 'l', 'm', 'n', 'o', 'p', 'q', 'r', 's', 't', 'u', 'v', 'w', 'x', 'y', 'z']\n"
     ]
    }
   ],
   "source": [
    "# make a list containing all the lower alphabets\n",
    "alpha_list = [chr(i) for i in range(ord('a'),ord('z')+1)]\n",
    "print(alpha_list)"
   ]
  },
  {
   "cell_type": "code",
   "execution_count": null,
   "id": "7372066d",
   "metadata": {},
   "outputs": [],
   "source": [
    "# Syntax 1\n",
    "list_var = [expression for item in iterable]\n",
    "# Syntax 2\n",
    "list_var2 = [expression for item in iterable if condition == True]"
   ]
  },
  {
   "cell_type": "code",
   "execution_count": 16,
   "id": "00739e56",
   "metadata": {},
   "outputs": [
    {
     "data": {
      "text/plain": [
       "97"
      ]
     },
     "execution_count": 16,
     "metadata": {},
     "output_type": "execute_result"
    }
   ],
   "source": [
    "ord(\"a\")"
   ]
  },
  {
   "cell_type": "code",
   "execution_count": 17,
   "id": "fdf11bbd",
   "metadata": {},
   "outputs": [
    {
     "data": {
      "text/plain": [
       "98"
      ]
     },
     "execution_count": 17,
     "metadata": {},
     "output_type": "execute_result"
    }
   ],
   "source": [
    "ord(\"b\")"
   ]
  },
  {
   "cell_type": "code",
   "execution_count": 18,
   "id": "dbc36b73",
   "metadata": {},
   "outputs": [
    {
     "name": "stdout",
     "output_type": "stream",
     "text": [
      "['b', 'd', 'f', 'h', 'j', 'l', 'n', 'p', 'r', 't', 'v', 'x', 'z']\n"
     ]
    }
   ],
   "source": [
    "list_of_even_ascii_alphabet = [chr(i) for i in range(ord('a'),ord('z')+1) if not(i%2)]\n",
    "print(list_of_even_ascii_alphabet)"
   ]
  },
  {
   "cell_type": "code",
   "execution_count": 20,
   "id": "5fb0e052",
   "metadata": {},
   "outputs": [
    {
     "name": "stdout",
     "output_type": "stream",
     "text": [
      "['b', 'd', 'f', 'h', 'j', 'l', 'n', 'p', 'r', 't', 'v', 'x', 'z']\n"
     ]
    }
   ],
   "source": [
    "l = []\n",
    "for i in range(ord('a'),ord('z')+1):\n",
    "    if i%2==0:\n",
    "        l.append(chr(i))\n",
    "print(l)"
   ]
  },
  {
   "cell_type": "code",
   "execution_count": 21,
   "id": "12006819",
   "metadata": {},
   "outputs": [
    {
     "name": "stdout",
     "output_type": "stream",
     "text": [
      "['b', 'd', 'f', 'h', 'j', 'l', 'n', 'p', 'r', 't', 'v', 'x', 'z']\n"
     ]
    }
   ],
   "source": [
    "l = [chr(i) for i in range(ord('a'),ord('z')+1) if i%2==0]\n",
    "# for i in range(ord('a'),ord('z')+1):\n",
    "#     if i%2==0:\n",
    "#         l.append(chr(i))\n",
    "print(l)"
   ]
  },
  {
   "cell_type": "code",
   "execution_count": null,
   "id": "29c1896b",
   "metadata": {},
   "outputs": [],
   "source": [
    "# syntax 3\n",
    "list_var3 = [expression1 if cond1 is True else expression2 for item in iterable]\n",
    "if cond1 is True:\n",
    "    #statement1\n",
    "else:\n",
    "    #stetement 2\n",
    "expression1 if cond1 is True else expression2"
   ]
  },
  {
   "cell_type": "code",
   "execution_count": 22,
   "id": "b02bcfb4",
   "metadata": {},
   "outputs": [
    {
     "name": "stdout",
     "output_type": "stream",
     "text": [
      "['Mango', 'apple', 'orange', 'strwaberry', 'litchi']\n"
     ]
    }
   ],
   "source": [
    "fruits = [\"mango\", \"apple\", \"orange\", \"strwaberry\", \"litchi\"]\n",
    "# output_list = [\"Mango\",\"apple\", \"orange\", \"strwaberry\", \"litchi\"]\n",
    "fruits_list = [fruit if fruit!= 'mango' else fruit.capitalize() for fruit in fruits]\n",
    "print(fruits_list)"
   ]
  },
  {
   "cell_type": "code",
   "execution_count": 26,
   "id": "1b1c8109",
   "metadata": {},
   "outputs": [
    {
     "name": "stdout",
     "output_type": "stream",
     "text": [
      "{'a': 97, 'b': 98, 'c': 99, 'd': 100, 'e': 101, 'f': 102, 'g': 103, 'h': 104, 'i': 105, 'j': 106, 'k': 107, 'l': 108, 'm': 109, 'n': 110, 'o': 111, 'p': 112, 'q': 113, 'r': 114, 's': 115, 't': 116, 'u': 117, 'v': 118, 'w': 119, 'x': 120, 'y': 121, 'z': 122}\n"
     ]
    }
   ],
   "source": [
    "# Dictionary Comprehension\n",
    "# {\"a\":97,\"b\":98,...}\n",
    "dict1 = {chr(i) : i for i in range(ord(\"a\"),ord('z')+1)}\n",
    "print(dict1)"
   ]
  },
  {
   "cell_type": "code",
   "execution_count": 24,
   "id": "e75a0c84",
   "metadata": {},
   "outputs": [
    {
     "name": "stdout",
     "output_type": "stream",
     "text": [
      "{'m', 'o', 'q', 'y', 's', 'u', 'k', 'g', 'e', 'i', 'w', 'a', 'c'}\n"
     ]
    }
   ],
   "source": [
    "# set Comprihension\n",
    "set_var1 = {chr(i) for i in range(ord(\"a\"),ord('z')+1) if i%2}\n",
    "print(set_var1)"
   ]
  },
  {
   "cell_type": "code",
   "execution_count": 28,
   "id": "eae636fa",
   "metadata": {},
   "outputs": [
    {
     "name": "stdout",
     "output_type": "stream",
     "text": [
      "{'a`False': 97, 'baTrue': 98, 'cbFalse': 99, 'dcTrue': 100, 'edFalse': 101, 'feTrue': 102, 'gfFalse': 103, 'hgTrue': 104, 'ihFalse': 105, 'jiTrue': 106, 'kjFalse': 107, 'lkTrue': 108, 'mlFalse': 109, 'nmTrue': 110, 'onFalse': 111, 'poTrue': 112, 'qpFalse': 113, 'rqTrue': 114, 'srFalse': 115, 'tsTrue': 116, 'utFalse': 117, 'vuTrue': 118, 'wvFalse': 119, 'xwTrue': 120, 'yxFalse': 121, 'zyTrue': 122}\n"
     ]
    }
   ],
   "source": [
    "dict1 = {chr(i) + chr(i-1) + str(i%2==0): i for i in range(ord(\"a\"),ord('z')+1)}\n",
    "print(dict1)"
   ]
  },
  {
   "cell_type": "code",
   "execution_count": 30,
   "id": "369113a0",
   "metadata": {},
   "outputs": [
    {
     "name": "stdout",
     "output_type": "stream",
     "text": [
      "{0: '0', 1: '1', 2: '2', 3: '3', 4: '4', 5: '5', 6: '6', 7: '7', 8: '8', 9: '9'}\n"
     ]
    }
   ],
   "source": [
    "dict3 = {i :str(i) for i in range(10)}\n",
    "print(dict3)"
   ]
  },
  {
   "cell_type": "code",
   "execution_count": 31,
   "id": "dbd805ce",
   "metadata": {},
   "outputs": [
    {
     "data": {
      "text/plain": [
       "8"
      ]
     },
     "execution_count": 31,
     "metadata": {},
     "output_type": "execute_result"
    }
   ],
   "source": [
    "l = [2,8,0,9,5]\n",
    "l.sort()\n",
    "l[-2]"
   ]
  },
  {
   "cell_type": "code",
   "execution_count": 32,
   "id": "33b4cb64",
   "metadata": {},
   "outputs": [
    {
     "name": "stdout",
     "output_type": "stream",
     "text": [
      "{'q', 'y', 'g', 'b', 'w', 'x', 'a', 'm', 'o', 'l', 'k', 'f', 'n', 'd', 'r', 'v', 'z', 'j', 'p', 's', 'u', 'e', 'h', 't', 'i', 'c'}\n"
     ]
    }
   ],
   "source": [
    "set_var1 = {chr(i) for i in range (ord(\"a\"),ord(\"z\")+1) if 1%2}\n",
    "print(set_var1)"
   ]
  },
  {
   "cell_type": "code",
   "execution_count": null,
   "id": "7adc2c8a",
   "metadata": {},
   "outputs": [],
   "source": []
  }
 ],
 "metadata": {
  "kernelspec": {
   "display_name": "Python 3 (ipykernel)",
   "language": "python",
   "name": "python3"
  },
  "language_info": {
   "codemirror_mode": {
    "name": "ipython",
    "version": 3
   },
   "file_extension": ".py",
   "mimetype": "text/x-python",
   "name": "python",
   "nbconvert_exporter": "python",
   "pygments_lexer": "ipython3",
   "version": "3.9.7"
  }
 },
 "nbformat": 4,
 "nbformat_minor": 5
}
