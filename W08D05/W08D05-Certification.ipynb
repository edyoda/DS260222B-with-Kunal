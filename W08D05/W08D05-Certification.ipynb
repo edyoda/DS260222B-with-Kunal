{
 "cells": [
  {
   "cell_type": "code",
   "execution_count": 5,
   "id": "45eb682a",
   "metadata": {},
   "outputs": [
    {
     "name": "stdout",
     "output_type": "stream",
     "text": [
      "success\n"
     ]
    }
   ],
   "source": [
    "import json\n",
    "import datetime\n",
    "\n",
    "def register_user(user_json, name, password, age, phn):\n",
    "    user = {\n",
    "        \"id\": 1,\n",
    "        \"name\": name,\n",
    "        \"password\": password,\n",
    "        \"age\": age,\n",
    "        \"phone number\": phn,\n",
    "        \"order history\": []\n",
    "    }\n",
    "    try:\n",
    "        file = open(user_json, \"r+\")\n",
    "        content = json.load(file)\n",
    "        for i in range(len(content)):\n",
    "            if content[i][\"phone number\"] == phn:\n",
    "                file.close()\n",
    "                return \"User already Exists\"\n",
    "        else:\n",
    "            user[\"id\"] = len(content) + 1\n",
    "            content.append(user)\n",
    "    except json.JSONDecodeError:\n",
    "        content = []\n",
    "        content.append(user)\n",
    "    file.seek(0)\n",
    "    file.truncate()\n",
    "    json.dump(content, file, indent=4)\n",
    "    file.close()\n",
    "    return \"success\"\n",
    "\n",
    "print(register_user(\"users.json\",\"saikumar\",\"000000\",21,82212121))"
   ]
  },
  {
   "cell_type": "code",
   "execution_count": null,
   "id": "d6c96901",
   "metadata": {},
   "outputs": [],
   "source": []
  }
 ],
 "metadata": {
  "kernelspec": {
   "display_name": "Python 3 (ipykernel)",
   "language": "python",
   "name": "python3"
  },
  "language_info": {
   "codemirror_mode": {
    "name": "ipython",
    "version": 3
   },
   "file_extension": ".py",
   "mimetype": "text/x-python",
   "name": "python",
   "nbconvert_exporter": "python",
   "pygments_lexer": "ipython3",
   "version": "3.9.7"
  }
 },
 "nbformat": 4,
 "nbformat_minor": 5
}
