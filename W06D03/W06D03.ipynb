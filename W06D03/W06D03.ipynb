{
 "cells": [
  {
   "cell_type": "code",
   "execution_count": 1,
   "id": "88ee972d",
   "metadata": {},
   "outputs": [],
   "source": [
    "class fan:\n",
    "    def __init__(self):\n",
    "        self.brand=\"\"\n",
    "        self.color=\"\"\n",
    "        self.speed=0\n",
    "    def speedup(self,speed):\n",
    "        self.speed+=speed\n",
    "    def speeddown(self,speed):\n",
    "        if self.speed>0:\n",
    "            self.speed-=speed\n",
    "fan_obj=fan()"
   ]
  },
  {
   "cell_type": "code",
   "execution_count": 2,
   "id": "ca8448b1",
   "metadata": {},
   "outputs": [
    {
     "data": {
      "text/plain": [
       "''"
      ]
     },
     "execution_count": 2,
     "metadata": {},
     "output_type": "execute_result"
    }
   ],
   "source": [
    "fan_obj.brand"
   ]
  },
  {
   "cell_type": "code",
   "execution_count": 3,
   "id": "6c6070a2",
   "metadata": {},
   "outputs": [],
   "source": [
    "fan_obj.brand = \"USHA\""
   ]
  },
  {
   "cell_type": "code",
   "execution_count": 4,
   "id": "e69f5a04",
   "metadata": {},
   "outputs": [],
   "source": [
    "fan_obj.color = \"Brown\""
   ]
  },
  {
   "cell_type": "code",
   "execution_count": 5,
   "id": "c7ee6bd3",
   "metadata": {},
   "outputs": [
    {
     "data": {
      "text/plain": [
       "0"
      ]
     },
     "execution_count": 5,
     "metadata": {},
     "output_type": "execute_result"
    }
   ],
   "source": [
    "fan_obj.speed"
   ]
  },
  {
   "cell_type": "code",
   "execution_count": 6,
   "id": "1052982f",
   "metadata": {},
   "outputs": [],
   "source": [
    "fan_obj.speedup(2)"
   ]
  },
  {
   "cell_type": "code",
   "execution_count": 7,
   "id": "017aba3a",
   "metadata": {},
   "outputs": [
    {
     "data": {
      "text/plain": [
       "2"
      ]
     },
     "execution_count": 7,
     "metadata": {},
     "output_type": "execute_result"
    }
   ],
   "source": [
    "fan_obj.speed"
   ]
  },
  {
   "cell_type": "code",
   "execution_count": 8,
   "id": "a75ed70e",
   "metadata": {},
   "outputs": [],
   "source": [
    "fan_obj.speeddown(2)"
   ]
  },
  {
   "cell_type": "code",
   "execution_count": 9,
   "id": "8267431e",
   "metadata": {},
   "outputs": [
    {
     "data": {
      "text/plain": [
       "0"
      ]
     },
     "execution_count": 9,
     "metadata": {},
     "output_type": "execute_result"
    }
   ],
   "source": [
    "fan_obj.speed"
   ]
  },
  {
   "cell_type": "code",
   "execution_count": 10,
   "id": "c873a348",
   "metadata": {},
   "outputs": [],
   "source": [
    "fan_obj.speeddown(2)"
   ]
  },
  {
   "cell_type": "code",
   "execution_count": 11,
   "id": "6929a22b",
   "metadata": {},
   "outputs": [
    {
     "data": {
      "text/plain": [
       "0"
      ]
     },
     "execution_count": 11,
     "metadata": {},
     "output_type": "execute_result"
    }
   ],
   "source": [
    "fan_obj.speed"
   ]
  },
  {
   "cell_type": "code",
   "execution_count": 12,
   "id": "27401d0d",
   "metadata": {},
   "outputs": [],
   "source": [
    "class Game:\n",
    "    def __init__(self):\n",
    "        self.genre          = \"video_game\"\n",
    "        self.supports       = \"andriod_windows\"\n",
    "        self.model          = \"bgmi\"\n",
    "        self.working_method = \"internet\"\n",
    "        self.source         = \"playstore\"\n",
    "        self.playing_via    = \"avatar\" \n",
    "game_obj = Game()\n"
   ]
  },
  {
   "cell_type": "code",
   "execution_count": 13,
   "id": "2a1a4a15",
   "metadata": {},
   "outputs": [
    {
     "data": {
      "text/plain": [
       "'video_game'"
      ]
     },
     "execution_count": 13,
     "metadata": {},
     "output_type": "execute_result"
    }
   ],
   "source": [
    "game_obj.genre"
   ]
  },
  {
   "cell_type": "code",
   "execution_count": 14,
   "id": "93c6687a",
   "metadata": {},
   "outputs": [
    {
     "name": "stdout",
     "output_type": "stream",
     "text": [
      "andriod_windows\n"
     ]
    }
   ],
   "source": [
    "print(game_obj.supports)"
   ]
  },
  {
   "cell_type": "code",
   "execution_count": 15,
   "id": "81bd4fd6",
   "metadata": {},
   "outputs": [],
   "source": [
    "game_obj2 = Game()"
   ]
  },
  {
   "cell_type": "code",
   "execution_count": 17,
   "id": "deb2c06e",
   "metadata": {},
   "outputs": [],
   "source": [
    "game_obj2.supports = \"MAC\""
   ]
  },
  {
   "cell_type": "code",
   "execution_count": 18,
   "id": "34cbc84d",
   "metadata": {},
   "outputs": [
    {
     "name": "stdout",
     "output_type": "stream",
     "text": [
      "MAC\n"
     ]
    }
   ],
   "source": [
    "print(game_obj2.supports)"
   ]
  },
  {
   "cell_type": "code",
   "execution_count": 20,
   "id": "2b72824b",
   "metadata": {},
   "outputs": [
    {
     "name": "stdout",
     "output_type": "stream",
     "text": [
      "Blade_span of ceiling fan:  29 inch\n",
      "Power rating:  700 watt\n",
      "Voltage rating:  230 Volt\n",
      "Rgulator stud at: 4\n",
      "Speed in RPM:  360\n",
      "------------------\n",
      "Blade_span of ceiling fan:  48 inch\n",
      "Power rating:  500 watt\n",
      "Voltage rating:  230 Volt\n",
      "Rgulator stud at: 1\n",
      "Speed in RPM:  360\n"
     ]
    }
   ],
   "source": [
    "class fan:\n",
    "    voltage = \"230 Volt\"\n",
    "    def __init__(self, blade_span, power, regulator_stud=0, speed = 0):\n",
    "        self.blade_span = blade_span\n",
    "        self.power = power\n",
    "        self.regulator_stud = regulator_stud\n",
    "        self.speed = 350\n",
    "    def display(self):\n",
    "        print(\"Blade_span of ceiling fan: \",self.blade_span)\n",
    "        print(\"Power rating: \",self.power)\n",
    "        print(\"Voltage rating: \",fan.voltage)\n",
    "        self.regulator_stud += 1\n",
    "        print(\"Rgulator stud at:\",self.regulator_stud)\n",
    "        self.speed += 10\n",
    "        print(\"Speed in RPM: \",self.speed)\n",
    "fan1 = fan(\"29 inch\", \"700 watt\", 3)\n",
    "fan1.display()\n",
    "print(\"------------------\")\n",
    "fan2 = fan(\"48 inch\", \"500 watt\")\n",
    "fan2.display()"
   ]
  },
  {
   "cell_type": "code",
   "execution_count": 21,
   "id": "c796b57b",
   "metadata": {},
   "outputs": [
    {
     "name": "stdout",
     "output_type": "stream",
     "text": [
      "{'playing_game_hr': 60, 'consmuing_data_hr': 50}\n"
     ]
    }
   ],
   "source": [
    "class Game:\n",
    "        def __init__(self, playing_game_hr, consmuing_data_hr):\n",
    "            self.playing_game_hr    =playing_game_hr\n",
    "            self.consmuing_data_hr  =consmuing_data_hr\n",
    "        def playing(self):\n",
    "            self.playing_game_hr   +=60\n",
    "            self.consmuing_data_hr -=50\n",
    "game1 = Game(0,100)\n",
    "game1.playing()\n",
    "print(game1.__dict__)\n",
    "\n"
   ]
  },
  {
   "cell_type": "code",
   "execution_count": null,
   "id": "5d84d104",
   "metadata": {},
   "outputs": [],
   "source": [
    "FACEBOOK:\n",
    "    name, age, phn, email, password <-- object attributes\n",
    "    add_name, add_age, add_phn, add_email, set_password  <---object methods\n",
    "15 mins\n",
    "20:23"
   ]
  },
  {
   "cell_type": "code",
   "execution_count": 22,
   "id": "af181b36",
   "metadata": {},
   "outputs": [],
   "source": [
    "class Facebook:\n",
    "    def __init__(self):\n",
    "        self.name = \"\"\n",
    "        self.age = 0\n",
    "        self.phn = \"0000000000\"\n",
    "        self.email = \"xyz@def.com\"\n",
    "        self.password = \"*******\"\n",
    "    # Setter Methods\n",
    "    def set_name(self, name):\n",
    "        self.name = name\n",
    "    def set_age(self, age):\n",
    "        self.age = age\n",
    "    def set_phn(self, phn):\n",
    "        if len(phn) >= 10:\n",
    "            self.phn = phn\n",
    "        else:\n",
    "            print(\"Invalid Phn No.\")\n",
    "    def set_email(self, email):\n",
    "        self.email = email\n",
    "    def set_password(self, password):\n",
    "        self.password = password"
   ]
  },
  {
   "cell_type": "code",
   "execution_count": 24,
   "id": "9840d8e7",
   "metadata": {},
   "outputs": [],
   "source": [
    "user1 = Facebook()\n",
    "user1.set_name(\"Sharon\")\n",
    "user1.set_age(22)\n",
    "user1.set_phn(\"9876543210\")\n",
    "user1.set_email(\"sharonjeyaseeli27@gmail.com\")\n",
    "user1.set_password(\"abc@sharon123\")"
   ]
  },
  {
   "cell_type": "code",
   "execution_count": 25,
   "id": "d65eaff0",
   "metadata": {},
   "outputs": [
    {
     "data": {
      "text/plain": [
       "22"
      ]
     },
     "execution_count": 25,
     "metadata": {},
     "output_type": "execute_result"
    }
   ],
   "source": [
    "user1.age"
   ]
  },
  {
   "cell_type": "code",
   "execution_count": 26,
   "id": "452445be",
   "metadata": {},
   "outputs": [
    {
     "data": {
      "text/plain": [
       "'abc@sharon123'"
      ]
     },
     "execution_count": 26,
     "metadata": {},
     "output_type": "execute_result"
    }
   ],
   "source": [
    "user1.password"
   ]
  },
  {
   "cell_type": "code",
   "execution_count": 27,
   "id": "257fb7d0",
   "metadata": {},
   "outputs": [],
   "source": [
    "class Facebook:\n",
    "    def __init__(self):\n",
    "        self.name = \"\"\n",
    "        self.age = 0\n",
    "        self.phn = \"0000000000\"\n",
    "        self.email = \"xyz@def.com\"\n",
    "        self.password = \"*******\"\n",
    "    # Setter Methods\n",
    "    \n",
    "    def set_name(self, name):\n",
    "        self.name = name\n",
    "        \n",
    "    def set_age(self, age):\n",
    "        self.age = age\n",
    "    def set_phn(self, phn):\n",
    "        if len(phn) >= 10:\n",
    "            self.phn = phn\n",
    "        else:\n",
    "            print(\"Invalid Phn No.\")\n",
    "    def set_email(self, email):\n",
    "        self.email = email\n",
    "    def set_password(self, password):\n",
    "        self.password = password\n",
    "    # Getter Method\n",
    "    \n",
    "    def get_name(self):\n",
    "        return self.name\n",
    "    \n",
    "    def get_age(self):\n",
    "        return self.age\n",
    "    def get_phn(self):\n",
    "        return self.phn\n",
    "    def get_email(self):\n",
    "        return self.email\n",
    "    def get_password_hint(self):\n",
    "        name = input(\"enter your name to get password hint: \")\n",
    "        if name.lower() == self.name.lower():\n",
    "            return self.password[1]+\"***\"+self.password[-1]\n",
    "        else:\n",
    "            return -1\n"
   ]
  },
  {
   "cell_type": "code",
   "execution_count": 28,
   "id": "fac1404a",
   "metadata": {},
   "outputs": [],
   "source": [
    "user1 = Facebook()\n",
    "user1.set_name(\"Sharon\")\n",
    "user1.set_age(22)\n",
    "user1.set_phn(\"9876543210\")\n",
    "user1.set_email(\"sharonjeyaseeli27@gmail.com\")\n",
    "user1.set_password(\"abc@sharon123\")"
   ]
  },
  {
   "cell_type": "code",
   "execution_count": 29,
   "id": "912f3b1e",
   "metadata": {},
   "outputs": [
    {
     "name": "stdout",
     "output_type": "stream",
     "text": [
      "enter your name to get password hint: sharon\n"
     ]
    },
    {
     "data": {
      "text/plain": [
       "'b***3'"
      ]
     },
     "execution_count": 29,
     "metadata": {},
     "output_type": "execute_result"
    }
   ],
   "source": [
    "user1.get_password_hint()"
   ]
  },
  {
   "cell_type": "code",
   "execution_count": 31,
   "id": "18c7c037",
   "metadata": {},
   "outputs": [
    {
     "data": {
      "text/plain": [
       "'sharonjeyaseeli27@gmail.com'"
      ]
     },
     "execution_count": 31,
     "metadata": {},
     "output_type": "execute_result"
    }
   ],
   "source": [
    "user1.get_email()"
   ]
  },
  {
   "cell_type": "code",
   "execution_count": null,
   "id": "b8c9be24",
   "metadata": {},
   "outputs": [],
   "source": [
    "# self:\n",
    "It represents the object or instance of the class. By using \"self\" we can access the attributes\n",
    "and the methods of the class\n",
    "It binds the attribute with the given arguments\n",
    "It binds the attribute with our object mehtods"
   ]
  },
  {
   "cell_type": "code",
   "execution_count": 41,
   "id": "dd18e783",
   "metadata": {},
   "outputs": [],
   "source": [
    "class Dummy:\n",
    "    def __init__(self):\n",
    "        self.a = \"hey\"\n",
    "        print(self.get_a())\n",
    "    def set_a(self, a):\n",
    "        self.a = a\n",
    "    def get_a(self):\n",
    "        return self.a"
   ]
  },
  {
   "cell_type": "code",
   "execution_count": 42,
   "id": "5d13e179",
   "metadata": {},
   "outputs": [
    {
     "name": "stdout",
     "output_type": "stream",
     "text": [
      "hey\n"
     ]
    }
   ],
   "source": [
    "d = Dummy()"
   ]
  },
  {
   "cell_type": "code",
   "execution_count": 43,
   "id": "bad3c6e5",
   "metadata": {},
   "outputs": [
    {
     "name": "stdout",
     "output_type": "stream",
     "text": [
      "2775877067200 I am from init\n",
      "2775877067200 I am from outide the class\n"
     ]
    }
   ],
   "source": [
    "class A():\n",
    "    def __init__(self):\n",
    "        print(id(self),\"I am from init\")\n",
    "a = A()\n",
    "print(id(a),\"I am from outide the class\")"
   ]
  },
  {
   "cell_type": "code",
   "execution_count": null,
   "id": "51129bbe",
   "metadata": {},
   "outputs": [],
   "source": [
    "self is the reference to the object itself"
   ]
  },
  {
   "cell_type": "code",
   "execution_count": 47,
   "id": "19856a54",
   "metadata": {},
   "outputs": [],
   "source": [
    "class FaceBook():\n",
    "    def __init__(self):\n",
    "        self.name = \"\"\n",
    "        self.age = 0\n",
    "        self.phone = \"0000000000\"\n",
    "        self.email = \"xyz@def.com\"\n",
    "        self.password = \"******\"\n",
    "    def addName(self,name):\n",
    "        self.add_name = name\n",
    "    def addAge (self,age):\n",
    "        self.add_age = age\n",
    "    def addPhone (self,phone):\n",
    "        if len(phone) >= 10:\n",
    "            self.add_phone = phone\n",
    "        else :\n",
    "            print(\"invalid Phone\")\n",
    "    def addEmail(self,email):\n",
    "        self.add_email = email\n",
    "    def addPassword (self,password):\n",
    "        self.set_password = password\n",
    "\n",
    "    #getter method\n",
    "\n",
    "    def get_name(self):\n",
    "        return self.name\n",
    "    def get_age(self):\n",
    "        return self.age\n",
    "    def get_phone(self):\n",
    "        return self.phone\n",
    "    def get_email(self):\n",
    "        return self.email\n",
    "    def get_password(self):\n",
    "        return self.password\n",
    "create_user = FaceBook()\n",
    "\n",
    "\n",
    "create_user.addName = \"Samar\"\n",
    "create_user.addAge = 28\n",
    "create_user.addPhone = \"123456780\"\n",
    "create_user.addEmail = \"bobofett@\"\n"
   ]
  },
  {
   "cell_type": "code",
   "execution_count": 48,
   "id": "05de2a6e",
   "metadata": {},
   "outputs": [
    {
     "data": {
      "text/plain": [
       "0"
      ]
     },
     "execution_count": 48,
     "metadata": {},
     "output_type": "execute_result"
    }
   ],
   "source": [
    "create_user.get_age()"
   ]
  },
  {
   "cell_type": "code",
   "execution_count": 49,
   "id": "d7308e01",
   "metadata": {},
   "outputs": [],
   "source": [
    "class A:\n",
    "    def __init__(self):\n",
    "        self.a = 3\n",
    "    def func(param):\n",
    "        self.a = param\n",
    "        "
   ]
  },
  {
   "cell_type": "code",
   "execution_count": 50,
   "id": "f23e6c3d",
   "metadata": {},
   "outputs": [],
   "source": [
    "a = A()"
   ]
  },
  {
   "cell_type": "code",
   "execution_count": 51,
   "id": "f10882b9",
   "metadata": {},
   "outputs": [
    {
     "ename": "TypeError",
     "evalue": "func() takes 1 positional argument but 2 were given",
     "output_type": "error",
     "traceback": [
      "\u001b[1;31m---------------------------------------------------------------------------\u001b[0m",
      "\u001b[1;31mTypeError\u001b[0m                                 Traceback (most recent call last)",
      "\u001b[1;32mC:\\Users\\KUNALC~1\\AppData\\Local\\Temp/ipykernel_16836/3425816394.py\u001b[0m in \u001b[0;36m<module>\u001b[1;34m\u001b[0m\n\u001b[1;32m----> 1\u001b[1;33m \u001b[0ma\u001b[0m\u001b[1;33m.\u001b[0m\u001b[0mfunc\u001b[0m\u001b[1;33m(\u001b[0m\u001b[1;34m\"Arman\"\u001b[0m\u001b[1;33m)\u001b[0m\u001b[1;33m\u001b[0m\u001b[1;33m\u001b[0m\u001b[0m\n\u001b[0m",
      "\u001b[1;31mTypeError\u001b[0m: func() takes 1 positional argument but 2 were given"
     ]
    }
   ],
   "source": [
    "a.func(\"Arman\")"
   ]
  },
  {
   "cell_type": "code",
   "execution_count": null,
   "id": "88a4cce9",
   "metadata": {},
   "outputs": [],
   "source": [
    "You can use anything inplace of self in you object method"
   ]
  },
  {
   "cell_type": "code",
   "execution_count": 52,
   "id": "75a422fd",
   "metadata": {},
   "outputs": [],
   "source": [
    "class A:\n",
    "    def __init__(arman):\n",
    "        arman.a = 3"
   ]
  },
  {
   "cell_type": "code",
   "execution_count": 53,
   "id": "f5561904",
   "metadata": {},
   "outputs": [
    {
     "data": {
      "text/plain": [
       "3"
      ]
     },
     "execution_count": 53,
     "metadata": {},
     "output_type": "execute_result"
    }
   ],
   "source": [
    "ob = A()\n",
    "ob.a"
   ]
  },
  {
   "cell_type": "code",
   "execution_count": null,
   "id": "812924a8",
   "metadata": {},
   "outputs": [],
   "source": [
    "The first parament of the object method will be used by python to pass the object refernce.\n",
    "self is used as it is a convention"
   ]
  },
  {
   "cell_type": "code",
   "execution_count": null,
   "id": "4d2d0c8d",
   "metadata": {},
   "outputs": [],
   "source": [
    "__init__ is the contructor wchich is called at the time when the object is defined\n",
    "if you don't have init in your class It won't be a problem"
   ]
  },
  {
   "cell_type": "code",
   "execution_count": 54,
   "id": "7935bb57",
   "metadata": {},
   "outputs": [],
   "source": [
    "class B:\n",
    "    def funct1():\n",
    "        self.a = 23\n",
    "b = B()"
   ]
  },
  {
   "cell_type": "code",
   "execution_count": 55,
   "id": "4321ab91",
   "metadata": {},
   "outputs": [
    {
     "ename": "TypeError",
     "evalue": "funct1() takes 0 positional arguments but 1 was given",
     "output_type": "error",
     "traceback": [
      "\u001b[1;31m---------------------------------------------------------------------------\u001b[0m",
      "\u001b[1;31mTypeError\u001b[0m                                 Traceback (most recent call last)",
      "\u001b[1;32mC:\\Users\\KUNALC~1\\AppData\\Local\\Temp/ipykernel_16836/1613505873.py\u001b[0m in \u001b[0;36m<module>\u001b[1;34m\u001b[0m\n\u001b[1;32m----> 1\u001b[1;33m \u001b[0mb\u001b[0m\u001b[1;33m.\u001b[0m\u001b[0mfunct1\u001b[0m\u001b[1;33m(\u001b[0m\u001b[1;33m)\u001b[0m\u001b[1;33m\u001b[0m\u001b[1;33m\u001b[0m\u001b[0m\n\u001b[0m",
      "\u001b[1;31mTypeError\u001b[0m: funct1() takes 0 positional arguments but 1 was given"
     ]
    }
   ],
   "source": [
    "b.funct1()"
   ]
  },
  {
   "cell_type": "code",
   "execution_count": 56,
   "id": "3f1c4107",
   "metadata": {},
   "outputs": [],
   "source": [
    "class B:\n",
    "    def funct1(self):\n",
    "        self.a = 23\n",
    "b = B()"
   ]
  },
  {
   "cell_type": "code",
   "execution_count": 57,
   "id": "491e9605",
   "metadata": {},
   "outputs": [],
   "source": [
    "b.funct1()"
   ]
  },
  {
   "cell_type": "code",
   "execution_count": 58,
   "id": "f1a1d684",
   "metadata": {},
   "outputs": [
    {
     "ename": "TypeError",
     "evalue": "ref() takes 0 positional arguments but 1 was given",
     "output_type": "error",
     "traceback": [
      "\u001b[1;31m---------------------------------------------------------------------------\u001b[0m",
      "\u001b[1;31mTypeError\u001b[0m                                 Traceback (most recent call last)",
      "\u001b[1;32mC:\\Users\\KUNALC~1\\AppData\\Local\\Temp/ipykernel_16836/145447654.py\u001b[0m in \u001b[0;36m<module>\u001b[1;34m\u001b[0m\n\u001b[0;32m      6\u001b[0m \u001b[0ma\u001b[0m\u001b[1;33m=\u001b[0m\u001b[0mwor\u001b[0m\u001b[1;33m(\u001b[0m\u001b[1;33m)\u001b[0m\u001b[1;33m\u001b[0m\u001b[1;33m\u001b[0m\u001b[0m\n\u001b[0;32m      7\u001b[0m \u001b[0ma\u001b[0m\u001b[1;33m.\u001b[0m\u001b[0mfun\u001b[0m\u001b[1;33m(\u001b[0m\u001b[1;36m23\u001b[0m\u001b[1;33m)\u001b[0m\u001b[1;33m\u001b[0m\u001b[1;33m\u001b[0m\u001b[0m\n\u001b[1;32m----> 8\u001b[1;33m \u001b[0mprint\u001b[0m\u001b[1;33m(\u001b[0m\u001b[0ma\u001b[0m\u001b[1;33m.\u001b[0m\u001b[0mref\u001b[0m\u001b[1;33m(\u001b[0m\u001b[1;33m)\u001b[0m\u001b[1;33m)\u001b[0m\u001b[1;33m\u001b[0m\u001b[1;33m\u001b[0m\u001b[0m\n\u001b[0m",
      "\u001b[1;31mTypeError\u001b[0m: ref() takes 0 positional arguments but 1 was given"
     ]
    }
   ],
   "source": [
    "class wor:\n",
    "    def fun(self,a):\n",
    "        self.a=a\n",
    "    def ref():\n",
    "        return self.a\n",
    "a=wor()\n",
    "a.fun(23)\n",
    "print(a.ref())\n"
   ]
  },
  {
   "cell_type": "code",
   "execution_count": 61,
   "id": "aac6ed21",
   "metadata": {},
   "outputs": [
    {
     "name": "stdout",
     "output_type": "stream",
     "text": [
      "23\n"
     ]
    }
   ],
   "source": [
    "class wor:\n",
    "    def fun(self,a):\n",
    "        self.a=a\n",
    "    def ref(self):\n",
    "        return self.a\n",
    "a=wor()\n",
    "a.fun(23)\n",
    "print(a.ref())"
   ]
  },
  {
   "cell_type": "code",
   "execution_count": null,
   "id": "14fe98cc",
   "metadata": {},
   "outputs": [],
   "source": [
    "It is not mandatory to define __init__ in the class"
   ]
  },
  {
   "cell_type": "code",
   "execution_count": 63,
   "id": "96741137",
   "metadata": {},
   "outputs": [],
   "source": [
    "class Human:\n",
    "    \n",
    "    def __init__(self, name):\n",
    "        self.name_of_human = name"
   ]
  },
  {
   "cell_type": "code",
   "execution_count": 64,
   "id": "9ff2e2f0",
   "metadata": {},
   "outputs": [],
   "source": [
    "h1 = Human(\"Priya\")"
   ]
  },
  {
   "cell_type": "code",
   "execution_count": 65,
   "id": "1849aac2",
   "metadata": {},
   "outputs": [],
   "source": [
    "h2 = Human(\"Arman\")"
   ]
  },
  {
   "cell_type": "code",
   "execution_count": 66,
   "id": "fe217426",
   "metadata": {},
   "outputs": [
    {
     "data": {
      "text/plain": [
       "'Priya'"
      ]
     },
     "execution_count": 66,
     "metadata": {},
     "output_type": "execute_result"
    }
   ],
   "source": [
    "h1.name_of_human"
   ]
  },
  {
   "cell_type": "code",
   "execution_count": 67,
   "id": "9fdd2578",
   "metadata": {},
   "outputs": [
    {
     "data": {
      "text/plain": [
       "'Arman'"
      ]
     },
     "execution_count": 67,
     "metadata": {},
     "output_type": "execute_result"
    }
   ],
   "source": [
    "h2.name_of_human"
   ]
  },
  {
   "cell_type": "code",
   "execution_count": 68,
   "id": "0e80933a",
   "metadata": {},
   "outputs": [],
   "source": [
    "class Human:\n",
    "    Species = \"Homosapiens\"\n",
    "    def __init__(self, name):\n",
    "        self.name_of_human = name"
   ]
  },
  {
   "cell_type": "code",
   "execution_count": 69,
   "id": "7fabff2a",
   "metadata": {},
   "outputs": [],
   "source": [
    "h1 = Human(\"Priya\")\n",
    "h2 = Human(\"Arman\")"
   ]
  },
  {
   "cell_type": "code",
   "execution_count": 70,
   "id": "f59fde06",
   "metadata": {},
   "outputs": [
    {
     "data": {
      "text/plain": [
       "'Homosapiens'"
      ]
     },
     "execution_count": 70,
     "metadata": {},
     "output_type": "execute_result"
    }
   ],
   "source": [
    "h1.Species"
   ]
  },
  {
   "cell_type": "code",
   "execution_count": 71,
   "id": "d0676266",
   "metadata": {},
   "outputs": [
    {
     "data": {
      "text/plain": [
       "'Homosapiens'"
      ]
     },
     "execution_count": 71,
     "metadata": {},
     "output_type": "execute_result"
    }
   ],
   "source": [
    "h2.Species"
   ]
  },
  {
   "cell_type": "code",
   "execution_count": null,
   "id": "76ebbf48",
   "metadata": {},
   "outputs": [],
   "source": []
  }
 ],
 "metadata": {
  "kernelspec": {
   "display_name": "Python 3 (ipykernel)",
   "language": "python",
   "name": "python3"
  },
  "language_info": {
   "codemirror_mode": {
    "name": "ipython",
    "version": 3
   },
   "file_extension": ".py",
   "mimetype": "text/x-python",
   "name": "python",
   "nbconvert_exporter": "python",
   "pygments_lexer": "ipython3",
   "version": "3.9.7"
  }
 },
 "nbformat": 4,
 "nbformat_minor": 5
}
