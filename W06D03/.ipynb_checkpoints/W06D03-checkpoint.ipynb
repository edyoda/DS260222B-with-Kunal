{
 "cells": [
  {
   "cell_type": "code",
   "execution_count": 1,
   "id": "f99e46a5",
   "metadata": {},
   "outputs": [],
   "source": [
    "class fan:\n",
    "    def __init__(self):\n",
    "        self.brand=\"\"\n",
    "        self.color=\"\"\n",
    "        self.speed=0\n",
    "    def speedup(self,speed):\n",
    "        self.speed+=speed\n",
    "    def speeddown(self,speed):\n",
    "        if self.speed>0:\n",
    "            self.speed-=speed\n",
    "fan_obj=fan()"
   ]
  },
  {
   "cell_type": "code",
   "execution_count": 2,
   "id": "cd055722",
   "metadata": {},
   "outputs": [
    {
     "data": {
      "text/plain": [
       "''"
      ]
     },
     "execution_count": 2,
     "metadata": {},
     "output_type": "execute_result"
    }
   ],
   "source": [
    "fan_obj.brand"
   ]
  },
  {
   "cell_type": "code",
   "execution_count": 3,
   "id": "0dcdb7d1",
   "metadata": {},
   "outputs": [],
   "source": [
    "fan_obj.brand = \"USHA\""
   ]
  },
  {
   "cell_type": "code",
   "execution_count": 4,
   "id": "63a7eeb0",
   "metadata": {},
   "outputs": [],
   "source": [
    "fan_obj.color = \"Brown\""
   ]
  },
  {
   "cell_type": "code",
   "execution_count": 5,
   "id": "b5c34231",
   "metadata": {},
   "outputs": [
    {
     "data": {
      "text/plain": [
       "0"
      ]
     },
     "execution_count": 5,
     "metadata": {},
     "output_type": "execute_result"
    }
   ],
   "source": [
    "fan_obj.speed"
   ]
  },
  {
   "cell_type": "code",
   "execution_count": 6,
   "id": "fc27e154",
   "metadata": {},
   "outputs": [],
   "source": [
    "fan_obj.speedup(2)"
   ]
  },
  {
   "cell_type": "code",
   "execution_count": 7,
   "id": "6b218a60",
   "metadata": {},
   "outputs": [
    {
     "data": {
      "text/plain": [
       "2"
      ]
     },
     "execution_count": 7,
     "metadata": {},
     "output_type": "execute_result"
    }
   ],
   "source": [
    "fan_obj.speed"
   ]
  },
  {
   "cell_type": "code",
   "execution_count": 8,
   "id": "cc93b960",
   "metadata": {},
   "outputs": [],
   "source": [
    "fan_obj.speeddown(2)"
   ]
  },
  {
   "cell_type": "code",
   "execution_count": 9,
   "id": "b0f0a9dd",
   "metadata": {},
   "outputs": [
    {
     "data": {
      "text/plain": [
       "0"
      ]
     },
     "execution_count": 9,
     "metadata": {},
     "output_type": "execute_result"
    }
   ],
   "source": [
    "fan_obj.speed"
   ]
  },
  {
   "cell_type": "code",
   "execution_count": 10,
   "id": "fc164db6",
   "metadata": {},
   "outputs": [],
   "source": [
    "fan_obj.speeddown(2)"
   ]
  },
  {
   "cell_type": "code",
   "execution_count": 11,
   "id": "a766ea4b",
   "metadata": {},
   "outputs": [
    {
     "data": {
      "text/plain": [
       "0"
      ]
     },
     "execution_count": 11,
     "metadata": {},
     "output_type": "execute_result"
    }
   ],
   "source": [
    "fan_obj.speed"
   ]
  },
  {
   "cell_type": "code",
   "execution_count": 12,
   "id": "036efdd1",
   "metadata": {},
   "outputs": [],
   "source": [
    "class Game:\n",
    "    def __init__(self):\n",
    "        self.genre          = \"video_game\"\n",
    "        self.supports       = \"andriod_windows\"\n",
    "        self.model          = \"bgmi\"\n",
    "        self.working_method = \"internet\"\n",
    "        self.source         = \"playstore\"\n",
    "        self.playing_via    = \"avatar\" \n",
    "game_obj = Game()\n"
   ]
  },
  {
   "cell_type": "code",
   "execution_count": 13,
   "id": "fb92dde4",
   "metadata": {},
   "outputs": [
    {
     "data": {
      "text/plain": [
       "'video_game'"
      ]
     },
     "execution_count": 13,
     "metadata": {},
     "output_type": "execute_result"
    }
   ],
   "source": [
    "game_obj.genre"
   ]
  },
  {
   "cell_type": "code",
   "execution_count": 14,
   "id": "0ba99154",
   "metadata": {},
   "outputs": [
    {
     "name": "stdout",
     "output_type": "stream",
     "text": [
      "andriod_windows\n"
     ]
    }
   ],
   "source": [
    "print(game_obj.supports)"
   ]
  },
  {
   "cell_type": "code",
   "execution_count": 15,
   "id": "ced0194d",
   "metadata": {},
   "outputs": [],
   "source": [
    "game_obj2 = Game()"
   ]
  },
  {
   "cell_type": "code",
   "execution_count": 17,
   "id": "1e4f9566",
   "metadata": {},
   "outputs": [],
   "source": [
    "game_obj2.supports = \"MAC\""
   ]
  },
  {
   "cell_type": "code",
   "execution_count": 18,
   "id": "5e0c1ce3",
   "metadata": {},
   "outputs": [
    {
     "name": "stdout",
     "output_type": "stream",
     "text": [
      "MAC\n"
     ]
    }
   ],
   "source": [
    "print(game_obj2.supports)"
   ]
  },
  {
   "cell_type": "code",
   "execution_count": 20,
   "id": "292d09fe",
   "metadata": {},
   "outputs": [
    {
     "name": "stdout",
     "output_type": "stream",
     "text": [
      "Blade_span of ceiling fan:  29 inch\n",
      "Power rating:  700 watt\n",
      "Voltage rating:  230 Volt\n",
      "Rgulator stud at: 4\n",
      "Speed in RPM:  360\n",
      "------------------\n",
      "Blade_span of ceiling fan:  48 inch\n",
      "Power rating:  500 watt\n",
      "Voltage rating:  230 Volt\n",
      "Rgulator stud at: 1\n",
      "Speed in RPM:  360\n"
     ]
    }
   ],
   "source": [
    "class fan:\n",
    "    voltage = \"230 Volt\"\n",
    "    def __init__(self, blade_span, power, regulator_stud=0, speed = 0):\n",
    "        self.blade_span = blade_span\n",
    "        self.power = power\n",
    "        self.regulator_stud = regulator_stud\n",
    "        self.speed = 350\n",
    "    def display(self):\n",
    "        print(\"Blade_span of ceiling fan: \",self.blade_span)\n",
    "        print(\"Power rating: \",self.power)\n",
    "        print(\"Voltage rating: \",fan.voltage)\n",
    "        self.regulator_stud += 1\n",
    "        print(\"Rgulator stud at:\",self.regulator_stud)\n",
    "        self.speed += 10\n",
    "        print(\"Speed in RPM: \",self.speed)\n",
    "fan1 = fan(\"29 inch\", \"700 watt\", 3)\n",
    "fan1.display()\n",
    "print(\"------------------\")\n",
    "fan2 = fan(\"48 inch\", \"500 watt\")\n",
    "fan2.display()"
   ]
  },
  {
   "cell_type": "code",
   "execution_count": 21,
   "id": "769e4477",
   "metadata": {},
   "outputs": [
    {
     "name": "stdout",
     "output_type": "stream",
     "text": [
      "{'playing_game_hr': 60, 'consmuing_data_hr': 50}\n"
     ]
    }
   ],
   "source": [
    "class Game:\n",
    "        def __init__(self, playing_game_hr, consmuing_data_hr):\n",
    "            self.playing_game_hr    =playing_game_hr\n",
    "            self.consmuing_data_hr  =consmuing_data_hr\n",
    "        def playing(self):\n",
    "            self.playing_game_hr   +=60\n",
    "            self.consmuing_data_hr -=50\n",
    "game1 = Game(0,100)\n",
    "game1.playing()\n",
    "print(game1.__dict__)\n",
    "\n"
   ]
  },
  {
   "cell_type": "code",
   "execution_count": null,
   "id": "008dcf31",
   "metadata": {},
   "outputs": [],
   "source": [
    "FACEBOOK:\n",
    "    name, age, phn, email, password <-- object attributes\n",
    "    add_name, add_age, add_phn, add_email, set_password  <---object methods\n",
    "15 mins\n",
    "20:23"
   ]
  },
  {
   "cell_type": "code",
   "execution_count": 22,
   "id": "f94a56e9",
   "metadata": {},
   "outputs": [],
   "source": [
    "class Facebook:\n",
    "    def __init__(self):\n",
    "        self.name = \"\"\n",
    "        self.age = 0\n",
    "        self.phn = \"0000000000\"\n",
    "        self.email = \"xyz@def.com\"\n",
    "        self.password = \"*******\"\n",
    "    # Setter Methods\n",
    "    def set_name(self, name):\n",
    "        self.name = name\n",
    "    def set_age(self, age):\n",
    "        self.age = age\n",
    "    def set_phn(self, phn):\n",
    "        if len(phn) >= 10:\n",
    "            self.phn = phn\n",
    "        else:\n",
    "            print(\"Invalid Phn No.\")\n",
    "    def set_email(self, email):\n",
    "        self.email = email\n",
    "    def set_password(self, password):\n",
    "        self.password = password"
   ]
  },
  {
   "cell_type": "code",
   "execution_count": 24,
   "id": "3f62a2b2",
   "metadata": {},
   "outputs": [],
   "source": [
    "user1 = Facebook()\n",
    "user1.set_name(\"Sharon\")\n",
    "user1.set_age(22)\n",
    "user1.set_phn(\"9876543210\")\n",
    "user1.set_email(\"sharonjeyaseeli27@gmail.com\")\n",
    "user1.set_password(\"abc@sharon123\")"
   ]
  },
  {
   "cell_type": "code",
   "execution_count": null,
   "id": "14a678c5",
   "metadata": {},
   "outputs": [],
   "source": []
  }
 ],
 "metadata": {
  "kernelspec": {
   "display_name": "Python 3 (ipykernel)",
   "language": "python",
   "name": "python3"
  },
  "language_info": {
   "codemirror_mode": {
    "name": "ipython",
    "version": 3
   },
   "file_extension": ".py",
   "mimetype": "text/x-python",
   "name": "python",
   "nbconvert_exporter": "python",
   "pygments_lexer": "ipython3",
   "version": "3.9.7"
  }
 },
 "nbformat": 4,
 "nbformat_minor": 5
}
