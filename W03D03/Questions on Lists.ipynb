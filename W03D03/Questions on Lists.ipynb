{
 "cells": [
  {
   "cell_type": "markdown",
   "id": "a0ffa5ad",
   "metadata": {},
   "source": [
    "### ```Q1.) Make a list with alphabets from m to z```\n",
    "```Intuition: Range function can create numbers and chr() can convert them to alphabets\n",
    "Pseudocode:```\n",
    "- Create an empty list\n",
    "- make 2 variables for start and end alphabets. convert them to numbers\n",
    "- loop from start to end and convert each one of them to alphabet\n",
    "- save each one of them to list.\n",
    "10mins 21:00"
   ]
  },
  {
   "cell_type": "markdown",
   "id": "6a113a0e",
   "metadata": {},
   "source": [
    "### ```Q2)find out the largest and smallest word in the string \"The Surprising Benefits of Sarcasm\".```\n",
    "``` Intuition: How can we split the words such that we can count their length and compare with each other?\n",
    "Pseudocode:\n",
    "1.)Take maxx as some big negative value, and minn as some big postivie value\n",
    "2.)convert the string into a list using split() function\n",
    "3.)loop/iterate through the list and find the maximum length word by using len() function.\n",
    "Similarly the minimum ```\n",
    "21:10"
   ]
  },
  {
   "cell_type": "code",
   "execution_count": null,
   "id": "832302b3",
   "metadata": {},
   "outputs": [],
   "source": []
  }
 ],
 "metadata": {
  "kernelspec": {
   "display_name": "Python 3 (ipykernel)",
   "language": "python",
   "name": "python3"
  },
  "language_info": {
   "codemirror_mode": {
    "name": "ipython",
    "version": 3
   },
   "file_extension": ".py",
   "mimetype": "text/x-python",
   "name": "python",
   "nbconvert_exporter": "python",
   "pygments_lexer": "ipython3",
   "version": "3.9.7"
  }
 },
 "nbformat": 4,
 "nbformat_minor": 5
}
