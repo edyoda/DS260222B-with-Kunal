{
 "cells": [
  {
   "cell_type": "markdown",
   "id": "fe3125ec",
   "metadata": {},
   "source": [
    "### Q1) How to use slicing to print only OOOO out of \"OAOAOAOA\"?\n",
    "### Intution: Can we jump to only even index positions.\n",
    "#### No need for builtin function \n",
    "#### `5mins` 20:00"
   ]
  },
  {
   "cell_type": "markdown",
   "id": "968c2a31",
   "metadata": {},
   "source": [
    "### Q2) Find the length of string \"Edyoda\" without using len function\n",
    "### intution we studied loops\n",
    "Pseudocode:\n",
    "- create a variable length =0\n",
    "- loop over a string and increase its value\n",
    "### `5mins` 20:05"
   ]
  },
  {
   "cell_type": "markdown",
   "id": "e1294d0c",
   "metadata": {},
   "source": [
    "## Q3) Check if the word 'china' is present in the string\n",
    "## a)\"Who is responsible for this great year 2020?\"\n",
    "## b)\"Is it you china?\""
   ]
  },
  {
   "cell_type": "markdown",
   "id": "cd24e80d",
   "metadata": {},
   "source": [
    "### Q4) Print A-Z using loop"
   ]
  },
  {
   "cell_type": "code",
   "execution_count": null,
   "id": "cd70ba54",
   "metadata": {},
   "outputs": [],
   "source": []
  }
 ],
 "metadata": {
  "kernelspec": {
   "display_name": "Python 3 (ipykernel)",
   "language": "python",
   "name": "python3"
  },
  "language_info": {
   "codemirror_mode": {
    "name": "ipython",
    "version": 3
   },
   "file_extension": ".py",
   "mimetype": "text/x-python",
   "name": "python",
   "nbconvert_exporter": "python",
   "pygments_lexer": "ipython3",
   "version": "3.9.7"
  }
 },
 "nbformat": 4,
 "nbformat_minor": 5
}
