{
 "cells": [
  {
   "cell_type": "code",
   "execution_count": 1,
   "id": "2fc84771",
   "metadata": {},
   "outputs": [],
   "source": [
    "a = 23\n",
    "b = 32"
   ]
  },
  {
   "cell_type": "code",
   "execution_count": 2,
   "id": "49308f7c",
   "metadata": {},
   "outputs": [],
   "source": [
    "#Way1\n",
    "temp = a\n",
    "a = b\n",
    "b = temp"
   ]
  },
  {
   "cell_type": "code",
   "execution_count": 3,
   "id": "1971c9da",
   "metadata": {},
   "outputs": [
    {
     "name": "stdout",
     "output_type": "stream",
     "text": [
      "32 23\n"
     ]
    }
   ],
   "source": [
    "print(a,b)"
   ]
  },
  {
   "cell_type": "code",
   "execution_count": 4,
   "id": "d58fc1df",
   "metadata": {},
   "outputs": [],
   "source": [
    "#way2\n",
    "a = 23\n",
    "b = 32\n",
    "a = a+b\n",
    "b = a-b\n",
    "a = a-b"
   ]
  },
  {
   "cell_type": "code",
   "execution_count": 5,
   "id": "39b34a84",
   "metadata": {},
   "outputs": [
    {
     "name": "stdout",
     "output_type": "stream",
     "text": [
      "32 23\n"
     ]
    }
   ],
   "source": [
    "print(a,b)"
   ]
  },
  {
   "cell_type": "code",
   "execution_count": 6,
   "id": "25c66f24",
   "metadata": {},
   "outputs": [
    {
     "name": "stdout",
     "output_type": "stream",
     "text": [
      "32 23\n"
     ]
    }
   ],
   "source": [
    "#way3\n",
    "a = 23\n",
    "b = 32\n",
    "a,b = b,a\n",
    "print(a,b)"
   ]
  },
  {
   "cell_type": "code",
   "execution_count": 7,
   "id": "30170463",
   "metadata": {},
   "outputs": [],
   "source": [
    "l = [\"Priya\",\"Nanda Kishore\",\"Syali\",\"Sandeep Singh\",\"Ganesh\"]\n",
    "l[-1],l[0] = l[0],l[-1]"
   ]
  },
  {
   "cell_type": "code",
   "execution_count": 8,
   "id": "a867620d",
   "metadata": {},
   "outputs": [
    {
     "name": "stdout",
     "output_type": "stream",
     "text": [
      "['Ganesh', 'Nanda Kishore', 'Syali', 'Sandeep Singh', 'Priya']\n"
     ]
    }
   ],
   "source": [
    "print(l)"
   ]
  },
  {
   "cell_type": "code",
   "execution_count": 9,
   "id": "c25d8b46",
   "metadata": {},
   "outputs": [
    {
     "data": {
      "text/plain": [
       "'OOOO'"
      ]
     },
     "execution_count": 9,
     "metadata": {},
     "output_type": "execute_result"
    }
   ],
   "source": [
    "l = \"OAOAOAOA\"\n",
    "l[::2]"
   ]
  },
  {
   "cell_type": "code",
   "execution_count": 10,
   "id": "aefac7cf",
   "metadata": {},
   "outputs": [
    {
     "name": "stdout",
     "output_type": "stream",
     "text": [
      "Edyoda\n",
      "6\n"
     ]
    }
   ],
   "source": [
    "name = input()\n",
    "count = 0\n",
    "for i in name:\n",
    "    count+=1\n",
    "print(count)"
   ]
  },
  {
   "cell_type": "code",
   "execution_count": 11,
   "id": "acc3d564",
   "metadata": {},
   "outputs": [
    {
     "name": "stdout",
     "output_type": "stream",
     "text": [
      "Edyoda\n",
      "6\n"
     ]
    }
   ],
   "source": [
    "name = input()\n",
    "count = 0\n",
    "l = name[-1]\n",
    "while count<name.index(l)+1:\n",
    "    count+=1\n",
    "print(count)"
   ]
  },
  {
   "cell_type": "code",
   "execution_count": 12,
   "id": "4ab8fe1b",
   "metadata": {},
   "outputs": [],
   "source": [
    "l = name.index(name[-1])+1"
   ]
  },
  {
   "cell_type": "code",
   "execution_count": 13,
   "id": "81164958",
   "metadata": {},
   "outputs": [
    {
     "name": "stdout",
     "output_type": "stream",
     "text": [
      "6\n"
     ]
    }
   ],
   "source": [
    "print(l)"
   ]
  },
  {
   "cell_type": "code",
   "execution_count": 16,
   "id": "de43b970",
   "metadata": {},
   "outputs": [
    {
     "name": "stdout",
     "output_type": "stream",
     "text": [
      "China not present in: Who is responsible for this great year 2020?\n",
      "Yes china is present\n"
     ]
    }
   ],
   "source": [
    "a = \"Who is responsible for this great year 2020?\"\n",
    "b = \"Is it you China?\"\n",
    "for i in a,b:\n",
    "    if \"china\" in i.lower():\n",
    "        print(\"Yes china is present\")\n",
    "    else:\n",
    "        print(f\"China not present in: {i}\")"
   ]
  },
  {
   "cell_type": "code",
   "execution_count": 17,
   "id": "f0735606",
   "metadata": {},
   "outputs": [
    {
     "data": {
      "text/plain": [
       "('Who is responsible for this great year 2020?', 'Is it you china?')"
      ]
     },
     "execution_count": 17,
     "metadata": {},
     "output_type": "execute_result"
    }
   ],
   "source": [
    "a,b"
   ]
  },
  {
   "cell_type": "code",
   "execution_count": 20,
   "id": "14361f92",
   "metadata": {},
   "outputs": [
    {
     "name": "stdout",
     "output_type": "stream",
     "text": [
      "a:97-z:122, A:65-Z:90\n"
     ]
    }
   ],
   "source": [
    "print(f\"a:{ord('a')}-z:{ord('z')}, A:{ord('A')}-Z:{ord('Z')}\")"
   ]
  },
  {
   "cell_type": "code",
   "execution_count": null,
   "id": "5a3ffbbd",
   "metadata": {},
   "outputs": [],
   "source": [
    "ord(\"a\") --> integer value\n",
    "97 -> chr(97)"
   ]
  },
  {
   "cell_type": "code",
   "execution_count": 21,
   "id": "cf02f0a7",
   "metadata": {},
   "outputs": [
    {
     "data": {
      "text/plain": [
       "'a'"
      ]
     },
     "execution_count": 21,
     "metadata": {},
     "output_type": "execute_result"
    }
   ],
   "source": [
    "chr(97)"
   ]
  },
  {
   "cell_type": "code",
   "execution_count": 24,
   "id": "f9db2aa1",
   "metadata": {},
   "outputs": [
    {
     "name": "stdout",
     "output_type": "stream",
     "text": [
      "65 A 1\n",
      "66 B 2\n",
      "67 C 3\n",
      "68 D 4\n",
      "69 E 5\n",
      "70 F 6\n",
      "71 G 7\n",
      "72 H 8\n",
      "73 I 9\n",
      "74 J 10\n",
      "75 K 11\n",
      "76 L 12\n",
      "77 M 13\n",
      "78 N 14\n",
      "79 O 15\n",
      "80 P 16\n",
      "81 Q 17\n",
      "82 R 18\n",
      "83 S 19\n",
      "84 T 20\n",
      "85 U 21\n",
      "86 V 22\n",
      "87 W 23\n",
      "88 X 24\n",
      "89 Y 25\n",
      "90 Z 26\n"
     ]
    }
   ],
   "source": [
    "count = 0\n",
    "for i in range(ord(\"A\"),ord(\"Z\")+1):\n",
    "    print(i,chr(i),count+1)\n",
    "    count+=1"
   ]
  },
  {
   "cell_type": "code",
   "execution_count": 25,
   "id": "e0d070a2",
   "metadata": {},
   "outputs": [],
   "source": [
    "l = []\n",
    "for i in range(ord(\"M\"),ord(\"Z\")+1):\n",
    "    l.append(chr(i))\n",
    "print(l)"
   ]
  },
  {
   "cell_type": "code",
   "execution_count": 26,
   "id": "e93d099e",
   "metadata": {},
   "outputs": [
    {
     "name": "stdout",
     "output_type": "stream",
     "text": [
      "['M', 'N', 'O', 'P', 'Q', 'R', 'S', 'T', 'U', 'V', 'W', 'X', 'Y', 'Z']\n"
     ]
    }
   ],
   "source": [
    "print(l)"
   ]
  },
  {
   "cell_type": "code",
   "execution_count": null,
   "id": "4b6d8af1",
   "metadata": {},
   "outputs": [],
   "source": [
    "### ```Q2)find out the largest and smallest word in the string \"The Surprising Benefits of Sarcasm\".```\n",
    "``` Intuition: How can we split the words such that we can count their length and compare with each other?\n",
    "Pseudocode:\n",
    "1.)Take maxx as some big negative value, and minn as some big postivie value\n",
    "2.)convert the string into a list using split() function\n",
    "3.)loop/iterate through the list and find the maximum length word by using len() function.\n",
    "Similarly the minimum ```\n"
   ]
  },
  {
   "cell_type": "code",
   "execution_count": 27,
   "id": "b3686a65",
   "metadata": {},
   "outputs": [
    {
     "name": "stdout",
     "output_type": "stream",
     "text": [
      "['The', 'Surprising', 'Benefits', 'of', 'Sarcasm']\n"
     ]
    }
   ],
   "source": [
    "st = \"The Surprising Benefits of Sarcasm\"\n",
    "list1 = st.split(\" \")\n",
    "print(list1)"
   ]
  },
  {
   "cell_type": "code",
   "execution_count": 28,
   "id": "769e6812",
   "metadata": {},
   "outputs": [
    {
     "name": "stdout",
     "output_type": "stream",
     "text": [
      "Surprising of\n"
     ]
    }
   ],
   "source": [
    "max_str = \"\"\n",
    "min_str = \"\"\n",
    "max_val = 0\n",
    "min_val = float(\"+inf\")\n",
    "for i in list1:\n",
    "    if len(i)>max_val:\n",
    "        max_val = len(i)\n",
    "        max_str = i\n",
    "    if len(i)<min_val:\n",
    "        min_val = len(i)\n",
    "        min_str = i\n",
    "print(max_str,min_str)"
   ]
  },
  {
   "cell_type": "markdown",
   "id": "98ae5209",
   "metadata": {},
   "source": [
    "## `Dictionary in python`"
   ]
  },
  {
   "cell_type": "code",
   "execution_count": null,
   "id": "4a9b4c3c",
   "metadata": {},
   "outputs": [],
   "source": [
    "Dictionary in python is mutable or changeable\n",
    "    The keys of Dictionary is immutable"
   ]
  },
  {
   "cell_type": "code",
   "execution_count": 29,
   "id": "49bf776c",
   "metadata": {},
   "outputs": [],
   "source": [
    "dict1 = {} #Empty Dictionary\n",
    "dict2 = dict()"
   ]
  },
  {
   "cell_type": "code",
   "execution_count": 30,
   "id": "6691e609",
   "metadata": {},
   "outputs": [
    {
     "name": "stdout",
     "output_type": "stream",
     "text": [
      "{} {}\n"
     ]
    }
   ],
   "source": [
    "print(dict1,dict2)"
   ]
  },
  {
   "cell_type": "code",
   "execution_count": 31,
   "id": "22900fb7",
   "metadata": {},
   "outputs": [],
   "source": [
    "dict3 = {\"Key\":124, 56: \"Value\"}"
   ]
  },
  {
   "cell_type": "code",
   "execution_count": 32,
   "id": "36a7db6e",
   "metadata": {},
   "outputs": [
    {
     "name": "stdout",
     "output_type": "stream",
     "text": [
      "124\n"
     ]
    }
   ],
   "source": [
    "print(dict3['Key'])"
   ]
  },
  {
   "cell_type": "code",
   "execution_count": 33,
   "id": "087c2a84",
   "metadata": {},
   "outputs": [
    {
     "name": "stdout",
     "output_type": "stream",
     "text": [
      "Value\n"
     ]
    }
   ],
   "source": [
    "print(dict3[56])"
   ]
  },
  {
   "cell_type": "code",
   "execution_count": 34,
   "id": "060a4937",
   "metadata": {},
   "outputs": [
    {
     "ename": "TypeError",
     "evalue": "unhashable type: 'list'",
     "output_type": "error",
     "traceback": [
      "\u001b[1;31m---------------------------------------------------------------------------\u001b[0m",
      "\u001b[1;31mTypeError\u001b[0m                                 Traceback (most recent call last)",
      "\u001b[1;32mC:\\Users\\KUNALC~1\\AppData\\Local\\Temp/ipykernel_23892/2607707254.py\u001b[0m in \u001b[0;36m<module>\u001b[1;34m\u001b[0m\n\u001b[1;32m----> 1\u001b[1;33m \u001b[0mdict4\u001b[0m \u001b[1;33m=\u001b[0m \u001b[1;33m{\u001b[0m\u001b[1;33m[\u001b[0m\u001b[1;36m1\u001b[0m\u001b[1;33m,\u001b[0m\u001b[1;36m2\u001b[0m\u001b[1;33m,\u001b[0m\u001b[1;36m5\u001b[0m\u001b[1;33m]\u001b[0m\u001b[1;33m:\u001b[0m\u001b[1;34m\"Hey I am any way not going to run\"\u001b[0m\u001b[1;33m}\u001b[0m\u001b[1;33m\u001b[0m\u001b[1;33m\u001b[0m\u001b[0m\n\u001b[0m",
      "\u001b[1;31mTypeError\u001b[0m: unhashable type: 'list'"
     ]
    }
   ],
   "source": [
    "dict4 = {[1,2,5]:\"Hey I am any way not going to run\"}"
   ]
  },
  {
   "cell_type": "code",
   "execution_count": 35,
   "id": "27ef0450",
   "metadata": {},
   "outputs": [],
   "source": [
    "dict5 = {(1,4,8):\"I may work\"}"
   ]
  },
  {
   "cell_type": "code",
   "execution_count": 36,
   "id": "3a2fb845",
   "metadata": {},
   "outputs": [
    {
     "data": {
      "text/plain": [
       "'I may work'"
      ]
     },
     "execution_count": 36,
     "metadata": {},
     "output_type": "execute_result"
    }
   ],
   "source": [
    "dict5[(1,4,8)]"
   ]
  },
  {
   "cell_type": "code",
   "execution_count": 38,
   "id": "03a3ec2a",
   "metadata": {},
   "outputs": [
    {
     "data": {
      "text/plain": [
       "'I may work'"
      ]
     },
     "execution_count": 38,
     "metadata": {},
     "output_type": "execute_result"
    }
   ],
   "source": [
    "dict5.get((1,4,8))"
   ]
  },
  {
   "cell_type": "code",
   "execution_count": 39,
   "id": "a7a26fd0",
   "metadata": {},
   "outputs": [
    {
     "ename": "KeyError",
     "evalue": "'Pratiksha'",
     "output_type": "error",
     "traceback": [
      "\u001b[1;31m---------------------------------------------------------------------------\u001b[0m",
      "\u001b[1;31mKeyError\u001b[0m                                  Traceback (most recent call last)",
      "\u001b[1;32mC:\\Users\\KUNALC~1\\AppData\\Local\\Temp/ipykernel_23892/1536547811.py\u001b[0m in \u001b[0;36m<module>\u001b[1;34m\u001b[0m\n\u001b[1;32m----> 1\u001b[1;33m \u001b[0mdict5\u001b[0m\u001b[1;33m[\u001b[0m\u001b[1;34m\"Pratiksha\"\u001b[0m\u001b[1;33m]\u001b[0m\u001b[1;33m\u001b[0m\u001b[1;33m\u001b[0m\u001b[0m\n\u001b[0m",
      "\u001b[1;31mKeyError\u001b[0m: 'Pratiksha'"
     ]
    }
   ],
   "source": [
    "dict5[\"Pratiksha\"]"
   ]
  },
  {
   "cell_type": "code",
   "execution_count": 40,
   "id": "118f73a7",
   "metadata": {},
   "outputs": [
    {
     "name": "stdout",
     "output_type": "stream",
     "text": [
      "None\n"
     ]
    }
   ],
   "source": [
    "print(dict5.get(\"Pratiksha\"))"
   ]
  },
  {
   "cell_type": "code",
   "execution_count": null,
   "id": "3687abe1",
   "metadata": {},
   "outputs": [],
   "source": [
    "== Correct Option\n",
    "><\n",
    "=\n",
    "<>"
   ]
  },
  {
   "cell_type": "code",
   "execution_count": null,
   "id": "8f6652c9",
   "metadata": {},
   "outputs": [],
   "source": [
    "What will be the output of this statement:\n",
    "\n",
    "print(\"p\" in \"Python\") --> False"
   ]
  },
  {
   "attachments": {
    "download.png": {
     "image/png": "[encoded data removed]"
    }
   },
   "cell_type": "markdown",
   "id": "171465ec",
   "metadata": {},
   "source": [
    "![download.png](attachment:download.png)"
   ]
  },
  {
   "cell_type": "code",
   "execution_count": null,
   "id": "b55fa28e",
   "metadata": {},
   "outputs": [],
   "source": []
  }
 ],
 "metadata": {
  "kernelspec": {
   "display_name": "Python 3 (ipykernel)",
   "language": "python",
   "name": "python3"
  },
  "language_info": {
   "codemirror_mode": {
    "name": "ipython",
    "version": 3
   },
   "file_extension": ".py",
   "mimetype": "text/x-python",
   "name": "python",
   "nbconvert_exporter": "python",
   "pygments_lexer": "ipython3",
   "version": "3.9.7"
  }
 },
 "nbformat": 4,
 "nbformat_minor": 5
}
