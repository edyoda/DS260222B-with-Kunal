{
 "cells": [
  {
   "cell_type": "code",
   "execution_count": 1,
   "id": "b69cf9b5",
   "metadata": {},
   "outputs": [],
   "source": [
    "food_dict = {\"1\":\"Pav Bhaji\",\"2\":\"Dosa\",\"3\":\"Upma\"}"
   ]
  },
  {
   "cell_type": "code",
   "execution_count": 2,
   "id": "25088dcf",
   "metadata": {},
   "outputs": [
    {
     "name": "stdout",
     "output_type": "stream",
     "text": [
      "Pav Bhaji\n",
      "Dosa\n",
      "Upma\n"
     ]
    }
   ],
   "source": [
    "for i in food_dict.values():\n",
    "    print(i)"
   ]
  },
  {
   "cell_type": "code",
   "execution_count": 8,
   "id": "8c079f4c",
   "metadata": {},
   "outputs": [
    {
     "name": "stdout",
     "output_type": "stream",
     "text": [
      "1\n"
     ]
    }
   ],
   "source": [
    "list_of_oder_id=list(map(int,input().split(',')))"
   ]
  },
  {
   "cell_type": "code",
   "execution_count": 9,
   "id": "87c92a75",
   "metadata": {},
   "outputs": [
    {
     "name": "stdout",
     "output_type": "stream",
     "text": [
      "Pav Bhaji\n"
     ]
    }
   ],
   "source": [
    "for i in list_of_oder_id:\n",
    "    print(food_dict[str(i)])"
   ]
  },
  {
   "cell_type": "code",
   "execution_count": null,
   "id": "3bfe3584",
   "metadata": {},
   "outputs": [],
   "source": [
    "order_history_list = [\"1\",'2','1'] #one way\n",
    "order_history_dict = {\"15-04-2022\":['1','2','3']}\n",
    "order_history_list = {(\"15-04-2022\",[1,2,1])}"
   ]
  },
  {
   "cell_type": "markdown",
   "id": "68499a7e",
   "metadata": {},
   "source": [
    "## `Iterator`"
   ]
  },
  {
   "cell_type": "code",
   "execution_count": null,
   "id": "b8bd181d",
   "metadata": {},
   "outputs": [],
   "source": [
    "iterables -> list, tuple, set , dict..\n",
    "In Python Iterator is an object used to iterate over iterable objects such as lists,\n",
    "tuples, dictionary and sets"
   ]
  },
  {
   "cell_type": "code",
   "execution_count": 10,
   "id": "df593b0b",
   "metadata": {},
   "outputs": [],
   "source": [
    "list_of_fruits = [\"mango\", \"dragon fruit\", \"banana\", \"apple\", \"papaya\"]"
   ]
  },
  {
   "cell_type": "code",
   "execution_count": null,
   "id": "723f1d8b",
   "metadata": {},
   "outputs": [],
   "source": [
    "Iterator is an object that can be iterated on."
   ]
  },
  {
   "cell_type": "code",
   "execution_count": 11,
   "id": "b4786cd0",
   "metadata": {},
   "outputs": [],
   "source": [
    "l1 = iter(list_of_fruits)"
   ]
  },
  {
   "cell_type": "code",
   "execution_count": 12,
   "id": "ee73f44b",
   "metadata": {
    "scrolled": true
   },
   "outputs": [
    {
     "data": {
      "text/plain": [
       "'mango'"
      ]
     },
     "execution_count": 12,
     "metadata": {},
     "output_type": "execute_result"
    }
   ],
   "source": [
    "next(l1)"
   ]
  },
  {
   "cell_type": "code",
   "execution_count": 13,
   "id": "b3314468",
   "metadata": {},
   "outputs": [
    {
     "data": {
      "text/plain": [
       "'dragon fruit'"
      ]
     },
     "execution_count": 13,
     "metadata": {},
     "output_type": "execute_result"
    }
   ],
   "source": [
    "next(l1)"
   ]
  },
  {
   "cell_type": "code",
   "execution_count": 14,
   "id": "3348fd1b",
   "metadata": {},
   "outputs": [
    {
     "data": {
      "text/plain": [
       "'banana'"
      ]
     },
     "execution_count": 14,
     "metadata": {},
     "output_type": "execute_result"
    }
   ],
   "source": [
    "next(l1)"
   ]
  },
  {
   "cell_type": "code",
   "execution_count": 15,
   "id": "987de8d7",
   "metadata": {},
   "outputs": [
    {
     "data": {
      "text/plain": [
       "'apple'"
      ]
     },
     "execution_count": 15,
     "metadata": {},
     "output_type": "execute_result"
    }
   ],
   "source": [
    "next(l1)"
   ]
  },
  {
   "cell_type": "code",
   "execution_count": 16,
   "id": "371c5b7f",
   "metadata": {},
   "outputs": [
    {
     "data": {
      "text/plain": [
       "'papaya'"
      ]
     },
     "execution_count": 16,
     "metadata": {},
     "output_type": "execute_result"
    }
   ],
   "source": [
    "next(l1)"
   ]
  },
  {
   "cell_type": "code",
   "execution_count": 17,
   "id": "b245d1c6",
   "metadata": {},
   "outputs": [
    {
     "ename": "StopIteration",
     "evalue": "",
     "output_type": "error",
     "traceback": [
      "\u001b[1;31m---------------------------------------------------------------------------\u001b[0m",
      "\u001b[1;31mStopIteration\u001b[0m                             Traceback (most recent call last)",
      "\u001b[1;32mC:\\Users\\KUNALC~1\\AppData\\Local\\Temp/ipykernel_13908/4069969249.py\u001b[0m in \u001b[0;36m<module>\u001b[1;34m\u001b[0m\n\u001b[1;32m----> 1\u001b[1;33m \u001b[0mnext\u001b[0m\u001b[1;33m(\u001b[0m\u001b[0ml1\u001b[0m\u001b[1;33m)\u001b[0m\u001b[1;33m\u001b[0m\u001b[1;33m\u001b[0m\u001b[0m\n\u001b[0m",
      "\u001b[1;31mStopIteration\u001b[0m: "
     ]
    }
   ],
   "source": [
    "next(l1)"
   ]
  },
  {
   "cell_type": "code",
   "execution_count": 18,
   "id": "0e046247",
   "metadata": {},
   "outputs": [
    {
     "data": {
      "text/plain": [
       "<list_iterator at 0x2545a4a8dc0>"
      ]
     },
     "execution_count": 18,
     "metadata": {},
     "output_type": "execute_result"
    }
   ],
   "source": [
    "l1"
   ]
  },
  {
   "cell_type": "code",
   "execution_count": 19,
   "id": "d3c45cdd",
   "metadata": {},
   "outputs": [],
   "source": [
    "set_obj = iter({\"mango\", \"dragon fruit\", \"banana\", \"apple\", \"papaya\"})"
   ]
  },
  {
   "cell_type": "code",
   "execution_count": 20,
   "id": "01089ca2",
   "metadata": {},
   "outputs": [
    {
     "data": {
      "text/plain": [
       "'banana'"
      ]
     },
     "execution_count": 20,
     "metadata": {},
     "output_type": "execute_result"
    }
   ],
   "source": [
    "next(set_obj)"
   ]
  },
  {
   "cell_type": "code",
   "execution_count": 21,
   "id": "7978d64d",
   "metadata": {},
   "outputs": [
    {
     "data": {
      "text/plain": [
       "'apple'"
      ]
     },
     "execution_count": 21,
     "metadata": {},
     "output_type": "execute_result"
    }
   ],
   "source": [
    "next(set_obj)"
   ]
  },
  {
   "cell_type": "code",
   "execution_count": 22,
   "id": "cb4c6fe1",
   "metadata": {},
   "outputs": [
    {
     "data": {
      "text/plain": [
       "'mango'"
      ]
     },
     "execution_count": 22,
     "metadata": {},
     "output_type": "execute_result"
    }
   ],
   "source": [
    "next(set_obj)"
   ]
  },
  {
   "cell_type": "code",
   "execution_count": 23,
   "id": "64b864ac",
   "metadata": {},
   "outputs": [
    {
     "data": {
      "text/plain": [
       "'papaya'"
      ]
     },
     "execution_count": 23,
     "metadata": {},
     "output_type": "execute_result"
    }
   ],
   "source": [
    "next(set_obj)"
   ]
  },
  {
   "cell_type": "code",
   "execution_count": 24,
   "id": "7aabd292",
   "metadata": {},
   "outputs": [
    {
     "data": {
      "text/plain": [
       "'dragon fruit'"
      ]
     },
     "execution_count": 24,
     "metadata": {},
     "output_type": "execute_result"
    }
   ],
   "source": [
    "next(set_obj)"
   ]
  },
  {
   "cell_type": "code",
   "execution_count": 25,
   "id": "5fbe08de",
   "metadata": {},
   "outputs": [
    {
     "ename": "StopIteration",
     "evalue": "",
     "output_type": "error",
     "traceback": [
      "\u001b[1;31m---------------------------------------------------------------------------\u001b[0m",
      "\u001b[1;31mStopIteration\u001b[0m                             Traceback (most recent call last)",
      "\u001b[1;32mC:\\Users\\KUNALC~1\\AppData\\Local\\Temp/ipykernel_13908/50454339.py\u001b[0m in \u001b[0;36m<module>\u001b[1;34m\u001b[0m\n\u001b[1;32m----> 1\u001b[1;33m \u001b[0mnext\u001b[0m\u001b[1;33m(\u001b[0m\u001b[0mset_obj\u001b[0m\u001b[1;33m)\u001b[0m\u001b[1;33m\u001b[0m\u001b[1;33m\u001b[0m\u001b[0m\n\u001b[0m",
      "\u001b[1;31mStopIteration\u001b[0m: "
     ]
    }
   ],
   "source": [
    "next(set_obj)"
   ]
  },
  {
   "cell_type": "code",
   "execution_count": 26,
   "id": "0496914e",
   "metadata": {},
   "outputs": [],
   "source": [
    "s = iter(\"Ushakumari\")"
   ]
  },
  {
   "cell_type": "code",
   "execution_count": 27,
   "id": "57dde613",
   "metadata": {},
   "outputs": [
    {
     "data": {
      "text/plain": [
       "'U'"
      ]
     },
     "execution_count": 27,
     "metadata": {},
     "output_type": "execute_result"
    }
   ],
   "source": [
    "next(s)"
   ]
  },
  {
   "cell_type": "code",
   "execution_count": 28,
   "id": "9d305ba5",
   "metadata": {},
   "outputs": [
    {
     "data": {
      "text/plain": [
       "'s'"
      ]
     },
     "execution_count": 28,
     "metadata": {},
     "output_type": "execute_result"
    }
   ],
   "source": [
    "next(s)"
   ]
  },
  {
   "cell_type": "code",
   "execution_count": 30,
   "id": "f842b9e1",
   "metadata": {},
   "outputs": [
    {
     "name": "stdout",
     "output_type": "stream",
     "text": [
      "h\n",
      "a\n",
      "k\n",
      "u\n",
      "m\n",
      "a\n",
      "r\n",
      "i\n"
     ]
    }
   ],
   "source": [
    "for i in range(len(\"Ushakumari\")-2):\n",
    "    print(next(s))"
   ]
  },
  {
   "cell_type": "code",
   "execution_count": 32,
   "id": "b496b6e3",
   "metadata": {},
   "outputs": [
    {
     "ename": "StopIteration",
     "evalue": "",
     "output_type": "error",
     "traceback": [
      "\u001b[1;31m---------------------------------------------------------------------------\u001b[0m",
      "\u001b[1;31mStopIteration\u001b[0m                             Traceback (most recent call last)",
      "\u001b[1;32mC:\\Users\\KUNALC~1\\AppData\\Local\\Temp/ipykernel_13908/1977886155.py\u001b[0m in \u001b[0;36m<module>\u001b[1;34m\u001b[0m\n\u001b[1;32m----> 1\u001b[1;33m \u001b[0mnext\u001b[0m\u001b[1;33m(\u001b[0m\u001b[0ms\u001b[0m\u001b[1;33m)\u001b[0m\u001b[1;33m\u001b[0m\u001b[1;33m\u001b[0m\u001b[0m\n\u001b[0m",
      "\u001b[1;31mStopIteration\u001b[0m: "
     ]
    }
   ],
   "source": [
    "next(s)"
   ]
  },
  {
   "cell_type": "markdown",
   "id": "b0657184",
   "metadata": {},
   "source": [
    "## `Generator`"
   ]
  },
  {
   "cell_type": "code",
   "execution_count": 33,
   "id": "75612104",
   "metadata": {},
   "outputs": [],
   "source": [
    "def Power_of_num( max_val = 0):\n",
    "    n = 1\n",
    "    while n < max_val:\n",
    "        print(2**n)\n",
    "        n+=1"
   ]
  },
  {
   "cell_type": "code",
   "execution_count": 34,
   "id": "3bc787d1",
   "metadata": {},
   "outputs": [
    {
     "name": "stdout",
     "output_type": "stream",
     "text": [
      "2\n",
      "4\n",
      "8\n",
      "16\n"
     ]
    }
   ],
   "source": [
    "num = Power_of_num(5)"
   ]
  },
  {
   "cell_type": "code",
   "execution_count": 35,
   "id": "b987a90d",
   "metadata": {},
   "outputs": [],
   "source": [
    "def Power_of_num( max_val = 0):\n",
    "    n = 1\n",
    "    while n < max_val:\n",
    "        return (2**n)\n",
    "        n+=1\n",
    "num = Power_of_num(5)"
   ]
  },
  {
   "cell_type": "code",
   "execution_count": 36,
   "id": "cf3c4356",
   "metadata": {},
   "outputs": [
    {
     "name": "stdout",
     "output_type": "stream",
     "text": [
      "2\n"
     ]
    }
   ],
   "source": [
    "print(num)"
   ]
  },
  {
   "cell_type": "code",
   "execution_count": 37,
   "id": "b463ac8d",
   "metadata": {},
   "outputs": [],
   "source": [
    "def Power_of_num( max_val = 0):\n",
    "    n = 1\n",
    "    while n < max_val:\n",
    "        yield (2**n)\n",
    "        n+=1\n",
    "num = Power_of_num(5)"
   ]
  },
  {
   "cell_type": "code",
   "execution_count": 39,
   "id": "42adaa30",
   "metadata": {},
   "outputs": [
    {
     "name": "stdout",
     "output_type": "stream",
     "text": [
      "2\n",
      "4\n",
      "8\n",
      "16\n"
     ]
    }
   ],
   "source": [
    "num #<---its an iterable\n",
    "for i in num:\n",
    "    print(i)"
   ]
  },
  {
   "cell_type": "code",
   "execution_count": null,
   "id": "4e9f0018",
   "metadata": {},
   "outputs": [],
   "source": [
    "Return statement erminates the function completely "
   ]
  },
  {
   "cell_type": "code",
   "execution_count": 40,
   "id": "6651c7da",
   "metadata": {},
   "outputs": [
    {
     "ename": "StopIteration",
     "evalue": "",
     "output_type": "error",
     "traceback": [
      "\u001b[1;31m---------------------------------------------------------------------------\u001b[0m",
      "\u001b[1;31mStopIteration\u001b[0m                             Traceback (most recent call last)",
      "\u001b[1;32mC:\\Users\\KUNALC~1\\AppData\\Local\\Temp/ipykernel_13908/2289583277.py\u001b[0m in \u001b[0;36m<module>\u001b[1;34m\u001b[0m\n\u001b[1;32m----> 1\u001b[1;33m \u001b[0mprint\u001b[0m\u001b[1;33m(\u001b[0m\u001b[0mnext\u001b[0m\u001b[1;33m(\u001b[0m\u001b[0mnum\u001b[0m\u001b[1;33m)\u001b[0m\u001b[1;33m)\u001b[0m\u001b[1;33m\u001b[0m\u001b[1;33m\u001b[0m\u001b[0m\n\u001b[0m",
      "\u001b[1;31mStopIteration\u001b[0m: "
     ]
    }
   ],
   "source": [
    "print(next(num))"
   ]
  },
  {
   "cell_type": "code",
   "execution_count": 41,
   "id": "fa77b499",
   "metadata": {},
   "outputs": [
    {
     "name": "stdout",
     "output_type": "stream",
     "text": [
      "2\n"
     ]
    }
   ],
   "source": [
    "def Power_of_num( max_val = 0):\n",
    "    n = 1\n",
    "    while n < max_val:\n",
    "        yield (2**n)\n",
    "        n+=1\n",
    "num = Power_of_num(5)\n",
    "print(next(num))"
   ]
  },
  {
   "cell_type": "code",
   "execution_count": 42,
   "id": "73c8a781",
   "metadata": {},
   "outputs": [
    {
     "name": "stdout",
     "output_type": "stream",
     "text": [
      "4\n"
     ]
    }
   ],
   "source": [
    "print(next(num))"
   ]
  },
  {
   "cell_type": "code",
   "execution_count": 43,
   "id": "13ed02ae",
   "metadata": {},
   "outputs": [
    {
     "name": "stdout",
     "output_type": "stream",
     "text": [
      "8\n"
     ]
    }
   ],
   "source": [
    "print(next(num))"
   ]
  },
  {
   "cell_type": "code",
   "execution_count": 44,
   "id": "e08de91a",
   "metadata": {},
   "outputs": [
    {
     "name": "stdout",
     "output_type": "stream",
     "text": [
      "16\n"
     ]
    }
   ],
   "source": [
    "print(next(num))"
   ]
  },
  {
   "cell_type": "code",
   "execution_count": 45,
   "id": "de3afea0",
   "metadata": {},
   "outputs": [],
   "source": [
    "def funct1():\n",
    "    yield 1\n",
    "    yield 2\n",
    "    yield 3"
   ]
  },
  {
   "cell_type": "code",
   "execution_count": 48,
   "id": "b52b8024",
   "metadata": {},
   "outputs": [],
   "source": [
    "s = funct1()"
   ]
  },
  {
   "cell_type": "code",
   "execution_count": 49,
   "id": "379e71c2",
   "metadata": {},
   "outputs": [
    {
     "data": {
      "text/plain": [
       "1"
      ]
     },
     "execution_count": 49,
     "metadata": {},
     "output_type": "execute_result"
    }
   ],
   "source": [
    "next(s)"
   ]
  },
  {
   "cell_type": "code",
   "execution_count": 50,
   "id": "b4c9d020",
   "metadata": {},
   "outputs": [
    {
     "data": {
      "text/plain": [
       "2"
      ]
     },
     "execution_count": 50,
     "metadata": {},
     "output_type": "execute_result"
    }
   ],
   "source": [
    "next(s)"
   ]
  },
  {
   "cell_type": "code",
   "execution_count": 51,
   "id": "1de2e65d",
   "metadata": {},
   "outputs": [
    {
     "data": {
      "text/plain": [
       "3"
      ]
     },
     "execution_count": 51,
     "metadata": {},
     "output_type": "execute_result"
    }
   ],
   "source": [
    "next(s)"
   ]
  },
  {
   "cell_type": "code",
   "execution_count": null,
   "id": "60e01b20",
   "metadata": {},
   "outputs": [],
   "source": [
    "|-------------------||-------------------|||-----------------||||\n",
    "                   yield 1             yield 2              yield 3"
   ]
  },
  {
   "cell_type": "code",
   "execution_count": null,
   "id": "627df8b2",
   "metadata": {},
   "outputs": [],
   "source": [
    "XML File Handling"
   ]
  },
  {
   "cell_type": "code",
   "execution_count": null,
   "id": "a9c7d4ce",
   "metadata": {},
   "outputs": [],
   "source": [
    "# {\"employees\":[\n",
    "#   { \"firstName\":\"John\", \"lastName\":\"Doe\" },\n",
    "#   { \"firstName\":\"Anna\", \"lastName\":\"Smith\" },\n",
    "#   { \"firstName\":\"Peter\", \"lastName\":\"Jones\" }\n",
    "# ]}  <-- JSON"
   ]
  },
  {
   "cell_type": "code",
   "execution_count": null,
   "id": "e6a13375",
   "metadata": {},
   "outputs": [],
   "source": [
    "# <employees>\n",
    "#     <employee>\n",
    "#     <firstName>John</firstName> <lastName>Doe</lastName>\n",
    "#     </employee>\n",
    "    \n",
    "#     <employee>\n",
    "#     <firstName>Anna</firstName> <lastName>Smith</lastName>\n",
    "#     </employee>\n",
    "    \n",
    "#     <employee>\n",
    "#     <firstName>Peter</firstName> <lastName>Jones</lastName>\n",
    "#     </employee>\n",
    "# </employees>"
   ]
  },
  {
   "cell_type": "code",
   "execution_count": 53,
   "id": "befa371e",
   "metadata": {},
   "outputs": [
    {
     "ename": "ModuleNotFoundError",
     "evalue": "No module named 'xmltodict'",
     "output_type": "error",
     "traceback": [
      "\u001b[1;31m---------------------------------------------------------------------------\u001b[0m",
      "\u001b[1;31mModuleNotFoundError\u001b[0m                       Traceback (most recent call last)",
      "\u001b[1;32mC:\\Users\\KUNALC~1\\AppData\\Local\\Temp/ipykernel_13908/110025353.py\u001b[0m in \u001b[0;36m<module>\u001b[1;34m\u001b[0m\n\u001b[1;32m----> 1\u001b[1;33m \u001b[1;32mimport\u001b[0m \u001b[0mxmltodict\u001b[0m\u001b[1;33m\u001b[0m\u001b[1;33m\u001b[0m\u001b[0m\n\u001b[0m",
      "\u001b[1;31mModuleNotFoundError\u001b[0m: No module named 'xmltodict'"
     ]
    }
   ],
   "source": [
    "import xmltodict"
   ]
  },
  {
   "cell_type": "code",
   "execution_count": 54,
   "id": "f9ae7fdd",
   "metadata": {},
   "outputs": [
    {
     "name": "stdout",
     "output_type": "stream",
     "text": [
      "Collecting xmltodict\n",
      "  Downloading xmltodict-0.12.0-py2.py3-none-any.whl (9.2 kB)\n",
      "Installing collected packages: xmltodict\n",
      "Successfully installed xmltodict-0.12.0\n",
      "Note: you may need to restart the kernel to use updated packages.\n"
     ]
    },
    {
     "name": "stderr",
     "output_type": "stream",
     "text": [
      "WARNING: You are using pip version 21.2.3; however, version 22.0.4 is available.\n",
      "You should consider upgrading via the 'C:\\Users\\KunalCogni\\AppData\\Local\\Programs\\Python\\Python39\\python.exe -m pip install --upgrade pip' command.\n"
     ]
    }
   ],
   "source": [
    "pip install xmltodict"
   ]
  },
  {
   "cell_type": "code",
   "execution_count": 55,
   "id": "c6918826",
   "metadata": {},
   "outputs": [],
   "source": [
    "import xmltodict"
   ]
  },
  {
   "cell_type": "code",
   "execution_count": 56,
   "id": "43d200a8",
   "metadata": {},
   "outputs": [],
   "source": [
    "with open(\"test1.xml\", \"r\") as fp:\n",
    "    content = fp.read()\n",
    "    xml_parsed_dict = xmltodict.parse(content)"
   ]
  },
  {
   "cell_type": "code",
   "execution_count": 58,
   "id": "b7a845b3",
   "metadata": {},
   "outputs": [
    {
     "name": "stdout",
     "output_type": "stream",
     "text": [
      "OrderedDict([('employees', OrderedDict([('employee', [OrderedDict([('firstName', 'John'), ('lastName', 'Doe')]), OrderedDict([('firstName', 'Anna'), ('lastName', 'Smith')]), OrderedDict([('firstName', 'Peter'), ('lastName', 'Jones')])])]))])\n"
     ]
    }
   ],
   "source": [
    "print(xml_parsed_dict)"
   ]
  },
  {
   "cell_type": "code",
   "execution_count": 59,
   "id": "ca6e0122",
   "metadata": {},
   "outputs": [
    {
     "data": {
      "text/plain": [
       "OrderedDict([('employee',\n",
       "              [OrderedDict([('firstName', 'John'), ('lastName', 'Doe')]),\n",
       "               OrderedDict([('firstName', 'Anna'), ('lastName', 'Smith')]),\n",
       "               OrderedDict([('firstName', 'Peter'), ('lastName', 'Jones')])])])"
      ]
     },
     "execution_count": 59,
     "metadata": {},
     "output_type": "execute_result"
    }
   ],
   "source": [
    "xml_parsed_dict['employees']"
   ]
  },
  {
   "cell_type": "code",
   "execution_count": 60,
   "id": "37ddce19",
   "metadata": {},
   "outputs": [
    {
     "data": {
      "text/plain": [
       "[OrderedDict([('firstName', 'John'), ('lastName', 'Doe')]),\n",
       " OrderedDict([('firstName', 'Anna'), ('lastName', 'Smith')]),\n",
       " OrderedDict([('firstName', 'Peter'), ('lastName', 'Jones')])]"
      ]
     },
     "execution_count": 60,
     "metadata": {},
     "output_type": "execute_result"
    }
   ],
   "source": [
    "xml_parsed_dict['employees']['employee']"
   ]
  },
  {
   "cell_type": "code",
   "execution_count": 61,
   "id": "764efa6f",
   "metadata": {},
   "outputs": [
    {
     "data": {
      "text/plain": [
       "OrderedDict([('firstName', 'John'), ('lastName', 'Doe')])"
      ]
     },
     "execution_count": 61,
     "metadata": {},
     "output_type": "execute_result"
    }
   ],
   "source": [
    "xml_parsed_dict['employees']['employee'][0]"
   ]
  },
  {
   "cell_type": "code",
   "execution_count": 62,
   "id": "b45e67ff",
   "metadata": {},
   "outputs": [
    {
     "data": {
      "text/plain": [
       "'John'"
      ]
     },
     "execution_count": 62,
     "metadata": {},
     "output_type": "execute_result"
    }
   ],
   "source": [
    "xml_parsed_dict['employees']['employee'][0]['firstName']"
   ]
  },
  {
   "cell_type": "code",
   "execution_count": 63,
   "id": "8cbaaad9",
   "metadata": {},
   "outputs": [],
   "source": [
    "xml_parsed_dict['employees']['employee'][0]['lastName'] = \"Uncle\""
   ]
  },
  {
   "cell_type": "code",
   "execution_count": 64,
   "id": "7a7a75cc",
   "metadata": {},
   "outputs": [
    {
     "data": {
      "text/plain": [
       "OrderedDict([('employees',\n",
       "              OrderedDict([('employee',\n",
       "                            [OrderedDict([('firstName', 'John'),\n",
       "                                          ('lastName', 'Uncle')]),\n",
       "                             OrderedDict([('firstName', 'Anna'),\n",
       "                                          ('lastName', 'Smith')]),\n",
       "                             OrderedDict([('firstName', 'Peter'),\n",
       "                                          ('lastName', 'Jones')])])]))])"
      ]
     },
     "execution_count": 64,
     "metadata": {},
     "output_type": "execute_result"
    }
   ],
   "source": [
    "xml_parsed_dict"
   ]
  },
  {
   "cell_type": "code",
   "execution_count": 67,
   "id": "3bbb514f",
   "metadata": {},
   "outputs": [],
   "source": [
    "xml_format = xmltodict.unparse(xml_parsed_dict, pretty=True)"
   ]
  },
  {
   "cell_type": "code",
   "execution_count": 71,
   "id": "b77a14de",
   "metadata": {},
   "outputs": [
    {
     "name": "stdout",
     "output_type": "stream",
     "text": [
      "<?xml version=\"1.0\" encoding=\"utf-8\"?>\n",
      "<employees>\n",
      "\t<employee>\n",
      "\t\t<firstName>John</firstName>\n",
      "\t\t<lastName>Uncle</lastName>\n",
      "\t</employee>\n",
      "\t<employee>\n",
      "\t\t<firstName>Anna</firstName>\n",
      "\t\t<lastName>Smith</lastName>\n",
      "\t</employee>\n",
      "\t<employee>\n",
      "\t\t<firstName>Peter</firstName>\n",
      "\t\t<lastName>Jones</lastName>\n",
      "\t</employee>\n",
      "</employees>\n",
      "<class 'str'>\n"
     ]
    }
   ],
   "source": [
    "print(xml_format)\n",
    "print(type(xml_format))"
   ]
  },
  {
   "cell_type": "code",
   "execution_count": 69,
   "id": "846e92b5",
   "metadata": {},
   "outputs": [],
   "source": [
    "with open(\"test1.xml\",\"w+\") as fp:\n",
    "    fp.write(xml_format)"
   ]
  },
  {
   "cell_type": "code",
   "execution_count": 72,
   "id": "dcb159e6",
   "metadata": {},
   "outputs": [],
   "source": [
    "# CSV (Comma Seperated Value)\n",
    "import csv"
   ]
  },
  {
   "cell_type": "code",
   "execution_count": 83,
   "id": "5ee069d0",
   "metadata": {},
   "outputs": [
    {
     "name": "stdout",
     "output_type": "stream",
     "text": [
      "['Name', 'Class', 'Birthday']\n",
      "['Arman', 'Python', 'January']\n",
      "['Pratiksha', 'Python', 'Dec']\n",
      "['NandaKishore', 'Python', 'Sep']\n"
     ]
    }
   ],
   "source": [
    "l = []\n",
    "with open(\"test2.csv\",\"r\") as fp:\n",
    "    reader = csv.reader(fp)\n",
    "    for row in reader:\n",
    "        l.append(row)\n",
    "        print(row)"
   ]
  },
  {
   "cell_type": "code",
   "execution_count": 84,
   "id": "0662600c",
   "metadata": {},
   "outputs": [
    {
     "data": {
      "text/plain": [
       "[['Name', 'Class', 'Birthday'],\n",
       " ['Arman', 'Python', 'January'],\n",
       " ['Pratiksha', 'Python', 'Dec'],\n",
       " ['NandaKishore', 'Python', 'Sep']]"
      ]
     },
     "execution_count": 84,
     "metadata": {},
     "output_type": "execute_result"
    }
   ],
   "source": [
    "l"
   ]
  },
  {
   "cell_type": "code",
   "execution_count": 85,
   "id": "0d9f2001",
   "metadata": {},
   "outputs": [],
   "source": [
    "with open(\"test2.csv\", \"w\") as fp:\n",
    "        writer = csv.writer(fp)\n",
    "        writer.writerows(l)\n",
    "        writer.writerow([\"Vinay\",\"Python\",\"Sep\"])"
   ]
  },
  {
   "cell_type": "code",
   "execution_count": 75,
   "id": "a7b4d552",
   "metadata": {
    "collapsed": true
   },
   "outputs": [
    {
     "name": "stdout",
     "output_type": "stream",
     "text": [
      "Help on module csv:\n",
      "\n",
      "NAME\n",
      "    csv - CSV parsing and writing.\n",
      "\n",
      "MODULE REFERENCE\n",
      "    https://docs.python.org/3.9/library/csv\n",
      "    \n",
      "    The following documentation is automatically generated from the Python\n",
      "    source files.  It may be incomplete, incorrect or include features that\n",
      "    are considered implementation detail and may vary between Python\n",
      "    implementations.  When in doubt, consult the module reference at the\n",
      "    location listed above.\n",
      "\n",
      "DESCRIPTION\n",
      "    This module provides classes that assist in the reading and writing\n",
      "    of Comma Separated Value (CSV) files, and implements the interface\n",
      "    described by PEP 305.  Although many CSV files are simple to parse,\n",
      "    the format is not formally defined by a stable specification and\n",
      "    is subtle enough that parsing lines of a CSV file with something\n",
      "    like line.split(\",\") is bound to fail.  The module supports three\n",
      "    basic APIs: reading, writing, and registration of dialects.\n",
      "    \n",
      "    \n",
      "    DIALECT REGISTRATION:\n",
      "    \n",
      "    Readers and writers support a dialect argument, which is a convenient\n",
      "    handle on a group of settings.  When the dialect argument is a string,\n",
      "    it identifies one of the dialects previously registered with the module.\n",
      "    If it is a class or instance, the attributes of the argument are used as\n",
      "    the settings for the reader or writer:\n",
      "    \n",
      "        class excel:\n",
      "            delimiter = ','\n",
      "            quotechar = '\"'\n",
      "            escapechar = None\n",
      "            doublequote = True\n",
      "            skipinitialspace = False\n",
      "            lineterminator = '\\r\\n'\n",
      "            quoting = QUOTE_MINIMAL\n",
      "    \n",
      "    SETTINGS:\n",
      "    \n",
      "        * quotechar - specifies a one-character string to use as the\n",
      "            quoting character.  It defaults to '\"'.\n",
      "        * delimiter - specifies a one-character string to use as the\n",
      "            field separator.  It defaults to ','.\n",
      "        * skipinitialspace - specifies how to interpret whitespace which\n",
      "            immediately follows a delimiter.  It defaults to False, which\n",
      "            means that whitespace immediately following a delimiter is part\n",
      "            of the following field.\n",
      "        * lineterminator -  specifies the character sequence which should\n",
      "            terminate rows.\n",
      "        * quoting - controls when quotes should be generated by the writer.\n",
      "            It can take on any of the following module constants:\n",
      "    \n",
      "            csv.QUOTE_MINIMAL means only when required, for example, when a\n",
      "                field contains either the quotechar or the delimiter\n",
      "            csv.QUOTE_ALL means that quotes are always placed around fields.\n",
      "            csv.QUOTE_NONNUMERIC means that quotes are always placed around\n",
      "                fields which do not parse as integers or floating point\n",
      "                numbers.\n",
      "            csv.QUOTE_NONE means that quotes are never placed around fields.\n",
      "        * escapechar - specifies a one-character string used to escape\n",
      "            the delimiter when quoting is set to QUOTE_NONE.\n",
      "        * doublequote - controls the handling of quotes inside fields.  When\n",
      "            True, two consecutive quotes are interpreted as one during read,\n",
      "            and when writing, each quote character embedded in the data is\n",
      "            written as two quotes\n",
      "\n",
      "CLASSES\n",
      "    builtins.Exception(builtins.BaseException)\n",
      "        _csv.Error\n",
      "    builtins.object\n",
      "        Dialect\n",
      "            excel\n",
      "                excel_tab\n",
      "            unix_dialect\n",
      "        DictReader\n",
      "        DictWriter\n",
      "        Sniffer\n",
      "    \n",
      "    class Dialect(builtins.object)\n",
      "     |  Describe a CSV dialect.\n",
      "     |  \n",
      "     |  This must be subclassed (see csv.excel).  Valid attributes are:\n",
      "     |  delimiter, quotechar, escapechar, doublequote, skipinitialspace,\n",
      "     |  lineterminator, quoting.\n",
      "     |  \n",
      "     |  Methods defined here:\n",
      "     |  \n",
      "     |  __init__(self)\n",
      "     |      Initialize self.  See help(type(self)) for accurate signature.\n",
      "     |  \n",
      "     |  ----------------------------------------------------------------------\n",
      "     |  Data descriptors defined here:\n",
      "     |  \n",
      "     |  __dict__\n",
      "     |      dictionary for instance variables (if defined)\n",
      "     |  \n",
      "     |  __weakref__\n",
      "     |      list of weak references to the object (if defined)\n",
      "     |  \n",
      "     |  ----------------------------------------------------------------------\n",
      "     |  Data and other attributes defined here:\n",
      "     |  \n",
      "     |  delimiter = None\n",
      "     |  \n",
      "     |  doublequote = None\n",
      "     |  \n",
      "     |  escapechar = None\n",
      "     |  \n",
      "     |  lineterminator = None\n",
      "     |  \n",
      "     |  quotechar = None\n",
      "     |  \n",
      "     |  quoting = None\n",
      "     |  \n",
      "     |  skipinitialspace = None\n",
      "    \n",
      "    class DictReader(builtins.object)\n",
      "     |  DictReader(f, fieldnames=None, restkey=None, restval=None, dialect='excel', *args, **kwds)\n",
      "     |  \n",
      "     |  Methods defined here:\n",
      "     |  \n",
      "     |  __init__(self, f, fieldnames=None, restkey=None, restval=None, dialect='excel', *args, **kwds)\n",
      "     |      Initialize self.  See help(type(self)) for accurate signature.\n",
      "     |  \n",
      "     |  __iter__(self)\n",
      "     |  \n",
      "     |  __next__(self)\n",
      "     |  \n",
      "     |  ----------------------------------------------------------------------\n",
      "     |  Data descriptors defined here:\n",
      "     |  \n",
      "     |  __dict__\n",
      "     |      dictionary for instance variables (if defined)\n",
      "     |  \n",
      "     |  __weakref__\n",
      "     |      list of weak references to the object (if defined)\n",
      "     |  \n",
      "     |  fieldnames\n",
      "    \n",
      "    class DictWriter(builtins.object)\n",
      "     |  DictWriter(f, fieldnames, restval='', extrasaction='raise', dialect='excel', *args, **kwds)\n",
      "     |  \n",
      "     |  Methods defined here:\n",
      "     |  \n",
      "     |  __init__(self, f, fieldnames, restval='', extrasaction='raise', dialect='excel', *args, **kwds)\n",
      "     |      Initialize self.  See help(type(self)) for accurate signature.\n",
      "     |  \n",
      "     |  writeheader(self)\n",
      "     |  \n",
      "     |  writerow(self, rowdict)\n",
      "     |  \n",
      "     |  writerows(self, rowdicts)\n",
      "     |  \n",
      "     |  ----------------------------------------------------------------------\n",
      "     |  Data descriptors defined here:\n",
      "     |  \n",
      "     |  __dict__\n",
      "     |      dictionary for instance variables (if defined)\n",
      "     |  \n",
      "     |  __weakref__\n",
      "     |      list of weak references to the object (if defined)\n",
      "    \n",
      "    class Error(builtins.Exception)\n",
      "     |  Method resolution order:\n",
      "     |      Error\n",
      "     |      builtins.Exception\n",
      "     |      builtins.BaseException\n",
      "     |      builtins.object\n",
      "     |  \n",
      "     |  Data descriptors defined here:\n",
      "     |  \n",
      "     |  __weakref__\n",
      "     |      list of weak references to the object (if defined)\n",
      "     |  \n",
      "     |  ----------------------------------------------------------------------\n",
      "     |  Methods inherited from builtins.Exception:\n",
      "     |  \n",
      "     |  __init__(self, /, *args, **kwargs)\n",
      "     |      Initialize self.  See help(type(self)) for accurate signature.\n",
      "     |  \n",
      "     |  ----------------------------------------------------------------------\n",
      "     |  Static methods inherited from builtins.Exception:\n",
      "     |  \n",
      "     |  __new__(*args, **kwargs) from builtins.type\n",
      "     |      Create and return a new object.  See help(type) for accurate signature.\n",
      "     |  \n",
      "     |  ----------------------------------------------------------------------\n",
      "     |  Methods inherited from builtins.BaseException:\n",
      "     |  \n",
      "     |  __delattr__(self, name, /)\n",
      "     |      Implement delattr(self, name).\n",
      "     |  \n",
      "     |  __getattribute__(self, name, /)\n",
      "     |      Return getattr(self, name).\n",
      "     |  \n",
      "     |  __reduce__(...)\n",
      "     |      Helper for pickle.\n",
      "     |  \n",
      "     |  __repr__(self, /)\n",
      "     |      Return repr(self).\n",
      "     |  \n",
      "     |  __setattr__(self, name, value, /)\n",
      "     |      Implement setattr(self, name, value).\n",
      "     |  \n",
      "     |  __setstate__(...)\n",
      "     |  \n",
      "     |  __str__(self, /)\n",
      "     |      Return str(self).\n",
      "     |  \n",
      "     |  with_traceback(...)\n",
      "     |      Exception.with_traceback(tb) --\n",
      "     |      set self.__traceback__ to tb and return self.\n",
      "     |  \n",
      "     |  ----------------------------------------------------------------------\n",
      "     |  Data descriptors inherited from builtins.BaseException:\n",
      "     |  \n",
      "     |  __cause__\n",
      "     |      exception cause\n",
      "     |  \n",
      "     |  __context__\n",
      "     |      exception context\n",
      "     |  \n",
      "     |  __dict__\n",
      "     |  \n",
      "     |  __suppress_context__\n",
      "     |  \n",
      "     |  __traceback__\n",
      "     |  \n",
      "     |  args\n",
      "    \n",
      "    class Sniffer(builtins.object)\n",
      "     |  \"Sniffs\" the format of a CSV file (i.e. delimiter, quotechar)\n",
      "     |  Returns a Dialect object.\n",
      "     |  \n",
      "     |  Methods defined here:\n",
      "     |  \n",
      "     |  __init__(self)\n",
      "     |      Initialize self.  See help(type(self)) for accurate signature.\n",
      "     |  \n",
      "     |  has_header(self, sample)\n",
      "     |  \n",
      "     |  sniff(self, sample, delimiters=None)\n",
      "     |      Returns a dialect (or None) corresponding to the sample\n",
      "     |  \n",
      "     |  ----------------------------------------------------------------------\n",
      "     |  Data descriptors defined here:\n",
      "     |  \n",
      "     |  __dict__\n",
      "     |      dictionary for instance variables (if defined)\n",
      "     |  \n",
      "     |  __weakref__\n",
      "     |      list of weak references to the object (if defined)\n",
      "    \n",
      "    class excel(Dialect)\n",
      "     |  Describe the usual properties of Excel-generated CSV files.\n",
      "     |  \n",
      "     |  Method resolution order:\n",
      "     |      excel\n",
      "     |      Dialect\n",
      "     |      builtins.object\n",
      "     |  \n",
      "     |  Data and other attributes defined here:\n",
      "     |  \n",
      "     |  delimiter = ','\n",
      "     |  \n",
      "     |  doublequote = True\n",
      "     |  \n",
      "     |  lineterminator = '\\r\\n'\n",
      "     |  \n",
      "     |  quotechar = '\"'\n",
      "     |  \n",
      "     |  quoting = 0\n",
      "     |  \n",
      "     |  skipinitialspace = False\n",
      "     |  \n",
      "     |  ----------------------------------------------------------------------\n",
      "     |  Methods inherited from Dialect:\n",
      "     |  \n",
      "     |  __init__(self)\n",
      "     |      Initialize self.  See help(type(self)) for accurate signature.\n",
      "     |  \n",
      "     |  ----------------------------------------------------------------------\n",
      "     |  Data descriptors inherited from Dialect:\n",
      "     |  \n",
      "     |  __dict__\n",
      "     |      dictionary for instance variables (if defined)\n",
      "     |  \n",
      "     |  __weakref__\n",
      "     |      list of weak references to the object (if defined)\n",
      "     |  \n",
      "     |  ----------------------------------------------------------------------\n",
      "     |  Data and other attributes inherited from Dialect:\n",
      "     |  \n",
      "     |  escapechar = None\n",
      "    \n",
      "    class excel_tab(excel)\n",
      "     |  Describe the usual properties of Excel-generated TAB-delimited files.\n",
      "     |  \n",
      "     |  Method resolution order:\n",
      "     |      excel_tab\n",
      "     |      excel\n",
      "     |      Dialect\n",
      "     |      builtins.object\n",
      "     |  \n",
      "     |  Data and other attributes defined here:\n",
      "     |  \n",
      "     |  delimiter = '\\t'\n",
      "     |  \n",
      "     |  ----------------------------------------------------------------------\n",
      "     |  Data and other attributes inherited from excel:\n",
      "     |  \n",
      "     |  doublequote = True\n",
      "     |  \n",
      "     |  lineterminator = '\\r\\n'\n",
      "     |  \n",
      "     |  quotechar = '\"'\n",
      "     |  \n",
      "     |  quoting = 0\n",
      "     |  \n",
      "     |  skipinitialspace = False\n",
      "     |  \n",
      "     |  ----------------------------------------------------------------------\n",
      "     |  Methods inherited from Dialect:\n",
      "     |  \n",
      "     |  __init__(self)\n",
      "     |      Initialize self.  See help(type(self)) for accurate signature.\n",
      "     |  \n",
      "     |  ----------------------------------------------------------------------\n",
      "     |  Data descriptors inherited from Dialect:\n",
      "     |  \n",
      "     |  __dict__\n",
      "     |      dictionary for instance variables (if defined)\n",
      "     |  \n",
      "     |  __weakref__\n",
      "     |      list of weak references to the object (if defined)\n",
      "     |  \n",
      "     |  ----------------------------------------------------------------------\n",
      "     |  Data and other attributes inherited from Dialect:\n",
      "     |  \n",
      "     |  escapechar = None\n",
      "    \n",
      "    class unix_dialect(Dialect)\n",
      "     |  Describe the usual properties of Unix-generated CSV files.\n",
      "     |  \n",
      "     |  Method resolution order:\n",
      "     |      unix_dialect\n",
      "     |      Dialect\n",
      "     |      builtins.object\n",
      "     |  \n",
      "     |  Data and other attributes defined here:\n",
      "     |  \n",
      "     |  delimiter = ','\n",
      "     |  \n",
      "     |  doublequote = True\n",
      "     |  \n",
      "     |  lineterminator = '\\n'\n",
      "     |  \n",
      "     |  quotechar = '\"'\n",
      "     |  \n",
      "     |  quoting = 1\n",
      "     |  \n",
      "     |  skipinitialspace = False\n",
      "     |  \n",
      "     |  ----------------------------------------------------------------------\n",
      "     |  Methods inherited from Dialect:\n",
      "     |  \n",
      "     |  __init__(self)\n",
      "     |      Initialize self.  See help(type(self)) for accurate signature.\n",
      "     |  \n",
      "     |  ----------------------------------------------------------------------\n",
      "     |  Data descriptors inherited from Dialect:\n",
      "     |  \n",
      "     |  __dict__\n",
      "     |      dictionary for instance variables (if defined)\n",
      "     |  \n",
      "     |  __weakref__\n",
      "     |      list of weak references to the object (if defined)\n",
      "     |  \n",
      "     |  ----------------------------------------------------------------------\n",
      "     |  Data and other attributes inherited from Dialect:\n",
      "     |  \n",
      "     |  escapechar = None\n",
      "\n",
      "FUNCTIONS\n",
      "    field_size_limit(...)\n",
      "        Sets an upper limit on parsed fields.\n",
      "            csv.field_size_limit([limit])\n",
      "        \n",
      "        Returns old limit. If limit is not given, no new limit is set and\n",
      "        the old limit is returned\n",
      "    \n",
      "    get_dialect(...)\n",
      "        Return the dialect instance associated with name.\n",
      "        dialect = csv.get_dialect(name)\n",
      "    \n",
      "    list_dialects(...)\n",
      "        Return a list of all know dialect names.\n",
      "        names = csv.list_dialects()\n",
      "    \n",
      "    reader(...)\n",
      "        csv_reader = reader(iterable [, dialect='excel']\n",
      "                                [optional keyword args])\n",
      "            for row in csv_reader:\n",
      "                process(row)\n",
      "        \n",
      "        The \"iterable\" argument can be any object that returns a line\n",
      "        of input for each iteration, such as a file object or a list.  The\n",
      "        optional \"dialect\" parameter is discussed below.  The function\n",
      "        also accepts optional keyword arguments which override settings\n",
      "        provided by the dialect.\n",
      "        \n",
      "        The returned object is an iterator.  Each iteration returns a row\n",
      "        of the CSV file (which can span multiple input lines).\n",
      "    \n",
      "    register_dialect(...)\n",
      "        Create a mapping from a string name to a dialect class.\n",
      "        dialect = csv.register_dialect(name[, dialect[, **fmtparams]])\n",
      "    \n",
      "    unregister_dialect(...)\n",
      "        Delete the name/dialect mapping associated with a string name.\n",
      "        csv.unregister_dialect(name)\n",
      "    \n",
      "    writer(...)\n",
      "        csv_writer = csv.writer(fileobj [, dialect='excel']\n",
      "                                    [optional keyword args])\n",
      "            for row in sequence:\n",
      "                csv_writer.writerow(row)\n",
      "        \n",
      "            [or]\n",
      "        \n",
      "            csv_writer = csv.writer(fileobj [, dialect='excel']\n",
      "                                    [optional keyword args])\n",
      "            csv_writer.writerows(rows)\n",
      "        \n",
      "        The \"fileobj\" argument can be any object that supports the file API.\n",
      "\n",
      "DATA\n",
      "    QUOTE_ALL = 1\n",
      "    QUOTE_MINIMAL = 0\n",
      "    QUOTE_NONE = 3\n",
      "    QUOTE_NONNUMERIC = 2\n",
      "    __all__ = ['QUOTE_MINIMAL', 'QUOTE_ALL', 'QUOTE_NONNUMERIC', 'QUOTE_NO...\n",
      "\n",
      "VERSION\n",
      "    1.0\n",
      "\n",
      "FILE\n",
      "    c:\\users\\kunalcogni\\appdata\\local\\programs\\python\\python39\\lib\\csv.py\n",
      "\n",
      "\n"
     ]
    }
   ],
   "source": [
    "help(csv)"
   ]
  },
  {
   "cell_type": "code",
   "execution_count": 86,
   "id": "89bee375",
   "metadata": {},
   "outputs": [],
   "source": [
    "with open('test2.csv','w+') as fp:\n",
    "    writer=csv.writer(fp)\n",
    "    writer.writerows(l)\n",
    "    writer.writerows([\"vinay\",\"python\",\"sep\"])"
   ]
  },
  {
   "cell_type": "code",
   "execution_count": null,
   "id": "2a61ad2c",
   "metadata": {},
   "outputs": [],
   "source": []
  }
 ],
 "metadata": {
  "kernelspec": {
   "display_name": "Python 3 (ipykernel)",
   "language": "python",
   "name": "python3"
  },
  "language_info": {
   "codemirror_mode": {
    "name": "ipython",
    "version": 3
   },
   "file_extension": ".py",
   "mimetype": "text/x-python",
   "name": "python",
   "nbconvert_exporter": "python",
   "pygments_lexer": "ipython3",
   "version": "3.9.7"
  }
 },
 "nbformat": 4,
 "nbformat_minor": 5
}
