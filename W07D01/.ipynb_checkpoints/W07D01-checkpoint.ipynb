{
 "cells": [
  {
   "cell_type": "code",
   "execution_count": 1,
   "id": "9dc4a957",
   "metadata": {},
   "outputs": [
    {
     "name": "stdout",
     "output_type": "stream",
     "text": [
      "The name of the train is intersity Express\n",
      "The seats available in the train are 50\n",
      "The price of the ticket is Rs-300\n",
      "Your ticket has been booked! Your seats no. is 50\n",
      "The name of the train is intersity Express\n",
      "The seats available in the train are 49\n"
     ]
    }
   ],
   "source": [
    "class Train:\n",
    "    def __init__(self,name,fare,seats):\n",
    "        self.name = name\n",
    "        self.fare = fare\n",
    "        self.seats = seats\n",
    "    def getstatus(self):\n",
    "        print(f\"The name of the train is {self.name}\")\n",
    "        print(f\"The seats available in the train are {self.seats}\")\n",
    "    def fareinfo(self):\n",
    "        print(f\"The price of the ticket is Rs-{self.fare}\")\n",
    "    def bookTicket(self):\n",
    "        if(self.seats>0):\n",
    "            print(f\"Your ticket has been booked! Your seats no. is {self.seats}\")\n",
    "            self.seats = self.seats - 1\n",
    "        else:\n",
    "            print(f\"Sorry this train is full! Kindly try in tatkal\")\n",
    "intersity = Train(\"intersity Express\",\"300\",50) \n",
    "intersity.getstatus()\n",
    "intersity.fareinfo()\n",
    "intersity.bookTicket()\n",
    "intersity.getstatus()\n"
   ]
  },
  {
   "cell_type": "code",
   "execution_count": null,
   "id": "4b80d45f",
   "metadata": {},
   "outputs": [],
   "source": [
    "What is Tesing?\n",
    "- to test wheather the code is working as expected or not\n",
    "- testing your code for multtiple parameter"
   ]
  },
  {
   "cell_type": "code",
   "execution_count": null,
   "id": "39d0679c",
   "metadata": {},
   "outputs": [],
   "source": [
    "We get requirements from team leader or our client\n",
    "- based on that we perform testing on our code"
   ]
  },
  {
   "cell_type": "code",
   "execution_count": null,
   "id": "6f484d0e",
   "metadata": {},
   "outputs": [],
   "source": [
    "Unit Testing: Testing Function, small snippet\n",
    "    so as to find the defect in the early stage\n",
    "# We are going to use a third party module(open source) \n",
    "# - pytest"
   ]
  },
  {
   "cell_type": "code",
   "execution_count": 2,
   "id": "57ab136b",
   "metadata": {},
   "outputs": [],
   "source": [
    "x = 3\n",
    "assert x == 3"
   ]
  },
  {
   "cell_type": "code",
   "execution_count": 3,
   "id": "0ee4651f",
   "metadata": {},
   "outputs": [
    {
     "ename": "AssertionError",
     "evalue": "",
     "output_type": "error",
     "traceback": [
      "\u001b[1;31m---------------------------------------------------------------------------\u001b[0m",
      "\u001b[1;31mAssertionError\u001b[0m                            Traceback (most recent call last)",
      "\u001b[1;32mC:\\Users\\KUNALC~1\\AppData\\Local\\Temp/ipykernel_8476/4270525189.py\u001b[0m in \u001b[0;36m<module>\u001b[1;34m\u001b[0m\n\u001b[1;32m----> 1\u001b[1;33m \u001b[1;32massert\u001b[0m \u001b[0mx\u001b[0m \u001b[1;33m==\u001b[0m \u001b[1;34m'charulinga'\u001b[0m\u001b[1;33m\u001b[0m\u001b[1;33m\u001b[0m\u001b[0m\n\u001b[0m",
      "\u001b[1;31mAssertionError\u001b[0m: "
     ]
    }
   ],
   "source": [
    "assert x == 'charulinga'"
   ]
  },
  {
   "cell_type": "code",
   "execution_count": 4,
   "id": "76057c6c",
   "metadata": {},
   "outputs": [
    {
     "ename": "AssertionError",
     "evalue": "",
     "output_type": "error",
     "traceback": [
      "\u001b[1;31m---------------------------------------------------------------------------\u001b[0m",
      "\u001b[1;31mAssertionError\u001b[0m                            Traceback (most recent call last)",
      "\u001b[1;32mC:\\Users\\KUNALC~1\\AppData\\Local\\Temp/ipykernel_8476/3147742560.py\u001b[0m in \u001b[0;36m<module>\u001b[1;34m\u001b[0m\n\u001b[1;32m----> 1\u001b[1;33m \u001b[1;32massert\u001b[0m \u001b[1;34m\"k\"\u001b[0m \u001b[1;32min\u001b[0m \u001b[1;34m\"sandipan\"\u001b[0m\u001b[1;33m\u001b[0m\u001b[1;33m\u001b[0m\u001b[0m\n\u001b[0m",
      "\u001b[1;31mAssertionError\u001b[0m: "
     ]
    }
   ],
   "source": [
    "assert \"k\" in \"sandipan\""
   ]
  },
  {
   "cell_type": "code",
   "execution_count": 5,
   "id": "4ff2bb9b",
   "metadata": {},
   "outputs": [],
   "source": [
    "assert 5"
   ]
  },
  {
   "cell_type": "code",
   "execution_count": 6,
   "id": "11e79d15",
   "metadata": {},
   "outputs": [
    {
     "ename": "AssertionError",
     "evalue": "",
     "output_type": "error",
     "traceback": [
      "\u001b[1;31m---------------------------------------------------------------------------\u001b[0m",
      "\u001b[1;31mAssertionError\u001b[0m                            Traceback (most recent call last)",
      "\u001b[1;32mC:\\Users\\KUNALC~1\\AppData\\Local\\Temp/ipykernel_8476/2103537015.py\u001b[0m in \u001b[0;36m<module>\u001b[1;34m\u001b[0m\n\u001b[1;32m----> 1\u001b[1;33m \u001b[1;32massert\u001b[0m \u001b[1;32mFalse\u001b[0m\u001b[1;33m\u001b[0m\u001b[1;33m\u001b[0m\u001b[0m\n\u001b[0m",
      "\u001b[1;31mAssertionError\u001b[0m: "
     ]
    }
   ],
   "source": [
    "assert False"
   ]
  },
  {
   "cell_type": "code",
   "execution_count": null,
   "id": "bc8cd898",
   "metadata": {},
   "outputs": [],
   "source": []
  }
 ],
 "metadata": {
  "kernelspec": {
   "display_name": "Python 3 (ipykernel)",
   "language": "python",
   "name": "python3"
  },
  "language_info": {
   "codemirror_mode": {
    "name": "ipython",
    "version": 3
   },
   "file_extension": ".py",
   "mimetype": "text/x-python",
   "name": "python",
   "nbconvert_exporter": "python",
   "pygments_lexer": "ipython3",
   "version": "3.9.7"
  }
 },
 "nbformat": 4,
 "nbformat_minor": 5
}
