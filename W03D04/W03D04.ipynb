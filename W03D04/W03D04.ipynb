{
 "cells": [
  {
   "cell_type": "code",
   "execution_count": 1,
   "id": "3caa97ba",
   "metadata": {},
   "outputs": [],
   "source": [
    "# -oo to +oo\n",
    "l = float(\"inf\")"
   ]
  },
  {
   "cell_type": "code",
   "execution_count": 2,
   "id": "1a4968d3",
   "metadata": {},
   "outputs": [
    {
     "data": {
      "text/plain": [
       "False"
      ]
     },
     "execution_count": 2,
     "metadata": {},
     "output_type": "execute_result"
    }
   ],
   "source": [
    "99>l"
   ]
  },
  {
   "cell_type": "code",
   "execution_count": 3,
   "id": "0c539b57",
   "metadata": {},
   "outputs": [
    {
     "data": {
      "text/plain": [
       "True"
      ]
     },
     "execution_count": 3,
     "metadata": {},
     "output_type": "execute_result"
    }
   ],
   "source": [
    "99<l"
   ]
  },
  {
   "cell_type": "code",
   "execution_count": 4,
   "id": "adb9ff91",
   "metadata": {},
   "outputs": [],
   "source": [
    "g = float(\"-inf\")"
   ]
  },
  {
   "cell_type": "code",
   "execution_count": 5,
   "id": "01d8bd9c",
   "metadata": {},
   "outputs": [
    {
     "data": {
      "text/plain": [
       "True"
      ]
     },
     "execution_count": 5,
     "metadata": {},
     "output_type": "execute_result"
    }
   ],
   "source": [
    "99>g"
   ]
  },
  {
   "cell_type": "code",
   "execution_count": 6,
   "id": "477ffe32",
   "metadata": {},
   "outputs": [
    {
     "data": {
      "text/plain": [
       "False"
      ]
     },
     "execution_count": 6,
     "metadata": {},
     "output_type": "execute_result"
    }
   ],
   "source": [
    "99<g"
   ]
  },
  {
   "cell_type": "code",
   "execution_count": 7,
   "id": "f76a3542",
   "metadata": {},
   "outputs": [],
   "source": [
    "import math\n",
    "po_inf = math.inf"
   ]
  },
  {
   "cell_type": "code",
   "execution_count": 8,
   "id": "ad63ef95",
   "metadata": {},
   "outputs": [
    {
     "data": {
      "text/plain": [
       "False"
      ]
     },
     "execution_count": 8,
     "metadata": {},
     "output_type": "execute_result"
    }
   ],
   "source": [
    "-1 > po_inf"
   ]
  },
  {
   "cell_type": "code",
   "execution_count": 9,
   "id": "3833f649",
   "metadata": {},
   "outputs": [],
   "source": [
    "ne_inf = -math.inf"
   ]
  },
  {
   "cell_type": "code",
   "execution_count": 10,
   "id": "cc8e3aec",
   "metadata": {},
   "outputs": [
    {
     "data": {
      "text/plain": [
       "True"
      ]
     },
     "execution_count": 10,
     "metadata": {},
     "output_type": "execute_result"
    }
   ],
   "source": [
    "-1 > ne_inf"
   ]
  },
  {
   "cell_type": "markdown",
   "id": "945ec652",
   "metadata": {},
   "source": [
    "### `Dictionary`"
   ]
  },
  {
   "cell_type": "code",
   "execution_count": 12,
   "id": "a3bb2b76",
   "metadata": {},
   "outputs": [],
   "source": [
    "dict1 = {\"Student_name\":\"Arman\", \"Age\":22, 24: 12, \"30\": \"15\", (1,): False, True: 2+3j, 854 : [8,5,4]}"
   ]
  },
  {
   "cell_type": "code",
   "execution_count": 13,
   "id": "58e2561a",
   "metadata": {},
   "outputs": [
    {
     "name": "stdout",
     "output_type": "stream",
     "text": [
      "Arman\n",
      "12\n",
      "False\n",
      "(2+3j)\n",
      "[8, 5, 4]\n"
     ]
    }
   ],
   "source": [
    "print(dict1[\"Student_name\"])\n",
    "print(dict1[24])\n",
    "print(dict1[(1,)])\n",
    "print(dict1[True])\n",
    "print(dict1[854])"
   ]
  },
  {
   "cell_type": "code",
   "execution_count": 14,
   "id": "a4c906f6",
   "metadata": {},
   "outputs": [
    {
     "ename": "KeyError",
     "evalue": "'Talib'",
     "output_type": "error",
     "traceback": [
      "\u001b[1;31m---------------------------------------------------------------------------\u001b[0m",
      "\u001b[1;31mKeyError\u001b[0m                                  Traceback (most recent call last)",
      "\u001b[1;32mC:\\Users\\KUNALC~1\\AppData\\Local\\Temp/ipykernel_23816/704071994.py\u001b[0m in \u001b[0;36m<module>\u001b[1;34m\u001b[0m\n\u001b[1;32m----> 1\u001b[1;33m \u001b[0mdict1\u001b[0m\u001b[1;33m[\u001b[0m\u001b[1;34m\"Talib\"\u001b[0m\u001b[1;33m]\u001b[0m\u001b[1;33m\u001b[0m\u001b[1;33m\u001b[0m\u001b[0m\n\u001b[0m",
      "\u001b[1;31mKeyError\u001b[0m: 'Talib'"
     ]
    }
   ],
   "source": [
    "dict1[\"Talib\"]"
   ]
  },
  {
   "cell_type": "code",
   "execution_count": 15,
   "id": "72863747",
   "metadata": {},
   "outputs": [
    {
     "name": "stdout",
     "output_type": "stream",
     "text": [
      "None\n"
     ]
    }
   ],
   "source": [
    "print(dict1.get(\"Talib\"))"
   ]
  },
  {
   "cell_type": "code",
   "execution_count": 16,
   "id": "26e8cdb5",
   "metadata": {},
   "outputs": [
    {
     "name": "stdout",
     "output_type": "stream",
     "text": [
      "22\n"
     ]
    }
   ],
   "source": [
    "print(dict1.get(\"Age\"))"
   ]
  },
  {
   "cell_type": "markdown",
   "id": "ff556ef9",
   "metadata": {},
   "source": [
    "## Add an element to a dictionary"
   ]
  },
  {
   "cell_type": "code",
   "execution_count": 17,
   "id": "77c51c51",
   "metadata": {},
   "outputs": [],
   "source": [
    "d = {\"address\": \"Bangluru\"}"
   ]
  },
  {
   "cell_type": "code",
   "execution_count": 18,
   "id": "36463e41",
   "metadata": {},
   "outputs": [],
   "source": [
    "d[\"country\"] = \"India\""
   ]
  },
  {
   "cell_type": "code",
   "execution_count": 19,
   "id": "a4726133",
   "metadata": {},
   "outputs": [
    {
     "data": {
      "text/plain": [
       "{'address': 'Bangluru', 'country': 'India'}"
      ]
     },
     "execution_count": 19,
     "metadata": {},
     "output_type": "execute_result"
    }
   ],
   "source": [
    "d"
   ]
  },
  {
   "cell_type": "code",
   "execution_count": 20,
   "id": "2a5adfa1",
   "metadata": {},
   "outputs": [],
   "source": [
    "t = (23,\"Meraj\")\n",
    "d[t] = \"some value\""
   ]
  },
  {
   "cell_type": "code",
   "execution_count": 22,
   "id": "1e9b336b",
   "metadata": {},
   "outputs": [
    {
     "name": "stdout",
     "output_type": "stream",
     "text": [
      "{'address': 'Bangluru', 'country': 'India', (23, 'Meraj'): 'some value'}\n"
     ]
    }
   ],
   "source": [
    "print(d)"
   ]
  },
  {
   "cell_type": "code",
   "execution_count": 23,
   "id": "6000df18",
   "metadata": {
    "scrolled": false
   },
   "outputs": [
    {
     "name": "stdout",
     "output_type": "stream",
     "text": [
      "Help on class dict in module builtins:\n",
      "\n",
      "class dict(object)\n",
      " |  dict() -> new empty dictionary\n",
      " |  dict(mapping) -> new dictionary initialized from a mapping object's\n",
      " |      (key, value) pairs\n",
      " |  dict(iterable) -> new dictionary initialized as if via:\n",
      " |      d = {}\n",
      " |      for k, v in iterable:\n",
      " |          d[k] = v\n",
      " |  dict(**kwargs) -> new dictionary initialized with the name=value pairs\n",
      " |      in the keyword argument list.  For example:  dict(one=1, two=2)\n",
      " |  \n",
      " |  Built-in subclasses:\n",
      " |      StgDict\n",
      " |  \n",
      " |  Methods defined here:\n",
      " |  \n",
      " |  __contains__(self, key, /)\n",
      " |      True if the dictionary has the specified key, else False.\n",
      " |  \n",
      " |  __delitem__(self, key, /)\n",
      " |      Delete self[key].\n",
      " |  \n",
      " |  __eq__(self, value, /)\n",
      " |      Return self==value.\n",
      " |  \n",
      " |  __ge__(self, value, /)\n",
      " |      Return self>=value.\n",
      " |  \n",
      " |  __getattribute__(self, name, /)\n",
      " |      Return getattr(self, name).\n",
      " |  \n",
      " |  __getitem__(...)\n",
      " |      x.__getitem__(y) <==> x[y]\n",
      " |  \n",
      " |  __gt__(self, value, /)\n",
      " |      Return self>value.\n",
      " |  \n",
      " |  __init__(self, /, *args, **kwargs)\n",
      " |      Initialize self.  See help(type(self)) for accurate signature.\n",
      " |  \n",
      " |  __ior__(self, value, /)\n",
      " |      Return self|=value.\n",
      " |  \n",
      " |  __iter__(self, /)\n",
      " |      Implement iter(self).\n",
      " |  \n",
      " |  __le__(self, value, /)\n",
      " |      Return self<=value.\n",
      " |  \n",
      " |  __len__(self, /)\n",
      " |      Return len(self).\n",
      " |  \n",
      " |  __lt__(self, value, /)\n",
      " |      Return self<value.\n",
      " |  \n",
      " |  __ne__(self, value, /)\n",
      " |      Return self!=value.\n",
      " |  \n",
      " |  __or__(self, value, /)\n",
      " |      Return self|value.\n",
      " |  \n",
      " |  __repr__(self, /)\n",
      " |      Return repr(self).\n",
      " |  \n",
      " |  __reversed__(self, /)\n",
      " |      Return a reverse iterator over the dict keys.\n",
      " |  \n",
      " |  __ror__(self, value, /)\n",
      " |      Return value|self.\n",
      " |  \n",
      " |  __setitem__(self, key, value, /)\n",
      " |      Set self[key] to value.\n",
      " |  \n",
      " |  __sizeof__(...)\n",
      " |      D.__sizeof__() -> size of D in memory, in bytes\n",
      " |  \n",
      " |  clear(...)\n",
      " |      D.clear() -> None.  Remove all items from D.\n",
      " |  \n",
      " |  copy(...)\n",
      " |      D.copy() -> a shallow copy of D\n",
      " |  \n",
      " |  get(self, key, default=None, /)\n",
      " |      Return the value for key if key is in the dictionary, else default.\n",
      " |  \n",
      " |  items(...)\n",
      " |      D.items() -> a set-like object providing a view on D's items\n",
      " |  \n",
      " |  keys(...)\n",
      " |      D.keys() -> a set-like object providing a view on D's keys\n",
      " |  \n",
      " |  pop(...)\n",
      " |      D.pop(k[,d]) -> v, remove specified key and return the corresponding value.\n",
      " |      \n",
      " |      If key is not found, default is returned if given, otherwise KeyError is raised\n",
      " |  \n",
      " |  popitem(self, /)\n",
      " |      Remove and return a (key, value) pair as a 2-tuple.\n",
      " |      \n",
      " |      Pairs are returned in LIFO (last-in, first-out) order.\n",
      " |      Raises KeyError if the dict is empty.\n",
      " |  \n",
      " |  setdefault(self, key, default=None, /)\n",
      " |      Insert key with a value of default if key is not in the dictionary.\n",
      " |      \n",
      " |      Return the value for key if key is in the dictionary, else default.\n",
      " |  \n",
      " |  update(...)\n",
      " |      D.update([E, ]**F) -> None.  Update D from dict/iterable E and F.\n",
      " |      If E is present and has a .keys() method, then does:  for k in E: D[k] = E[k]\n",
      " |      If E is present and lacks a .keys() method, then does:  for k, v in E: D[k] = v\n",
      " |      In either case, this is followed by: for k in F:  D[k] = F[k]\n",
      " |  \n",
      " |  values(...)\n",
      " |      D.values() -> an object providing a view on D's values\n",
      " |  \n",
      " |  ----------------------------------------------------------------------\n",
      " |  Class methods defined here:\n",
      " |  \n",
      " |  __class_getitem__(...) from builtins.type\n",
      " |      See PEP 585\n",
      " |  \n",
      " |  fromkeys(iterable, value=None, /) from builtins.type\n",
      " |      Create a new dictionary with keys from iterable and values set to value.\n",
      " |  \n",
      " |  ----------------------------------------------------------------------\n",
      " |  Static methods defined here:\n",
      " |  \n",
      " |  __new__(*args, **kwargs) from builtins.type\n",
      " |      Create and return a new object.  See help(type) for accurate signature.\n",
      " |  \n",
      " |  ----------------------------------------------------------------------\n",
      " |  Data and other attributes defined here:\n",
      " |  \n",
      " |  __hash__ = None\n",
      "\n"
     ]
    }
   ],
   "source": [
    "help(dict)"
   ]
  },
  {
   "cell_type": "markdown",
   "id": "4da4c642",
   "metadata": {},
   "source": [
    "### `Update value in dictionary`"
   ]
  },
  {
   "cell_type": "code",
   "execution_count": 24,
   "id": "a32d6e91",
   "metadata": {},
   "outputs": [],
   "source": [
    "d2 = {'address': 'Bangluru', 'country': 'India', (23, 'Meraj'): 'some value'}\n",
    "d2[(23,\"Meraj\")] = \"Some Value ++\""
   ]
  },
  {
   "cell_type": "code",
   "execution_count": 25,
   "id": "1b8afaa8",
   "metadata": {},
   "outputs": [
    {
     "name": "stdout",
     "output_type": "stream",
     "text": [
      "{'address': 'Bangluru', 'country': 'India', (23, 'Meraj'): 'Some Value ++'}\n"
     ]
    }
   ],
   "source": [
    "print(d2)"
   ]
  },
  {
   "cell_type": "code",
   "execution_count": 26,
   "id": "9c3f6139",
   "metadata": {},
   "outputs": [
    {
     "ename": "TypeError",
     "evalue": "pop expected at least 1 argument, got 0",
     "output_type": "error",
     "traceback": [
      "\u001b[1;31m---------------------------------------------------------------------------\u001b[0m",
      "\u001b[1;31mTypeError\u001b[0m                                 Traceback (most recent call last)",
      "\u001b[1;32mC:\\Users\\KUNALC~1\\AppData\\Local\\Temp/ipykernel_23816/518067040.py\u001b[0m in \u001b[0;36m<module>\u001b[1;34m\u001b[0m\n\u001b[1;32m----> 1\u001b[1;33m \u001b[0md2\u001b[0m\u001b[1;33m.\u001b[0m\u001b[0mpop\u001b[0m\u001b[1;33m(\u001b[0m\u001b[1;33m)\u001b[0m\u001b[1;33m\u001b[0m\u001b[1;33m\u001b[0m\u001b[0m\n\u001b[0m",
      "\u001b[1;31mTypeError\u001b[0m: pop expected at least 1 argument, got 0"
     ]
    }
   ],
   "source": [
    "d2.pop()"
   ]
  },
  {
   "cell_type": "code",
   "execution_count": 27,
   "id": "dbe8cecc",
   "metadata": {},
   "outputs": [
    {
     "data": {
      "text/plain": [
       "'Bangluru'"
      ]
     },
     "execution_count": 27,
     "metadata": {},
     "output_type": "execute_result"
    }
   ],
   "source": [
    "d2.pop('address')"
   ]
  },
  {
   "cell_type": "code",
   "execution_count": 28,
   "id": "1d593ace",
   "metadata": {},
   "outputs": [
    {
     "name": "stdout",
     "output_type": "stream",
     "text": [
      "{'country': 'India', (23, 'Meraj'): 'Some Value ++'}\n"
     ]
    }
   ],
   "source": [
    "print(d2)"
   ]
  },
  {
   "cell_type": "code",
   "execution_count": 29,
   "id": "de6d7462",
   "metadata": {},
   "outputs": [],
   "source": [
    "d2.clear()"
   ]
  },
  {
   "cell_type": "code",
   "execution_count": 30,
   "id": "2a66f253",
   "metadata": {},
   "outputs": [
    {
     "name": "stdout",
     "output_type": "stream",
     "text": [
      "{}\n"
     ]
    }
   ],
   "source": [
    "print(d2)"
   ]
  },
  {
   "cell_type": "code",
   "execution_count": 31,
   "id": "eec2be64",
   "metadata": {},
   "outputs": [],
   "source": [
    "d3 = {\"Mango\":\"green\",\"apple\":\"Red\",\"Banana\":\"Yellow\",\"Banana\":\"Green\",\"Litchi\":\"Red\"}"
   ]
  },
  {
   "cell_type": "code",
   "execution_count": 32,
   "id": "4d8f891c",
   "metadata": {},
   "outputs": [
    {
     "name": "stdout",
     "output_type": "stream",
     "text": [
      "{'Mango': 'green', 'apple': 'Red', 'Banana': 'Green', 'Litchi': 'Red'}\n"
     ]
    }
   ],
   "source": [
    "print(d3)"
   ]
  },
  {
   "cell_type": "code",
   "execution_count": 33,
   "id": "28e08fbd",
   "metadata": {},
   "outputs": [
    {
     "data": {
      "text/plain": [
       "1"
      ]
     },
     "execution_count": 33,
     "metadata": {},
     "output_type": "execute_result"
    }
   ],
   "source": [
    "d4 = {1:1, 2:2, 3:3}\n",
    "d4[1]"
   ]
  },
  {
   "cell_type": "code",
   "execution_count": 34,
   "id": "f71e240c",
   "metadata": {},
   "outputs": [
    {
     "data": {
      "text/plain": [
       "dict_keys(['Mango', 'apple', 'Banana', 'Litchi'])"
      ]
     },
     "execution_count": 34,
     "metadata": {},
     "output_type": "execute_result"
    }
   ],
   "source": [
    "d3.keys()"
   ]
  },
  {
   "cell_type": "code",
   "execution_count": 35,
   "id": "d919e7e9",
   "metadata": {},
   "outputs": [
    {
     "data": {
      "text/plain": [
       "dict_keys"
      ]
     },
     "execution_count": 35,
     "metadata": {},
     "output_type": "execute_result"
    }
   ],
   "source": [
    "type(d3.keys())"
   ]
  },
  {
   "cell_type": "code",
   "execution_count": 36,
   "id": "4f42b178",
   "metadata": {},
   "outputs": [
    {
     "name": "stdout",
     "output_type": "stream",
     "text": [
      "Mango green\n",
      "apple Red\n",
      "Banana Green\n",
      "Litchi Red\n"
     ]
    }
   ],
   "source": [
    "for i in d3.keys():\n",
    "    print(i, d3[i])"
   ]
  },
  {
   "cell_type": "code",
   "execution_count": 37,
   "id": "b8c2474c",
   "metadata": {
    "collapsed": true
   },
   "outputs": [
    {
     "data": {
      "text/plain": [
       "dict_values(['green', 'Red', 'Green', 'Red'])"
      ]
     },
     "execution_count": 37,
     "metadata": {},
     "output_type": "execute_result"
    }
   ],
   "source": [
    "d3.values()"
   ]
  },
  {
   "cell_type": "code",
   "execution_count": 38,
   "id": "3b677b13",
   "metadata": {},
   "outputs": [
    {
     "name": "stdout",
     "output_type": "stream",
     "text": [
      "green\n",
      "Red\n",
      "Green\n",
      "Red\n"
     ]
    }
   ],
   "source": [
    "for i in d3.values():\n",
    "    print(i)"
   ]
  },
  {
   "cell_type": "code",
   "execution_count": 40,
   "id": "18319269",
   "metadata": {},
   "outputs": [],
   "source": [
    "d5 = {1:1, 2:1, 3:1}"
   ]
  },
  {
   "cell_type": "code",
   "execution_count": 42,
   "id": "a56cd61e",
   "metadata": {},
   "outputs": [
    {
     "data": {
      "text/plain": [
       "1"
      ]
     },
     "execution_count": 42,
     "metadata": {},
     "output_type": "execute_result"
    }
   ],
   "source": [
    "d5[1]"
   ]
  },
  {
   "cell_type": "code",
   "execution_count": 43,
   "id": "0a0a5dfe",
   "metadata": {},
   "outputs": [
    {
     "data": {
      "text/plain": [
       "1"
      ]
     },
     "execution_count": 43,
     "metadata": {},
     "output_type": "execute_result"
    }
   ],
   "source": [
    "d5[2]"
   ]
  },
  {
   "cell_type": "code",
   "execution_count": 44,
   "id": "32a2c67f",
   "metadata": {},
   "outputs": [
    {
     "data": {
      "text/plain": [
       "1"
      ]
     },
     "execution_count": 44,
     "metadata": {},
     "output_type": "execute_result"
    }
   ],
   "source": [
    "d5[3]"
   ]
  },
  {
   "cell_type": "code",
   "execution_count": 45,
   "id": "ff1cc489",
   "metadata": {},
   "outputs": [],
   "source": [
    "d = dict(Kuladeep=\"Pathak\",Sharon=\"Seeli\")"
   ]
  },
  {
   "cell_type": "code",
   "execution_count": 46,
   "id": "eb810d66",
   "metadata": {},
   "outputs": [
    {
     "name": "stdout",
     "output_type": "stream",
     "text": [
      "{'Kuladeep': 'Pathak', 'Sharon': 'Seeli'}\n"
     ]
    }
   ],
   "source": [
    "print(d)"
   ]
  },
  {
   "cell_type": "code",
   "execution_count": 47,
   "id": "c923b734",
   "metadata": {},
   "outputs": [
    {
     "data": {
      "text/plain": [
       "dict_items([('Kuladeep', 'Pathak'), ('Sharon', 'Seeli')])"
      ]
     },
     "execution_count": 47,
     "metadata": {},
     "output_type": "execute_result"
    }
   ],
   "source": [
    "d.items()"
   ]
  },
  {
   "cell_type": "code",
   "execution_count": 48,
   "id": "5b19424b",
   "metadata": {},
   "outputs": [
    {
     "name": "stdout",
     "output_type": "stream",
     "text": [
      "('Kuladeep', 'Pathak')\n",
      "('Sharon', 'Seeli')\n"
     ]
    }
   ],
   "source": [
    "for i in d.items():\n",
    "    print(i)"
   ]
  },
  {
   "cell_type": "code",
   "execution_count": 49,
   "id": "7c6adf82",
   "metadata": {},
   "outputs": [
    {
     "ename": "SyntaxError",
     "evalue": "expression cannot contain assignment, perhaps you meant \"==\"? (Temp/ipykernel_23816/837332735.py, line 1)",
     "output_type": "error",
     "traceback": [
      "\u001b[1;36m  File \u001b[1;32m\"C:\\Users\\KUNALC~1\\AppData\\Local\\Temp/ipykernel_23816/837332735.py\"\u001b[1;36m, line \u001b[1;32m1\u001b[0m\n\u001b[1;33m    d2 = dict((1,2,3)=\"Meghna\")\u001b[0m\n\u001b[1;37m              ^\u001b[0m\n\u001b[1;31mSyntaxError\u001b[0m\u001b[1;31m:\u001b[0m expression cannot contain assignment, perhaps you meant \"==\"?\n"
     ]
    }
   ],
   "source": [
    "d2 = dict((1,2,3)=\"Meghna\")"
   ]
  },
  {
   "cell_type": "code",
   "execution_count": 51,
   "id": "318b62c3",
   "metadata": {},
   "outputs": [],
   "source": [
    "d3 = dict(one=1,two=2,three=3)"
   ]
  },
  {
   "cell_type": "code",
   "execution_count": 52,
   "id": "383b8a63",
   "metadata": {},
   "outputs": [
    {
     "name": "stdout",
     "output_type": "stream",
     "text": [
      "{'one': 1, 'two': 2, 'three': 3}\n"
     ]
    }
   ],
   "source": [
    "print(d3)"
   ]
  },
  {
   "cell_type": "code",
   "execution_count": 53,
   "id": "983dec9b",
   "metadata": {},
   "outputs": [],
   "source": [
    "#Q) {1:1, 2:4, 3:9, 4:16, 5:25}"
   ]
  },
  {
   "cell_type": "code",
   "execution_count": 54,
   "id": "ff450b59",
   "metadata": {},
   "outputs": [],
   "source": [
    "d = {}\n",
    "for i in range(1,6):\n",
    "    d[i] = i*i"
   ]
  },
  {
   "cell_type": "code",
   "execution_count": 55,
   "id": "4bd02ecb",
   "metadata": {},
   "outputs": [
    {
     "name": "stdout",
     "output_type": "stream",
     "text": [
      "{1: 1, 2: 4, 3: 9, 4: 16, 5: 25}\n"
     ]
    }
   ],
   "source": [
    "print(d)"
   ]
  },
  {
   "cell_type": "code",
   "execution_count": 56,
   "id": "83df7f8c",
   "metadata": {},
   "outputs": [
    {
     "data": {
      "text/plain": [
       "65"
      ]
     },
     "execution_count": 56,
     "metadata": {},
     "output_type": "execute_result"
    }
   ],
   "source": [
    "ord(\"A\")"
   ]
  },
  {
   "cell_type": "code",
   "execution_count": 57,
   "id": "7e0340d4",
   "metadata": {},
   "outputs": [
    {
     "data": {
      "text/plain": [
       "'O'"
      ]
     },
     "execution_count": 57,
     "metadata": {},
     "output_type": "execute_result"
    }
   ],
   "source": [
    "chr(79)"
   ]
  },
  {
   "cell_type": "code",
   "execution_count": null,
   "id": "1a70ca37",
   "metadata": {},
   "outputs": [],
   "source": [
    "Q) {\"A\":65,\"B\":66,\"C\":67...}\n",
    "21:06"
   ]
  },
  {
   "cell_type": "code",
   "execution_count": 58,
   "id": "e18897c0",
   "metadata": {},
   "outputs": [],
   "source": [
    "d = {}\n",
    "for i in range(ord(\"A\"),ord(\"Z\")+1):\n",
    "    d[chr(i)] = i"
   ]
  },
  {
   "cell_type": "code",
   "execution_count": 59,
   "id": "cec10bc0",
   "metadata": {},
   "outputs": [
    {
     "name": "stdout",
     "output_type": "stream",
     "text": [
      "{'A': 65, 'B': 66, 'C': 67, 'D': 68, 'E': 69, 'F': 70, 'G': 71, 'H': 72, 'I': 73, 'J': 74, 'K': 75, 'L': 76, 'M': 77, 'N': 78, 'O': 79, 'P': 80, 'Q': 81, 'R': 82, 'S': 83, 'T': 84, 'U': 85, 'V': 86, 'W': 87, 'X': 88, 'Y': 89, 'Z': 90}\n"
     ]
    }
   ],
   "source": [
    "print(d)"
   ]
  },
  {
   "cell_type": "markdown",
   "id": "1b682bfb",
   "metadata": {},
   "source": [
    "### `Set`"
   ]
  },
  {
   "cell_type": "markdown",
   "id": "ea7154fe",
   "metadata": {},
   "source": [
    "A set is an unordered collection of items. Every Set element is unique(no duplicates)\n",
    "and must be **IMMUTABLE**(unchangeble). Our Set itself is **MUTABLE**"
   ]
  },
  {
   "cell_type": "code",
   "execution_count": 60,
   "id": "fe2d78ff",
   "metadata": {},
   "outputs": [],
   "source": [
    "s = {1,2.3}"
   ]
  },
  {
   "cell_type": "code",
   "execution_count": 61,
   "id": "0e0c21ab",
   "metadata": {},
   "outputs": [
    {
     "name": "stdout",
     "output_type": "stream",
     "text": [
      "<class 'set'>\n"
     ]
    }
   ],
   "source": [
    "print(type(s))"
   ]
  },
  {
   "cell_type": "code",
   "execution_count": 62,
   "id": "aed0d558",
   "metadata": {},
   "outputs": [
    {
     "name": "stdout",
     "output_type": "stream",
     "text": [
      "<class 'dict'>\n"
     ]
    }
   ],
   "source": [
    "s = {}\n",
    "print(type(s))"
   ]
  },
  {
   "cell_type": "code",
   "execution_count": 63,
   "id": "dab06d82",
   "metadata": {},
   "outputs": [
    {
     "name": "stdout",
     "output_type": "stream",
     "text": [
      "<class 'set'>\n"
     ]
    }
   ],
   "source": [
    "s = set()\n",
    "print(type(s))"
   ]
  },
  {
   "cell_type": "code",
   "execution_count": 64,
   "id": "1d729c9f",
   "metadata": {
    "scrolled": false
   },
   "outputs": [
    {
     "name": "stdout",
     "output_type": "stream",
     "text": [
      "Help on class set in module builtins:\n",
      "\n",
      "class set(object)\n",
      " |  set() -> new empty set object\n",
      " |  set(iterable) -> new set object\n",
      " |  \n",
      " |  Build an unordered collection of unique elements.\n",
      " |  \n",
      " |  Methods defined here:\n",
      " |  \n",
      " |  __and__(self, value, /)\n",
      " |      Return self&value.\n",
      " |  \n",
      " |  __contains__(...)\n",
      " |      x.__contains__(y) <==> y in x.\n",
      " |  \n",
      " |  __eq__(self, value, /)\n",
      " |      Return self==value.\n",
      " |  \n",
      " |  __ge__(self, value, /)\n",
      " |      Return self>=value.\n",
      " |  \n",
      " |  __getattribute__(self, name, /)\n",
      " |      Return getattr(self, name).\n",
      " |  \n",
      " |  __gt__(self, value, /)\n",
      " |      Return self>value.\n",
      " |  \n",
      " |  __iand__(self, value, /)\n",
      " |      Return self&=value.\n",
      " |  \n",
      " |  __init__(self, /, *args, **kwargs)\n",
      " |      Initialize self.  See help(type(self)) for accurate signature.\n",
      " |  \n",
      " |  __ior__(self, value, /)\n",
      " |      Return self|=value.\n",
      " |  \n",
      " |  __isub__(self, value, /)\n",
      " |      Return self-=value.\n",
      " |  \n",
      " |  __iter__(self, /)\n",
      " |      Implement iter(self).\n",
      " |  \n",
      " |  __ixor__(self, value, /)\n",
      " |      Return self^=value.\n",
      " |  \n",
      " |  __le__(self, value, /)\n",
      " |      Return self<=value.\n",
      " |  \n",
      " |  __len__(self, /)\n",
      " |      Return len(self).\n",
      " |  \n",
      " |  __lt__(self, value, /)\n",
      " |      Return self<value.\n",
      " |  \n",
      " |  __ne__(self, value, /)\n",
      " |      Return self!=value.\n",
      " |  \n",
      " |  __or__(self, value, /)\n",
      " |      Return self|value.\n",
      " |  \n",
      " |  __rand__(self, value, /)\n",
      " |      Return value&self.\n",
      " |  \n",
      " |  __reduce__(...)\n",
      " |      Return state information for pickling.\n",
      " |  \n",
      " |  __repr__(self, /)\n",
      " |      Return repr(self).\n",
      " |  \n",
      " |  __ror__(self, value, /)\n",
      " |      Return value|self.\n",
      " |  \n",
      " |  __rsub__(self, value, /)\n",
      " |      Return value-self.\n",
      " |  \n",
      " |  __rxor__(self, value, /)\n",
      " |      Return value^self.\n",
      " |  \n",
      " |  __sizeof__(...)\n",
      " |      S.__sizeof__() -> size of S in memory, in bytes\n",
      " |  \n",
      " |  __sub__(self, value, /)\n",
      " |      Return self-value.\n",
      " |  \n",
      " |  __xor__(self, value, /)\n",
      " |      Return self^value.\n",
      " |  \n",
      " |  add(...)\n",
      " |      Add an element to a set.\n",
      " |      \n",
      " |      This has no effect if the element is already present.\n",
      " |  \n",
      " |  clear(...)\n",
      " |      Remove all elements from this set.\n",
      " |  \n",
      " |  copy(...)\n",
      " |      Return a shallow copy of a set.\n",
      " |  \n",
      " |  difference(...)\n",
      " |      Return the difference of two or more sets as a new set.\n",
      " |      \n",
      " |      (i.e. all elements that are in this set but not the others.)\n",
      " |  \n",
      " |  difference_update(...)\n",
      " |      Remove all elements of another set from this set.\n",
      " |  \n",
      " |  discard(...)\n",
      " |      Remove an element from a set if it is a member.\n",
      " |      \n",
      " |      If the element is not a member, do nothing.\n",
      " |  \n",
      " |  intersection(...)\n",
      " |      Return the intersection of two sets as a new set.\n",
      " |      \n",
      " |      (i.e. all elements that are in both sets.)\n",
      " |  \n",
      " |  intersection_update(...)\n",
      " |      Update a set with the intersection of itself and another.\n",
      " |  \n",
      " |  isdisjoint(...)\n",
      " |      Return True if two sets have a null intersection.\n",
      " |  \n",
      " |  issubset(...)\n",
      " |      Report whether another set contains this set.\n",
      " |  \n",
      " |  issuperset(...)\n",
      " |      Report whether this set contains another set.\n",
      " |  \n",
      " |  pop(...)\n",
      " |      Remove and return an arbitrary set element.\n",
      " |      Raises KeyError if the set is empty.\n",
      " |  \n",
      " |  remove(...)\n",
      " |      Remove an element from a set; it must be a member.\n",
      " |      \n",
      " |      If the element is not a member, raise a KeyError.\n",
      " |  \n",
      " |  symmetric_difference(...)\n",
      " |      Return the symmetric difference of two sets as a new set.\n",
      " |      \n",
      " |      (i.e. all elements that are in exactly one of the sets.)\n",
      " |  \n",
      " |  symmetric_difference_update(...)\n",
      " |      Update a set with the symmetric difference of itself and another.\n",
      " |  \n",
      " |  union(...)\n",
      " |      Return the union of sets as a new set.\n",
      " |      \n",
      " |      (i.e. all elements that are in either set.)\n",
      " |  \n",
      " |  update(...)\n",
      " |      Update a set with the union of itself and others.\n",
      " |  \n",
      " |  ----------------------------------------------------------------------\n",
      " |  Class methods defined here:\n",
      " |  \n",
      " |  __class_getitem__(...) from builtins.type\n",
      " |      See PEP 585\n",
      " |  \n",
      " |  ----------------------------------------------------------------------\n",
      " |  Static methods defined here:\n",
      " |  \n",
      " |  __new__(*args, **kwargs) from builtins.type\n",
      " |      Create and return a new object.  See help(type) for accurate signature.\n",
      " |  \n",
      " |  ----------------------------------------------------------------------\n",
      " |  Data and other attributes defined here:\n",
      " |  \n",
      " |  __hash__ = None\n",
      "\n"
     ]
    }
   ],
   "source": [
    "help(set)"
   ]
  },
  {
   "cell_type": "code",
   "execution_count": 65,
   "id": "a75fe6d5",
   "metadata": {},
   "outputs": [],
   "source": [
    "s.add(\"Saikumar\")"
   ]
  },
  {
   "cell_type": "code",
   "execution_count": 66,
   "id": "867d85ec",
   "metadata": {},
   "outputs": [],
   "source": [
    "s.add(\"TALIB\")"
   ]
  },
  {
   "cell_type": "code",
   "execution_count": 67,
   "id": "0a08a010",
   "metadata": {},
   "outputs": [],
   "source": [
    "s.add(123)"
   ]
  },
  {
   "cell_type": "code",
   "execution_count": 68,
   "id": "f407f78f",
   "metadata": {},
   "outputs": [],
   "source": [
    "t = (1,2)\n",
    "s.add(t)"
   ]
  },
  {
   "cell_type": "code",
   "execution_count": 69,
   "id": "f32789f8",
   "metadata": {},
   "outputs": [
    {
     "ename": "TypeError",
     "evalue": "unhashable type: 'list'",
     "output_type": "error",
     "traceback": [
      "\u001b[1;31m---------------------------------------------------------------------------\u001b[0m",
      "\u001b[1;31mTypeError\u001b[0m                                 Traceback (most recent call last)",
      "\u001b[1;32mC:\\Users\\KUNALC~1\\AppData\\Local\\Temp/ipykernel_23816/3143960990.py\u001b[0m in \u001b[0;36m<module>\u001b[1;34m\u001b[0m\n\u001b[0;32m      1\u001b[0m \u001b[0ml\u001b[0m \u001b[1;33m=\u001b[0m \u001b[1;33m[\u001b[0m\u001b[1;36m1\u001b[0m\u001b[1;33m,\u001b[0m\u001b[1;36m2\u001b[0m\u001b[1;33m,\u001b[0m\u001b[1;36m3\u001b[0m\u001b[1;33m]\u001b[0m\u001b[1;33m\u001b[0m\u001b[1;33m\u001b[0m\u001b[0m\n\u001b[1;32m----> 2\u001b[1;33m \u001b[0ms\u001b[0m\u001b[1;33m.\u001b[0m\u001b[0madd\u001b[0m\u001b[1;33m(\u001b[0m\u001b[0ml\u001b[0m\u001b[1;33m)\u001b[0m\u001b[1;33m\u001b[0m\u001b[1;33m\u001b[0m\u001b[0m\n\u001b[0m",
      "\u001b[1;31mTypeError\u001b[0m: unhashable type: 'list'"
     ]
    }
   ],
   "source": [
    "l = [1,2,3]\n",
    "s.add(l)"
   ]
  },
  {
   "cell_type": "code",
   "execution_count": 70,
   "id": "7799544a",
   "metadata": {},
   "outputs": [
    {
     "name": "stdout",
     "output_type": "stream",
     "text": [
      "Edyoda\n",
      "Digital\n",
      "University\n"
     ]
    }
   ],
   "source": [
    "for i in range(3):\n",
    "    s.add(input())"
   ]
  },
  {
   "cell_type": "code",
   "execution_count": 71,
   "id": "b90099af",
   "metadata": {},
   "outputs": [
    {
     "name": "stdout",
     "output_type": "stream",
     "text": [
      "{(1, 2), 'Digital', 'TALIB', 'University', 'Saikumar', 123, 'Edyoda'}\n"
     ]
    }
   ],
   "source": [
    "print(s)"
   ]
  },
  {
   "cell_type": "code",
   "execution_count": 72,
   "id": "911cc6e2",
   "metadata": {},
   "outputs": [],
   "source": [
    "s.update([\"Sayali\",\"Pratiksha\",\"Priya\"])"
   ]
  },
  {
   "cell_type": "code",
   "execution_count": 73,
   "id": "bb204f88",
   "metadata": {},
   "outputs": [
    {
     "name": "stdout",
     "output_type": "stream",
     "text": [
      "{(1, 2), 'Digital', 'Sayali', 'TALIB', 'Pratiksha', 'Priya', 'University', 'Saikumar', 123, 'Edyoda'}\n"
     ]
    }
   ],
   "source": [
    "print(s)"
   ]
  },
  {
   "cell_type": "code",
   "execution_count": 74,
   "id": "1b60527c",
   "metadata": {},
   "outputs": [],
   "source": [
    "s.discard(123)"
   ]
  },
  {
   "cell_type": "code",
   "execution_count": 75,
   "id": "322cd2fc",
   "metadata": {},
   "outputs": [
    {
     "name": "stdout",
     "output_type": "stream",
     "text": [
      "{(1, 2), 'Digital', 'Sayali', 'TALIB', 'Pratiksha', 'Priya', 'University', 'Saikumar', 'Edyoda'}\n"
     ]
    }
   ],
   "source": [
    "print(s)"
   ]
  },
  {
   "cell_type": "code",
   "execution_count": 77,
   "id": "98860e54",
   "metadata": {},
   "outputs": [
    {
     "name": "stdout",
     "output_type": "stream",
     "text": [
      "None\n"
     ]
    }
   ],
   "source": [
    "print(s.discard(\"Armaan\"))"
   ]
  },
  {
   "cell_type": "code",
   "execution_count": 78,
   "id": "0342a406",
   "metadata": {},
   "outputs": [],
   "source": [
    "s.remove((1,2))"
   ]
  },
  {
   "cell_type": "code",
   "execution_count": 79,
   "id": "fda9ae21",
   "metadata": {},
   "outputs": [
    {
     "name": "stdout",
     "output_type": "stream",
     "text": [
      "{'Digital', 'Sayali', 'TALIB', 'Pratiksha', 'Priya', 'University', 'Saikumar', 'Edyoda'}\n"
     ]
    }
   ],
   "source": [
    "print(s)"
   ]
  },
  {
   "cell_type": "code",
   "execution_count": 80,
   "id": "3b4c0041",
   "metadata": {},
   "outputs": [
    {
     "ename": "KeyError",
     "evalue": "'Kunal'",
     "output_type": "error",
     "traceback": [
      "\u001b[1;31m---------------------------------------------------------------------------\u001b[0m",
      "\u001b[1;31mKeyError\u001b[0m                                  Traceback (most recent call last)",
      "\u001b[1;32mC:\\Users\\KUNALC~1\\AppData\\Local\\Temp/ipykernel_23816/2922385030.py\u001b[0m in \u001b[0;36m<module>\u001b[1;34m\u001b[0m\n\u001b[1;32m----> 1\u001b[1;33m \u001b[0ms\u001b[0m\u001b[1;33m.\u001b[0m\u001b[0mremove\u001b[0m\u001b[1;33m(\u001b[0m\u001b[1;34m\"Kunal\"\u001b[0m\u001b[1;33m)\u001b[0m\u001b[1;33m\u001b[0m\u001b[1;33m\u001b[0m\u001b[0m\n\u001b[0m",
      "\u001b[1;31mKeyError\u001b[0m: 'Kunal'"
     ]
    }
   ],
   "source": [
    "s.remove(\"Kunal\")"
   ]
  },
  {
   "cell_type": "code",
   "execution_count": 81,
   "id": "01ba8082",
   "metadata": {},
   "outputs": [],
   "source": [
    "s.clear()"
   ]
  },
  {
   "cell_type": "code",
   "execution_count": 82,
   "id": "0a82142f",
   "metadata": {},
   "outputs": [
    {
     "name": "stdout",
     "output_type": "stream",
     "text": [
      "set()\n"
     ]
    }
   ],
   "source": [
    "print(s)"
   ]
  },
  {
   "cell_type": "code",
   "execution_count": 83,
   "id": "7d118a9d",
   "metadata": {},
   "outputs": [],
   "source": [
    "del s"
   ]
  },
  {
   "cell_type": "code",
   "execution_count": 84,
   "id": "f18a8a1a",
   "metadata": {},
   "outputs": [
    {
     "ename": "NameError",
     "evalue": "name 's' is not defined",
     "output_type": "error",
     "traceback": [
      "\u001b[1;31m---------------------------------------------------------------------------\u001b[0m",
      "\u001b[1;31mNameError\u001b[0m                                 Traceback (most recent call last)",
      "\u001b[1;32mC:\\Users\\KUNALC~1\\AppData\\Local\\Temp/ipykernel_23816/926740265.py\u001b[0m in \u001b[0;36m<module>\u001b[1;34m\u001b[0m\n\u001b[1;32m----> 1\u001b[1;33m \u001b[0mprint\u001b[0m\u001b[1;33m(\u001b[0m\u001b[0ms\u001b[0m\u001b[1;33m)\u001b[0m\u001b[1;33m\u001b[0m\u001b[1;33m\u001b[0m\u001b[0m\n\u001b[0m",
      "\u001b[1;31mNameError\u001b[0m: name 's' is not defined"
     ]
    }
   ],
   "source": [
    "print(s)"
   ]
  },
  {
   "cell_type": "code",
   "execution_count": null,
   "id": "bda8adc4",
   "metadata": {},
   "outputs": [],
   "source": [
    "H/W:\n",
    "    pop() and other builtin methods"
   ]
  }
 ],
 "metadata": {
  "kernelspec": {
   "display_name": "Python 3 (ipykernel)",
   "language": "python",
   "name": "python3"
  },
  "language_info": {
   "codemirror_mode": {
    "name": "ipython",
    "version": 3
   },
   "file_extension": ".py",
   "mimetype": "text/x-python",
   "name": "python",
   "nbconvert_exporter": "python",
   "pygments_lexer": "ipython3",
   "version": "3.9.7"
  }
 },
 "nbformat": 4,
 "nbformat_minor": 5
}
