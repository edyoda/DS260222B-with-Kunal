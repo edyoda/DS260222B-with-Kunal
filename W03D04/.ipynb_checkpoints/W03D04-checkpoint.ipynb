{
 "cells": [
  {
   "cell_type": "code",
   "execution_count": 1,
   "id": "8c45746d",
   "metadata": {},
   "outputs": [],
   "source": [
    "# -oo to +oo\n",
    "l = float(\"inf\")"
   ]
  },
  {
   "cell_type": "code",
   "execution_count": 2,
   "id": "8dc0cb81",
   "metadata": {},
   "outputs": [
    {
     "data": {
      "text/plain": [
       "False"
      ]
     },
     "execution_count": 2,
     "metadata": {},
     "output_type": "execute_result"
    }
   ],
   "source": [
    "99>l"
   ]
  },
  {
   "cell_type": "code",
   "execution_count": 3,
   "id": "d751a8a0",
   "metadata": {},
   "outputs": [
    {
     "data": {
      "text/plain": [
       "True"
      ]
     },
     "execution_count": 3,
     "metadata": {},
     "output_type": "execute_result"
    }
   ],
   "source": [
    "99<l"
   ]
  },
  {
   "cell_type": "code",
   "execution_count": 4,
   "id": "8501bbb0",
   "metadata": {},
   "outputs": [],
   "source": [
    "g = float(\"-inf\")"
   ]
  },
  {
   "cell_type": "code",
   "execution_count": 5,
   "id": "38b932c0",
   "metadata": {},
   "outputs": [
    {
     "data": {
      "text/plain": [
       "True"
      ]
     },
     "execution_count": 5,
     "metadata": {},
     "output_type": "execute_result"
    }
   ],
   "source": [
    "99>g"
   ]
  },
  {
   "cell_type": "code",
   "execution_count": 6,
   "id": "89ad2660",
   "metadata": {},
   "outputs": [
    {
     "data": {
      "text/plain": [
       "False"
      ]
     },
     "execution_count": 6,
     "metadata": {},
     "output_type": "execute_result"
    }
   ],
   "source": [
    "99<g"
   ]
  },
  {
   "cell_type": "code",
   "execution_count": 7,
   "id": "16cdb12d",
   "metadata": {},
   "outputs": [],
   "source": [
    "import math\n",
    "po_inf = math.inf"
   ]
  },
  {
   "cell_type": "code",
   "execution_count": 8,
   "id": "ab8bdacd",
   "metadata": {},
   "outputs": [
    {
     "data": {
      "text/plain": [
       "False"
      ]
     },
     "execution_count": 8,
     "metadata": {},
     "output_type": "execute_result"
    }
   ],
   "source": [
    "-1 > po_inf"
   ]
  },
  {
   "cell_type": "code",
   "execution_count": 9,
   "id": "b0c39147",
   "metadata": {},
   "outputs": [],
   "source": [
    "ne_inf = -math.inf"
   ]
  },
  {
   "cell_type": "code",
   "execution_count": 10,
   "id": "dd04514f",
   "metadata": {},
   "outputs": [
    {
     "data": {
      "text/plain": [
       "True"
      ]
     },
     "execution_count": 10,
     "metadata": {},
     "output_type": "execute_result"
    }
   ],
   "source": [
    "-1 > ne_inf"
   ]
  },
  {
   "cell_type": "markdown",
   "id": "668d1627",
   "metadata": {},
   "source": [
    "### `Dictionary`"
   ]
  },
  {
   "cell_type": "code",
   "execution_count": 12,
   "id": "a4f2d7ad",
   "metadata": {},
   "outputs": [],
   "source": [
    "dict1 = {\"Student_name\":\"Arman\", \"Age\":22, 24: 12, \"30\": \"15\", (1,): False, True: 2+3j, 854 : [8,5,4]}"
   ]
  },
  {
   "cell_type": "code",
   "execution_count": 13,
   "id": "9d6c78b8",
   "metadata": {},
   "outputs": [
    {
     "name": "stdout",
     "output_type": "stream",
     "text": [
      "Arman\n",
      "12\n",
      "False\n",
      "(2+3j)\n",
      "[8, 5, 4]\n"
     ]
    }
   ],
   "source": [
    "print(dict1[\"Student_name\"])\n",
    "print(dict1[24])\n",
    "print(dict1[(1,)])\n",
    "print(dict1[True])\n",
    "print(dict1[854])"
   ]
  },
  {
   "cell_type": "code",
   "execution_count": 14,
   "id": "78a5266f",
   "metadata": {},
   "outputs": [
    {
     "ename": "KeyError",
     "evalue": "'Talib'",
     "output_type": "error",
     "traceback": [
      "\u001b[1;31m---------------------------------------------------------------------------\u001b[0m",
      "\u001b[1;31mKeyError\u001b[0m                                  Traceback (most recent call last)",
      "\u001b[1;32mC:\\Users\\KUNALC~1\\AppData\\Local\\Temp/ipykernel_23816/704071994.py\u001b[0m in \u001b[0;36m<module>\u001b[1;34m\u001b[0m\n\u001b[1;32m----> 1\u001b[1;33m \u001b[0mdict1\u001b[0m\u001b[1;33m[\u001b[0m\u001b[1;34m\"Talib\"\u001b[0m\u001b[1;33m]\u001b[0m\u001b[1;33m\u001b[0m\u001b[1;33m\u001b[0m\u001b[0m\n\u001b[0m",
      "\u001b[1;31mKeyError\u001b[0m: 'Talib'"
     ]
    }
   ],
   "source": [
    "dict1[\"Talib\"]"
   ]
  },
  {
   "cell_type": "code",
   "execution_count": 15,
   "id": "db3da092",
   "metadata": {},
   "outputs": [
    {
     "name": "stdout",
     "output_type": "stream",
     "text": [
      "None\n"
     ]
    }
   ],
   "source": [
    "print(dict1.get(\"Talib\"))"
   ]
  },
  {
   "cell_type": "code",
   "execution_count": 16,
   "id": "e1801084",
   "metadata": {},
   "outputs": [
    {
     "name": "stdout",
     "output_type": "stream",
     "text": [
      "22\n"
     ]
    }
   ],
   "source": [
    "print(dict1.get(\"Age\"))"
   ]
  },
  {
   "cell_type": "markdown",
   "id": "f6be0e40",
   "metadata": {},
   "source": [
    "## Add an element to a dictionary"
   ]
  },
  {
   "cell_type": "code",
   "execution_count": 17,
   "id": "4283cf22",
   "metadata": {},
   "outputs": [],
   "source": [
    "d = {\"address\": \"Bangluru\"}"
   ]
  },
  {
   "cell_type": "code",
   "execution_count": 18,
   "id": "07f2a299",
   "metadata": {},
   "outputs": [],
   "source": [
    "d[\"country\"] = \"India\""
   ]
  },
  {
   "cell_type": "code",
   "execution_count": 19,
   "id": "dc2582f8",
   "metadata": {},
   "outputs": [
    {
     "data": {
      "text/plain": [
       "{'address': 'Bangluru', 'country': 'India'}"
      ]
     },
     "execution_count": 19,
     "metadata": {},
     "output_type": "execute_result"
    }
   ],
   "source": [
    "d"
   ]
  },
  {
   "cell_type": "code",
   "execution_count": 20,
   "id": "3fc5fe0e",
   "metadata": {},
   "outputs": [],
   "source": [
    "t = (23,\"Meraj\")\n",
    "d[t] = \"some value\""
   ]
  },
  {
   "cell_type": "code",
   "execution_count": 22,
   "id": "f15cdf54",
   "metadata": {},
   "outputs": [
    {
     "name": "stdout",
     "output_type": "stream",
     "text": [
      "{'address': 'Bangluru', 'country': 'India', (23, 'Meraj'): 'some value'}\n"
     ]
    }
   ],
   "source": [
    "print(d)"
   ]
  },
  {
   "cell_type": "code",
   "execution_count": 23,
   "id": "3277eff6",
   "metadata": {
    "scrolled": true
   },
   "outputs": [
    {
     "name": "stdout",
     "output_type": "stream",
     "text": [
      "Help on class dict in module builtins:\n",
      "\n",
      "class dict(object)\n",
      " |  dict() -> new empty dictionary\n",
      " |  dict(mapping) -> new dictionary initialized from a mapping object's\n",
      " |      (key, value) pairs\n",
      " |  dict(iterable) -> new dictionary initialized as if via:\n",
      " |      d = {}\n",
      " |      for k, v in iterable:\n",
      " |          d[k] = v\n",
      " |  dict(**kwargs) -> new dictionary initialized with the name=value pairs\n",
      " |      in the keyword argument list.  For example:  dict(one=1, two=2)\n",
      " |  \n",
      " |  Built-in subclasses:\n",
      " |      StgDict\n",
      " |  \n",
      " |  Methods defined here:\n",
      " |  \n",
      " |  __contains__(self, key, /)\n",
      " |      True if the dictionary has the specified key, else False.\n",
      " |  \n",
      " |  __delitem__(self, key, /)\n",
      " |      Delete self[key].\n",
      " |  \n",
      " |  __eq__(self, value, /)\n",
      " |      Return self==value.\n",
      " |  \n",
      " |  __ge__(self, value, /)\n",
      " |      Return self>=value.\n",
      " |  \n",
      " |  __getattribute__(self, name, /)\n",
      " |      Return getattr(self, name).\n",
      " |  \n",
      " |  __getitem__(...)\n",
      " |      x.__getitem__(y) <==> x[y]\n",
      " |  \n",
      " |  __gt__(self, value, /)\n",
      " |      Return self>value.\n",
      " |  \n",
      " |  __init__(self, /, *args, **kwargs)\n",
      " |      Initialize self.  See help(type(self)) for accurate signature.\n",
      " |  \n",
      " |  __ior__(self, value, /)\n",
      " |      Return self|=value.\n",
      " |  \n",
      " |  __iter__(self, /)\n",
      " |      Implement iter(self).\n",
      " |  \n",
      " |  __le__(self, value, /)\n",
      " |      Return self<=value.\n",
      " |  \n",
      " |  __len__(self, /)\n",
      " |      Return len(self).\n",
      " |  \n",
      " |  __lt__(self, value, /)\n",
      " |      Return self<value.\n",
      " |  \n",
      " |  __ne__(self, value, /)\n",
      " |      Return self!=value.\n",
      " |  \n",
      " |  __or__(self, value, /)\n",
      " |      Return self|value.\n",
      " |  \n",
      " |  __repr__(self, /)\n",
      " |      Return repr(self).\n",
      " |  \n",
      " |  __reversed__(self, /)\n",
      " |      Return a reverse iterator over the dict keys.\n",
      " |  \n",
      " |  __ror__(self, value, /)\n",
      " |      Return value|self.\n",
      " |  \n",
      " |  __setitem__(self, key, value, /)\n",
      " |      Set self[key] to value.\n",
      " |  \n",
      " |  __sizeof__(...)\n",
      " |      D.__sizeof__() -> size of D in memory, in bytes\n",
      " |  \n",
      " |  clear(...)\n",
      " |      D.clear() -> None.  Remove all items from D.\n",
      " |  \n",
      " |  copy(...)\n",
      " |      D.copy() -> a shallow copy of D\n",
      " |  \n",
      " |  get(self, key, default=None, /)\n",
      " |      Return the value for key if key is in the dictionary, else default.\n",
      " |  \n",
      " |  items(...)\n",
      " |      D.items() -> a set-like object providing a view on D's items\n",
      " |  \n",
      " |  keys(...)\n",
      " |      D.keys() -> a set-like object providing a view on D's keys\n",
      " |  \n",
      " |  pop(...)\n",
      " |      D.pop(k[,d]) -> v, remove specified key and return the corresponding value.\n",
      " |      \n",
      " |      If key is not found, default is returned if given, otherwise KeyError is raised\n",
      " |  \n",
      " |  popitem(self, /)\n",
      " |      Remove and return a (key, value) pair as a 2-tuple.\n",
      " |      \n",
      " |      Pairs are returned in LIFO (last-in, first-out) order.\n",
      " |      Raises KeyError if the dict is empty.\n",
      " |  \n",
      " |  setdefault(self, key, default=None, /)\n",
      " |      Insert key with a value of default if key is not in the dictionary.\n",
      " |      \n",
      " |      Return the value for key if key is in the dictionary, else default.\n",
      " |  \n",
      " |  update(...)\n",
      " |      D.update([E, ]**F) -> None.  Update D from dict/iterable E and F.\n",
      " |      If E is present and has a .keys() method, then does:  for k in E: D[k] = E[k]\n",
      " |      If E is present and lacks a .keys() method, then does:  for k, v in E: D[k] = v\n",
      " |      In either case, this is followed by: for k in F:  D[k] = F[k]\n",
      " |  \n",
      " |  values(...)\n",
      " |      D.values() -> an object providing a view on D's values\n",
      " |  \n",
      " |  ----------------------------------------------------------------------\n",
      " |  Class methods defined here:\n",
      " |  \n",
      " |  __class_getitem__(...) from builtins.type\n",
      " |      See PEP 585\n",
      " |  \n",
      " |  fromkeys(iterable, value=None, /) from builtins.type\n",
      " |      Create a new dictionary with keys from iterable and values set to value.\n",
      " |  \n",
      " |  ----------------------------------------------------------------------\n",
      " |  Static methods defined here:\n",
      " |  \n",
      " |  __new__(*args, **kwargs) from builtins.type\n",
      " |      Create and return a new object.  See help(type) for accurate signature.\n",
      " |  \n",
      " |  ----------------------------------------------------------------------\n",
      " |  Data and other attributes defined here:\n",
      " |  \n",
      " |  __hash__ = None\n",
      "\n"
     ]
    }
   ],
   "source": [
    "help(dict)"
   ]
  },
  {
   "cell_type": "markdown",
   "id": "26292aae",
   "metadata": {},
   "source": [
    "### `Update value in dictionary`"
   ]
  },
  {
   "cell_type": "code",
   "execution_count": 24,
   "id": "674e6c48",
   "metadata": {},
   "outputs": [],
   "source": [
    "d2 = {'address': 'Bangluru', 'country': 'India', (23, 'Meraj'): 'some value'}\n",
    "d2[(23,\"Meraj\")] = \"Some Value ++\""
   ]
  },
  {
   "cell_type": "code",
   "execution_count": 25,
   "id": "ec904cb0",
   "metadata": {},
   "outputs": [
    {
     "name": "stdout",
     "output_type": "stream",
     "text": [
      "{'address': 'Bangluru', 'country': 'India', (23, 'Meraj'): 'Some Value ++'}\n"
     ]
    }
   ],
   "source": [
    "print(d2)"
   ]
  },
  {
   "cell_type": "code",
   "execution_count": 26,
   "id": "cc07ae65",
   "metadata": {},
   "outputs": [
    {
     "ename": "TypeError",
     "evalue": "pop expected at least 1 argument, got 0",
     "output_type": "error",
     "traceback": [
      "\u001b[1;31m---------------------------------------------------------------------------\u001b[0m",
      "\u001b[1;31mTypeError\u001b[0m                                 Traceback (most recent call last)",
      "\u001b[1;32mC:\\Users\\KUNALC~1\\AppData\\Local\\Temp/ipykernel_23816/518067040.py\u001b[0m in \u001b[0;36m<module>\u001b[1;34m\u001b[0m\n\u001b[1;32m----> 1\u001b[1;33m \u001b[0md2\u001b[0m\u001b[1;33m.\u001b[0m\u001b[0mpop\u001b[0m\u001b[1;33m(\u001b[0m\u001b[1;33m)\u001b[0m\u001b[1;33m\u001b[0m\u001b[1;33m\u001b[0m\u001b[0m\n\u001b[0m",
      "\u001b[1;31mTypeError\u001b[0m: pop expected at least 1 argument, got 0"
     ]
    }
   ],
   "source": [
    "d2.pop()"
   ]
  },
  {
   "cell_type": "code",
   "execution_count": 27,
   "id": "2c2cfb1e",
   "metadata": {},
   "outputs": [
    {
     "data": {
      "text/plain": [
       "'Bangluru'"
      ]
     },
     "execution_count": 27,
     "metadata": {},
     "output_type": "execute_result"
    }
   ],
   "source": [
    "d2.pop('address')"
   ]
  },
  {
   "cell_type": "code",
   "execution_count": 28,
   "id": "3a090697",
   "metadata": {},
   "outputs": [
    {
     "name": "stdout",
     "output_type": "stream",
     "text": [
      "{'country': 'India', (23, 'Meraj'): 'Some Value ++'}\n"
     ]
    }
   ],
   "source": [
    "print(d2)"
   ]
  },
  {
   "cell_type": "code",
   "execution_count": 29,
   "id": "037296bc",
   "metadata": {},
   "outputs": [],
   "source": [
    "d2.clear()"
   ]
  },
  {
   "cell_type": "code",
   "execution_count": 30,
   "id": "322c10c3",
   "metadata": {},
   "outputs": [
    {
     "name": "stdout",
     "output_type": "stream",
     "text": [
      "{}\n"
     ]
    }
   ],
   "source": [
    "print(d2)"
   ]
  },
  {
   "cell_type": "code",
   "execution_count": 31,
   "id": "c6e2348a",
   "metadata": {},
   "outputs": [],
   "source": [
    "d3 = {\"Mango\":\"green\",\"apple\":\"Red\",\"Banana\":\"Yellow\",\"Banana\":\"Green\",\"Litchi\":\"Red\"}"
   ]
  },
  {
   "cell_type": "code",
   "execution_count": 32,
   "id": "7c498c3d",
   "metadata": {},
   "outputs": [
    {
     "name": "stdout",
     "output_type": "stream",
     "text": [
      "{'Mango': 'green', 'apple': 'Red', 'Banana': 'Green', 'Litchi': 'Red'}\n"
     ]
    }
   ],
   "source": [
    "print(d3)"
   ]
  },
  {
   "cell_type": "code",
   "execution_count": 33,
   "id": "25249983",
   "metadata": {},
   "outputs": [
    {
     "data": {
      "text/plain": [
       "1"
      ]
     },
     "execution_count": 33,
     "metadata": {},
     "output_type": "execute_result"
    }
   ],
   "source": [
    "d4 = {1:1, 2:2, 3:3}\n",
    "d4[1]"
   ]
  },
  {
   "cell_type": "code",
   "execution_count": 34,
   "id": "4cf5438a",
   "metadata": {},
   "outputs": [
    {
     "data": {
      "text/plain": [
       "dict_keys(['Mango', 'apple', 'Banana', 'Litchi'])"
      ]
     },
     "execution_count": 34,
     "metadata": {},
     "output_type": "execute_result"
    }
   ],
   "source": [
    "d3.keys()"
   ]
  },
  {
   "cell_type": "code",
   "execution_count": 35,
   "id": "c309c605",
   "metadata": {},
   "outputs": [
    {
     "data": {
      "text/plain": [
       "dict_keys"
      ]
     },
     "execution_count": 35,
     "metadata": {},
     "output_type": "execute_result"
    }
   ],
   "source": [
    "type(d3.keys())"
   ]
  },
  {
   "cell_type": "code",
   "execution_count": 36,
   "id": "3c49362c",
   "metadata": {},
   "outputs": [
    {
     "name": "stdout",
     "output_type": "stream",
     "text": [
      "Mango green\n",
      "apple Red\n",
      "Banana Green\n",
      "Litchi Red\n"
     ]
    }
   ],
   "source": [
    "for i in d3.keys():\n",
    "    print(i, d3[i])"
   ]
  },
  {
   "cell_type": "code",
   "execution_count": 37,
   "id": "60a641dc",
   "metadata": {
    "collapsed": true
   },
   "outputs": [
    {
     "data": {
      "text/plain": [
       "dict_values(['green', 'Red', 'Green', 'Red'])"
      ]
     },
     "execution_count": 37,
     "metadata": {},
     "output_type": "execute_result"
    }
   ],
   "source": [
    "d3.values()"
   ]
  },
  {
   "cell_type": "code",
   "execution_count": 38,
   "id": "22d49770",
   "metadata": {},
   "outputs": [
    {
     "name": "stdout",
     "output_type": "stream",
     "text": [
      "green\n",
      "Red\n",
      "Green\n",
      "Red\n"
     ]
    }
   ],
   "source": [
    "for i in d3.values():\n",
    "    print(i)"
   ]
  },
  {
   "cell_type": "code",
   "execution_count": 40,
   "id": "c31d1b79",
   "metadata": {},
   "outputs": [],
   "source": [
    "d5 = {1:1, 2:1, 3:1}"
   ]
  },
  {
   "cell_type": "code",
   "execution_count": 42,
   "id": "3a25e3ab",
   "metadata": {},
   "outputs": [
    {
     "data": {
      "text/plain": [
       "1"
      ]
     },
     "execution_count": 42,
     "metadata": {},
     "output_type": "execute_result"
    }
   ],
   "source": [
    "d5[1]"
   ]
  },
  {
   "cell_type": "code",
   "execution_count": 43,
   "id": "242499db",
   "metadata": {},
   "outputs": [
    {
     "data": {
      "text/plain": [
       "1"
      ]
     },
     "execution_count": 43,
     "metadata": {},
     "output_type": "execute_result"
    }
   ],
   "source": [
    "d5[2]"
   ]
  },
  {
   "cell_type": "code",
   "execution_count": 44,
   "id": "97ac1983",
   "metadata": {},
   "outputs": [
    {
     "data": {
      "text/plain": [
       "1"
      ]
     },
     "execution_count": 44,
     "metadata": {},
     "output_type": "execute_result"
    }
   ],
   "source": [
    "d5[3]"
   ]
  },
  {
   "cell_type": "code",
   "execution_count": 45,
   "id": "9de14cc7",
   "metadata": {},
   "outputs": [],
   "source": [
    "d = dict(Kuladeep=\"Pathak\",Sharon=\"Seeli\")"
   ]
  },
  {
   "cell_type": "code",
   "execution_count": 46,
   "id": "aef02d77",
   "metadata": {},
   "outputs": [
    {
     "name": "stdout",
     "output_type": "stream",
     "text": [
      "{'Kuladeep': 'Pathak', 'Sharon': 'Seeli'}\n"
     ]
    }
   ],
   "source": [
    "print(d)"
   ]
  },
  {
   "cell_type": "code",
   "execution_count": 47,
   "id": "02d607c6",
   "metadata": {},
   "outputs": [
    {
     "data": {
      "text/plain": [
       "dict_items([('Kuladeep', 'Pathak'), ('Sharon', 'Seeli')])"
      ]
     },
     "execution_count": 47,
     "metadata": {},
     "output_type": "execute_result"
    }
   ],
   "source": [
    "d.items()"
   ]
  },
  {
   "cell_type": "code",
   "execution_count": 48,
   "id": "6815021e",
   "metadata": {},
   "outputs": [
    {
     "name": "stdout",
     "output_type": "stream",
     "text": [
      "('Kuladeep', 'Pathak')\n",
      "('Sharon', 'Seeli')\n"
     ]
    }
   ],
   "source": [
    "for i in d.items():\n",
    "    print(i)"
   ]
  },
  {
   "cell_type": "code",
   "execution_count": 49,
   "id": "8f5862be",
   "metadata": {},
   "outputs": [
    {
     "ename": "SyntaxError",
     "evalue": "expression cannot contain assignment, perhaps you meant \"==\"? (Temp/ipykernel_23816/837332735.py, line 1)",
     "output_type": "error",
     "traceback": [
      "\u001b[1;36m  File \u001b[1;32m\"C:\\Users\\KUNALC~1\\AppData\\Local\\Temp/ipykernel_23816/837332735.py\"\u001b[1;36m, line \u001b[1;32m1\u001b[0m\n\u001b[1;33m    d2 = dict((1,2,3)=\"Meghna\")\u001b[0m\n\u001b[1;37m              ^\u001b[0m\n\u001b[1;31mSyntaxError\u001b[0m\u001b[1;31m:\u001b[0m expression cannot contain assignment, perhaps you meant \"==\"?\n"
     ]
    }
   ],
   "source": [
    "d2 = dict((1,2,3)=\"Meghna\")"
   ]
  },
  {
   "cell_type": "code",
   "execution_count": 51,
   "id": "90055535",
   "metadata": {},
   "outputs": [],
   "source": [
    "d3 = dict(one=1,two=2,three=3)"
   ]
  },
  {
   "cell_type": "code",
   "execution_count": 52,
   "id": "51a8afdd",
   "metadata": {},
   "outputs": [
    {
     "name": "stdout",
     "output_type": "stream",
     "text": [
      "{'one': 1, 'two': 2, 'three': 3}\n"
     ]
    }
   ],
   "source": [
    "print(d3)"
   ]
  },
  {
   "cell_type": "code",
   "execution_count": 53,
   "id": "749cf9d2",
   "metadata": {},
   "outputs": [],
   "source": [
    "#Q) {1:1, 2:4, 3:9, 4:16, 5:25}"
   ]
  },
  {
   "cell_type": "code",
   "execution_count": 54,
   "id": "7437e2cb",
   "metadata": {},
   "outputs": [],
   "source": [
    "d = {}\n",
    "for i in range(1,6):\n",
    "    d[i] = i*i"
   ]
  },
  {
   "cell_type": "code",
   "execution_count": 55,
   "id": "3597d4fc",
   "metadata": {},
   "outputs": [
    {
     "name": "stdout",
     "output_type": "stream",
     "text": [
      "{1: 1, 2: 4, 3: 9, 4: 16, 5: 25}\n"
     ]
    }
   ],
   "source": [
    "print(d)"
   ]
  },
  {
   "cell_type": "code",
   "execution_count": 56,
   "id": "c3936eab",
   "metadata": {},
   "outputs": [
    {
     "data": {
      "text/plain": [
       "65"
      ]
     },
     "execution_count": 56,
     "metadata": {},
     "output_type": "execute_result"
    }
   ],
   "source": [
    "ord(\"A\")"
   ]
  },
  {
   "cell_type": "code",
   "execution_count": 57,
   "id": "38fdee2b",
   "metadata": {},
   "outputs": [
    {
     "data": {
      "text/plain": [
       "'O'"
      ]
     },
     "execution_count": 57,
     "metadata": {},
     "output_type": "execute_result"
    }
   ],
   "source": [
    "chr(79)"
   ]
  },
  {
   "cell_type": "code",
   "execution_count": null,
   "id": "57f78e7b",
   "metadata": {},
   "outputs": [],
   "source": [
    "Q) {\"A\":65,\"B\":66,\"C\":67...}\n",
    "21:07"
   ]
  }
 ],
 "metadata": {
  "kernelspec": {
   "display_name": "Python 3 (ipykernel)",
   "language": "python",
   "name": "python3"
  },
  "language_info": {
   "codemirror_mode": {
    "name": "ipython",
    "version": 3
   },
   "file_extension": ".py",
   "mimetype": "text/x-python",
   "name": "python",
   "nbconvert_exporter": "python",
   "pygments_lexer": "ipython3",
   "version": "3.9.7"
  }
 },
 "nbformat": 4,
 "nbformat_minor": 5
}
