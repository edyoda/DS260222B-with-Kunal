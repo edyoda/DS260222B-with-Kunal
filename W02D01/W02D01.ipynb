{
 "cells": [
  {
   "cell_type": "code",
   "execution_count": null,
   "id": "6078003c",
   "metadata": {},
   "outputs": [],
   "source": [
    "Q) WAP to add two integers and print there values. the input need not be taken from user"
   ]
  },
  {
   "cell_type": "code",
   "execution_count": null,
   "id": "cf97c016",
   "metadata": {},
   "outputs": [],
   "source": [
    "Q) WAP to concatenate two strings:\n",
    "    1) \"I study \"\n",
    "    2) \"in Edyoda\"\n",
    "    and print the result in console"
   ]
  },
  {
   "cell_type": "code",
   "execution_count": 2,
   "id": "ec494f44",
   "metadata": {},
   "outputs": [
    {
     "name": "stdout",
     "output_type": "stream",
     "text": [
      "I study in edyoda\n"
     ]
    }
   ],
   "source": [
    "a=\"I study \"\n",
    "b=\"in edyoda\"\n",
    "print(a+b)"
   ]
  },
  {
   "cell_type": "markdown",
   "id": "12b69040",
   "metadata": {},
   "source": [
    "## `Conditional Statement`"
   ]
  },
  {
   "cell_type": "code",
   "execution_count": null,
   "id": "78587ea7",
   "metadata": {},
   "outputs": [],
   "source": [
    "descision making statements:\n",
    "    if you eat chole bhature:\n",
    "        ...\n",
    "    else if you ate hajmola and eat chole:\n",
    "        its fine"
   ]
  },
  {
   "cell_type": "code",
   "execution_count": null,
   "id": "b4a3c681",
   "metadata": {},
   "outputs": [],
   "source": [
    "tommorow is exam:\n",
    "    if you study:\n",
    "        you may pass\n",
    "    else:\n",
    "      fail"
   ]
  },
  {
   "cell_type": "code",
   "execution_count": null,
   "id": "2b6ed99c",
   "metadata": {},
   "outputs": [],
   "source": [
    "if the password given contains name of user:\n",
    "    your name should not be in password\n",
    "else:\n",
    "    password is fine"
   ]
  },
  {
   "cell_type": "code",
   "execution_count": null,
   "id": "e0f3620e",
   "metadata": {},
   "outputs": [],
   "source": [
    "Descison-making statements in programming language decide the flow of execution"
   ]
  },
  {
   "cell_type": "code",
   "execution_count": 4,
   "id": "679c7d41",
   "metadata": {},
   "outputs": [
    {
     "name": "stdout",
     "output_type": "stream",
     "text": [
      "55  is positive\n"
     ]
    }
   ],
   "source": [
    "#Q) check if the given number is positive\n",
    "num = 55\n",
    "if num>0:\n",
    "    print(num,\" is positive\")"
   ]
  },
  {
   "cell_type": "code",
   "execution_count": null,
   "id": "94bb0234",
   "metadata": {},
   "outputs": [],
   "source": [
    "# Syntax 1 of if statement\n",
    "if condition :\n",
    "    #statemets"
   ]
  },
  {
   "cell_type": "code",
   "execution_count": 6,
   "id": "c327b71b",
   "metadata": {},
   "outputs": [],
   "source": [
    "#Q) check if the given number is positive\n",
    "num = -20\n",
    "if num>0:\n",
    "    print(num,\" is positive\")"
   ]
  },
  {
   "cell_type": "code",
   "execution_count": 7,
   "id": "95bb5994",
   "metadata": {},
   "outputs": [
    {
     "name": "stdout",
     "output_type": "stream",
     "text": [
      "-20 is negative\n"
     ]
    }
   ],
   "source": [
    "num = -20\n",
    "if num>0:\n",
    "    print(num,\"is positive\")\n",
    "else:\n",
    "    print(num,\"is negative\")"
   ]
  },
  {
   "cell_type": "code",
   "execution_count": null,
   "id": "1c8850d6",
   "metadata": {},
   "outputs": [],
   "source": [
    "q) how to put condition in else?"
   ]
  },
  {
   "cell_type": "code",
   "execution_count": 8,
   "id": "2dba14eb",
   "metadata": {},
   "outputs": [
    {
     "name": "stdout",
     "output_type": "stream",
     "text": [
      "Zero\n"
     ]
    }
   ],
   "source": [
    "num = 0\n",
    "if num>0:\n",
    "    print(\"Positive\")\n",
    "elif num == 0:  # elif means else if\n",
    "    print(\"Zero\")\n",
    "else:\n",
    "    print(\"Negative\")"
   ]
  },
  {
   "cell_type": "code",
   "execution_count": 9,
   "id": "c173c8dd",
   "metadata": {},
   "outputs": [
    {
     "name": "stdout",
     "output_type": "stream",
     "text": [
      "0 is negative\n"
     ]
    }
   ],
   "source": [
    "num = 0\n",
    "if num>0:\n",
    "    print(num,\"is positive\")\n",
    "else:\n",
    "    print(num,\"is negative\")"
   ]
  },
  {
   "cell_type": "code",
   "execution_count": null,
   "id": "73fe862c",
   "metadata": {},
   "outputs": [],
   "source": [
    "Q) if the password given contains name of user:\n",
    "    your name should not be in password\n",
    "else:\n",
    "    password is fine\n",
    "    \n",
    "Hint:\n",
    "    name = \"ganesh\"\n",
    "    password = \"kjdbj1243ganesh455656\""
   ]
  },
  {
   "cell_type": "code",
   "execution_count": 10,
   "id": "02fc7464",
   "metadata": {},
   "outputs": [
    {
     "name": "stdout",
     "output_type": "stream",
     "text": [
      "Pls don't use your name in the password\n"
     ]
    }
   ],
   "source": [
    "name = \"ruchi\"\n",
    "password = \"125ruchi!@#123\"\n",
    "if name not in password:\n",
    "    print(\"YAY!! you have successfully created the password\")\n",
    "else:\n",
    "    print(\"Pls don't use your name in the password\")"
   ]
  },
  {
   "cell_type": "code",
   "execution_count": null,
   "id": "b6419931",
   "metadata": {},
   "outputs": [],
   "source": [
    "#Syntax 2->  if ... else statement\n",
    "if expression:\n",
    "    # statements\n",
    "else:\n",
    "    # statement 2\n",
    "    "
   ]
  },
  {
   "cell_type": "code",
   "execution_count": null,
   "id": "404b77f3",
   "metadata": {},
   "outputs": [],
   "source": [
    "if expression1:\n",
    "    #statement 1\n",
    "elif expression2:\n",
    "    #statement 2\n",
    "elif expression3:\n",
    "    #statement 3\n",
    "...\n",
    "else:\n",
    "    #stement for else"
   ]
  },
  {
   "cell_type": "code",
   "execution_count": null,
   "id": "69e349b4",
   "metadata": {},
   "outputs": [],
   "source": [
    "name=\"sharon\"\n",
    "password=Sh@ron@806 < password is not in string\n",
    "if name in password:\n",
    "    print(your password should not have username) <-- forgot double quote\n",
    "else <--- doesnot have colon :\n",
    "    print(your password is setted) <-- forgot double quote\n"
   ]
  },
  {
   "cell_type": "code",
   "execution_count": 12,
   "id": "1e53dc15",
   "metadata": {},
   "outputs": [
    {
     "name": "stdout",
     "output_type": "stream",
     "text": [
      "your password shouldn't have username\n"
     ]
    }
   ],
   "source": [
    "name=\"sharon\"\n",
    "password=\"sharon@0806\"\n",
    "if name in password:\n",
    "    print(\"your password shouldn't have username\")\n",
    "else:\n",
    "    print(\"your password successfully setted\")"
   ]
  },
  {
   "cell_type": "code",
   "execution_count": 11,
   "id": "5cba416b",
   "metadata": {},
   "outputs": [
    {
     "name": "stdout",
     "output_type": "stream",
     "text": [
      "10\n"
     ]
    }
   ],
   "source": [
    "a=8\n",
    "b=10\n",
    "if (a==b):\n",
    "    print(\"Equal\")\n",
    "else:\n",
    "    if (a>b):\n",
    "        print(a)\n",
    "    else:\n",
    "        print(b)\n"
   ]
  },
  {
   "cell_type": "code",
   "execution_count": null,
   "id": "e36b8aea",
   "metadata": {},
   "outputs": [],
   "source": [
    "# WAP in python to check if the given number is even or odd\n",
    "5 min\n",
    "20:55"
   ]
  },
  {
   "cell_type": "code",
   "execution_count": 13,
   "id": "cb295a0e",
   "metadata": {},
   "outputs": [
    {
     "name": "stdout",
     "output_type": "stream",
     "text": [
      "1\n"
     ]
    }
   ],
   "source": [
    "num = 25\n",
    "print(num%2)"
   ]
  },
  {
   "cell_type": "code",
   "execution_count": 14,
   "id": "3479d60d",
   "metadata": {},
   "outputs": [
    {
     "name": "stdout",
     "output_type": "stream",
     "text": [
      "Odd\n"
     ]
    }
   ],
   "source": [
    "num = 25\n",
    "if num%2 == 0:\n",
    "    print(\"Even\")\n",
    "else:\n",
    "    print(\"Odd\")"
   ]
  },
  {
   "cell_type": "code",
   "execution_count": 18,
   "id": "4fb1cd44",
   "metadata": {},
   "outputs": [
    {
     "name": "stdout",
     "output_type": "stream",
     "text": [
      "Zero\n",
      "Out\n"
     ]
    }
   ],
   "source": [
    "num = 0\n",
    "if num == 0:\n",
    "    print(\"Zero\")\n",
    "elif num%2 == 0:\n",
    "    print(\"Even\")\n",
    "else:\n",
    "    print(\"Odd\")\n",
    "print(\"Out\")"
   ]
  },
  {
   "cell_type": "code",
   "execution_count": null,
   "id": "05b87f49",
   "metadata": {},
   "outputs": [],
   "source": [
    "Nested if statement:\n",
    "    if...elif...else under if..elif..else"
   ]
  },
  {
   "cell_type": "code",
   "execution_count": null,
   "id": "d46c1d70",
   "metadata": {},
   "outputs": [],
   "source": [
    "if expression1:\n",
    "    #outer statement\n",
    "    if expressionA:\n",
    "        #inner statement\n",
    "    else:\n",
    "        #inner statement 2\n",
    "else:\n",
    "    #outer statement"
   ]
  },
  {
   "cell_type": "code",
   "execution_count": null,
   "id": "7db28d63",
   "metadata": {},
   "outputs": [],
   "source": [
    "WAP to check the type of a data:\n",
    "    if the data is int:\n",
    "        print Even if the number is even else print odd\n",
    "    else if the data is string :\n",
    "        print string\n",
    "    else\n",
    "        other type"
   ]
  },
  {
   "cell_type": "code",
   "execution_count": 23,
   "id": "5d9b9deb",
   "metadata": {},
   "outputs": [
    {
     "name": "stdout",
     "output_type": "stream",
     "text": [
      "other data type\n"
     ]
    }
   ],
   "source": [
    "data = 22+3j\n",
    "if type(data) == int:\n",
    "    if data%2 == 0:\n",
    "        print(\"Even\")\n",
    "    else:\n",
    "        print(\"Odd\")\n",
    "elif type(data) == str:\n",
    "    print(\"Yay!! String Found\")\n",
    "else:\n",
    "    print(\"other data type\")"
   ]
  },
  {
   "cell_type": "code",
   "execution_count": 24,
   "id": "549ee012",
   "metadata": {},
   "outputs": [
    {
     "data": {
      "text/plain": [
       "True"
      ]
     },
     "execution_count": 24,
     "metadata": {},
     "output_type": "execute_result"
    }
   ],
   "source": [
    "isinstance(data, complex)"
   ]
  },
  {
   "cell_type": "code",
   "execution_count": 26,
   "id": "27c73a30",
   "metadata": {},
   "outputs": [
    {
     "name": "stdout",
     "output_type": "stream",
     "text": [
      "other data type\n"
     ]
    }
   ],
   "source": [
    "data = 22+3j\n",
    "if isinstance(data,int):\n",
    "    if data%2 == 0:\n",
    "        print(\"Even\")\n",
    "    else:\n",
    "        print(\"Odd\")\n",
    "elif isinstance(data,str):\n",
    "    print(\"Yay!! String Found\")\n",
    "else:\n",
    "    print(\"other data type\")"
   ]
  },
  {
   "cell_type": "code",
   "execution_count": null,
   "id": "fb3062ae",
   "metadata": {},
   "outputs": [],
   "source": []
  }
 ],
 "metadata": {
  "kernelspec": {
   "display_name": "Python 3 (ipykernel)",
   "language": "python",
   "name": "python3"
  },
  "language_info": {
   "codemirror_mode": {
    "name": "ipython",
    "version": 3
   },
   "file_extension": ".py",
   "mimetype": "text/x-python",
   "name": "python",
   "nbconvert_exporter": "python",
   "pygments_lexer": "ipython3",
   "version": "3.10.2"
  }
 },
 "nbformat": 4,
 "nbformat_minor": 5
}
