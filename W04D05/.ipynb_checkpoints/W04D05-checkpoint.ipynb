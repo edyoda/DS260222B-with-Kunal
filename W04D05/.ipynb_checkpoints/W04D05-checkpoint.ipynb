{
 "cells": [
  {
   "cell_type": "code",
   "execution_count": 1,
   "id": "57b8839a",
   "metadata": {},
   "outputs": [],
   "source": [
    "fp = open(\"file_name.txt\", mode=\"w\")\n",
    "# if file is Not Available its creates it\n",
    "# If file is present then tuncate it\n",
    "# file pointer lies at the start of the file\n",
    "fp.write(\"string values\")\n",
    "fp.close()"
   ]
  },
  {
   "cell_type": "code",
   "execution_count": 2,
   "id": "d0a35095",
   "metadata": {},
   "outputs": [],
   "source": [
    "fp = open(\"file_name.txt\", \"r\")\n",
    "ln = fp.readline()\n",
    "fp.seek(0)\n",
    "rn = fp.read(4)\n",
    "fp.seek(0)\n",
    "rl = fp.readlines()\n",
    "fp.close()\n",
    "# if the file is not available we will get FileNotFound ERROR\n",
    "# At the begening the file pointer is at the start of file"
   ]
  },
  {
   "cell_type": "code",
   "execution_count": 3,
   "id": "857877c3",
   "metadata": {},
   "outputs": [],
   "source": [
    "fp = open(\"file_man.txt\", \"a\")\n",
    "# If the file is not present it will create a new file\n",
    "# the file pointer is at the end of the file\n",
    "# Reading operation is not possible\n",
    "fp.write(\"Hey I am made by append mode\")\n",
    "fp.close()"
   ]
  },
  {
   "cell_type": "code",
   "execution_count": null,
   "id": "09f64cd1",
   "metadata": {},
   "outputs": [],
   "source": [
    "Q) WAP which performs a write operation on a file to write A-Z. Each characte should be in new line\n",
    "A\n",
    "B\n",
    "C\n",
    "D\n",
    "..\n",
    "Z\n",
    "5 mins 20:00"
   ]
  },
  {
   "cell_type": "code",
   "execution_count": 4,
   "id": "6db9f5b2",
   "metadata": {},
   "outputs": [],
   "source": [
    "fp = open(\"alphabets.txt\", \"a\")\n",
    "for char in range(ord(\"A\"),ord(\"Z\")+1):\n",
    "    fp.write(chr(char)+\"\\n\")\n",
    "fp.close()"
   ]
  },
  {
   "cell_type": "code",
   "execution_count": null,
   "id": "ad9d3a3e",
   "metadata": {},
   "outputs": [],
   "source": [
    "*\n",
    "* *\n",
    "* * *\n",
    "* * * *\n",
    "* * *\n",
    "* *\n",
    "*"
   ]
  },
  {
   "cell_type": "code",
   "execution_count": null,
   "id": "2978bc2a",
   "metadata": {},
   "outputs": [],
   "source": [
    "1 min"
   ]
  },
  {
   "cell_type": "markdown",
   "id": "abb6085d",
   "metadata": {},
   "source": [
    "### `Advanced Modes`\n",
    "- r+\n",
    "- w+\n",
    "- a+"
   ]
  },
  {
   "cell_type": "code",
   "execution_count": null,
   "id": "ee2c65c1",
   "metadata": {},
   "outputs": [],
   "source": [
    "r:\n",
    "    # if the file is not avaialble it throws ERROR\n",
    "    # If File is available it opens the file in reading mode\n",
    "    # the file pointer is at the begening of the file when file opens\n",
    "    # write operation is not possible\n",
    "r+:\n",
    "    # if the file is not avaialble it throws ERROR\n",
    "    # If File is available it opens the file in reading and writing mode\n",
    "    # the file pointer is at the begening of the file when file opens\n",
    "    # write privilage available"
   ]
  },
  {
   "cell_type": "code",
   "execution_count": null,
   "id": "1831980c",
   "metadata": {},
   "outputs": [],
   "source": [
    "file_pointer = open(file_name,mode)\n",
    "#statements\n",
    "file_pointer.close()"
   ]
  },
  {
   "cell_type": "code",
   "execution_count": null,
   "id": "8f18947e",
   "metadata": {},
   "outputs": [],
   "source": [
    "# while using with keyword to open file we dont need to perform close operation\n",
    "#Syntax of with\n",
    "with open(filename, mode) as file_pointer:\n",
    "    #statements\n",
    "    #file is opened\n",
    "#file is closed"
   ]
  },
  {
   "cell_type": "code",
   "execution_count": 5,
   "id": "36e4f361",
   "metadata": {},
   "outputs": [
    {
     "name": "stdout",
     "output_type": "stream",
     "text": [
      "string values\n",
      "Hey I am written manually\n",
      "Ramkumar\n",
      "Kuladeep Pathak\n",
      "Adil\n"
     ]
    }
   ],
   "source": [
    "with open(\"file_name.txt\") as fp:\n",
    "    print(fp.read())"
   ]
  },
  {
   "cell_type": "code",
   "execution_count": 6,
   "id": "a2be3fca",
   "metadata": {},
   "outputs": [
    {
     "ename": "ValueError",
     "evalue": "I/O operation on closed file.",
     "output_type": "error",
     "traceback": [
      "\u001b[1;31m---------------------------------------------------------------------------\u001b[0m",
      "\u001b[1;31mValueError\u001b[0m                                Traceback (most recent call last)",
      "\u001b[1;32mC:\\Users\\KUNALC~1\\AppData\\Local\\Temp/ipykernel_49536/3668392485.py\u001b[0m in \u001b[0;36m<module>\u001b[1;34m\u001b[0m\n\u001b[1;32m----> 1\u001b[1;33m \u001b[0mfp\u001b[0m\u001b[1;33m.\u001b[0m\u001b[0mread\u001b[0m\u001b[1;33m(\u001b[0m\u001b[1;33m)\u001b[0m\u001b[1;33m\u001b[0m\u001b[1;33m\u001b[0m\u001b[0m\n\u001b[0m",
      "\u001b[1;31mValueError\u001b[0m: I/O operation on closed file."
     ]
    }
   ],
   "source": [
    "fp.read()"
   ]
  },
  {
   "cell_type": "code",
   "execution_count": 7,
   "id": "4069c9e3",
   "metadata": {},
   "outputs": [
    {
     "name": "stdout",
     "output_type": "stream",
     "text": [
      "string values\n",
      "Hey I am written manually\n",
      "Ramkumar\n",
      "Kuladeep Pathak\n",
      "Adil\n",
      "['string values\\n', 'Hey I am written manually\\n', 'Ramkumar\\n', 'Kuladeep Pathak\\n', 'Adil']\n"
     ]
    }
   ],
   "source": [
    "with open(\"file_name.txt\", \"r+\") as fp:\n",
    "    print(fp.read())\n",
    "    fp.seek(0)\n",
    "    l = fp.readlines()\n",
    "print(l)"
   ]
  },
  {
   "cell_type": "code",
   "execution_count": 8,
   "id": "a2ad40b4",
   "metadata": {},
   "outputs": [
    {
     "name": "stdout",
     "output_type": "stream",
     "text": [
      "['string values\\n', 'Hey I am written manually\\n', 'Ramkumar\\n', 'Kuladeep Pathak\\n', 'Adil']\n"
     ]
    }
   ],
   "source": [
    "with open(\"file_name.txt\", \"r+\") as fp:\n",
    "    fp.seek(0,2)\n",
    "    fp.write(\"\\nArmaan\")\n",
    "print(l)"
   ]
  },
  {
   "cell_type": "code",
   "execution_count": 9,
   "id": "0ed9604d",
   "metadata": {},
   "outputs": [
    {
     "name": "stdout",
     "output_type": "stream",
     "text": [
      "ring values\n",
      "Hey I am written manually\n",
      "Ramkumar\n",
      "Kuladeep Pathak\n",
      "Adil\n",
      "Armaan\n"
     ]
    }
   ],
   "source": [
    "fp = open(\"file_name.txt\")\n",
    "fp.seek(2)\n",
    "print(fp.read())"
   ]
  },
  {
   "cell_type": "code",
   "execution_count": 10,
   "id": "bf127a90",
   "metadata": {},
   "outputs": [],
   "source": [
    "fp.close()"
   ]
  },
  {
   "attachments": {
    "image.png": {
     "image/png": "[encoded data removed]"
    }
   },
   "cell_type": "markdown",
   "id": "5f31dd7f",
   "metadata": {},
   "source": [
    "![image.png](attachment:image.png)"
   ]
  },
  {
   "cell_type": "code",
   "execution_count": 11,
   "id": "2be3c6e0",
   "metadata": {},
   "outputs": [
    {
     "data": {
      "text/plain": [
       "0"
      ]
     },
     "execution_count": 11,
     "metadata": {},
     "output_type": "execute_result"
    }
   ],
   "source": [
    "# filepointer.seek(offset, whence)\n",
    "fp = open(\"file_name.txt\")\n",
    "fp.seek(0,0)"
   ]
  },
  {
   "cell_type": "code",
   "execution_count": 12,
   "id": "09fbcf5e",
   "metadata": {},
   "outputs": [
    {
     "data": {
      "text/plain": [
       "0"
      ]
     },
     "execution_count": 12,
     "metadata": {},
     "output_type": "execute_result"
    }
   ],
   "source": [
    "fp.tell()"
   ]
  },
  {
   "cell_type": "code",
   "execution_count": 13,
   "id": "20be0599",
   "metadata": {},
   "outputs": [
    {
     "data": {
      "text/plain": [
       "3"
      ]
     },
     "execution_count": 13,
     "metadata": {},
     "output_type": "execute_result"
    }
   ],
   "source": [
    "fp.seek(3)"
   ]
  },
  {
   "cell_type": "code",
   "execution_count": 14,
   "id": "f1d84eda",
   "metadata": {},
   "outputs": [
    {
     "data": {
      "text/plain": [
       "3"
      ]
     },
     "execution_count": 14,
     "metadata": {},
     "output_type": "execute_result"
    }
   ],
   "source": [
    "fp.tell()"
   ]
  },
  {
   "cell_type": "code",
   "execution_count": 15,
   "id": "a74cc582",
   "metadata": {},
   "outputs": [
    {
     "data": {
      "text/plain": [
       "5"
      ]
     },
     "execution_count": 15,
     "metadata": {},
     "output_type": "execute_result"
    }
   ],
   "source": [
    "fp.seek(0,2)"
   ]
  },
  {
   "cell_type": "code",
   "execution_count": 16,
   "id": "c3fb5184",
   "metadata": {},
   "outputs": [
    {
     "ename": "ValueError",
     "evalue": "invalid whence (3, should be 0, 1 or 2)",
     "output_type": "error",
     "traceback": [
      "\u001b[1;31m---------------------------------------------------------------------------\u001b[0m",
      "\u001b[1;31mValueError\u001b[0m                                Traceback (most recent call last)",
      "\u001b[1;32mC:\\Users\\KUNALC~1\\AppData\\Local\\Temp/ipykernel_49536/2208642117.py\u001b[0m in \u001b[0;36m<module>\u001b[1;34m\u001b[0m\n\u001b[1;32m----> 1\u001b[1;33m \u001b[0mfp\u001b[0m\u001b[1;33m.\u001b[0m\u001b[0mseek\u001b[0m\u001b[1;33m(\u001b[0m\u001b[1;36m0\u001b[0m\u001b[1;33m,\u001b[0m\u001b[1;36m3\u001b[0m\u001b[1;33m)\u001b[0m\u001b[1;33m\u001b[0m\u001b[1;33m\u001b[0m\u001b[0m\n\u001b[0m",
      "\u001b[1;31mValueError\u001b[0m: invalid whence (3, should be 0, 1 or 2)"
     ]
    }
   ],
   "source": [
    "fp.seek(0,3)"
   ]
  },
  {
   "cell_type": "code",
   "execution_count": 17,
   "id": "72cb7ccd",
   "metadata": {},
   "outputs": [
    {
     "data": {
      "text/plain": [
       "26"
      ]
     },
     "execution_count": 17,
     "metadata": {},
     "output_type": "execute_result"
    }
   ],
   "source": [
    "fp.seek(0,2)"
   ]
  },
  {
   "cell_type": "code",
   "execution_count": 23,
   "id": "a277418b",
   "metadata": {},
   "outputs": [
    {
     "data": {
      "text/plain": [
       "0"
      ]
     },
     "execution_count": 23,
     "metadata": {},
     "output_type": "execute_result"
    }
   ],
   "source": [
    "fp.seek(0) # reset the file pointer position"
   ]
  },
  {
   "cell_type": "code",
   "execution_count": 26,
   "id": "f5d6b835",
   "metadata": {},
   "outputs": [],
   "source": [
    "fp.seek(5)\n",
    "fp.close()"
   ]
  },
  {
   "cell_type": "code",
   "execution_count": 31,
   "id": "abeefe8e",
   "metadata": {},
   "outputs": [
    {
     "name": "stdout",
     "output_type": "stream",
     "text": [
      "b'FGHIJK'\n"
     ]
    }
   ],
   "source": [
    "fp = open(r\"file_name.txt\", \"rb\")\n",
    "fp.seek(5)\n",
    "print(fp.read(6))"
   ]
  },
  {
   "cell_type": "code",
   "execution_count": 32,
   "id": "ac01c001",
   "metadata": {},
   "outputs": [
    {
     "data": {
      "text/plain": [
       "24"
      ]
     },
     "execution_count": 32,
     "metadata": {},
     "output_type": "execute_result"
    }
   ],
   "source": [
    "fp.seek(-2,2)"
   ]
  },
  {
   "cell_type": "code",
   "execution_count": 33,
   "id": "c214c5c4",
   "metadata": {},
   "outputs": [
    {
     "data": {
      "text/plain": [
       "b'YZ'"
      ]
     },
     "execution_count": 33,
     "metadata": {},
     "output_type": "execute_result"
    }
   ],
   "source": [
    "fp.read()"
   ]
  },
  {
   "cell_type": "code",
   "execution_count": 34,
   "id": "22354015",
   "metadata": {},
   "outputs": [],
   "source": [
    "fp.close()"
   ]
  },
  {
   "cell_type": "code",
   "execution_count": 36,
   "id": "d74dd63c",
   "metadata": {},
   "outputs": [],
   "source": [
    "with open(\"file_name.txt\",\"r+\") as file:\n",
    "    file.seek(0,2)\n",
    "    for i in range(1,11):\n",
    "        file.write(str(i)+\" \")"
   ]
  },
  {
   "cell_type": "code",
   "execution_count": null,
   "id": "5c16cc6f",
   "metadata": {},
   "outputs": [],
   "source": [
    "w:\n",
    "    # if file is Not Available its creates it\n",
    "    # If file is present then tuncate it\n",
    "    # file pointer lies at the start of the file\n",
    "    # reading operation is not possible\n",
    "w+:\n",
    "    # if file is Not Available its creates it\n",
    "    # If file is present then tuncate it\n",
    "    # file pointer lies at the start of the file\n",
    "    # reading operation is possible"
   ]
  },
  {
   "cell_type": "code",
   "execution_count": 37,
   "id": "3d9b9cd4",
   "metadata": {},
   "outputs": [
    {
     "ename": "TypeError",
     "evalue": "write() argument must be str, not int",
     "output_type": "error",
     "traceback": [
      "\u001b[1;31m---------------------------------------------------------------------------\u001b[0m",
      "\u001b[1;31mTypeError\u001b[0m                                 Traceback (most recent call last)",
      "\u001b[1;32mC:\\Users\\KUNALC~1\\AppData\\Local\\Temp/ipykernel_49536/3050600332.py\u001b[0m in \u001b[0;36m<module>\u001b[1;34m\u001b[0m\n\u001b[0;32m      1\u001b[0m \u001b[1;32mwith\u001b[0m \u001b[0mopen\u001b[0m\u001b[1;33m(\u001b[0m\u001b[1;34m\"w_plus_mode.txt\"\u001b[0m\u001b[1;33m,\u001b[0m \u001b[1;34m\"w+\"\u001b[0m\u001b[1;33m)\u001b[0m \u001b[1;32mas\u001b[0m \u001b[0mfp\u001b[0m\u001b[1;33m:\u001b[0m\u001b[1;33m\u001b[0m\u001b[1;33m\u001b[0m\u001b[0m\n\u001b[0;32m      2\u001b[0m     \u001b[1;32mfor\u001b[0m \u001b[0mi\u001b[0m \u001b[1;32min\u001b[0m \u001b[0mrange\u001b[0m\u001b[1;33m(\u001b[0m\u001b[1;36m1\u001b[0m\u001b[1;33m,\u001b[0m\u001b[1;36m11\u001b[0m\u001b[1;33m)\u001b[0m\u001b[1;33m:\u001b[0m\u001b[1;33m\u001b[0m\u001b[1;33m\u001b[0m\u001b[0m\n\u001b[1;32m----> 3\u001b[1;33m         \u001b[0mfp\u001b[0m\u001b[1;33m.\u001b[0m\u001b[0mwrite\u001b[0m\u001b[1;33m(\u001b[0m\u001b[0mi\u001b[0m\u001b[1;33m)\u001b[0m\u001b[1;33m\u001b[0m\u001b[1;33m\u001b[0m\u001b[0m\n\u001b[0m",
      "\u001b[1;31mTypeError\u001b[0m: write() argument must be str, not int"
     ]
    }
   ],
   "source": [
    "with open(\"w_plus_mode.txt\", \"w+\") as fp:\n",
    "    for i in range(1,11):\n",
    "        fp.write(i)"
   ]
  },
  {
   "cell_type": "code",
   "execution_count": 38,
   "id": "35f81ed5",
   "metadata": {},
   "outputs": [],
   "source": [
    "with open(\"w_plus_mode.txt\", \"w+\") as fp:\n",
    "    for i in range(1,11):\n",
    "        fp.write(str(i))"
   ]
  },
  {
   "cell_type": "code",
   "execution_count": 39,
   "id": "4b671e7f",
   "metadata": {},
   "outputs": [
    {
     "data": {
      "text/plain": [
       "Ellipsis"
      ]
     },
     "execution_count": 39,
     "metadata": {},
     "output_type": "execute_result"
    }
   ],
   "source": [
    "with open(\"w_plus_mode.txt\", \"w+\") as fp:\n",
    "    for i in range(1,11):\n",
    "        fp.write(str(i)+\"\\n\")\n",
    "    \n",
    "#1 <-- start\n",
    "# ...\n",
    "#10 <-- end"
   ]
  },
  {
   "cell_type": "code",
   "execution_count": 43,
   "id": "dccbee29",
   "metadata": {},
   "outputs": [
    {
     "name": "stdout",
     "output_type": "stream",
     "text": [
      "31\n",
      "\n"
     ]
    }
   ],
   "source": [
    "with open(\"w_plus_mode.txt\", \"w+\") as fp:\n",
    "    for i in range(1,11):\n",
    "        fp.write(str(i)+\"\\n\")\n",
    "    print(fp.tell())\n",
    "    print(fp.read())"
   ]
  },
  {
   "cell_type": "code",
   "execution_count": 45,
   "id": "2a9f95c3",
   "metadata": {},
   "outputs": [
    {
     "name": "stdout",
     "output_type": "stream",
     "text": [
      "3\n",
      "a\n",
      "\n"
     ]
    }
   ],
   "source": [
    "with open(\"test.txt\", \"w+\") as fp:\n",
    "    fp.write(\"a\\n\")\n",
    "    print(fp.tell())\n",
    "    fp.seek(0)\n",
    "    print(fp.read())"
   ]
  },
  {
   "cell_type": "code",
   "execution_count": null,
   "id": "7e63a7bf",
   "metadata": {},
   "outputs": [],
   "source": [
    "a:\n",
    "    # If the file is not present it will create a new file\n",
    "    # the file pointer is at the end of the file\n",
    "    # write operation is possible\n",
    "    # Reading operation is not possible\n",
    "a+:\n",
    "    # If the file is not present it will create a new file\n",
    "    # the file pointer is at the end of the file\n",
    "    # write operation is possible\n",
    "    # Reading operation is indeed possible"
   ]
  },
  {
   "cell_type": "code",
   "execution_count": 47,
   "id": "a96b417c",
   "metadata": {},
   "outputs": [
    {
     "name": "stdout",
     "output_type": "stream",
     "text": [
      "577\n",
      "Lorem Ipsu\n"
     ]
    }
   ],
   "source": [
    "with open(\"test.txt\", \"a+\") as fp:\n",
    "    print(fp.tell())\n",
    "    fp.write(\"\\nSandeep Singh\")\n",
    "    fp.seek(0)\n",
    "    print(fp.read(10))"
   ]
  },
  {
   "cell_type": "code",
   "execution_count": 49,
   "id": "220990ac",
   "metadata": {},
   "outputs": [],
   "source": [
    "with open(\"student.txt\", \"a+\") as file_pointer:\n",
    "    file_pointer.write(\"Name: Usha Kumari\")\n",
    "    file_pointer.write(\"Roll: 127\")\n",
    "    file_pointer.seek(0)\n",
    "    ss = file_pointer.read()"
   ]
  },
  {
   "cell_type": "code",
   "execution_count": 50,
   "id": "c846b42c",
   "metadata": {},
   "outputs": [
    {
     "name": "stdout",
     "output_type": "stream",
     "text": [
      "Name: Usha KumariRoll: 127\n"
     ]
    }
   ],
   "source": [
    "print(ss)"
   ]
  },
  {
   "cell_type": "code",
   "execution_count": 51,
   "id": "75d82a88",
   "metadata": {},
   "outputs": [],
   "source": [
    "with open(\"student.txt\", \"a+\") as file_pointer:\n",
    "    file_pointer.write(\"\\nUniversity: Edyoda\")\n",
    "    "
   ]
  },
  {
   "cell_type": "code",
   "execution_count": 52,
   "id": "30d86c93",
   "metadata": {},
   "outputs": [
    {
     "data": {
      "text/plain": [
       "str"
      ]
     },
     "execution_count": 52,
     "metadata": {},
     "output_type": "execute_result"
    }
   ],
   "source": [
    "type(ss)"
   ]
  },
  {
   "cell_type": "code",
   "execution_count": 56,
   "id": "bed7bf29",
   "metadata": {},
   "outputs": [],
   "source": [
    "with open(\"student.txt\", \"r+\") as fp:\n",
    "    fp.write(\"Hey\")"
   ]
  },
  {
   "cell_type": "code",
   "execution_count": 58,
   "id": "2c58cf60",
   "metadata": {},
   "outputs": [],
   "source": [
    "with open(\"student.txt\", \"r+\") as fp:\n",
    "    ss = fp.read()\n",
    "    ss = ss.replace(\"Kumara\",\"Kumari\")\n",
    "    fp.seek(0)\n",
    "    fp.truncate()\n",
    "    fp.write(ss)"
   ]
  },
  {
   "cell_type": "code",
   "execution_count": 60,
   "id": "b9fcd061",
   "metadata": {},
   "outputs": [
    {
     "name": "stdout",
     "output_type": "stream",
     "text": [
      "r\\nl\n"
     ]
    }
   ],
   "source": [
    "print(r\"r\\nl\")"
   ]
  },
  {
   "cell_type": "code",
   "execution_count": 61,
   "id": "664151a2",
   "metadata": {},
   "outputs": [
    {
     "name": "stdout",
     "output_type": "stream",
     "text": [
      "r\n",
      "l\n"
     ]
    }
   ],
   "source": [
    "print(\"r\\nl\")"
   ]
  },
  {
   "cell_type": "code",
   "execution_count": null,
   "id": "5d79de07",
   "metadata": {},
   "outputs": [],
   "source": []
  }
 ],
 "metadata": {
  "kernelspec": {
   "display_name": "Python 3 (ipykernel)",
   "language": "python",
   "name": "python3"
  },
  "language_info": {
   "codemirror_mode": {
    "name": "ipython",
    "version": 3
   },
   "file_extension": ".py",
   "mimetype": "text/x-python",
   "name": "python",
   "nbconvert_exporter": "python",
   "pygments_lexer": "ipython3",
   "version": "3.9.7"
  }
 },
 "nbformat": 4,
 "nbformat_minor": 5
}
