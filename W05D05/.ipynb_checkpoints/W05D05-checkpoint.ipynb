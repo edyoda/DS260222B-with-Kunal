{
 "cells": [
  {
   "cell_type": "markdown",
   "id": "a6046152",
   "metadata": {},
   "source": [
    "## `Copy`"
   ]
  },
  {
   "cell_type": "code",
   "execution_count": 1,
   "id": "fdef1a5b",
   "metadata": {},
   "outputs": [],
   "source": [
    "l = 5\n",
    "g = l\n",
    "list1 = [1,2,3,4,[1,4]]\n",
    "list2 = list1  #this assignment operator doesnot copies\n",
    "               # Instead it copies the reference of object and store in the new made variable"
   ]
  },
  {
   "cell_type": "code",
   "execution_count": 2,
   "id": "b384e4df",
   "metadata": {},
   "outputs": [
    {
     "name": "stdout",
     "output_type": "stream",
     "text": [
      "----------BEFORE ANY CHANGE IS DONE-{list1}-----------\n",
      "[1, 2, 3, 4, [1, 4]]: List1, [1, 2, 3, 4, [1, 4]]: List2\n",
      "----------AFTER ANY CHANGE IS DONE -------------------\n",
      "[1, 2, 3, 4]: List1, [1, 2, 3, 4]: List2\n"
     ]
    }
   ],
   "source": [
    "print(\"----------BEFORE ANY CHANGE IS DONE-{list1}-----------\")\n",
    "print(f\"{list1}: List1, {list2}: List2\")\n",
    "list1.pop()\n",
    "print(\"----------AFTER ANY CHANGE IS DONE -------------------\")\n",
    "print(f\"{list1}: List1, {list2}: List2\")"
   ]
  },
  {
   "cell_type": "code",
   "execution_count": null,
   "id": "e4637932",
   "metadata": {},
   "outputs": [],
   "source": [
    "f\"{list1}\""
   ]
  },
  {
   "cell_type": "markdown",
   "id": "eacdaa8e",
   "metadata": {},
   "source": [
    "- Shallow copy\n",
    "- Deep copy"
   ]
  },
  {
   "cell_type": "code",
   "execution_count": 4,
   "id": "1cee52b7",
   "metadata": {},
   "outputs": [
    {
     "name": "stdout",
     "output_type": "stream",
     "text": [
      "----------BEFORE ANY CHANGE IS DONE-{list1}-----------\n",
      "[1, 2, 5, 6, [1, 4]]: List1, [1, 2, 5, 6, [1, 4]]: List2\n",
      "----------AFTER ANY CHANGE IS DONE -------------------\n",
      "[1, 2, 5, 6, ['Pratiksha', 4], 'Hi']: List1, [1, 2, 5, 6, ['Pratiksha', 4]]: List2\n"
     ]
    }
   ],
   "source": [
    "# Shallow Copy\n",
    "import copy\n",
    "list1 = [1,2,5,6,[1,4]]\n",
    "list2 = copy.copy(list1)\n",
    "print(\"----------BEFORE ANY CHANGE IS DONE-{list1}-----------\")\n",
    "print(f\"{list1}: List1, {list2}: List2\")\n",
    "list1[-1][0] = \"Pratiksha\"\n",
    "list1.append(\"Hi\")\n",
    "print(\"----------AFTER ANY CHANGE IS DONE -------------------\")\n",
    "print(f\"{list1}: List1, {list2}: List2\")"
   ]
  },
  {
   "cell_type": "code",
   "execution_count": null,
   "id": "d26d5434",
   "metadata": {},
   "outputs": [],
   "source": [
    "# When we call copy() It creates a shallow copy of the object,\n",
    "# It actually means that new object is created but no new object will be created for our nested object"
   ]
  },
  {
   "cell_type": "code",
   "execution_count": 5,
   "id": "67adbf73",
   "metadata": {
    "collapsed": true
   },
   "outputs": [
    {
     "name": "stdout",
     "output_type": "stream",
     "text": [
      "Help on class list in module builtins:\n",
      "\n",
      "class list(object)\n",
      " |  list(iterable=(), /)\n",
      " |  \n",
      " |  Built-in mutable sequence.\n",
      " |  \n",
      " |  If no argument is given, the constructor creates a new empty list.\n",
      " |  The argument must be an iterable if specified.\n",
      " |  \n",
      " |  Methods defined here:\n",
      " |  \n",
      " |  __add__(self, value, /)\n",
      " |      Return self+value.\n",
      " |  \n",
      " |  __contains__(self, key, /)\n",
      " |      Return key in self.\n",
      " |  \n",
      " |  __delitem__(self, key, /)\n",
      " |      Delete self[key].\n",
      " |  \n",
      " |  __eq__(self, value, /)\n",
      " |      Return self==value.\n",
      " |  \n",
      " |  __ge__(self, value, /)\n",
      " |      Return self>=value.\n",
      " |  \n",
      " |  __getattribute__(self, name, /)\n",
      " |      Return getattr(self, name).\n",
      " |  \n",
      " |  __getitem__(...)\n",
      " |      x.__getitem__(y) <==> x[y]\n",
      " |  \n",
      " |  __gt__(self, value, /)\n",
      " |      Return self>value.\n",
      " |  \n",
      " |  __iadd__(self, value, /)\n",
      " |      Implement self+=value.\n",
      " |  \n",
      " |  __imul__(self, value, /)\n",
      " |      Implement self*=value.\n",
      " |  \n",
      " |  __init__(self, /, *args, **kwargs)\n",
      " |      Initialize self.  See help(type(self)) for accurate signature.\n",
      " |  \n",
      " |  __iter__(self, /)\n",
      " |      Implement iter(self).\n",
      " |  \n",
      " |  __le__(self, value, /)\n",
      " |      Return self<=value.\n",
      " |  \n",
      " |  __len__(self, /)\n",
      " |      Return len(self).\n",
      " |  \n",
      " |  __lt__(self, value, /)\n",
      " |      Return self<value.\n",
      " |  \n",
      " |  __mul__(self, value, /)\n",
      " |      Return self*value.\n",
      " |  \n",
      " |  __ne__(self, value, /)\n",
      " |      Return self!=value.\n",
      " |  \n",
      " |  __repr__(self, /)\n",
      " |      Return repr(self).\n",
      " |  \n",
      " |  __reversed__(self, /)\n",
      " |      Return a reverse iterator over the list.\n",
      " |  \n",
      " |  __rmul__(self, value, /)\n",
      " |      Return value*self.\n",
      " |  \n",
      " |  __setitem__(self, key, value, /)\n",
      " |      Set self[key] to value.\n",
      " |  \n",
      " |  __sizeof__(self, /)\n",
      " |      Return the size of the list in memory, in bytes.\n",
      " |  \n",
      " |  append(self, object, /)\n",
      " |      Append object to the end of the list.\n",
      " |  \n",
      " |  clear(self, /)\n",
      " |      Remove all items from list.\n",
      " |  \n",
      " |  copy(self, /)\n",
      " |      Return a shallow copy of the list.\n",
      " |  \n",
      " |  count(self, value, /)\n",
      " |      Return number of occurrences of value.\n",
      " |  \n",
      " |  extend(self, iterable, /)\n",
      " |      Extend list by appending elements from the iterable.\n",
      " |  \n",
      " |  index(self, value, start=0, stop=9223372036854775807, /)\n",
      " |      Return first index of value.\n",
      " |      \n",
      " |      Raises ValueError if the value is not present.\n",
      " |  \n",
      " |  insert(self, index, object, /)\n",
      " |      Insert object before index.\n",
      " |  \n",
      " |  pop(self, index=-1, /)\n",
      " |      Remove and return item at index (default last).\n",
      " |      \n",
      " |      Raises IndexError if list is empty or index is out of range.\n",
      " |  \n",
      " |  remove(self, value, /)\n",
      " |      Remove first occurrence of value.\n",
      " |      \n",
      " |      Raises ValueError if the value is not present.\n",
      " |  \n",
      " |  reverse(self, /)\n",
      " |      Reverse *IN PLACE*.\n",
      " |  \n",
      " |  sort(self, /, *, key=None, reverse=False)\n",
      " |      Sort the list in ascending order and return None.\n",
      " |      \n",
      " |      The sort is in-place (i.e. the list itself is modified) and stable (i.e. the\n",
      " |      order of two equal elements is maintained).\n",
      " |      \n",
      " |      If a key function is given, apply it once to each list item and sort them,\n",
      " |      ascending or descending, according to their function values.\n",
      " |      \n",
      " |      The reverse flag can be set to sort in descending order.\n",
      " |  \n",
      " |  ----------------------------------------------------------------------\n",
      " |  Class methods defined here:\n",
      " |  \n",
      " |  __class_getitem__(...) from builtins.type\n",
      " |      See PEP 585\n",
      " |  \n",
      " |  ----------------------------------------------------------------------\n",
      " |  Static methods defined here:\n",
      " |  \n",
      " |  __new__(*args, **kwargs) from builtins.type\n",
      " |      Create and return a new object.  See help(type) for accurate signature.\n",
      " |  \n",
      " |  ----------------------------------------------------------------------\n",
      " |  Data and other attributes defined here:\n",
      " |  \n",
      " |  __hash__ = None\n",
      "\n"
     ]
    }
   ],
   "source": [
    "\n",
    "help(list)"
   ]
  },
  {
   "cell_type": "code",
   "execution_count": null,
   "id": "d9b82b49",
   "metadata": {},
   "outputs": [],
   "source": [
    "import copy\n",
    "l = [1,2,[3,6]]\n",
    "g = copy.copy(l)\n",
    "l[2][0] = \"Arman\"\n",
    "l[0] = \"Priya\"\n",
    "# Deep copy\n",
    "h = copy.deepcopy(l)\n",
    "l[-1][1] = \"Sandipan\""
   ]
  },
  {
   "cell_type": "code",
   "execution_count": 6,
   "id": "c85709b9",
   "metadata": {},
   "outputs": [],
   "source": [
    "import re\n",
    "# * It is capable of matching zero or more "
   ]
  },
  {
   "cell_type": "code",
   "execution_count": 8,
   "id": "1e1eb6e4",
   "metadata": {},
   "outputs": [],
   "source": [
    "string = \"kjshdgoodj23hn\"\n",
    "regx = \"go*d\"\n",
    "t = re.search(regx,string)"
   ]
  },
  {
   "cell_type": "code",
   "execution_count": 9,
   "id": "46509cb8",
   "metadata": {},
   "outputs": [
    {
     "name": "stdout",
     "output_type": "stream",
     "text": [
      "<re.Match object; span=(5, 9), match='good'>\n"
     ]
    }
   ],
   "source": [
    "print(t)"
   ]
  },
  {
   "cell_type": "code",
   "execution_count": 11,
   "id": "cc54dca7",
   "metadata": {},
   "outputs": [
    {
     "data": {
      "text/plain": [
       "5"
      ]
     },
     "execution_count": 11,
     "metadata": {},
     "output_type": "execute_result"
    }
   ],
   "source": [
    "t.start()"
   ]
  },
  {
   "cell_type": "code",
   "execution_count": 12,
   "id": "ccde1490",
   "metadata": {},
   "outputs": [
    {
     "data": {
      "text/plain": [
       "9"
      ]
     },
     "execution_count": 12,
     "metadata": {},
     "output_type": "execute_result"
    }
   ],
   "source": [
    "t.end()"
   ]
  },
  {
   "cell_type": "code",
   "execution_count": null,
   "id": "1d3b519d",
   "metadata": {},
   "outputs": [],
   "source": [
    "string1 = \"gomod\"\n",
    "regx = \"go*d\""
   ]
  },
  {
   "cell_type": "code",
   "execution_count": null,
   "id": "7908bf90",
   "metadata": {},
   "outputs": [],
   "source": [
    "# Function\n",
    "def name(param1, pram2):\n",
    "    parma2 = param1+1\n",
    "    return param2"
   ]
  },
  {
   "cell_type": "code",
   "execution_count": null,
   "id": "6e8932d0",
   "metadata": {},
   "outputs": [],
   "source": [
    "Print function returns NOTHING(None)"
   ]
  }
 ],
 "metadata": {
  "kernelspec": {
   "display_name": "Python 3 (ipykernel)",
   "language": "python",
   "name": "python3"
  },
  "language_info": {
   "codemirror_mode": {
    "name": "ipython",
    "version": 3
   },
   "file_extension": ".py",
   "mimetype": "text/x-python",
   "name": "python",
   "nbconvert_exporter": "python",
   "pygments_lexer": "ipython3",
   "version": "3.9.7"
  }
 },
 "nbformat": 4,
 "nbformat_minor": 5
}
