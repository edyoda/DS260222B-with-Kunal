{
 "cells": [
  {
   "cell_type": "code",
   "execution_count": null,
   "id": "483e02e0",
   "metadata": {},
   "outputs": [],
   "source": [
    "Doubts from prvious classes?"
   ]
  },
  {
   "cell_type": "code",
   "execution_count": null,
   "id": "88c23cfd",
   "metadata": {},
   "outputs": [],
   "source": [
    "while condition:\n",
    "    #statement"
   ]
  },
  {
   "cell_type": "code",
   "execution_count": 35,
   "id": "3b955034",
   "metadata": {},
   "outputs": [
    {
     "name": "stdout",
     "output_type": "stream",
     "text": [
      "1\n",
      "2\n",
      "3\n",
      "4\n",
      "5\n",
      "6\n",
      "7\n",
      "8\n",
      "9\n",
      "10\n"
     ]
    }
   ],
   "source": [
    "#1-10\n",
    "x=0\n",
    "while x<10:\n",
    "    x+=1\n",
    "    print(x)"
   ]
  },
  {
   "cell_type": "code",
   "execution_count": 6,
   "id": "a8abb915",
   "metadata": {},
   "outputs": [
    {
     "name": "stdout",
     "output_type": "stream",
     "text": [
      "1\n",
      "2\n",
      "3\n",
      "4\n",
      "5\n",
      "6\n",
      "7\n",
      "8\n",
      "9\n",
      "10\n",
      "11\n"
     ]
    }
   ],
   "source": [
    "x=0\n",
    "while x<=10:\n",
    "    x+=1\n",
    "    print(x)"
   ]
  },
  {
   "cell_type": "code",
   "execution_count": null,
   "id": "bbbc9d36",
   "metadata": {},
   "outputs": [],
   "source": [
    "if you find even convrt \n",
    "1 -> 1\n",
    "2 -> 2-2*2\n",
    "3 -> 3\n",
    "4 -> 4-4*2\n",
    "...\n",
    "8 -> 8-8*2"
   ]
  },
  {
   "cell_type": "code",
   "execution_count": 7,
   "id": "04516981",
   "metadata": {},
   "outputs": [
    {
     "name": "stdout",
     "output_type": "stream",
     "text": [
      "0\n",
      "1\n",
      "-2\n",
      "3\n",
      "-4\n",
      "5\n",
      "-6\n",
      "7\n",
      "-8\n",
      "9\n"
     ]
    }
   ],
   "source": [
    "count = 0\n",
    "while count<10:\n",
    "    if count%2==0:\n",
    "        print(count - count*2)\n",
    "    else:\n",
    "        print(count)\n",
    "    count+=1"
   ]
  },
  {
   "cell_type": "code",
   "execution_count": 1,
   "id": "f5b02bf4",
   "metadata": {},
   "outputs": [
    {
     "name": "stdout",
     "output_type": "stream",
     "text": [
      "Do you want to start: Y/NY\n",
      "Forward or Backward: F/BF\n",
      "Page is 1\n",
      "Do you want to start: Y/NY\n",
      "Forward or Backward: F/BF\n",
      "Page is 2\n",
      "Do you want to start: Y/NY\n",
      "Forward or Backward: F/BF\n",
      "Page is 3\n",
      "Do you want to start: Y/NY\n",
      "Forward or Backward: F/BB\n",
      "Page is 2\n",
      "Do you want to start: Y/NY\n",
      "Forward or Backward: F/BB\n",
      "Page is 1\n",
      "Do you want to start: Y/NY\n",
      "Forward or Backward: F/BB\n",
      "Page is 0\n",
      "Do you want to start: Y/NY\n",
      "Forward or Backward: F/BB\n",
      "You are at the start of page\n",
      "Do you want to start: Y/NN\n",
      "Shutting Down....\n"
     ]
    }
   ],
   "source": [
    "# mini undo and redo\n",
    "count = 0\n",
    "while True:\n",
    "    option = input(\"Do you want to start: Y/N\")\n",
    "    if option == \"Y\":\n",
    "        choice = input(\"Forward or Backward: F/B\")\n",
    "        if choice == \"F\":\n",
    "            count+=1\n",
    "            print(\"Page is\",count)\n",
    "        elif choice == \"B\" and count>0:\n",
    "            count-=1\n",
    "            print(\"Page is\",count)\n",
    "        elif choice == \"B\" and count==0:\n",
    "            print(\"You are at the start of page\")\n",
    "        else:\n",
    "            print(\"Incorrect choice!!\")\n",
    "    else:\n",
    "        print(\"Shutting Down....\")\n",
    "        break"
   ]
  },
  {
   "cell_type": "code",
   "execution_count": 2,
   "id": "6729d880",
   "metadata": {},
   "outputs": [
    {
     "name": "stdout",
     "output_type": "stream",
     "text": [
      "Pratiksha\n"
     ]
    }
   ],
   "source": [
    "str_one = \"Pratiksha\"\n",
    "print(str_one)"
   ]
  },
  {
   "cell_type": "code",
   "execution_count": 3,
   "id": "54620597",
   "metadata": {},
   "outputs": [
    {
     "name": "stdout",
     "output_type": "stream",
     "text": [
      "<class 'str'>\n",
      "Armaan\n"
     ]
    }
   ],
   "source": [
    "str_two = 'Armaan'\n",
    "print(type(str_two))\n",
    "print(str_two)"
   ]
  },
  {
   "cell_type": "code",
   "execution_count": 4,
   "id": "0a6c9125",
   "metadata": {},
   "outputs": [
    {
     "name": "stdout",
     "output_type": "stream",
     "text": [
      "Hey I am\n",
      "the triple quote guy\n"
     ]
    }
   ],
   "source": [
    "str_three = '''Hey I am\n",
    "the triple quote guy'''\n",
    "print(str_three)"
   ]
  },
  {
   "cell_type": "code",
   "execution_count": 5,
   "id": "76f5b4b9",
   "metadata": {},
   "outputs": [],
   "source": [
    "s = \"Hey I am from Edyoda and I love teaching Python!!\""
   ]
  },
  {
   "cell_type": "code",
   "execution_count": 6,
   "id": "3b785907",
   "metadata": {},
   "outputs": [
    {
     "data": {
      "text/plain": [
       "'I'"
      ]
     },
     "execution_count": 6,
     "metadata": {},
     "output_type": "execute_result"
    }
   ],
   "source": [
    "s[4]"
   ]
  },
  {
   "cell_type": "code",
   "execution_count": 7,
   "id": "cb04d6f4",
   "metadata": {},
   "outputs": [],
   "source": [
    "strval = \"EDYODAA\""
   ]
  },
  {
   "cell_type": "markdown",
   "id": "84e1b1bf",
   "metadata": {},
   "source": [
    "### `Negative Indexing`"
   ]
  },
  {
   "cell_type": "code",
   "execution_count": 8,
   "id": "62332f3f",
   "metadata": {},
   "outputs": [
    {
     "data": {
      "text/plain": [
       "'A'"
      ]
     },
     "execution_count": 8,
     "metadata": {},
     "output_type": "execute_result"
    }
   ],
   "source": [
    "strval[-1]"
   ]
  },
  {
   "cell_type": "code",
   "execution_count": 9,
   "id": "0a75c843",
   "metadata": {},
   "outputs": [
    {
     "data": {
      "text/plain": [
       "'A'"
      ]
     },
     "execution_count": 9,
     "metadata": {},
     "output_type": "execute_result"
    }
   ],
   "source": [
    "strval[6]"
   ]
  },
  {
   "cell_type": "code",
   "execution_count": 10,
   "id": "d4da2064",
   "metadata": {},
   "outputs": [
    {
     "name": "stdout",
     "output_type": "stream",
     "text": [
      "Talib\n",
      "Ganesh\n"
     ]
    }
   ],
   "source": [
    "x = \"Talib\"\n",
    "print(x)\n",
    "x = \"Ganesh\"\n",
    "print(x)"
   ]
  },
  {
   "cell_type": "code",
   "execution_count": 11,
   "id": "c67944e4",
   "metadata": {},
   "outputs": [
    {
     "data": {
      "text/plain": [
       "'n'"
      ]
     },
     "execution_count": 11,
     "metadata": {},
     "output_type": "execute_result"
    }
   ],
   "source": [
    "char = \"Sandipan\"\n",
    "char[7]"
   ]
  },
  {
   "cell_type": "code",
   "execution_count": 12,
   "id": "cde2161d",
   "metadata": {},
   "outputs": [
    {
     "data": {
      "text/plain": [
       "'n'"
      ]
     },
     "execution_count": 12,
     "metadata": {},
     "output_type": "execute_result"
    }
   ],
   "source": [
    "char[len(char)-1]"
   ]
  },
  {
   "cell_type": "code",
   "execution_count": 13,
   "id": "0cd27547",
   "metadata": {},
   "outputs": [
    {
     "data": {
      "text/plain": [
       "'n'"
      ]
     },
     "execution_count": 13,
     "metadata": {},
     "output_type": "execute_result"
    }
   ],
   "source": [
    "char[-1]"
   ]
  },
  {
   "cell_type": "markdown",
   "id": "4e1f0ce4",
   "metadata": {},
   "source": [
    "### `Slicing`"
   ]
  },
  {
   "cell_type": "code",
   "execution_count": 14,
   "id": "521c4ac7",
   "metadata": {},
   "outputs": [
    {
     "data": {
      "text/plain": [
       "'Edyoda'"
      ]
     },
     "execution_count": 14,
     "metadata": {},
     "output_type": "execute_result"
    }
   ],
   "source": [
    "char = \"Edyoda Digital University\"\n",
    "char[0:6]"
   ]
  },
  {
   "cell_type": "code",
   "execution_count": 15,
   "id": "b043860a",
   "metadata": {},
   "outputs": [
    {
     "data": {
      "text/plain": [
       "'Digital'"
      ]
     },
     "execution_count": 15,
     "metadata": {},
     "output_type": "execute_result"
    }
   ],
   "source": [
    "char[7:14]"
   ]
  },
  {
   "cell_type": "code",
   "execution_count": 16,
   "id": "bd754f4a",
   "metadata": {},
   "outputs": [
    {
     "data": {
      "text/plain": [
       "'Edyoda Digital'"
      ]
     },
     "execution_count": 16,
     "metadata": {},
     "output_type": "execute_result"
    }
   ],
   "source": [
    "char[0:14]"
   ]
  },
  {
   "cell_type": "code",
   "execution_count": 17,
   "id": "6ee3b45c",
   "metadata": {},
   "outputs": [
    {
     "data": {
      "text/plain": [
       "'Edyoda Digital'"
      ]
     },
     "execution_count": 17,
     "metadata": {},
     "output_type": "execute_result"
    }
   ],
   "source": [
    "char[:14]"
   ]
  },
  {
   "cell_type": "code",
   "execution_count": 18,
   "id": "4b22716f",
   "metadata": {},
   "outputs": [
    {
     "data": {
      "text/plain": [
       "'Eyd iia nvriy'"
      ]
     },
     "execution_count": 18,
     "metadata": {},
     "output_type": "execute_result"
    }
   ],
   "source": [
    "char[::2]"
   ]
  },
  {
   "cell_type": "code",
   "execution_count": 19,
   "id": "8a28ff34",
   "metadata": {},
   "outputs": [
    {
     "data": {
      "text/plain": [
       "'ytisrevinU latigiD adoydE'"
      ]
     },
     "execution_count": 19,
     "metadata": {},
     "output_type": "execute_result"
    }
   ],
   "source": [
    "char[::-1]"
   ]
  },
  {
   "cell_type": "code",
   "execution_count": 20,
   "id": "9eb089a3",
   "metadata": {},
   "outputs": [
    {
     "data": {
      "text/plain": [
       "'Paisa'"
      ]
     },
     "execution_count": 20,
     "metadata": {},
     "output_type": "execute_result"
    }
   ],
   "source": [
    "s1 = \"Pratiksha\"\n",
    "s1[::2]"
   ]
  },
  {
   "cell_type": "code",
   "execution_count": 21,
   "id": "1d65b4aa",
   "metadata": {},
   "outputs": [
    {
     "data": {
      "text/plain": [
       "'Paisa'"
      ]
     },
     "execution_count": 21,
     "metadata": {},
     "output_type": "execute_result"
    }
   ],
   "source": [
    "s1[0:9:2]"
   ]
  },
  {
   "cell_type": "code",
   "execution_count": 22,
   "id": "de2c9276",
   "metadata": {},
   "outputs": [
    {
     "data": {
      "text/plain": [
       "'akihturK'"
      ]
     },
     "execution_count": 22,
     "metadata": {},
     "output_type": "execute_result"
    }
   ],
   "source": [
    "s2 = \"Kruthika\"\n",
    "s2[-1::-1]"
   ]
  },
  {
   "cell_type": "code",
   "execution_count": 23,
   "id": "b81aa078",
   "metadata": {},
   "outputs": [
    {
     "data": {
      "text/plain": [
       "8"
      ]
     },
     "execution_count": 23,
     "metadata": {},
     "output_type": "execute_result"
    }
   ],
   "source": [
    "len(s2)"
   ]
  },
  {
   "cell_type": "code",
   "execution_count": 24,
   "id": "b6ac1570",
   "metadata": {},
   "outputs": [
    {
     "data": {
      "text/plain": [
       "'K'"
      ]
     },
     "execution_count": 24,
     "metadata": {},
     "output_type": "execute_result"
    }
   ],
   "source": [
    "s2[-8]"
   ]
  },
  {
   "cell_type": "code",
   "execution_count": 25,
   "id": "eba8c423",
   "metadata": {},
   "outputs": [
    {
     "name": "stdout",
     "output_type": "stream",
     "text": [
      "2466276954672\n",
      "ArmanJamdar\n"
     ]
    }
   ],
   "source": [
    "a = \"Arman\"\n",
    "b = \"Jamdar\"\n",
    "print(id(a))\n",
    "a = a + b\n",
    "print(a)"
   ]
  },
  {
   "cell_type": "code",
   "execution_count": 26,
   "id": "1ff2cec5",
   "metadata": {},
   "outputs": [
    {
     "name": "stdout",
     "output_type": "stream",
     "text": [
      "2466276506608\n"
     ]
    }
   ],
   "source": [
    "print(id(a))"
   ]
  },
  {
   "cell_type": "code",
   "execution_count": 27,
   "id": "a66f437c",
   "metadata": {},
   "outputs": [],
   "source": [
    "a = \"I wont be sleeping in class \"*100"
   ]
  },
  {
   "cell_type": "code",
   "execution_count": 28,
   "id": "a3d9bacb",
   "metadata": {
    "collapsed": true
   },
   "outputs": [
    {
     "name": "stdout",
     "output_type": "stream",
     "text": [
      "I wont be sleeping in class I wont be sleeping in class I wont be sleeping in class I wont be sleeping in class I wont be sleeping in class I wont be sleeping in class I wont be sleeping in class I wont be sleeping in class I wont be sleeping in class I wont be sleeping in class I wont be sleeping in class I wont be sleeping in class I wont be sleeping in class I wont be sleeping in class I wont be sleeping in class I wont be sleeping in class I wont be sleeping in class I wont be sleeping in class I wont be sleeping in class I wont be sleeping in class I wont be sleeping in class I wont be sleeping in class I wont be sleeping in class I wont be sleeping in class I wont be sleeping in class I wont be sleeping in class I wont be sleeping in class I wont be sleeping in class I wont be sleeping in class I wont be sleeping in class I wont be sleeping in class I wont be sleeping in class I wont be sleeping in class I wont be sleeping in class I wont be sleeping in class I wont be sleeping in class I wont be sleeping in class I wont be sleeping in class I wont be sleeping in class I wont be sleeping in class I wont be sleeping in class I wont be sleeping in class I wont be sleeping in class I wont be sleeping in class I wont be sleeping in class I wont be sleeping in class I wont be sleeping in class I wont be sleeping in class I wont be sleeping in class I wont be sleeping in class I wont be sleeping in class I wont be sleeping in class I wont be sleeping in class I wont be sleeping in class I wont be sleeping in class I wont be sleeping in class I wont be sleeping in class I wont be sleeping in class I wont be sleeping in class I wont be sleeping in class I wont be sleeping in class I wont be sleeping in class I wont be sleeping in class I wont be sleeping in class I wont be sleeping in class I wont be sleeping in class I wont be sleeping in class I wont be sleeping in class I wont be sleeping in class I wont be sleeping in class I wont be sleeping in class I wont be sleeping in class I wont be sleeping in class I wont be sleeping in class I wont be sleeping in class I wont be sleeping in class I wont be sleeping in class I wont be sleeping in class I wont be sleeping in class I wont be sleeping in class I wont be sleeping in class I wont be sleeping in class I wont be sleeping in class I wont be sleeping in class I wont be sleeping in class I wont be sleeping in class I wont be sleeping in class I wont be sleeping in class I wont be sleeping in class I wont be sleeping in class I wont be sleeping in class I wont be sleeping in class I wont be sleeping in class I wont be sleeping in class I wont be sleeping in class I wont be sleeping in class I wont be sleeping in class I wont be sleeping in class I wont be sleeping in class I wont be sleeping in class \n"
     ]
    }
   ],
   "source": [
    "print(a)"
   ]
  },
  {
   "cell_type": "code",
   "execution_count": 29,
   "id": "22e50bb7",
   "metadata": {},
   "outputs": [
    {
     "ename": "SyntaxError",
     "evalue": "unterminated string literal (detected at line 1) (2128020446.py, line 1)",
     "output_type": "error",
     "traceback": [
      "\u001b[1;36m  Input \u001b[1;32mIn [29]\u001b[1;36m\u001b[0m\n\u001b[1;33m    a = 'Happy B'Day'\u001b[0m\n\u001b[1;37m                    ^\u001b[0m\n\u001b[1;31mSyntaxError\u001b[0m\u001b[1;31m:\u001b[0m unterminated string literal (detected at line 1)\n"
     ]
    }
   ],
   "source": [
    "a = 'Happy B'Day'"
   ]
  },
  {
   "cell_type": "code",
   "execution_count": 30,
   "id": "1ba2a1c1",
   "metadata": {},
   "outputs": [],
   "source": [
    "a = \"Happy B'Day\""
   ]
  },
  {
   "cell_type": "code",
   "execution_count": 31,
   "id": "a39b25c8",
   "metadata": {},
   "outputs": [
    {
     "name": "stdout",
     "output_type": "stream",
     "text": [
      "Happy B'Day\n"
     ]
    }
   ],
   "source": [
    "print(a)"
   ]
  },
  {
   "cell_type": "code",
   "execution_count": null,
   "id": "409a7fb7",
   "metadata": {},
   "outputs": [],
   "source": [
    "a = 'Happy B\\'Day'"
   ]
  },
  {
   "cell_type": "code",
   "execution_count": 32,
   "id": "edd28118",
   "metadata": {},
   "outputs": [
    {
     "name": "stdout",
     "output_type": "stream",
     "text": [
      "Happy B'Day\n"
     ]
    }
   ],
   "source": [
    "print(a)"
   ]
  },
  {
   "cell_type": "code",
   "execution_count": 33,
   "id": "3c160f8d",
   "metadata": {},
   "outputs": [
    {
     "name": "stdout",
     "output_type": "stream",
     "text": [
      "Hey I am here jdhdurb gibrish\n"
     ]
    }
   ],
   "source": [
    "a = \"Hey I am here \\\n",
    "jdhdurb \\\n",
    "gibrish\"\n",
    "print(a)"
   ]
  },
  {
   "cell_type": "code",
   "execution_count": 34,
   "id": "0ae7b258",
   "metadata": {},
   "outputs": [],
   "source": [
    "a = \"\""
   ]
  },
  {
   "cell_type": "code",
   "execution_count": null,
   "id": "1936d550",
   "metadata": {},
   "outputs": [],
   "source": []
  },
  {
   "cell_type": "markdown",
   "id": "8eba0e06",
   "metadata": {},
   "source": [
    "## String"
   ]
  },
  {
   "cell_type": "code",
   "execution_count": null,
   "id": "8b024cef",
   "metadata": {},
   "outputs": [],
   "source": [
    "upper(),lower(),isupper(),islower(),title(),istitle(),capitalize()"
   ]
  },
  {
   "cell_type": "code",
   "execution_count": null,
   "id": "8f1f051b",
   "metadata": {},
   "outputs": [],
   "source": []
  },
  {
   "cell_type": "code",
   "execution_count": null,
   "id": "6e5c4359",
   "metadata": {},
   "outputs": [],
   "source": [
    "string is immutable in python"
   ]
  },
  {
   "cell_type": "code",
   "execution_count": 10,
   "id": "a98e5a32",
   "metadata": {},
   "outputs": [
    {
     "ename": "TypeError",
     "evalue": "'str' object does not support item assignment",
     "output_type": "error",
     "traceback": [
      "\u001b[1;31m---------------------------------------------------------------------------\u001b[0m",
      "\u001b[1;31mTypeError\u001b[0m                                 Traceback (most recent call last)",
      "Input \u001b[1;32mIn [10]\u001b[0m, in \u001b[0;36m<module>\u001b[1;34m\u001b[0m\n\u001b[0;32m      1\u001b[0m s \u001b[38;5;241m=\u001b[39m \u001b[38;5;124m\"\u001b[39m\u001b[38;5;124mMona\u001b[39m\u001b[38;5;124m\"\u001b[39m\n\u001b[1;32m----> 2\u001b[0m s[\u001b[38;5;241m2\u001b[39m] \u001b[38;5;241m=\u001b[39m \u001b[38;5;124m\"\u001b[39m\u001b[38;5;124mN\u001b[39m\u001b[38;5;124m\"\u001b[39m\n",
      "\u001b[1;31mTypeError\u001b[0m: 'str' object does not support item assignment"
     ]
    }
   ],
   "source": [
    "s = \"Mona\"\n",
    "s[2] = \"N\""
   ]
  },
  {
   "cell_type": "code",
   "execution_count": 11,
   "id": "fcea9f4c",
   "metadata": {},
   "outputs": [],
   "source": [
    "s = \"MoNa\""
   ]
  },
  {
   "cell_type": "code",
   "execution_count": 13,
   "id": "040c399a",
   "metadata": {},
   "outputs": [
    {
     "data": {
      "text/plain": [
       "'0x1dcc0bf6df0'"
      ]
     },
     "execution_count": 13,
     "metadata": {},
     "output_type": "execute_result"
    }
   ],
   "source": [
    "hex(id(s))"
   ]
  },
  {
   "cell_type": "code",
   "execution_count": 18,
   "id": "3f4511c9",
   "metadata": {},
   "outputs": [],
   "source": [
    "s = \"Communication between the players and the game creators\\n is an important\\\n",
    "aspect of any online game.\\n In that regard, the mailbox of Gearbox Software’s \\\n",
    "Borderlands 3 does an amazing job. These mail services make sure that the players\\\n",
    "get the latest news about the game. But, many players do not know this feature, \\\n",
    "especially beginners. This article features a guide for beginners about the mailbox\\\n",
    "of Borderlands 3.\""
   ]
  },
  {
   "cell_type": "code",
   "execution_count": 19,
   "id": "d90d1ceb",
   "metadata": {},
   "outputs": [
    {
     "name": "stdout",
     "output_type": "stream",
     "text": [
      "Communication between the players and the game creators\n",
      " is an importantaspect of any online game.\n",
      " In that regard, the mailbox of Gearbox Software’s Borderlands 3 does an amazing job. These mail services make sure that the playersget the latest news about the game. But, many players do not know this feature, especially beginners. This article features a guide for beginners about the mailboxof Borderlands 3.\n"
     ]
    }
   ],
   "source": [
    "print(s)"
   ]
  },
  {
   "cell_type": "code",
   "execution_count": null,
   "id": "974bcb08",
   "metadata": {},
   "outputs": [],
   "source": [
    "\\n is a new line character"
   ]
  },
  {
   "cell_type": "code",
   "execution_count": 20,
   "id": "f9731061",
   "metadata": {},
   "outputs": [
    {
     "name": "stdout",
     "output_type": "stream",
     "text": [
      "Help on built-in function print in module builtins:\n",
      "\n",
      "print(...)\n",
      "    print(value, ..., sep=' ', end='\\n', file=sys.stdout, flush=False)\n",
      "    \n",
      "    Prints the values to a stream, or to sys.stdout by default.\n",
      "    Optional keyword arguments:\n",
      "    file:  a file-like object (stream); defaults to the current sys.stdout.\n",
      "    sep:   string inserted between values, default a space.\n",
      "    end:   string appended after the last value, default a newline.\n",
      "    flush: whether to forcibly flush the stream.\n",
      "\n"
     ]
    }
   ],
   "source": [
    "help(print)"
   ]
  },
  {
   "cell_type": "code",
   "execution_count": 23,
   "id": "829ab749",
   "metadata": {},
   "outputs": [
    {
     "name": "stdout",
     "output_type": "stream",
     "text": [
      "Nibedita How are You\n"
     ]
    }
   ],
   "source": [
    "print(\"Nibedita\",\"How\",\"are\",\"You\")"
   ]
  },
  {
   "cell_type": "code",
   "execution_count": 25,
   "id": "e6fa35f6",
   "metadata": {},
   "outputs": [
    {
     "name": "stdout",
     "output_type": "stream",
     "text": [
      "Nibedita-How-are-You\n"
     ]
    }
   ],
   "source": [
    "print(\"Nibedita\",\"How\",\"are\",\"You\",sep=\"-\")"
   ]
  },
  {
   "cell_type": "code",
   "execution_count": 27,
   "id": "31a3ec08",
   "metadata": {},
   "outputs": [
    {
     "name": "stdout",
     "output_type": "stream",
     "text": [
      "Hey How are you\n",
      "I am fine.Thanks for asking!!\n"
     ]
    }
   ],
   "source": [
    "print(\"Hey How are you\")\n",
    "print(\"I am fine.\",end=\"\")\n",
    "print(\"Thanks for asking!!\")"
   ]
  },
  {
   "cell_type": "code",
   "execution_count": 28,
   "id": "7bc4d0e0",
   "metadata": {},
   "outputs": [
    {
     "name": "stdout",
     "output_type": "stream",
     "text": [
      "54\n"
     ]
    }
   ],
   "source": [
    "s = input()"
   ]
  },
  {
   "cell_type": "code",
   "execution_count": 29,
   "id": "b8a3fd60",
   "metadata": {},
   "outputs": [
    {
     "name": "stdout",
     "output_type": "stream",
     "text": [
      "<class 'str'>\n"
     ]
    }
   ],
   "source": [
    "print(type(s))"
   ]
  },
  {
   "cell_type": "code",
   "execution_count": 30,
   "id": "1c022646",
   "metadata": {},
   "outputs": [
    {
     "name": "stdout",
     "output_type": "stream",
     "text": [
      "54\n"
     ]
    }
   ],
   "source": [
    "s = int(input())"
   ]
  },
  {
   "cell_type": "code",
   "execution_count": 31,
   "id": "0684e338",
   "metadata": {},
   "outputs": [
    {
     "name": "stdout",
     "output_type": "stream",
     "text": [
      "<class 'int'>\n"
     ]
    }
   ],
   "source": [
    "print(type(s))"
   ]
  },
  {
   "cell_type": "code",
   "execution_count": 32,
   "id": "eb3fb045",
   "metadata": {},
   "outputs": [
    {
     "name": "stdout",
     "output_type": "stream",
     "text": [
      "enjoy\n"
     ]
    },
    {
     "ename": "ValueError",
     "evalue": "invalid literal for int() with base 10: 'enjoy'",
     "output_type": "error",
     "traceback": [
      "\u001b[1;31m---------------------------------------------------------------------------\u001b[0m",
      "\u001b[1;31mValueError\u001b[0m                                Traceback (most recent call last)",
      "Input \u001b[1;32mIn [32]\u001b[0m, in \u001b[0;36m<module>\u001b[1;34m\u001b[0m\n\u001b[1;32m----> 1\u001b[0m s \u001b[38;5;241m=\u001b[39m \u001b[38;5;28;43mint\u001b[39;49m\u001b[43m(\u001b[49m\u001b[38;5;28;43minput\u001b[39;49m\u001b[43m(\u001b[49m\u001b[43m)\u001b[49m\u001b[43m)\u001b[49m\n",
      "\u001b[1;31mValueError\u001b[0m: invalid literal for int() with base 10: 'enjoy'"
     ]
    }
   ],
   "source": [
    "s = int(input())"
   ]
  },
  {
   "cell_type": "code",
   "execution_count": 38,
   "id": "c25ad127",
   "metadata": {},
   "outputs": [
    {
     "name": "stdout",
     "output_type": "stream",
     "text": [
      "Hey I am from edyoda\n"
     ]
    }
   ],
   "source": [
    "s = \"Hey I om from edyoda\"\n",
    "s = s.replace(\"om\",\"am\",1)\n",
    "print(s)"
   ]
  },
  {
   "cell_type": "code",
   "execution_count": 33,
   "id": "0e306de5",
   "metadata": {
    "collapsed": true
   },
   "outputs": [
    {
     "name": "stdout",
     "output_type": "stream",
     "text": [
      "Help on class str in module builtins:\n",
      "\n",
      "class str(object)\n",
      " |  str(object='') -> str\n",
      " |  str(bytes_or_buffer[, encoding[, errors]]) -> str\n",
      " |  \n",
      " |  Create a new string object from the given object. If encoding or\n",
      " |  errors is specified, then the object must expose a data buffer\n",
      " |  that will be decoded using the given encoding and error handler.\n",
      " |  Otherwise, returns the result of object.__str__() (if defined)\n",
      " |  or repr(object).\n",
      " |  encoding defaults to sys.getdefaultencoding().\n",
      " |  errors defaults to 'strict'.\n",
      " |  \n",
      " |  Methods defined here:\n",
      " |  \n",
      " |  __add__(self, value, /)\n",
      " |      Return self+value.\n",
      " |  \n",
      " |  __contains__(self, key, /)\n",
      " |      Return key in self.\n",
      " |  \n",
      " |  __eq__(self, value, /)\n",
      " |      Return self==value.\n",
      " |  \n",
      " |  __format__(self, format_spec, /)\n",
      " |      Return a formatted version of the string as described by format_spec.\n",
      " |  \n",
      " |  __ge__(self, value, /)\n",
      " |      Return self>=value.\n",
      " |  \n",
      " |  __getattribute__(self, name, /)\n",
      " |      Return getattr(self, name).\n",
      " |  \n",
      " |  __getitem__(self, key, /)\n",
      " |      Return self[key].\n",
      " |  \n",
      " |  __getnewargs__(...)\n",
      " |  \n",
      " |  __gt__(self, value, /)\n",
      " |      Return self>value.\n",
      " |  \n",
      " |  __hash__(self, /)\n",
      " |      Return hash(self).\n",
      " |  \n",
      " |  __iter__(self, /)\n",
      " |      Implement iter(self).\n",
      " |  \n",
      " |  __le__(self, value, /)\n",
      " |      Return self<=value.\n",
      " |  \n",
      " |  __len__(self, /)\n",
      " |      Return len(self).\n",
      " |  \n",
      " |  __lt__(self, value, /)\n",
      " |      Return self<value.\n",
      " |  \n",
      " |  __mod__(self, value, /)\n",
      " |      Return self%value.\n",
      " |  \n",
      " |  __mul__(self, value, /)\n",
      " |      Return self*value.\n",
      " |  \n",
      " |  __ne__(self, value, /)\n",
      " |      Return self!=value.\n",
      " |  \n",
      " |  __repr__(self, /)\n",
      " |      Return repr(self).\n",
      " |  \n",
      " |  __rmod__(self, value, /)\n",
      " |      Return value%self.\n",
      " |  \n",
      " |  __rmul__(self, value, /)\n",
      " |      Return value*self.\n",
      " |  \n",
      " |  __sizeof__(self, /)\n",
      " |      Return the size of the string in memory, in bytes.\n",
      " |  \n",
      " |  __str__(self, /)\n",
      " |      Return str(self).\n",
      " |  \n",
      " |  capitalize(self, /)\n",
      " |      Return a capitalized version of the string.\n",
      " |      \n",
      " |      More specifically, make the first character have upper case and the rest lower\n",
      " |      case.\n",
      " |  \n",
      " |  casefold(self, /)\n",
      " |      Return a version of the string suitable for caseless comparisons.\n",
      " |  \n",
      " |  center(self, width, fillchar=' ', /)\n",
      " |      Return a centered string of length width.\n",
      " |      \n",
      " |      Padding is done using the specified fill character (default is a space).\n",
      " |  \n",
      " |  count(...)\n",
      " |      S.count(sub[, start[, end]]) -> int\n",
      " |      \n",
      " |      Return the number of non-overlapping occurrences of substring sub in\n",
      " |      string S[start:end].  Optional arguments start and end are\n",
      " |      interpreted as in slice notation.\n",
      " |  \n",
      " |  encode(self, /, encoding='utf-8', errors='strict')\n",
      " |      Encode the string using the codec registered for encoding.\n",
      " |      \n",
      " |      encoding\n",
      " |        The encoding in which to encode the string.\n",
      " |      errors\n",
      " |        The error handling scheme to use for encoding errors.\n",
      " |        The default is 'strict' meaning that encoding errors raise a\n",
      " |        UnicodeEncodeError.  Other possible values are 'ignore', 'replace' and\n",
      " |        'xmlcharrefreplace' as well as any other name registered with\n",
      " |        codecs.register_error that can handle UnicodeEncodeErrors.\n",
      " |  \n",
      " |  endswith(...)\n",
      " |      S.endswith(suffix[, start[, end]]) -> bool\n",
      " |      \n",
      " |      Return True if S ends with the specified suffix, False otherwise.\n",
      " |      With optional start, test S beginning at that position.\n",
      " |      With optional end, stop comparing S at that position.\n",
      " |      suffix can also be a tuple of strings to try.\n",
      " |  \n",
      " |  expandtabs(self, /, tabsize=8)\n",
      " |      Return a copy where all tab characters are expanded using spaces.\n",
      " |      \n",
      " |      If tabsize is not given, a tab size of 8 characters is assumed.\n",
      " |  \n",
      " |  find(...)\n",
      " |      S.find(sub[, start[, end]]) -> int\n",
      " |      \n",
      " |      Return the lowest index in S where substring sub is found,\n",
      " |      such that sub is contained within S[start:end].  Optional\n",
      " |      arguments start and end are interpreted as in slice notation.\n",
      " |      \n",
      " |      Return -1 on failure.\n",
      " |  \n",
      " |  format(...)\n",
      " |      S.format(*args, **kwargs) -> str\n",
      " |      \n",
      " |      Return a formatted version of S, using substitutions from args and kwargs.\n",
      " |      The substitutions are identified by braces ('{' and '}').\n",
      " |  \n",
      " |  format_map(...)\n",
      " |      S.format_map(mapping) -> str\n",
      " |      \n",
      " |      Return a formatted version of S, using substitutions from mapping.\n",
      " |      The substitutions are identified by braces ('{' and '}').\n",
      " |  \n",
      " |  index(...)\n",
      " |      S.index(sub[, start[, end]]) -> int\n",
      " |      \n",
      " |      Return the lowest index in S where substring sub is found,\n",
      " |      such that sub is contained within S[start:end].  Optional\n",
      " |      arguments start and end are interpreted as in slice notation.\n",
      " |      \n",
      " |      Raises ValueError when the substring is not found.\n",
      " |  \n",
      " |  isalnum(self, /)\n",
      " |      Return True if the string is an alpha-numeric string, False otherwise.\n",
      " |      \n",
      " |      A string is alpha-numeric if all characters in the string are alpha-numeric and\n",
      " |      there is at least one character in the string.\n",
      " |  \n",
      " |  isalpha(self, /)\n",
      " |      Return True if the string is an alphabetic string, False otherwise.\n",
      " |      \n",
      " |      A string is alphabetic if all characters in the string are alphabetic and there\n",
      " |      is at least one character in the string.\n",
      " |  \n",
      " |  isascii(self, /)\n",
      " |      Return True if all characters in the string are ASCII, False otherwise.\n",
      " |      \n",
      " |      ASCII characters have code points in the range U+0000-U+007F.\n",
      " |      Empty string is ASCII too.\n",
      " |  \n",
      " |  isdecimal(self, /)\n",
      " |      Return True if the string is a decimal string, False otherwise.\n",
      " |      \n",
      " |      A string is a decimal string if all characters in the string are decimal and\n",
      " |      there is at least one character in the string.\n",
      " |  \n",
      " |  isdigit(self, /)\n",
      " |      Return True if the string is a digit string, False otherwise.\n",
      " |      \n",
      " |      A string is a digit string if all characters in the string are digits and there\n",
      " |      is at least one character in the string.\n",
      " |  \n",
      " |  isidentifier(self, /)\n",
      " |      Return True if the string is a valid Python identifier, False otherwise.\n",
      " |      \n",
      " |      Call keyword.iskeyword(s) to test whether string s is a reserved identifier,\n",
      " |      such as \"def\" or \"class\".\n",
      " |  \n",
      " |  islower(self, /)\n",
      " |      Return True if the string is a lowercase string, False otherwise.\n",
      " |      \n",
      " |      A string is lowercase if all cased characters in the string are lowercase and\n",
      " |      there is at least one cased character in the string.\n",
      " |  \n",
      " |  isnumeric(self, /)\n",
      " |      Return True if the string is a numeric string, False otherwise.\n",
      " |      \n",
      " |      A string is numeric if all characters in the string are numeric and there is at\n",
      " |      least one character in the string.\n",
      " |  \n",
      " |  isprintable(self, /)\n",
      " |      Return True if the string is printable, False otherwise.\n",
      " |      \n",
      " |      A string is printable if all of its characters are considered printable in\n",
      " |      repr() or if it is empty.\n",
      " |  \n",
      " |  isspace(self, /)\n",
      " |      Return True if the string is a whitespace string, False otherwise.\n",
      " |      \n",
      " |      A string is whitespace if all characters in the string are whitespace and there\n",
      " |      is at least one character in the string.\n",
      " |  \n",
      " |  istitle(self, /)\n",
      " |      Return True if the string is a title-cased string, False otherwise.\n",
      " |      \n",
      " |      In a title-cased string, upper- and title-case characters may only\n",
      " |      follow uncased characters and lowercase characters only cased ones.\n",
      " |  \n",
      " |  isupper(self, /)\n",
      " |      Return True if the string is an uppercase string, False otherwise.\n",
      " |      \n",
      " |      A string is uppercase if all cased characters in the string are uppercase and\n",
      " |      there is at least one cased character in the string.\n",
      " |  \n",
      " |  join(self, iterable, /)\n",
      " |      Concatenate any number of strings.\n",
      " |      \n",
      " |      The string whose method is called is inserted in between each given string.\n",
      " |      The result is returned as a new string.\n",
      " |      \n",
      " |      Example: '.'.join(['ab', 'pq', 'rs']) -> 'ab.pq.rs'\n",
      " |  \n",
      " |  ljust(self, width, fillchar=' ', /)\n",
      " |      Return a left-justified string of length width.\n",
      " |      \n",
      " |      Padding is done using the specified fill character (default is a space).\n",
      " |  \n",
      " |  lower(self, /)\n",
      " |      Return a copy of the string converted to lowercase.\n",
      " |  \n",
      " |  lstrip(self, chars=None, /)\n",
      " |      Return a copy of the string with leading whitespace removed.\n",
      " |      \n",
      " |      If chars is given and not None, remove characters in chars instead.\n",
      " |  \n",
      " |  partition(self, sep, /)\n",
      " |      Partition the string into three parts using the given separator.\n",
      " |      \n",
      " |      This will search for the separator in the string.  If the separator is found,\n",
      " |      returns a 3-tuple containing the part before the separator, the separator\n",
      " |      itself, and the part after it.\n",
      " |      \n",
      " |      If the separator is not found, returns a 3-tuple containing the original string\n",
      " |      and two empty strings.\n",
      " |  \n",
      " |  removeprefix(self, prefix, /)\n",
      " |      Return a str with the given prefix string removed if present.\n",
      " |      \n",
      " |      If the string starts with the prefix string, return string[len(prefix):].\n",
      " |      Otherwise, return a copy of the original string.\n",
      " |  \n",
      " |  removesuffix(self, suffix, /)\n",
      " |      Return a str with the given suffix string removed if present.\n",
      " |      \n",
      " |      If the string ends with the suffix string and that suffix is not empty,\n",
      " |      return string[:-len(suffix)]. Otherwise, return a copy of the original\n",
      " |      string.\n",
      " |  \n",
      " |  replace(self, old, new, count=-1, /)\n",
      " |      Return a copy with all occurrences of substring old replaced by new.\n",
      " |      \n",
      " |        count\n",
      " |          Maximum number of occurrences to replace.\n",
      " |          -1 (the default value) means replace all occurrences.\n",
      " |      \n",
      " |      If the optional argument count is given, only the first count occurrences are\n",
      " |      replaced.\n",
      " |  \n",
      " |  rfind(...)\n",
      " |      S.rfind(sub[, start[, end]]) -> int\n",
      " |      \n",
      " |      Return the highest index in S where substring sub is found,\n",
      " |      such that sub is contained within S[start:end].  Optional\n",
      " |      arguments start and end are interpreted as in slice notation.\n",
      " |      \n",
      " |      Return -1 on failure.\n",
      " |  \n",
      " |  rindex(...)\n",
      " |      S.rindex(sub[, start[, end]]) -> int\n",
      " |      \n",
      " |      Return the highest index in S where substring sub is found,\n",
      " |      such that sub is contained within S[start:end].  Optional\n",
      " |      arguments start and end are interpreted as in slice notation.\n",
      " |      \n",
      " |      Raises ValueError when the substring is not found.\n",
      " |  \n",
      " |  rjust(self, width, fillchar=' ', /)\n",
      " |      Return a right-justified string of length width.\n",
      " |      \n",
      " |      Padding is done using the specified fill character (default is a space).\n",
      " |  \n",
      " |  rpartition(self, sep, /)\n",
      " |      Partition the string into three parts using the given separator.\n",
      " |      \n",
      " |      This will search for the separator in the string, starting at the end. If\n",
      " |      the separator is found, returns a 3-tuple containing the part before the\n",
      " |      separator, the separator itself, and the part after it.\n",
      " |      \n",
      " |      If the separator is not found, returns a 3-tuple containing two empty strings\n",
      " |      and the original string.\n",
      " |  \n",
      " |  rsplit(self, /, sep=None, maxsplit=-1)\n",
      " |      Return a list of the words in the string, using sep as the delimiter string.\n",
      " |      \n",
      " |        sep\n",
      " |          The delimiter according which to split the string.\n",
      " |          None (the default value) means split according to any whitespace,\n",
      " |          and discard empty strings from the result.\n",
      " |        maxsplit\n",
      " |          Maximum number of splits to do.\n",
      " |          -1 (the default value) means no limit.\n",
      " |      \n",
      " |      Splits are done starting at the end of the string and working to the front.\n",
      " |  \n",
      " |  rstrip(self, chars=None, /)\n",
      " |      Return a copy of the string with trailing whitespace removed.\n",
      " |      \n",
      " |      If chars is given and not None, remove characters in chars instead.\n",
      " |  \n",
      " |  split(self, /, sep=None, maxsplit=-1)\n",
      " |      Return a list of the words in the string, using sep as the delimiter string.\n",
      " |      \n",
      " |      sep\n",
      " |        The delimiter according which to split the string.\n",
      " |        None (the default value) means split according to any whitespace,\n",
      " |        and discard empty strings from the result.\n",
      " |      maxsplit\n",
      " |        Maximum number of splits to do.\n",
      " |        -1 (the default value) means no limit.\n",
      " |  \n",
      " |  splitlines(self, /, keepends=False)\n",
      " |      Return a list of the lines in the string, breaking at line boundaries.\n",
      " |      \n",
      " |      Line breaks are not included in the resulting list unless keepends is given and\n",
      " |      true.\n",
      " |  \n",
      " |  startswith(...)\n",
      " |      S.startswith(prefix[, start[, end]]) -> bool\n",
      " |      \n",
      " |      Return True if S starts with the specified prefix, False otherwise.\n",
      " |      With optional start, test S beginning at that position.\n",
      " |      With optional end, stop comparing S at that position.\n",
      " |      prefix can also be a tuple of strings to try.\n",
      " |  \n",
      " |  strip(self, chars=None, /)\n",
      " |      Return a copy of the string with leading and trailing whitespace removed.\n",
      " |      \n",
      " |      If chars is given and not None, remove characters in chars instead.\n",
      " |  \n",
      " |  swapcase(self, /)\n",
      " |      Convert uppercase characters to lowercase and lowercase characters to uppercase.\n",
      " |  \n",
      " |  title(self, /)\n",
      " |      Return a version of the string where each word is titlecased.\n",
      " |      \n",
      " |      More specifically, words start with uppercased characters and all remaining\n",
      " |      cased characters have lower case.\n",
      " |  \n",
      " |  translate(self, table, /)\n",
      " |      Replace each character in the string using the given translation table.\n",
      " |      \n",
      " |        table\n",
      " |          Translation table, which must be a mapping of Unicode ordinals to\n",
      " |          Unicode ordinals, strings, or None.\n",
      " |      \n",
      " |      The table must implement lookup/indexing via __getitem__, for instance a\n",
      " |      dictionary or list.  If this operation raises LookupError, the character is\n",
      " |      left untouched.  Characters mapped to None are deleted.\n",
      " |  \n",
      " |  upper(self, /)\n",
      " |      Return a copy of the string converted to uppercase.\n",
      " |  \n",
      " |  zfill(self, width, /)\n",
      " |      Pad a numeric string with zeros on the left, to fill a field of the given width.\n",
      " |      \n",
      " |      The string is never truncated.\n",
      " |  \n",
      " |  ----------------------------------------------------------------------\n",
      " |  Static methods defined here:\n",
      " |  \n",
      " |  __new__(*args, **kwargs) from builtins.type\n",
      " |      Create and return a new object.  See help(type) for accurate signature.\n",
      " |  \n",
      " |  maketrans(...)\n",
      " |      Return a translation table usable for str.translate().\n",
      " |      \n",
      " |      If there is only one argument, it must be a dictionary mapping Unicode\n",
      " |      ordinals (integers) or characters to Unicode ordinals, strings or None.\n",
      " |      Character keys will be then converted to ordinals.\n",
      " |      If there are two arguments, they must be strings of equal length, and\n",
      " |      in the resulting dictionary, each character in x will be mapped to the\n",
      " |      character at the same position in y. If there is a third argument, it\n",
      " |      must be a string, whose characters will be mapped to None in the result.\n",
      "\n"
     ]
    }
   ],
   "source": [
    "help(str)"
   ]
  },
  {
   "cell_type": "code",
   "execution_count": 36,
   "id": "dce96cda",
   "metadata": {},
   "outputs": [
    {
     "name": "stdout",
     "output_type": "stream",
     "text": [
      "Help on _Helper in module _sitebuiltins object:\n",
      "\n",
      "class _Helper(builtins.object)\n",
      " |  Define the builtin 'help'.\n",
      " |  \n",
      " |  This is a wrapper around pydoc.help that provides a helpful message\n",
      " |  when 'help' is typed at the Python interactive prompt.\n",
      " |  \n",
      " |  Calling help() at the Python prompt starts an interactive help session.\n",
      " |  Calling help(thing) prints help for the python object 'thing'.\n",
      " |  \n",
      " |  Methods defined here:\n",
      " |  \n",
      " |  __call__(self, *args, **kwds)\n",
      " |      Call self as a function.\n",
      " |  \n",
      " |  __repr__(self)\n",
      " |      Return repr(self).\n",
      " |  \n",
      " |  ----------------------------------------------------------------------\n",
      " |  Data descriptors defined here:\n",
      " |  \n",
      " |  __dict__\n",
      " |      dictionary for instance variables (if defined)\n",
      " |  \n",
      " |  __weakref__\n",
      " |      list of weak references to the object (if defined)\n",
      "\n"
     ]
    }
   ],
   "source": [
    "help(help)"
   ]
  },
  {
   "cell_type": "code",
   "execution_count": 40,
   "id": "c5d8c688",
   "metadata": {},
   "outputs": [
    {
     "name": "stdout",
     "output_type": "stream",
     "text": [
      "Edyoda\n",
      "EDyoda\n"
     ]
    }
   ],
   "source": [
    "s = \"EDyoda\"\n",
    "print(s.replace(\"D\",\"d\"))\n",
    "print(s)"
   ]
  },
  {
   "cell_type": "code",
   "execution_count": null,
   "id": "faf1d51e",
   "metadata": {},
   "outputs": [],
   "source": []
  }
 ],
 "metadata": {
  "kernelspec": {
   "display_name": "Python 3 (ipykernel)",
   "language": "python",
   "name": "python3"
  },
  "language_info": {
   "codemirror_mode": {
    "name": "ipython",
    "version": 3
   },
   "file_extension": ".py",
   "mimetype": "text/x-python",
   "name": "python",
   "nbconvert_exporter": "python",
   "pygments_lexer": "ipython3",
   "version": "3.10.2"
  }
 },
 "nbformat": 4,
 "nbformat_minor": 5
}
