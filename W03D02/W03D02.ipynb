{
 "cells": [
  {
   "cell_type": "code",
   "execution_count": null,
   "id": "f8fc9000",
   "metadata": {},
   "outputs": [],
   "source": [
    "replace()\n",
    "str.split() --> it splits the string based on the delimiter and returns a list\n",
    "\" \".join(list)\n",
    "lower(),upper(),capitalize(),title(),istitle(),islower(),isupper(),index()"
   ]
  },
  {
   "cell_type": "code",
   "execution_count": 3,
   "id": "a07edf24",
   "metadata": {},
   "outputs": [
    {
     "name": "stdout",
     "output_type": "stream",
     "text": [
      "25\n"
     ]
    },
    {
     "ename": "TypeError",
     "evalue": "can only concatenate str (not \"int\") to str",
     "output_type": "error",
     "traceback": [
      "\u001b[1;31m---------------------------------------------------------------------------\u001b[0m",
      "\u001b[1;31mTypeError\u001b[0m                                 Traceback (most recent call last)",
      "\u001b[1;32mC:\\Users\\KUNALC~1\\AppData\\Local\\Temp/ipykernel_25512/1805482656.py\u001b[0m in \u001b[0;36m<module>\u001b[1;34m\u001b[0m\n\u001b[0;32m      1\u001b[0m \u001b[1;31m# format()\u001b[0m\u001b[1;33m\u001b[0m\u001b[1;33m\u001b[0m\u001b[0m\n\u001b[0;32m      2\u001b[0m \u001b[0ms\u001b[0m \u001b[1;33m=\u001b[0m \u001b[0mint\u001b[0m\u001b[1;33m(\u001b[0m\u001b[0minput\u001b[0m\u001b[1;33m(\u001b[0m\u001b[1;33m)\u001b[0m\u001b[1;33m)\u001b[0m\u001b[1;33m\u001b[0m\u001b[1;33m\u001b[0m\u001b[0m\n\u001b[1;32m----> 3\u001b[1;33m \u001b[0mst\u001b[0m \u001b[1;33m=\u001b[0m \u001b[1;34m\"name is \"\u001b[0m \u001b[1;33m+\u001b[0m \u001b[0ms\u001b[0m \u001b[1;33m+\u001b[0m \u001b[1;34m\"xjh\"\u001b[0m\u001b[1;33m\u001b[0m\u001b[1;33m\u001b[0m\u001b[0m\n\u001b[0m",
      "\u001b[1;31mTypeError\u001b[0m: can only concatenate str (not \"int\") to str"
     ]
    }
   ],
   "source": [
    "# format()\n",
    "s = int(input())\n",
    "st = \"name is \" + s + \"xjh\""
   ]
  },
  {
   "cell_type": "code",
   "execution_count": 2,
   "id": "dbb662cf",
   "metadata": {},
   "outputs": [
    {
     "data": {
      "text/plain": [
       "'name is Arman'"
      ]
     },
     "execution_count": 2,
     "metadata": {},
     "output_type": "execute_result"
    }
   ],
   "source": [
    "st"
   ]
  },
  {
   "cell_type": "code",
   "execution_count": 4,
   "id": "603439fe",
   "metadata": {},
   "outputs": [],
   "source": [
    "st = \"My name is {}\".format(s)"
   ]
  },
  {
   "cell_type": "code",
   "execution_count": 5,
   "id": "ed08c419",
   "metadata": {},
   "outputs": [
    {
     "name": "stdout",
     "output_type": "stream",
     "text": [
      "My name is 25\n"
     ]
    }
   ],
   "source": [
    "print(st)"
   ]
  },
  {
   "cell_type": "code",
   "execution_count": 6,
   "id": "264273fb",
   "metadata": {},
   "outputs": [],
   "source": [
    "party = \"{},{} and {} are going to party\".format(\"Arman\",\"Nandu\",\"Ganesh\")"
   ]
  },
  {
   "cell_type": "code",
   "execution_count": 7,
   "id": "50b83068",
   "metadata": {},
   "outputs": [
    {
     "name": "stdout",
     "output_type": "stream",
     "text": [
      "Arman,Nandu and Ganesh are going to party\n"
     ]
    }
   ],
   "source": [
    "print(party)"
   ]
  },
  {
   "cell_type": "code",
   "execution_count": 8,
   "id": "3d506c27",
   "metadata": {},
   "outputs": [],
   "source": [
    "party = \"{1},{2} and {0} are going to party\".format(\"Arman\",\"Nandu\",\"Ganesh\")"
   ]
  },
  {
   "cell_type": "code",
   "execution_count": 9,
   "id": "30870643",
   "metadata": {},
   "outputs": [
    {
     "name": "stdout",
     "output_type": "stream",
     "text": [
      "Nandu,Ganesh and Arman are going to party\n"
     ]
    }
   ],
   "source": [
    "print(party)"
   ]
  },
  {
   "cell_type": "code",
   "execution_count": 15,
   "id": "0188724c",
   "metadata": {},
   "outputs": [],
   "source": [
    "doubleparty = \"{student2} and {student1} are newcomers in the party\".format(student1=\"Saikumar\",student2=\"Vinay\")"
   ]
  },
  {
   "cell_type": "code",
   "execution_count": 16,
   "id": "94ee633f",
   "metadata": {},
   "outputs": [
    {
     "name": "stdout",
     "output_type": "stream",
     "text": [
      "Vinay and Saikumar are newcomers in the party\n"
     ]
    }
   ],
   "source": [
    "print(doubleparty)"
   ]
  },
  {
   "cell_type": "code",
   "execution_count": 17,
   "id": "506e9b1f",
   "metadata": {},
   "outputs": [
    {
     "name": "stdout",
     "output_type": "stream",
     "text": [
      "5 + 10 adds to 15\n"
     ]
    }
   ],
   "source": [
    "#f-string python 3.6+\n",
    "a = 5\n",
    "b = 10\n",
    "s = f\"{a} + {b} adds to 15\"\n",
    "print(s)"
   ]
  },
  {
   "cell_type": "code",
   "execution_count": null,
   "id": "35ab1599",
   "metadata": {},
   "outputs": [],
   "source": [
    "#list\n",
    "    mutable or changeable\n",
    "    its a collection of different data types inscluding list itself\n",
    "    it supports indexing\n"
   ]
  },
  {
   "cell_type": "code",
   "execution_count": 18,
   "id": "66e19c95",
   "metadata": {},
   "outputs": [],
   "source": [
    "l = [1,2,5]\n",
    "#append it adds one item at a time to the list at the end position"
   ]
  },
  {
   "cell_type": "code",
   "execution_count": 19,
   "id": "e3cb703d",
   "metadata": {},
   "outputs": [
    {
     "name": "stdout",
     "output_type": "stream",
     "text": [
      "[1, 2, 5, 'Jaiprakash']\n"
     ]
    }
   ],
   "source": [
    "l.append(\"Jaiprakash\")\n",
    "print(l)"
   ]
  },
  {
   "cell_type": "code",
   "execution_count": 21,
   "id": "b0096dcf",
   "metadata": {},
   "outputs": [
    {
     "name": "stdout",
     "output_type": "stream",
     "text": [
      "[]\n"
     ]
    }
   ],
   "source": [
    "l.clear()\n",
    "print(l)"
   ]
  },
  {
   "cell_type": "code",
   "execution_count": 20,
   "id": "f668666d",
   "metadata": {
    "collapsed": true
   },
   "outputs": [
    {
     "name": "stdout",
     "output_type": "stream",
     "text": [
      "Help on class list in module builtins:\n",
      "\n",
      "class list(object)\n",
      " |  list(iterable=(), /)\n",
      " |  \n",
      " |  Built-in mutable sequence.\n",
      " |  \n",
      " |  If no argument is given, the constructor creates a new empty list.\n",
      " |  The argument must be an iterable if specified.\n",
      " |  \n",
      " |  Methods defined here:\n",
      " |  \n",
      " |  __add__(self, value, /)\n",
      " |      Return self+value.\n",
      " |  \n",
      " |  __contains__(self, key, /)\n",
      " |      Return key in self.\n",
      " |  \n",
      " |  __delitem__(self, key, /)\n",
      " |      Delete self[key].\n",
      " |  \n",
      " |  __eq__(self, value, /)\n",
      " |      Return self==value.\n",
      " |  \n",
      " |  __ge__(self, value, /)\n",
      " |      Return self>=value.\n",
      " |  \n",
      " |  __getattribute__(self, name, /)\n",
      " |      Return getattr(self, name).\n",
      " |  \n",
      " |  __getitem__(...)\n",
      " |      x.__getitem__(y) <==> x[y]\n",
      " |  \n",
      " |  __gt__(self, value, /)\n",
      " |      Return self>value.\n",
      " |  \n",
      " |  __iadd__(self, value, /)\n",
      " |      Implement self+=value.\n",
      " |  \n",
      " |  __imul__(self, value, /)\n",
      " |      Implement self*=value.\n",
      " |  \n",
      " |  __init__(self, /, *args, **kwargs)\n",
      " |      Initialize self.  See help(type(self)) for accurate signature.\n",
      " |  \n",
      " |  __iter__(self, /)\n",
      " |      Implement iter(self).\n",
      " |  \n",
      " |  __le__(self, value, /)\n",
      " |      Return self<=value.\n",
      " |  \n",
      " |  __len__(self, /)\n",
      " |      Return len(self).\n",
      " |  \n",
      " |  __lt__(self, value, /)\n",
      " |      Return self<value.\n",
      " |  \n",
      " |  __mul__(self, value, /)\n",
      " |      Return self*value.\n",
      " |  \n",
      " |  __ne__(self, value, /)\n",
      " |      Return self!=value.\n",
      " |  \n",
      " |  __repr__(self, /)\n",
      " |      Return repr(self).\n",
      " |  \n",
      " |  __reversed__(self, /)\n",
      " |      Return a reverse iterator over the list.\n",
      " |  \n",
      " |  __rmul__(self, value, /)\n",
      " |      Return value*self.\n",
      " |  \n",
      " |  __setitem__(self, key, value, /)\n",
      " |      Set self[key] to value.\n",
      " |  \n",
      " |  __sizeof__(self, /)\n",
      " |      Return the size of the list in memory, in bytes.\n",
      " |  \n",
      " |  append(self, object, /)\n",
      " |      Append object to the end of the list.\n",
      " |  \n",
      " |  clear(self, /)\n",
      " |      Remove all items from list.\n",
      " |  \n",
      " |  copy(self, /)\n",
      " |      Return a shallow copy of the list.\n",
      " |  \n",
      " |  count(self, value, /)\n",
      " |      Return number of occurrences of value.\n",
      " |  \n",
      " |  extend(self, iterable, /)\n",
      " |      Extend list by appending elements from the iterable.\n",
      " |  \n",
      " |  index(self, value, start=0, stop=9223372036854775807, /)\n",
      " |      Return first index of value.\n",
      " |      \n",
      " |      Raises ValueError if the value is not present.\n",
      " |  \n",
      " |  insert(self, index, object, /)\n",
      " |      Insert object before index.\n",
      " |  \n",
      " |  pop(self, index=-1, /)\n",
      " |      Remove and return item at index (default last).\n",
      " |      \n",
      " |      Raises IndexError if list is empty or index is out of range.\n",
      " |  \n",
      " |  remove(self, value, /)\n",
      " |      Remove first occurrence of value.\n",
      " |      \n",
      " |      Raises ValueError if the value is not present.\n",
      " |  \n",
      " |  reverse(self, /)\n",
      " |      Reverse *IN PLACE*.\n",
      " |  \n",
      " |  sort(self, /, *, key=None, reverse=False)\n",
      " |      Sort the list in ascending order and return None.\n",
      " |      \n",
      " |      The sort is in-place (i.e. the list itself is modified) and stable (i.e. the\n",
      " |      order of two equal elements is maintained).\n",
      " |      \n",
      " |      If a key function is given, apply it once to each list item and sort them,\n",
      " |      ascending or descending, according to their function values.\n",
      " |      \n",
      " |      The reverse flag can be set to sort in descending order.\n",
      " |  \n",
      " |  ----------------------------------------------------------------------\n",
      " |  Class methods defined here:\n",
      " |  \n",
      " |  __class_getitem__(...) from builtins.type\n",
      " |      See PEP 585\n",
      " |  \n",
      " |  ----------------------------------------------------------------------\n",
      " |  Static methods defined here:\n",
      " |  \n",
      " |  __new__(*args, **kwargs) from builtins.type\n",
      " |      Create and return a new object.  See help(type) for accurate signature.\n",
      " |  \n",
      " |  ----------------------------------------------------------------------\n",
      " |  Data and other attributes defined here:\n",
      " |  \n",
      " |  __hash__ = None\n",
      "\n"
     ]
    }
   ],
   "source": [
    "help(list)"
   ]
  },
  {
   "cell_type": "code",
   "execution_count": 22,
   "id": "7cd9c552",
   "metadata": {},
   "outputs": [],
   "source": [
    "list2 = [2,5,\"Jaiprakash\",\"Arman\",\"6\",\"Sandipan\"]\n",
    "list2.remove(\"6\")"
   ]
  },
  {
   "cell_type": "code",
   "execution_count": 23,
   "id": "a1042d4f",
   "metadata": {
    "collapsed": true
   },
   "outputs": [
    {
     "name": "stdout",
     "output_type": "stream",
     "text": [
      "[2, 5, 'Jaiprakash', 'Arman', 'Sandipan']\n"
     ]
    }
   ],
   "source": [
    "print(list2)"
   ]
  },
  {
   "cell_type": "code",
   "execution_count": 24,
   "id": "8c91dc17",
   "metadata": {},
   "outputs": [
    {
     "data": {
      "text/plain": [
       "5"
      ]
     },
     "execution_count": 24,
     "metadata": {},
     "output_type": "execute_result"
    }
   ],
   "source": [
    "list2.pop(1)"
   ]
  },
  {
   "cell_type": "code",
   "execution_count": 25,
   "id": "bd263ff1",
   "metadata": {},
   "outputs": [
    {
     "data": {
      "text/plain": [
       "'Jaiprakash'"
      ]
     },
     "execution_count": 25,
     "metadata": {},
     "output_type": "execute_result"
    }
   ],
   "source": [
    "list2.pop(1)"
   ]
  },
  {
   "cell_type": "code",
   "execution_count": 26,
   "id": "52563611",
   "metadata": {},
   "outputs": [
    {
     "name": "stdout",
     "output_type": "stream",
     "text": [
      "[2, 'Arman', 'Sandipan']\n"
     ]
    }
   ],
   "source": [
    "print(list2)"
   ]
  },
  {
   "cell_type": "code",
   "execution_count": 27,
   "id": "9c9e2cb5",
   "metadata": {},
   "outputs": [
    {
     "data": {
      "text/plain": [
       "'Sandipan'"
      ]
     },
     "execution_count": 27,
     "metadata": {},
     "output_type": "execute_result"
    }
   ],
   "source": [
    "list2.pop()"
   ]
  },
  {
   "cell_type": "code",
   "execution_count": 28,
   "id": "83f3cbce",
   "metadata": {},
   "outputs": [
    {
     "name": "stdout",
     "output_type": "stream",
     "text": [
      "[2, 'Arman']\n"
     ]
    }
   ],
   "source": [
    "print(list2)"
   ]
  },
  {
   "cell_type": "code",
   "execution_count": 29,
   "id": "c04a40de",
   "metadata": {},
   "outputs": [
    {
     "ename": "IndexError",
     "evalue": "pop index out of range",
     "output_type": "error",
     "traceback": [
      "\u001b[1;31m---------------------------------------------------------------------------\u001b[0m",
      "\u001b[1;31mIndexError\u001b[0m                                Traceback (most recent call last)",
      "\u001b[1;32mC:\\Users\\KUNALC~1\\AppData\\Local\\Temp/ipykernel_25512/381270167.py\u001b[0m in \u001b[0;36m<module>\u001b[1;34m\u001b[0m\n\u001b[1;32m----> 1\u001b[1;33m \u001b[0mlist2\u001b[0m\u001b[1;33m.\u001b[0m\u001b[0mpop\u001b[0m\u001b[1;33m(\u001b[0m\u001b[1;36m13\u001b[0m\u001b[1;33m)\u001b[0m\u001b[1;33m\u001b[0m\u001b[1;33m\u001b[0m\u001b[0m\n\u001b[0m",
      "\u001b[1;31mIndexError\u001b[0m: pop index out of range"
     ]
    }
   ],
   "source": [
    "list2.pop(13)"
   ]
  },
  {
   "cell_type": "code",
   "execution_count": 30,
   "id": "7ae83f5f",
   "metadata": {},
   "outputs": [
    {
     "ename": "TypeError",
     "evalue": "'str' object cannot be interpreted as an integer",
     "output_type": "error",
     "traceback": [
      "\u001b[1;31m---------------------------------------------------------------------------\u001b[0m",
      "\u001b[1;31mTypeError\u001b[0m                                 Traceback (most recent call last)",
      "\u001b[1;32mC:\\Users\\KUNALC~1\\AppData\\Local\\Temp/ipykernel_25512/3361365271.py\u001b[0m in \u001b[0;36m<module>\u001b[1;34m\u001b[0m\n\u001b[1;32m----> 1\u001b[1;33m \u001b[0mlist2\u001b[0m\u001b[1;33m.\u001b[0m\u001b[0mpop\u001b[0m\u001b[1;33m(\u001b[0m\u001b[1;34m\"Arman\"\u001b[0m\u001b[1;33m)\u001b[0m\u001b[1;33m\u001b[0m\u001b[1;33m\u001b[0m\u001b[0m\n\u001b[0m",
      "\u001b[1;31mTypeError\u001b[0m: 'str' object cannot be interpreted as an integer"
     ]
    }
   ],
   "source": [
    "list2.pop(\"Arman\")"
   ]
  },
  {
   "cell_type": "code",
   "execution_count": 31,
   "id": "14bf094f",
   "metadata": {},
   "outputs": [
    {
     "name": "stdout",
     "output_type": "stream",
     "text": [
      "Enter the number of items you want to insert: 2\n",
      "Usha Kumari\n",
      "Edyoda\n"
     ]
    }
   ],
   "source": [
    "n = int(input(\"Enter the number of items you want to insert: \"))\n",
    "l = []\n",
    "for i in range(n):\n",
    "    l.append(input())"
   ]
  },
  {
   "cell_type": "code",
   "execution_count": 32,
   "id": "83890f77",
   "metadata": {},
   "outputs": [
    {
     "name": "stdout",
     "output_type": "stream",
     "text": [
      "['Usha Kumari', 'Edyoda']\n"
     ]
    }
   ],
   "source": [
    "print(l)"
   ]
  },
  {
   "cell_type": "code",
   "execution_count": 33,
   "id": "7a568429",
   "metadata": {},
   "outputs": [
    {
     "name": "stdout",
     "output_type": "stream",
     "text": [
      "['Strawberry', 'Mango', 'apple', 'dragonfruit', 'lichi']\n"
     ]
    }
   ],
   "source": [
    "fruits = [\"Strawberry\",\"apple\",\"dragonfruit\",\"lichi\"]\n",
    "fruits.insert(1,\"Mango\")\n",
    "print(fruits)"
   ]
  },
  {
   "cell_type": "code",
   "execution_count": 34,
   "id": "a8c3a762",
   "metadata": {},
   "outputs": [],
   "source": [
    "tuple1 = (1254,8957)\n",
    "fruits.insert(3,tuple1)"
   ]
  },
  {
   "cell_type": "code",
   "execution_count": 36,
   "id": "d2ecbaf6",
   "metadata": {},
   "outputs": [
    {
     "name": "stdout",
     "output_type": "stream",
     "text": [
      "['Strawberry', 'Mango', 'apple', (1254, 8957), 'dragonfruit', 'lichi']\n"
     ]
    }
   ],
   "source": [
    "print(fruits)"
   ]
  },
  {
   "cell_type": "code",
   "execution_count": 39,
   "id": "1a92f184",
   "metadata": {},
   "outputs": [
    {
     "name": "stdout",
     "output_type": "stream",
     "text": [
      "1685214663296\n",
      "1685214663296\n"
     ]
    }
   ],
   "source": [
    "l = [1,2,5,7]\n",
    "print(id(l))\n",
    "l.insert(1,\"Kuladeep\")\n",
    "print(id(l))"
   ]
  },
  {
   "cell_type": "code",
   "execution_count": 40,
   "id": "449005f2",
   "metadata": {},
   "outputs": [],
   "source": [
    "l.clear()"
   ]
  },
  {
   "cell_type": "code",
   "execution_count": 41,
   "id": "b67bc231",
   "metadata": {},
   "outputs": [
    {
     "name": "stdout",
     "output_type": "stream",
     "text": [
      "[]\n"
     ]
    }
   ],
   "source": [
    "print(l)"
   ]
  },
  {
   "cell_type": "code",
   "execution_count": 42,
   "id": "74ef4ac8",
   "metadata": {},
   "outputs": [
    {
     "ename": "NameError",
     "evalue": "name 'l' is not defined",
     "output_type": "error",
     "traceback": [
      "\u001b[1;31m---------------------------------------------------------------------------\u001b[0m",
      "\u001b[1;31mNameError\u001b[0m                                 Traceback (most recent call last)",
      "\u001b[1;32mC:\\Users\\KUNALC~1\\AppData\\Local\\Temp/ipykernel_25512/629155008.py\u001b[0m in \u001b[0;36m<module>\u001b[1;34m\u001b[0m\n\u001b[0;32m      1\u001b[0m \u001b[1;32mdel\u001b[0m \u001b[0ml\u001b[0m\u001b[1;33m\u001b[0m\u001b[1;33m\u001b[0m\u001b[0m\n\u001b[1;32m----> 2\u001b[1;33m \u001b[0mprint\u001b[0m\u001b[1;33m(\u001b[0m\u001b[0ml\u001b[0m\u001b[1;33m)\u001b[0m\u001b[1;33m\u001b[0m\u001b[1;33m\u001b[0m\u001b[0m\n\u001b[0m",
      "\u001b[1;31mNameError\u001b[0m: name 'l' is not defined"
     ]
    }
   ],
   "source": [
    "del l\n",
    "print(l)"
   ]
  },
  {
   "cell_type": "code",
   "execution_count": 43,
   "id": "70efbb7e",
   "metadata": {},
   "outputs": [],
   "source": [
    "l = [0,99,1,2,5,4,-1]\n",
    "l.sort() # it will sort your list in ascending order"
   ]
  },
  {
   "cell_type": "code",
   "execution_count": 44,
   "id": "5a858280",
   "metadata": {},
   "outputs": [
    {
     "name": "stdout",
     "output_type": "stream",
     "text": [
      "[-1, 0, 1, 2, 4, 5, 99]\n"
     ]
    }
   ],
   "source": [
    "print(l)"
   ]
  },
  {
   "cell_type": "code",
   "execution_count": 45,
   "id": "0c5aa7ea",
   "metadata": {},
   "outputs": [],
   "source": [
    "l.sort(reverse=True)"
   ]
  },
  {
   "cell_type": "code",
   "execution_count": 46,
   "id": "9e5d52e2",
   "metadata": {},
   "outputs": [
    {
     "name": "stdout",
     "output_type": "stream",
     "text": [
      "[99, 5, 4, 2, 1, 0, -1]\n"
     ]
    }
   ],
   "source": [
    "print(l)"
   ]
  },
  {
   "cell_type": "code",
   "execution_count": 51,
   "id": "7b21b367",
   "metadata": {},
   "outputs": [
    {
     "name": "stdout",
     "output_type": "stream",
     "text": [
      "['apple', 'dragonfruit', 'lichi']\n",
      "['apple', 'dragonfruit', 'lichi']\n"
     ]
    }
   ],
   "source": [
    "fruits = [\"Strawberry\",\"apple\",\"dragonfruit\",\"lichi\"]\n",
    "print(fruits[1:4])\n",
    "print(fruits[1:])"
   ]
  },
  {
   "cell_type": "code",
   "execution_count": 52,
   "id": "23aa81dd",
   "metadata": {},
   "outputs": [
    {
     "data": {
      "text/plain": [
       "['Strawberry', 'dragonfruit']"
      ]
     },
     "execution_count": 52,
     "metadata": {},
     "output_type": "execute_result"
    }
   ],
   "source": [
    "fruits[::2]"
   ]
  },
  {
   "cell_type": "code",
   "execution_count": 53,
   "id": "e71e9892",
   "metadata": {},
   "outputs": [
    {
     "data": {
      "text/plain": [
       "['lichi', 'dragonfruit', 'apple', 'Strawberry']"
      ]
     },
     "execution_count": 53,
     "metadata": {},
     "output_type": "execute_result"
    }
   ],
   "source": [
    "fruits[::-1]"
   ]
  },
  {
   "cell_type": "markdown",
   "id": "2cc0abfb",
   "metadata": {},
   "source": [
    "## `Tuple`"
   ]
  },
  {
   "cell_type": "code",
   "execution_count": 54,
   "id": "4c340d41",
   "metadata": {},
   "outputs": [],
   "source": [
    "t = (1,3,5,8)"
   ]
  },
  {
   "cell_type": "code",
   "execution_count": 55,
   "id": "940eb26c",
   "metadata": {
    "collapsed": true
   },
   "outputs": [
    {
     "name": "stdout",
     "output_type": "stream",
     "text": [
      "Help on tuple object:\n",
      "\n",
      "class tuple(object)\n",
      " |  tuple(iterable=(), /)\n",
      " |  \n",
      " |  Built-in immutable sequence.\n",
      " |  \n",
      " |  If no argument is given, the constructor returns an empty tuple.\n",
      " |  If iterable is specified the tuple is initialized from iterable's items.\n",
      " |  \n",
      " |  If the argument is a tuple, the return value is the same object.\n",
      " |  \n",
      " |  Built-in subclasses:\n",
      " |      asyncgen_hooks\n",
      " |      UnraisableHookArgs\n",
      " |  \n",
      " |  Methods defined here:\n",
      " |  \n",
      " |  __add__(self, value, /)\n",
      " |      Return self+value.\n",
      " |  \n",
      " |  __contains__(self, key, /)\n",
      " |      Return key in self.\n",
      " |  \n",
      " |  __eq__(self, value, /)\n",
      " |      Return self==value.\n",
      " |  \n",
      " |  __ge__(self, value, /)\n",
      " |      Return self>=value.\n",
      " |  \n",
      " |  __getattribute__(self, name, /)\n",
      " |      Return getattr(self, name).\n",
      " |  \n",
      " |  __getitem__(self, key, /)\n",
      " |      Return self[key].\n",
      " |  \n",
      " |  __getnewargs__(self, /)\n",
      " |  \n",
      " |  __gt__(self, value, /)\n",
      " |      Return self>value.\n",
      " |  \n",
      " |  __hash__(self, /)\n",
      " |      Return hash(self).\n",
      " |  \n",
      " |  __iter__(self, /)\n",
      " |      Implement iter(self).\n",
      " |  \n",
      " |  __le__(self, value, /)\n",
      " |      Return self<=value.\n",
      " |  \n",
      " |  __len__(self, /)\n",
      " |      Return len(self).\n",
      " |  \n",
      " |  __lt__(self, value, /)\n",
      " |      Return self<value.\n",
      " |  \n",
      " |  __mul__(self, value, /)\n",
      " |      Return self*value.\n",
      " |  \n",
      " |  __ne__(self, value, /)\n",
      " |      Return self!=value.\n",
      " |  \n",
      " |  __repr__(self, /)\n",
      " |      Return repr(self).\n",
      " |  \n",
      " |  __rmul__(self, value, /)\n",
      " |      Return value*self.\n",
      " |  \n",
      " |  count(self, value, /)\n",
      " |      Return number of occurrences of value.\n",
      " |  \n",
      " |  index(self, value, start=0, stop=9223372036854775807, /)\n",
      " |      Return first index of value.\n",
      " |      \n",
      " |      Raises ValueError if the value is not present.\n",
      " |  \n",
      " |  ----------------------------------------------------------------------\n",
      " |  Class methods defined here:\n",
      " |  \n",
      " |  __class_getitem__(...) from builtins.type\n",
      " |      See PEP 585\n",
      " |  \n",
      " |  ----------------------------------------------------------------------\n",
      " |  Static methods defined here:\n",
      " |  \n",
      " |  __new__(*args, **kwargs) from builtins.type\n",
      " |      Create and return a new object.  See help(type) for accurate signature.\n",
      "\n"
     ]
    }
   ],
   "source": [
    "help(t)"
   ]
  },
  {
   "cell_type": "code",
   "execution_count": 56,
   "id": "b35e0af0",
   "metadata": {},
   "outputs": [
    {
     "data": {
      "text/plain": [
       "2"
      ]
     },
     "execution_count": 56,
     "metadata": {},
     "output_type": "execute_result"
    }
   ],
   "source": [
    "t = (1,3,5,8,3,5)\n",
    "t.count(3)"
   ]
  },
  {
   "cell_type": "code",
   "execution_count": 57,
   "id": "9a8e11da",
   "metadata": {},
   "outputs": [
    {
     "name": "stdout",
     "output_type": "stream",
     "text": [
      "<class 'list'>\n"
     ]
    }
   ],
   "source": [
    "l = [\"Harsha\"]\n",
    "print(type(l))"
   ]
  },
  {
   "cell_type": "code",
   "execution_count": 58,
   "id": "2569c2d3",
   "metadata": {},
   "outputs": [
    {
     "name": "stdout",
     "output_type": "stream",
     "text": [
      "<class 'str'>\n"
     ]
    }
   ],
   "source": [
    "t = (\"Syali\")\n",
    "print(type(t))"
   ]
  },
  {
   "cell_type": "code",
   "execution_count": 59,
   "id": "c80d4990",
   "metadata": {},
   "outputs": [
    {
     "name": "stdout",
     "output_type": "stream",
     "text": [
      "<class 'tuple'>\n"
     ]
    }
   ],
   "source": [
    "t = (\"Meghna\",)\n",
    "print(type(t))"
   ]
  },
  {
   "cell_type": "code",
   "execution_count": 60,
   "id": "2ee20bd1",
   "metadata": {},
   "outputs": [],
   "source": [
    "t = ([1,2,3],35,8)\n",
    "#t[1] = 5 X"
   ]
  },
  {
   "cell_type": "code",
   "execution_count": 61,
   "id": "47b85475",
   "metadata": {},
   "outputs": [
    {
     "data": {
      "text/plain": [
       "list"
      ]
     },
     "execution_count": 61,
     "metadata": {},
     "output_type": "execute_result"
    }
   ],
   "source": [
    "type(t[0])"
   ]
  },
  {
   "cell_type": "code",
   "execution_count": 62,
   "id": "26c0fd7b",
   "metadata": {},
   "outputs": [],
   "source": [
    "t[0].append(\"Arman\")"
   ]
  },
  {
   "cell_type": "code",
   "execution_count": 63,
   "id": "6a07c433",
   "metadata": {},
   "outputs": [],
   "source": [
    "t[0].append(\"Sayali\")"
   ]
  },
  {
   "cell_type": "code",
   "execution_count": 64,
   "id": "243dac63",
   "metadata": {},
   "outputs": [
    {
     "name": "stdout",
     "output_type": "stream",
     "text": [
      "([1, 2, 3, 'Arman', 'Sayali'], 35, 8)\n"
     ]
    }
   ],
   "source": [
    "print(t)"
   ]
  },
  {
   "cell_type": "code",
   "execution_count": null,
   "id": "7806ab0f",
   "metadata": {},
   "outputs": [],
   "source": [
    "# tuple unpacking"
   ]
  },
  {
   "cell_type": "code",
   "execution_count": 65,
   "id": "0fba5380",
   "metadata": {},
   "outputs": [],
   "source": [
    "t = (1,3,4)"
   ]
  },
  {
   "cell_type": "code",
   "execution_count": 66,
   "id": "a6b79bcc",
   "metadata": {},
   "outputs": [
    {
     "data": {
      "text/plain": [
       "3"
      ]
     },
     "execution_count": 66,
     "metadata": {},
     "output_type": "execute_result"
    }
   ],
   "source": [
    "t[1]"
   ]
  },
  {
   "cell_type": "code",
   "execution_count": 67,
   "id": "1789d1b6",
   "metadata": {},
   "outputs": [
    {
     "data": {
      "text/plain": [
       "1"
      ]
     },
     "execution_count": 67,
     "metadata": {},
     "output_type": "execute_result"
    }
   ],
   "source": [
    "t[0]"
   ]
  },
  {
   "cell_type": "code",
   "execution_count": 68,
   "id": "b19f3f69",
   "metadata": {},
   "outputs": [
    {
     "data": {
      "text/plain": [
       "4"
      ]
     },
     "execution_count": 68,
     "metadata": {},
     "output_type": "execute_result"
    }
   ],
   "source": [
    "t[2]"
   ]
  },
  {
   "cell_type": "code",
   "execution_count": 69,
   "id": "57e35fbe",
   "metadata": {},
   "outputs": [],
   "source": [
    "a,b,c = (1,3,4)"
   ]
  },
  {
   "cell_type": "code",
   "execution_count": 70,
   "id": "3aec8ca9",
   "metadata": {},
   "outputs": [
    {
     "name": "stdout",
     "output_type": "stream",
     "text": [
      "1\n"
     ]
    }
   ],
   "source": [
    "print(a)"
   ]
  },
  {
   "cell_type": "code",
   "execution_count": 71,
   "id": "e615ee3e",
   "metadata": {},
   "outputs": [
    {
     "name": "stdout",
     "output_type": "stream",
     "text": [
      "4\n"
     ]
    }
   ],
   "source": [
    "print(c)"
   ]
  },
  {
   "cell_type": "code",
   "execution_count": 72,
   "id": "f040f265",
   "metadata": {},
   "outputs": [
    {
     "name": "stdout",
     "output_type": "stream",
     "text": [
      "3\n"
     ]
    }
   ],
   "source": [
    "print(b)"
   ]
  },
  {
   "cell_type": "code",
   "execution_count": 73,
   "id": "2f63dfb7",
   "metadata": {},
   "outputs": [],
   "source": [
    "x,y,z = t"
   ]
  },
  {
   "cell_type": "code",
   "execution_count": 74,
   "id": "c86220c5",
   "metadata": {},
   "outputs": [
    {
     "name": "stdout",
     "output_type": "stream",
     "text": [
      "1\n"
     ]
    }
   ],
   "source": [
    "print(x)"
   ]
  },
  {
   "cell_type": "code",
   "execution_count": 75,
   "id": "c441e5a0",
   "metadata": {},
   "outputs": [
    {
     "name": "stdout",
     "output_type": "stream",
     "text": [
      "3\n"
     ]
    }
   ],
   "source": [
    "print(y)"
   ]
  },
  {
   "cell_type": "code",
   "execution_count": 76,
   "id": "18461b5c",
   "metadata": {},
   "outputs": [
    {
     "name": "stdout",
     "output_type": "stream",
     "text": [
      "4\n"
     ]
    }
   ],
   "source": [
    "print(z)"
   ]
  },
  {
   "cell_type": "code",
   "execution_count": 77,
   "id": "ee45f448",
   "metadata": {},
   "outputs": [],
   "source": [
    "t = (2,)\n",
    "l = 2,"
   ]
  },
  {
   "cell_type": "code",
   "execution_count": 78,
   "id": "d5731c13",
   "metadata": {},
   "outputs": [
    {
     "name": "stdout",
     "output_type": "stream",
     "text": [
      "(2,)\n"
     ]
    }
   ],
   "source": [
    "print(l)"
   ]
  },
  {
   "cell_type": "code",
   "execution_count": 79,
   "id": "2ed76b1e",
   "metadata": {},
   "outputs": [
    {
     "data": {
      "text/plain": [
       "'Priya'"
      ]
     },
     "execution_count": 79,
     "metadata": {},
     "output_type": "execute_result"
    }
   ],
   "source": [
    "t = (\"Ganesh\",\"Kuladeep\",\"Suraj\",\"Priya\")\n",
    "t[-1]"
   ]
  },
  {
   "cell_type": "code",
   "execution_count": 80,
   "id": "c3ad478d",
   "metadata": {},
   "outputs": [
    {
     "name": "stdout",
     "output_type": "stream",
     "text": [
      "Enter names by comma seperationAraman,Harsha,Ruchika\n"
     ]
    }
   ],
   "source": [
    "s,d,x = input(\"Enter names by comma seperation\").split(\",\")"
   ]
  },
  {
   "cell_type": "code",
   "execution_count": 81,
   "id": "96d651fe",
   "metadata": {},
   "outputs": [
    {
     "name": "stdout",
     "output_type": "stream",
     "text": [
      "Araman\n"
     ]
    }
   ],
   "source": [
    "print(s)"
   ]
  },
  {
   "cell_type": "code",
   "execution_count": 82,
   "id": "c4058772",
   "metadata": {},
   "outputs": [
    {
     "name": "stdout",
     "output_type": "stream",
     "text": [
      "Harsha\n"
     ]
    }
   ],
   "source": [
    "print(d)"
   ]
  },
  {
   "cell_type": "code",
   "execution_count": 83,
   "id": "5eb8b7d5",
   "metadata": {},
   "outputs": [
    {
     "name": "stdout",
     "output_type": "stream",
     "text": [
      "Ruchika\n"
     ]
    }
   ],
   "source": [
    "print(x)"
   ]
  },
  {
   "cell_type": "code",
   "execution_count": null,
   "id": "e7a70617",
   "metadata": {},
   "outputs": [],
   "source": []
  }
 ],
 "metadata": {
  "kernelspec": {
   "display_name": "Python 3 (ipykernel)",
   "language": "python",
   "name": "python3"
  },
  "language_info": {
   "codemirror_mode": {
    "name": "ipython",
    "version": 3
   },
   "file_extension": ".py",
   "mimetype": "text/x-python",
   "name": "python",
   "nbconvert_exporter": "python",
   "pygments_lexer": "ipython3",
   "version": "3.9.7"
  }
 },
 "nbformat": 4,
 "nbformat_minor": 5
}
