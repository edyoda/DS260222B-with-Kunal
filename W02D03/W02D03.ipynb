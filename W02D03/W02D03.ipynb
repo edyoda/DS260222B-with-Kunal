{
 "cells": [
  {
   "cell_type": "markdown",
   "id": "48a546a6",
   "metadata": {},
   "source": [
    "## conditional statement"
   ]
  },
  {
   "cell_type": "code",
   "execution_count": null,
   "id": "3d33d68e",
   "metadata": {},
   "outputs": [],
   "source": [
    "if condition:\n",
    "    #statements\n",
    "else:\n",
    "    #statement"
   ]
  },
  {
   "cell_type": "code",
   "execution_count": null,
   "id": "8cbaedfd",
   "metadata": {},
   "outputs": [],
   "source": [
    "if condtion1:\n",
    "    #statement1\n",
    "elif condition2:\n",
    "    #statement2\n",
    "else:\n",
    "    #statement3"
   ]
  },
  {
   "cell_type": "code",
   "execution_count": null,
   "id": "77dcbc0d",
   "metadata": {},
   "outputs": [],
   "source": [
    "if outer_condition1:\n",
    "    #statement1\n",
    "    if inner_conditionA:\n",
    "        #statementA\n",
    "    else:\n",
    "        #statementB\n",
    "else:\n",
    "     if inner_conditionC:\n",
    "        #statementC"
   ]
  },
  {
   "cell_type": "code",
   "execution_count": null,
   "id": "3c3ef7d4",
   "metadata": {},
   "outputs": [],
   "source": [
    "print Even if the number given is even else print odd"
   ]
  },
  {
   "cell_type": "code",
   "execution_count": null,
   "id": "6d56800f",
   "metadata": {},
   "outputs": [],
   "source": [
    "2 mins 20:25"
   ]
  },
  {
   "cell_type": "code",
   "execution_count": null,
   "id": "aac3fc23",
   "metadata": {},
   "outputs": [],
   "source": [
    "num=6\n",
    "if num%2 == 0:\n",
    "    print('even')\n",
    "else:\n",
    "    print('odd')\n",
    "single line"
   ]
  },
  {
   "cell_type": "markdown",
   "id": "d87c7f07",
   "metadata": {},
   "source": [
    "## short hand if else statement"
   ]
  },
  {
   "cell_type": "code",
   "execution_count": 3,
   "id": "d40195a4",
   "metadata": {},
   "outputs": [
    {
     "name": "stdout",
     "output_type": "stream",
     "text": [
      "odd\n"
     ]
    }
   ],
   "source": [
    "num = 3\n",
    "print(\"Even\") if num%2==0 else print(\"odd\")"
   ]
  },
  {
   "cell_type": "code",
   "execution_count": null,
   "id": "9d075229",
   "metadata": {},
   "outputs": [],
   "source": [
    "statement1 if condition else statement2 "
   ]
  },
  {
   "cell_type": "code",
   "execution_count": null,
   "id": "b47ec8c5",
   "metadata": {},
   "outputs": [],
   "source": [
    "# check if the number is positive zero or negative"
   ]
  },
  {
   "cell_type": "code",
   "execution_count": 4,
   "id": "584f871c",
   "metadata": {},
   "outputs": [
    {
     "ename": "SyntaxError",
     "evalue": "invalid syntax (Temp/ipykernel_27048/3110024807.py, line 1)",
     "output_type": "error",
     "traceback": [
      "\u001b[1;36m  File \u001b[1;32m\"C:\\Users\\KUNALC~1\\AppData\\Local\\Temp/ipykernel_27048/3110024807.py\"\u001b[1;36m, line \u001b[1;32m1\u001b[0m\n\u001b[1;33m    print(\"Posiitive\") if num>0 elif num<0 print(\"Negative\")\u001b[0m\n\u001b[1;37m                                ^\u001b[0m\n\u001b[1;31mSyntaxError\u001b[0m\u001b[1;31m:\u001b[0m invalid syntax\n"
     ]
    }
   ],
   "source": [
    "print(\"Posiitive\") if num>0 elif num<0 print(\"Negative\") else print "
   ]
  },
  {
   "cell_type": "code",
   "execution_count": 5,
   "id": "59980975",
   "metadata": {},
   "outputs": [
    {
     "ename": "SyntaxError",
     "evalue": "invalid syntax (Temp/ipykernel_27048/3294972775.py, line 1)",
     "output_type": "error",
     "traceback": [
      "\u001b[1;36m  File \u001b[1;32m\"C:\\Users\\KUNALC~1\\AppData\\Local\\Temp/ipykernel_27048/3294972775.py\"\u001b[1;36m, line \u001b[1;32m1\u001b[0m\n\u001b[1;33m    print(\"Posiitive\") if num>0\u001b[0m\n\u001b[1;37m                               ^\u001b[0m\n\u001b[1;31mSyntaxError\u001b[0m\u001b[1;31m:\u001b[0m invalid syntax\n"
     ]
    }
   ],
   "source": [
    "print(\"Posiitive\") if num>0"
   ]
  },
  {
   "cell_type": "code",
   "execution_count": 7,
   "id": "48375952",
   "metadata": {},
   "outputs": [
    {
     "name": "stdout",
     "output_type": "stream",
     "text": [
      "Save water\n"
     ]
    }
   ],
   "source": [
    "val = \"not thrusty\"\n",
    "print(\"Drink Water\") if val == 'thrusty' else print(\"Save water\")"
   ]
  },
  {
   "cell_type": "code",
   "execution_count": 10,
   "id": "46e89b62",
   "metadata": {},
   "outputs": [],
   "source": [
    "val = 'thrusty'\n",
    "water = \"Drink Water\" if val == 'thrusty' else \"Save water\""
   ]
  },
  {
   "cell_type": "code",
   "execution_count": 11,
   "id": "412d151a",
   "metadata": {},
   "outputs": [
    {
     "name": "stdout",
     "output_type": "stream",
     "text": [
      "Drink Water\n"
     ]
    }
   ],
   "source": [
    "print(water)"
   ]
  },
  {
   "cell_type": "code",
   "execution_count": null,
   "id": "e1a6bc83",
   "metadata": {},
   "outputs": [],
   "source": [
    "if condition --> True else: "
   ]
  },
  {
   "cell_type": "code",
   "execution_count": null,
   "id": "84eecf2b",
   "metadata": {},
   "outputs": [],
   "source": [
    "and ->Boolean value \n",
    "or -> Boolean value\n",
    "not -> Boolean value"
   ]
  },
  {
   "cell_type": "code",
   "execution_count": 12,
   "id": "38b1699d",
   "metadata": {},
   "outputs": [
    {
     "name": "stdout",
     "output_type": "stream",
     "text": [
      "Talib is saved!!\n"
     ]
    }
   ],
   "source": [
    "club = [\"Talib\",\"Mayank\",\"Sujan\",\"Syali\",\"Ruchika\"]\n",
    "\n",
    "if \"Sujan\" in club or \"Vinay\" in club: \n",
    "    print(\"Talib is saved!!\")\n",
    "else:\n",
    "    print(\"Terror of Ganesh!!\")"
   ]
  },
  {
   "cell_type": "code",
   "execution_count": 13,
   "id": "843e1c7c",
   "metadata": {},
   "outputs": [
    {
     "name": "stdout",
     "output_type": "stream",
     "text": [
      "Terror of Ganesh!!\n"
     ]
    }
   ],
   "source": [
    "club = [\"Talib\",\"Mayank\",\"Syali\",\"Ruchika\"]\n",
    "if \"Sujan\" in club or \"Vinay\" in club: \n",
    "    print(\"Talib is saved!!\")\n",
    "else:\n",
    "    print(\"Terror of Ganesh!!\")"
   ]
  },
  {
   "cell_type": "code",
   "execution_count": null,
   "id": "31aa51b6",
   "metadata": {},
   "outputs": [],
   "source": [
    "Q if value is less than 2 and greater than zero print one else print other number"
   ]
  },
  {
   "cell_type": "code",
   "execution_count": 14,
   "id": "86cfc261",
   "metadata": {},
   "outputs": [
    {
     "name": "stdout",
     "output_type": "stream",
     "text": [
      "1\n"
     ]
    }
   ],
   "source": [
    "out = 1\n",
    "if out<2 and out>0:\n",
    "    print(out)\n",
    "else:\n",
    "    print(\"other\")"
   ]
  },
  {
   "cell_type": "code",
   "execution_count": null,
   "id": "eae45052",
   "metadata": {},
   "outputs": [],
   "source": [
    "Truthy Falsy"
   ]
  },
  {
   "cell_type": "code",
   "execution_count": null,
   "id": "bd542230",
   "metadata": {},
   "outputs": [],
   "source": [
    "False equivalents:\n",
    "    0,'',None,0j,False,[],(),{},set()..."
   ]
  },
  {
   "cell_type": "code",
   "execution_count": 21,
   "id": "12bb5794",
   "metadata": {},
   "outputs": [
    {
     "name": "stdout",
     "output_type": "stream",
     "text": [
      "LOL\n"
     ]
    }
   ],
   "source": [
    "val = ''\n",
    "if val:\n",
    "    print(\"Hello\")\n",
    "else:\n",
    "    print(\"LOL\")"
   ]
  },
  {
   "cell_type": "code",
   "execution_count": 18,
   "id": "7a267e8e",
   "metadata": {},
   "outputs": [
    {
     "name": "stdout",
     "output_type": "stream",
     "text": [
      "LOL\n"
     ]
    }
   ],
   "source": [
    "val = None\n",
    "if val:\n",
    "    print(\"Hello\")\n",
    "else:\n",
    "    print(\"LOL\")"
   ]
  },
  {
   "cell_type": "code",
   "execution_count": 19,
   "id": "c149bcef",
   "metadata": {},
   "outputs": [
    {
     "name": "stdout",
     "output_type": "stream",
     "text": [
      "LOL\n"
     ]
    }
   ],
   "source": [
    "val = 0j\n",
    "if val:\n",
    "    print(\"Hello\")\n",
    "else:\n",
    "    print(\"LOL\")"
   ]
  },
  {
   "cell_type": "code",
   "execution_count": null,
   "id": "05d84882",
   "metadata": {},
   "outputs": [],
   "source": [
    "True Equivalents:\n",
    "    1,-1,1.1,<space>,'name',..."
   ]
  },
  {
   "cell_type": "code",
   "execution_count": 22,
   "id": "46849e3e",
   "metadata": {},
   "outputs": [
    {
     "name": "stdout",
     "output_type": "stream",
     "text": [
      "Hello\n"
     ]
    }
   ],
   "source": [
    "val = 23\n",
    "if val:\n",
    "    print(\"Hello\")\n",
    "else:\n",
    "    print(\"LOL\")"
   ]
  },
  {
   "cell_type": "markdown",
   "id": "807d4b58",
   "metadata": {},
   "source": [
    "## `iterable`"
   ]
  },
  {
   "cell_type": "code",
   "execution_count": null,
   "id": "b1da254e",
   "metadata": {},
   "outputs": [],
   "source": [
    "An iterable is any python object capable of returning its members one at a time\n",
    "collections:\n",
    "    str,list,tuple,set,dict,range..."
   ]
  },
  {
   "cell_type": "code",
   "execution_count": null,
   "id": "0b3c5ae1",
   "metadata": {},
   "outputs": [],
   "source": [
    "loop is something which helps us to iterate"
   ]
  },
  {
   "cell_type": "code",
   "execution_count": null,
   "id": "7474365a",
   "metadata": {},
   "outputs": [],
   "source": [
    "# for loop"
   ]
  },
  {
   "cell_type": "code",
   "execution_count": 23,
   "id": "9057e758",
   "metadata": {},
   "outputs": [],
   "source": [
    "fruit_basket = [\"apple\",\"mango\",\"banana\",\"orange\"]"
   ]
  },
  {
   "cell_type": "code",
   "execution_count": 25,
   "id": "3e937ca4",
   "metadata": {},
   "outputs": [
    {
     "name": "stdout",
     "output_type": "stream",
     "text": [
      "apple\n",
      "mango\n",
      "banana\n"
     ]
    }
   ],
   "source": [
    "print(fruit_basket[0])\n",
    "print(fruit_basket[1])\n",
    "print(fruit_basket[2])"
   ]
  },
  {
   "cell_type": "code",
   "execution_count": 26,
   "id": "0efe9d96",
   "metadata": {},
   "outputs": [
    {
     "name": "stdout",
     "output_type": "stream",
     "text": [
      "apple\n",
      "mango\n",
      "banana\n",
      "orange\n"
     ]
    }
   ],
   "source": [
    "for i in fruit_basket:\n",
    "    print(i)"
   ]
  },
  {
   "cell_type": "code",
   "execution_count": 27,
   "id": "8369c2c0",
   "metadata": {},
   "outputs": [
    {
     "name": "stdout",
     "output_type": "stream",
     "text": [
      "mango\n",
      "orange\n"
     ]
    }
   ],
   "source": [
    "for i in fruit_basket:\n",
    "    if \"o\" in i:\n",
    "        print(i)"
   ]
  },
  {
   "cell_type": "code",
   "execution_count": 29,
   "id": "c597a411",
   "metadata": {},
   "outputs": [
    {
     "name": "stdout",
     "output_type": "stream",
     "text": [
      "apple\n",
      "mango\n",
      "banana\n",
      "orange\n"
     ]
    }
   ],
   "source": [
    "for fruit in fruit_basket:\n",
    "    print(fruit)"
   ]
  },
  {
   "cell_type": "code",
   "execution_count": 30,
   "id": "797393c9",
   "metadata": {},
   "outputs": [
    {
     "name": "stdout",
     "output_type": "stream",
     "text": [
      "apple\n",
      "mango\n",
      "banana\n",
      "orange\n"
     ]
    }
   ],
   "source": [
    "for adil in fruit_basket:\n",
    "    print(adil)"
   ]
  },
  {
   "cell_type": "code",
   "execution_count": 32,
   "id": "15b2c582",
   "metadata": {},
   "outputs": [
    {
     "ename": "NameError",
     "evalue": "name 'banana' is not defined",
     "output_type": "error",
     "traceback": [
      "\u001b[1;31m---------------------------------------------------------------------------\u001b[0m",
      "\u001b[1;31mNameError\u001b[0m                                 Traceback (most recent call last)",
      "\u001b[1;32mC:\\Users\\KUNALC~1\\AppData\\Local\\Temp/ipykernel_27048/3062121059.py\u001b[0m in \u001b[0;36m<module>\u001b[1;34m\u001b[0m\n\u001b[1;32m----> 1\u001b[1;33m \u001b[0mfruit_basket\u001b[0m\u001b[1;33m=\u001b[0m \u001b[1;33m[\u001b[0m\u001b[1;34m'apple'\u001b[0m\u001b[1;33m,\u001b[0m\u001b[1;34m'orange'\u001b[0m\u001b[1;33m,\u001b[0m\u001b[0mbanana\u001b[0m\u001b[1;33m,\u001b[0m\u001b[0mmango\u001b[0m\u001b[1;33m]\u001b[0m\u001b[1;33m\u001b[0m\u001b[1;33m\u001b[0m\u001b[0m\n\u001b[0m\u001b[0;32m      2\u001b[0m \u001b[1;32mfor\u001b[0m \u001b[0mi\u001b[0m \u001b[1;32min\u001b[0m \u001b[0mfruit_basket\u001b[0m\u001b[1;33m:\u001b[0m\u001b[1;33m\u001b[0m\u001b[1;33m\u001b[0m\u001b[0m\n\u001b[0;32m      3\u001b[0m     \u001b[1;32mif\u001b[0m \u001b[1;34m\"o\"\u001b[0m \u001b[1;32min\u001b[0m \u001b[0mi\u001b[0m\u001b[1;33m:\u001b[0m\u001b[1;33m\u001b[0m\u001b[1;33m\u001b[0m\u001b[0m\n\u001b[0;32m      4\u001b[0m         \u001b[0mprint\u001b[0m\u001b[1;33m(\u001b[0m\u001b[0mi\u001b[0m\u001b[1;33m)\u001b[0m\u001b[1;33m\u001b[0m\u001b[1;33m\u001b[0m\u001b[0m\n",
      "\u001b[1;31mNameError\u001b[0m: name 'banana' is not defined"
     ]
    }
   ],
   "source": [
    "fruit_basket= ['apple','orange',banana,mango]\n",
    "for i in fruit_basket:\n",
    "    if \"o\" in i:\n",
    "        print(i)\n"
   ]
  },
  {
   "cell_type": "code",
   "execution_count": 33,
   "id": "e2a99101",
   "metadata": {},
   "outputs": [],
   "source": [
    "k=[\"usha\",\"Jerry\",\"Kumari\",\"Tom\",\"luna\"]\n",
    "for i in k:\n",
    "    if \"u\"in k:\n",
    "        print(i)\n"
   ]
  },
  {
   "cell_type": "code",
   "execution_count": null,
   "id": "9d9d307c",
   "metadata": {},
   "outputs": [],
   "source": [
    "break --> it helps us to get out of the loop any time"
   ]
  },
  {
   "cell_type": "code",
   "execution_count": 36,
   "id": "48032a53",
   "metadata": {},
   "outputs": [
    {
     "name": "stdout",
     "output_type": "stream",
     "text": [
      "mango\n"
     ]
    }
   ],
   "source": [
    "fruit_basket = [\"apple\",\"mango\",\"banana\",\"orange\"]\n",
    "for i in fruit_basket:\n",
    "    if \"o\" in i:\n",
    "        print(i)\n",
    "        break"
   ]
  },
  {
   "cell_type": "code",
   "execution_count": null,
   "id": "a6b8d0f2",
   "metadata": {},
   "outputs": [],
   "source": [
    "range() --> gives you sequence of numbers"
   ]
  },
  {
   "cell_type": "code",
   "execution_count": 37,
   "id": "814de376",
   "metadata": {},
   "outputs": [
    {
     "name": "stdout",
     "output_type": "stream",
     "text": [
      "0\n",
      "1\n",
      "2\n",
      "3\n",
      "4\n",
      "5\n",
      "6\n",
      "7\n",
      "8\n",
      "9\n"
     ]
    }
   ],
   "source": [
    "for i in range(10):\n",
    "    print(i)"
   ]
  },
  {
   "cell_type": "code",
   "execution_count": 41,
   "id": "e56fe984",
   "metadata": {},
   "outputs": [
    {
     "name": "stdout",
     "output_type": "stream",
     "text": [
      "1 mango\n"
     ]
    }
   ],
   "source": [
    "fruit_basket = [\"apple\",\"mango\",\"banana\",\"orange\"]\n",
    "for i in range(len(fruit_basket)):\n",
    "    if fruit_basket[i] == 'mango':\n",
    "        print(i,fruit_basket[i])\n",
    "        break"
   ]
  },
  {
   "cell_type": "code",
   "execution_count": null,
   "id": "590309f5",
   "metadata": {},
   "outputs": [],
   "source": []
  }
 ],
 "metadata": {
  "kernelspec": {
   "display_name": "Python 3 (ipykernel)",
   "language": "python",
   "name": "python3"
  },
  "language_info": {
   "codemirror_mode": {
    "name": "ipython",
    "version": 3
   },
   "file_extension": ".py",
   "mimetype": "text/x-python",
   "name": "python",
   "nbconvert_exporter": "python",
   "pygments_lexer": "ipython3",
   "version": "3.9.7"
  }
 },
 "nbformat": 4,
 "nbformat_minor": 5
}
