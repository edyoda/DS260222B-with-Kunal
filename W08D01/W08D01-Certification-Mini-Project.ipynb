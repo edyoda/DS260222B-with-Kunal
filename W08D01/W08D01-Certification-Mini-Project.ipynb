{
 "cells": [
  {
   "cell_type": "code",
   "execution_count": null,
   "id": "08aa5d76",
   "metadata": {},
   "outputs": [],
   "source": [
    "#  0 1 2 3\n",
    "#A B B E E\n",
    "#B E E E E\n",
    "#C E E E E\n",
    "#D E E E E\n",
    "\n",
    "user = {\n",
    "    phn : name, phn2 : name2\n",
    "}\n",
    "\n",
    "user = {\n",
    "    phn : {\n",
    "        password: {\n",
    "            name: \"\",\n",
    "            phn: 00\n",
    "            no_of_seat_booked: 2\n",
    "            booking_list = [\"A1\",\"C2\"]\n",
    "        }\n",
    "    }\n",
    "}\n",
    "\n",
    "phn_nu : phn--> password --> user[phn][password][booking_list]\n",
    "\n",
    "\n",
    "#E-> empty seats\n",
    "#BS -> Booked Seats\n",
    "\n",
    "# App:\n",
    "#    register\n",
    "#    login\n",
    "#    check_availability\n",
    "#    Book the Ticket"
   ]
  },
  {
   "cell_type": "code",
   "execution_count": 44,
   "id": "ba416b54",
   "metadata": {},
   "outputs": [],
   "source": [
    "class BookTheShow:\n",
    "    seats = [[\"E\",\"E\",\"E\",\"E\"],[\"E\",\"E\",\"E\",\"E\"],[\"E\",\"E\",\"E\",\"E\"],[\"E\",\"E\",\"E\",\"E\"]]\n",
    "    user = {}\n",
    "    def __init__(self):\n",
    "        self.name = \"\"\n",
    "        self.phn = \"\"\n",
    "        self.no_of_seat_booked = 0\n",
    "        self.booking_list = []\n",
    "    def booking(self):\n",
    "        for i,row in enumerate(BookTheShow.seats):\n",
    "            if \"E\" in row:\n",
    "                self.booking_list.append(f\"{BookTheShow.conv(i)}{row.index('E')}\")\n",
    "                BookTheShow.seats[i][row.index(\"E\")] = \"BS\"\n",
    "                self.no_of_seat_booked+=1\n",
    "                return row,BookTheShow.conv(i)\n",
    "        else:\n",
    "            return None\n",
    "    @staticmethod\n",
    "    def conv(num):\n",
    "        d = {i-ord(\"A\"): chr(i) for i in range(ord(\"A\"),ord(\"D\")+1)}\n",
    "        return d[num]\n",
    "    \n",
    "    def register(self, name, phn):\n",
    "        if phn in BookTheShow.user.keys():\n",
    "            return False\n",
    "        self.name = name\n",
    "        self.phn = phn\n",
    "        BookTheShow.user[phn] = {\"name\":name, phn: }"
   ]
  },
  {
   "cell_type": "code",
   "execution_count": 45,
   "id": "a7307606",
   "metadata": {},
   "outputs": [],
   "source": [
    "user1 = BookTheShow()"
   ]
  },
  {
   "cell_type": "code",
   "execution_count": 46,
   "id": "445748f1",
   "metadata": {},
   "outputs": [
    {
     "name": "stdout",
     "output_type": "stream",
     "text": [
      "{'name': '', 'phn': '', 'no_of_seat_booked': 0, 'booking_list': []}\n"
     ]
    }
   ],
   "source": [
    "print(user1.__dict__)"
   ]
  },
  {
   "cell_type": "code",
   "execution_count": 47,
   "id": "e10ba626",
   "metadata": {},
   "outputs": [
    {
     "data": {
      "text/plain": [
       "[['E', 'E', 'E', 'E'],\n",
       " ['E', 'E', 'E', 'E'],\n",
       " ['E', 'E', 'E', 'E'],\n",
       " ['E', 'E', 'E', 'E']]"
      ]
     },
     "execution_count": 47,
     "metadata": {},
     "output_type": "execute_result"
    }
   ],
   "source": [
    "user1.seats"
   ]
  },
  {
   "cell_type": "code",
   "execution_count": 48,
   "id": "ea501f33",
   "metadata": {},
   "outputs": [],
   "source": [
    "user1.register(\"Sharon\",\"9856478955\")"
   ]
  },
  {
   "cell_type": "code",
   "execution_count": 49,
   "id": "a8b80770",
   "metadata": {},
   "outputs": [
    {
     "data": {
      "text/plain": [
       "{'name': 'Sharon',\n",
       " 'phn': '9856478955',\n",
       " 'no_of_seat_booked': 0,\n",
       " 'booking_list': []}"
      ]
     },
     "execution_count": 49,
     "metadata": {},
     "output_type": "execute_result"
    }
   ],
   "source": [
    "user1.__dict__"
   ]
  },
  {
   "cell_type": "code",
   "execution_count": 50,
   "id": "3a5028e6",
   "metadata": {},
   "outputs": [
    {
     "data": {
      "text/plain": [
       "{'9856478955': 'Sharon'}"
      ]
     },
     "execution_count": 50,
     "metadata": {},
     "output_type": "execute_result"
    }
   ],
   "source": [
    "user1.user"
   ]
  },
  {
   "cell_type": "code",
   "execution_count": 51,
   "id": "b6e6cfeb",
   "metadata": {},
   "outputs": [
    {
     "name": "stdout",
     "output_type": "stream",
     "text": [
      "False\n"
     ]
    }
   ],
   "source": [
    "print(user1.register(\"Sharon\",\"9856478955\"))"
   ]
  },
  {
   "cell_type": "code",
   "execution_count": 31,
   "id": "4cbb18c2",
   "metadata": {},
   "outputs": [
    {
     "data": {
      "text/plain": [
       "(['BS', 'E', 'E', 'E'], 'A')"
      ]
     },
     "execution_count": 31,
     "metadata": {},
     "output_type": "execute_result"
    }
   ],
   "source": [
    "user1.booking()"
   ]
  },
  {
   "cell_type": "code",
   "execution_count": 32,
   "id": "18053c45",
   "metadata": {},
   "outputs": [
    {
     "data": {
      "text/plain": [
       "['A0']"
      ]
     },
     "execution_count": 32,
     "metadata": {},
     "output_type": "execute_result"
    }
   ],
   "source": [
    "user1.booking_list"
   ]
  },
  {
   "cell_type": "code",
   "execution_count": 33,
   "id": "25d265c1",
   "metadata": {},
   "outputs": [
    {
     "data": {
      "text/plain": [
       "(['BS', 'BS', 'E', 'E'], 'A')"
      ]
     },
     "execution_count": 33,
     "metadata": {},
     "output_type": "execute_result"
    }
   ],
   "source": [
    "user2 = BookTheShow()\n",
    "user2.booking()"
   ]
  },
  {
   "cell_type": "code",
   "execution_count": 34,
   "id": "b9e89c98",
   "metadata": {},
   "outputs": [
    {
     "data": {
      "text/plain": [
       "['A1']"
      ]
     },
     "execution_count": 34,
     "metadata": {},
     "output_type": "execute_result"
    }
   ],
   "source": [
    "user2.booking_list"
   ]
  },
  {
   "cell_type": "code",
   "execution_count": 35,
   "id": "87ca3915",
   "metadata": {},
   "outputs": [
    {
     "data": {
      "text/plain": [
       "(['BS', 'BS', 'BS', 'E'], 'A')"
      ]
     },
     "execution_count": 35,
     "metadata": {},
     "output_type": "execute_result"
    }
   ],
   "source": [
    "user1.booking()"
   ]
  },
  {
   "cell_type": "code",
   "execution_count": 36,
   "id": "8c7a6278",
   "metadata": {},
   "outputs": [
    {
     "data": {
      "text/plain": [
       "['A0', 'A2']"
      ]
     },
     "execution_count": 36,
     "metadata": {},
     "output_type": "execute_result"
    }
   ],
   "source": [
    "user1.booking_list"
   ]
  },
  {
   "cell_type": "code",
   "execution_count": 37,
   "id": "3bbbb3b8",
   "metadata": {},
   "outputs": [
    {
     "data": {
      "text/plain": [
       "[['BS', 'BS', 'BS', 'E'],\n",
       " ['E', 'E', 'E', 'E'],\n",
       " ['E', 'E', 'E', 'E'],\n",
       " ['E', 'E', 'E', 'E']]"
      ]
     },
     "execution_count": 37,
     "metadata": {},
     "output_type": "execute_result"
    }
   ],
   "source": [
    "user1.seats"
   ]
  },
  {
   "cell_type": "code",
   "execution_count": 38,
   "id": "82ed41d8",
   "metadata": {},
   "outputs": [
    {
     "data": {
      "text/plain": [
       "(['BS', 'BS', 'BS', 'BS'], 'A')"
      ]
     },
     "execution_count": 38,
     "metadata": {},
     "output_type": "execute_result"
    }
   ],
   "source": [
    "user1.booking()"
   ]
  },
  {
   "cell_type": "code",
   "execution_count": 39,
   "id": "ee73c2a6",
   "metadata": {},
   "outputs": [
    {
     "data": {
      "text/plain": [
       "(['BS', 'E', 'E', 'E'], 'B')"
      ]
     },
     "execution_count": 39,
     "metadata": {},
     "output_type": "execute_result"
    }
   ],
   "source": [
    "user2.booking()"
   ]
  },
  {
   "cell_type": "code",
   "execution_count": 40,
   "id": "bc586020",
   "metadata": {},
   "outputs": [
    {
     "data": {
      "text/plain": [
       "[['BS', 'BS', 'BS', 'BS'],\n",
       " ['BS', 'E', 'E', 'E'],\n",
       " ['E', 'E', 'E', 'E'],\n",
       " ['E', 'E', 'E', 'E']]"
      ]
     },
     "execution_count": 40,
     "metadata": {},
     "output_type": "execute_result"
    }
   ],
   "source": [
    "user1.seats"
   ]
  },
  {
   "cell_type": "code",
   "execution_count": null,
   "id": "f2302eb4",
   "metadata": {},
   "outputs": [],
   "source": []
  },
  {
   "cell_type": "code",
   "execution_count": null,
   "id": "20b7cad1",
   "metadata": {},
   "outputs": [],
   "source": []
  },
  {
   "cell_type": "code",
   "execution_count": null,
   "id": "b7af7e43",
   "metadata": {},
   "outputs": [],
   "source": []
  },
  {
   "cell_type": "code",
   "execution_count": null,
   "id": "ddaae76e",
   "metadata": {},
   "outputs": [],
   "source": []
  },
  {
   "cell_type": "code",
   "execution_count": null,
   "id": "7379522a",
   "metadata": {},
   "outputs": [],
   "source": []
  },
  {
   "cell_type": "code",
   "execution_count": null,
   "id": "19eb2cd9",
   "metadata": {},
   "outputs": [],
   "source": []
  },
  {
   "cell_type": "code",
   "execution_count": null,
   "id": "a0b07de4",
   "metadata": {},
   "outputs": [],
   "source": []
  },
  {
   "cell_type": "code",
   "execution_count": null,
   "id": "3988bbb2",
   "metadata": {},
   "outputs": [],
   "source": []
  },
  {
   "cell_type": "code",
   "execution_count": null,
   "id": "ff94c640",
   "metadata": {},
   "outputs": [],
   "source": []
  },
  {
   "cell_type": "code",
   "execution_count": null,
   "id": "3f175a4f",
   "metadata": {},
   "outputs": [],
   "source": []
  },
  {
   "cell_type": "code",
   "execution_count": null,
   "id": "0aa5e8e4",
   "metadata": {},
   "outputs": [],
   "source": []
  },
  {
   "cell_type": "code",
   "execution_count": 41,
   "id": "7b9d3c27",
   "metadata": {},
   "outputs": [
    {
     "name": "stdout",
     "output_type": "stream",
     "text": [
      "A 0\n",
      "G 1\n",
      "T 2\n"
     ]
    }
   ],
   "source": [
    "l = [\"A\",\"G\",\"T\"]\n",
    "count = 0\n",
    "for i in l:\n",
    "    print(i,count)\n",
    "    count+=1"
   ]
  },
  {
   "cell_type": "code",
   "execution_count": 42,
   "id": "3457d9bb",
   "metadata": {},
   "outputs": [
    {
     "name": "stdout",
     "output_type": "stream",
     "text": [
      "A 0\n",
      "G 1\n",
      "T 2\n"
     ]
    }
   ],
   "source": [
    "for i,val in enumerate(l):\n",
    "    print(val,i)"
   ]
  },
  {
   "cell_type": "code",
   "execution_count": 43,
   "id": "e0ac8449",
   "metadata": {},
   "outputs": [
    {
     "ename": "SyntaxError",
     "evalue": "invalid syntax (4224367514.py, line 1)",
     "output_type": "error",
     "traceback": [
      "\u001b[1;36m  Input \u001b[1;32mIn [43]\u001b[1;36m\u001b[0m\n\u001b[1;33m    A -> 65-> 0\u001b[0m\n\u001b[1;37m      ^\u001b[0m\n\u001b[1;31mSyntaxError\u001b[0m\u001b[1;31m:\u001b[0m invalid syntax\n"
     ]
    }
   ],
   "source": [
    "A -> 65-> 0"
   ]
  },
  {
   "cell_type": "code",
   "execution_count": null,
   "id": "0b29f884",
   "metadata": {},
   "outputs": [],
   "source": [
    "def conv(num):\n",
    "        d = {i-ord(\"A\"):chr(i) for i in range(ord(\"A\"),ord(\"Z\")+1)}"
   ]
  },
  {
   "cell_type": "code",
   "execution_count": 5,
   "id": "c6440b5d",
   "metadata": {},
   "outputs": [
    {
     "data": {
      "text/plain": [
       "{0: 'A',\n",
       " 1: 'B',\n",
       " 2: 'C',\n",
       " 3: 'D',\n",
       " 4: 'E',\n",
       " 5: 'F',\n",
       " 6: 'G',\n",
       " 7: 'H',\n",
       " 8: 'I',\n",
       " 9: 'J',\n",
       " 10: 'K',\n",
       " 11: 'L',\n",
       " 12: 'M',\n",
       " 13: 'N',\n",
       " 14: 'O',\n",
       " 15: 'P',\n",
       " 16: 'Q',\n",
       " 17: 'R',\n",
       " 18: 'S',\n",
       " 19: 'T',\n",
       " 20: 'U',\n",
       " 21: 'V',\n",
       " 22: 'W',\n",
       " 23: 'X',\n",
       " 24: 'Y',\n",
       " 25: 'Z'}"
      ]
     },
     "execution_count": 5,
     "metadata": {},
     "output_type": "execute_result"
    }
   ],
   "source": [
    "{i-ord(\"A\"):chr(i) for i in range(ord(\"A\"),ord(\"Z\")+1)}"
   ]
  },
  {
   "cell_type": "code",
   "execution_count": null,
   "id": "dd37ef3c",
   "metadata": {},
   "outputs": [],
   "source": []
  }
 ],
 "metadata": {
  "kernelspec": {
   "display_name": "Python 3 (ipykernel)",
   "language": "python",
   "name": "python3"
  },
  "language_info": {
   "codemirror_mode": {
    "name": "ipython",
    "version": 3
   },
   "file_extension": ".py",
   "mimetype": "text/x-python",
   "name": "python",
   "nbconvert_exporter": "python",
   "pygments_lexer": "ipython3",
   "version": "3.10.2"
  }
 },
 "nbformat": 4,
 "nbformat_minor": 5
}
