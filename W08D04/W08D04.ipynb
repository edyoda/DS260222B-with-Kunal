{
 "cells": [
  {
   "cell_type": "code",
   "execution_count": 1,
   "id": "709bfb8a",
   "metadata": {},
   "outputs": [],
   "source": [
    "# users.json\n",
    "#       [{\n",
    "#           \"id\": 1,\n",
    "#           \"name\": \"Kathiravan\",\n",
    "#           \"Age\" : 23,\n",
    "#           \"Phone Number\": 947533145,\n",
    "#           \"order History\" : [{\"21/04/2022\":[\"Chole\",\"Bhature\"]},\n",
    "#           {\"22/04/2022\":[\"bhel\"]}]\n",
    "#           }, {\n",
    "#           \"id\": 2,\n",
    "#           \"name\": \"Katrina\",\n",
    "#           \"Age\" : 35,\n",
    "#           \"Phone Number\": 9475585555,\n",
    "#           \"order History\" : {\"21/04/2022\":[\"Chole\",\"Bhature\"],\"22/04/2022\":[\"Kulcha\"]}\n",
    "#           }]"
   ]
  },
  {
   "cell_type": "code",
   "execution_count": 2,
   "id": "16008be6",
   "metadata": {},
   "outputs": [],
   "source": [
    "# admin.json\n",
    "# [{\"name\": \"Kunal\",\"password\": 123456789}]"
   ]
  },
  {
   "cell_type": "code",
   "execution_count": null,
   "id": "1d186a23",
   "metadata": {},
   "outputs": [],
   "source": [
    "# food.json\n",
    "#        [{\n",
    "#             \"id\": 1,\n",
    "#             \"name\": \"chole Bhature\",\n",
    "#             \"no of items\": 25\n",
    "#         },{\n",
    "#             \"id\": 1,\n",
    "#             \"name\": \"chole Bhature\",\n",
    "#             \"no of items\": 25\n",
    "#         }]"
   ]
  },
  {
   "cell_type": "code",
   "execution_count": 4,
   "id": "f9847b15",
   "metadata": {},
   "outputs": [],
   "source": [
    "import datetime"
   ]
  },
  {
   "cell_type": "code",
   "execution_count": 6,
   "id": "47fec9c8",
   "metadata": {},
   "outputs": [],
   "source": [
    "date = datetime.datetime.today().strftime(\"%m/%d/%Y\")"
   ]
  },
  {
   "cell_type": "code",
   "execution_count": 7,
   "id": "b02f3e77",
   "metadata": {},
   "outputs": [
    {
     "name": "stdout",
     "output_type": "stream",
     "text": [
      "04/21/2022\n"
     ]
    }
   ],
   "source": [
    "print(date)"
   ]
  },
  {
   "cell_type": "code",
   "execution_count": 10,
   "id": "05e407c9",
   "metadata": {},
   "outputs": [
    {
     "data": {
      "text/plain": [
       "dict_items([('21/04/2022', ['Chole', 'Bhature']), ('22/04/2022', ['Bhature'])])"
      ]
     },
     "execution_count": 10,
     "metadata": {},
     "output_type": "execute_result"
    }
   ],
   "source": [
    "d = {\"21/04/2022\":[\"Chole\",\"Bhature\"], \"22/04/2022\":[\"Bhature\"]}\n",
    "d.items()"
   ]
  },
  {
   "cell_type": "code",
   "execution_count": 11,
   "id": "3ff1bc3f",
   "metadata": {},
   "outputs": [],
   "source": [
    "i,j = (1,2)"
   ]
  },
  {
   "cell_type": "code",
   "execution_count": 12,
   "id": "5c04d52f",
   "metadata": {},
   "outputs": [
    {
     "name": "stdout",
     "output_type": "stream",
     "text": [
      "1\n"
     ]
    }
   ],
   "source": [
    "print(i)"
   ]
  },
  {
   "cell_type": "code",
   "execution_count": 13,
   "id": "cd02ee77",
   "metadata": {},
   "outputs": [
    {
     "name": "stdout",
     "output_type": "stream",
     "text": [
      "2\n"
     ]
    }
   ],
   "source": [
    "print(j)"
   ]
  },
  {
   "cell_type": "code",
   "execution_count": 15,
   "id": "2afdc09c",
   "metadata": {},
   "outputs": [
    {
     "name": "stdout",
     "output_type": "stream",
     "text": [
      "21/04/2022 ['Chole', 'Bhature']\n",
      "22/04/2022 ['Bhature']\n"
     ]
    }
   ],
   "source": [
    "for i,j in d.items():\n",
    "    print(i,j)"
   ]
  },
  {
   "cell_type": "code",
   "execution_count": null,
   "id": "89586892",
   "metadata": {},
   "outputs": [],
   "source": []
  }
 ],
 "metadata": {
  "kernelspec": {
   "display_name": "Python 3 (ipykernel)",
   "language": "python",
   "name": "python3"
  },
  "language_info": {
   "codemirror_mode": {
    "name": "ipython",
    "version": 3
   },
   "file_extension": ".py",
   "mimetype": "text/x-python",
   "name": "python",
   "nbconvert_exporter": "python",
   "pygments_lexer": "ipython3",
   "version": "3.9.7"
  }
 },
 "nbformat": 4,
 "nbformat_minor": 5
}
