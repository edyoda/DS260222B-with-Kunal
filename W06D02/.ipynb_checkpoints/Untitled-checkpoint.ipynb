{
 "cells": [
  {
   "cell_type": "markdown",
   "id": "6d95bc64",
   "metadata": {},
   "source": [
    "# `Class and Objects`"
   ]
  },
  {
   "attachments": {
    "image.png": {
     "image/png": "[encoded data removed]"
    }
   },
   "cell_type": "markdown",
   "id": "a5dbcef2",
   "metadata": {},
   "source": [
    "![image.png](attachment:image.png)"
   ]
  },
  {
   "cell_type": "code",
   "execution_count": 1,
   "id": "07c23071",
   "metadata": {},
   "outputs": [],
   "source": [
    "class Car:\n",
    "    def __init__(self):\n",
    "        self.color = \"\"\n",
    "        self.brand = \"\"\n",
    "        self.model = \"\"\n",
    "        self.engine_type = \"\"\n",
    "ford_obj = Car()"
   ]
  },
  {
   "cell_type": "code",
   "execution_count": 2,
   "id": "078a50ad",
   "metadata": {},
   "outputs": [
    {
     "data": {
      "text/plain": [
       "{'color': '', 'brand': '', 'model': '', 'engine_type': ''}"
      ]
     },
     "execution_count": 2,
     "metadata": {},
     "output_type": "execute_result"
    }
   ],
   "source": [
    "ford_obj.__dict__"
   ]
  },
  {
   "cell_type": "code",
   "execution_count": 3,
   "id": "0db91d27",
   "metadata": {
    "collapsed": true
   },
   "outputs": [
    {
     "name": "stdout",
     "output_type": "stream",
     "text": [
      "Help on Car in module __main__ object:\n",
      "\n",
      "class Car(builtins.object)\n",
      " |  Methods defined here:\n",
      " |  \n",
      " |  __init__(self)\n",
      " |      Initialize self.  See help(type(self)) for accurate signature.\n",
      " |  \n",
      " |  ----------------------------------------------------------------------\n",
      " |  Data descriptors defined here:\n",
      " |  \n",
      " |  __dict__\n",
      " |      dictionary for instance variables (if defined)\n",
      " |  \n",
      " |  __weakref__\n",
      " |      list of weak references to the object (if defined)\n",
      "\n"
     ]
    }
   ],
   "source": [
    "help(ford_obj)"
   ]
  },
  {
   "cell_type": "code",
   "execution_count": 4,
   "id": "69bd948c",
   "metadata": {},
   "outputs": [],
   "source": [
    "ford_obj.color = \"Green\""
   ]
  },
  {
   "cell_type": "code",
   "execution_count": 5,
   "id": "9b036187",
   "metadata": {},
   "outputs": [
    {
     "name": "stdout",
     "output_type": "stream",
     "text": [
      "Green\n"
     ]
    }
   ],
   "source": [
    "print(ford_obj.color)"
   ]
  },
  {
   "cell_type": "code",
   "execution_count": 6,
   "id": "2ae3eef5",
   "metadata": {},
   "outputs": [],
   "source": [
    "ford_obj.brand = \"Ford\""
   ]
  },
  {
   "cell_type": "code",
   "execution_count": 7,
   "id": "2c136cc8",
   "metadata": {},
   "outputs": [
    {
     "data": {
      "text/plain": [
       "{'color': 'Green', 'brand': 'Ford', 'model': '', 'engine_type': ''}"
      ]
     },
     "execution_count": 7,
     "metadata": {},
     "output_type": "execute_result"
    }
   ],
   "source": [
    "ford_obj.__dict__"
   ]
  },
  {
   "cell_type": "code",
   "execution_count": 8,
   "id": "f035fac1",
   "metadata": {},
   "outputs": [],
   "source": [
    "ford_obj.model = \"Mustang\"\n",
    "ford_obj.engine_type = \"Gasolene\""
   ]
  },
  {
   "cell_type": "code",
   "execution_count": 9,
   "id": "d9e24592",
   "metadata": {},
   "outputs": [
    {
     "name": "stdout",
     "output_type": "stream",
     "text": [
      "{'color': 'Green', 'brand': 'Ford', 'model': 'Mustang', 'engine_type': 'Gasolene'}\n"
     ]
    }
   ],
   "source": [
    "print(ford_obj.__dict__)"
   ]
  },
  {
   "cell_type": "code",
   "execution_count": 10,
   "id": "4523af9a",
   "metadata": {},
   "outputs": [],
   "source": [
    "obj_toyata = Car()"
   ]
  },
  {
   "cell_type": "code",
   "execution_count": 11,
   "id": "2e11f1fb",
   "metadata": {},
   "outputs": [
    {
     "data": {
      "text/plain": [
       "{'color': '', 'brand': '', 'model': '', 'engine_type': ''}"
      ]
     },
     "execution_count": 11,
     "metadata": {},
     "output_type": "execute_result"
    }
   ],
   "source": [
    "obj_toyata.__dict__"
   ]
  },
  {
   "cell_type": "code",
   "execution_count": 12,
   "id": "56bc0b8f",
   "metadata": {},
   "outputs": [
    {
     "name": "stdout",
     "output_type": "stream",
     "text": [
      "{'color': 'Green', 'brand': 'Ford', 'model': 'Mustang', 'engine_type': 'Gasolene'}\n"
     ]
    }
   ],
   "source": [
    "print(ford_obj.__dict__)"
   ]
  },
  {
   "cell_type": "code",
   "execution_count": 13,
   "id": "624c48c5",
   "metadata": {},
   "outputs": [],
   "source": [
    "obj_toyata.color = \"Red\"\n",
    "obj_toyata.brand = \"Toyata\"\n",
    "obj_toyata.model = \"Prius\"\n",
    "obj_toyata.engine_type = \"EV\""
   ]
  },
  {
   "cell_type": "code",
   "execution_count": 14,
   "id": "bb031b43",
   "metadata": {},
   "outputs": [
    {
     "name": "stdout",
     "output_type": "stream",
     "text": [
      "<__main__.Car object at 0x0000014FF01B4310>\n"
     ]
    }
   ],
   "source": [
    "print(obj_toyata)"
   ]
  },
  {
   "cell_type": "code",
   "execution_count": 15,
   "id": "91ef05af",
   "metadata": {},
   "outputs": [
    {
     "name": "stdout",
     "output_type": "stream",
     "text": [
      "{'color': 'Red', 'brand': 'Toyata', 'model': 'Prius', 'engine_type': 'EV'}\n"
     ]
    }
   ],
   "source": [
    "print(obj_toyata.__dict__)"
   ]
  },
  {
   "cell_type": "code",
   "execution_count": 16,
   "id": "164a8ee5",
   "metadata": {},
   "outputs": [],
   "source": [
    "obj_toyata.price = 965"
   ]
  },
  {
   "cell_type": "code",
   "execution_count": 17,
   "id": "8e853c11",
   "metadata": {},
   "outputs": [
    {
     "data": {
      "text/plain": [
       "{'color': 'Red',\n",
       " 'brand': 'Toyata',\n",
       " 'model': 'Prius',\n",
       " 'engine_type': 'EV',\n",
       " 'price': 965}"
      ]
     },
     "execution_count": 17,
     "metadata": {},
     "output_type": "execute_result"
    }
   ],
   "source": [
    "obj_toyata.__dict__"
   ]
  },
  {
   "cell_type": "code",
   "execution_count": 18,
   "id": "07261d79",
   "metadata": {},
   "outputs": [
    {
     "name": "stdout",
     "output_type": "stream",
     "text": [
      "{'color': 'Green', 'brand': 'Ford', 'model': 'Mustang', 'engine_type': 'Gasolene'}\n"
     ]
    }
   ],
   "source": [
    "print(ford_obj.__dict__)"
   ]
  },
  {
   "cell_type": "code",
   "execution_count": 23,
   "id": "de98e0a9",
   "metadata": {},
   "outputs": [],
   "source": [
    "class Car:\n",
    "    def __init__(self, fuel):\n",
    "        self.fuel = fuel\n",
    "        self.speed = 0\n",
    "    def accelerate(self):\n",
    "        self.speed+=2    #speed is increased by 2 units\n",
    "        self.fuel-=1"
   ]
  },
  {
   "cell_type": "code",
   "execution_count": 24,
   "id": "f1ee1e37",
   "metadata": {},
   "outputs": [],
   "source": [
    "car1 = Car(5)"
   ]
  },
  {
   "cell_type": "code",
   "execution_count": 25,
   "id": "6f70db58",
   "metadata": {},
   "outputs": [
    {
     "data": {
      "text/plain": [
       "5"
      ]
     },
     "execution_count": 25,
     "metadata": {},
     "output_type": "execute_result"
    }
   ],
   "source": [
    "car1.fuel"
   ]
  },
  {
   "cell_type": "code",
   "execution_count": 26,
   "id": "a2c5166b",
   "metadata": {},
   "outputs": [],
   "source": [
    "car1.accelerate()"
   ]
  },
  {
   "cell_type": "code",
   "execution_count": 27,
   "id": "6b5d3494",
   "metadata": {},
   "outputs": [
    {
     "name": "stdout",
     "output_type": "stream",
     "text": [
      "4\n"
     ]
    }
   ],
   "source": [
    "print(car1.fuel)"
   ]
  },
  {
   "cell_type": "code",
   "execution_count": 28,
   "id": "8f0a8fce",
   "metadata": {},
   "outputs": [
    {
     "name": "stdout",
     "output_type": "stream",
     "text": [
      "2\n"
     ]
    }
   ],
   "source": [
    "print(car1.speed)"
   ]
  },
  {
   "cell_type": "code",
   "execution_count": 29,
   "id": "395c4daf",
   "metadata": {},
   "outputs": [],
   "source": [
    "car1.accelerate()"
   ]
  },
  {
   "cell_type": "code",
   "execution_count": 30,
   "id": "f36c4acb",
   "metadata": {},
   "outputs": [
    {
     "name": "stdout",
     "output_type": "stream",
     "text": [
      "3\n"
     ]
    }
   ],
   "source": [
    "print(car1.fuel)"
   ]
  },
  {
   "cell_type": "code",
   "execution_count": 31,
   "id": "f49f9dee",
   "metadata": {},
   "outputs": [
    {
     "name": "stdout",
     "output_type": "stream",
     "text": [
      "4\n"
     ]
    }
   ],
   "source": [
    "print(car1.speed)"
   ]
  },
  {
   "cell_type": "code",
   "execution_count": 32,
   "id": "df146ba3",
   "metadata": {},
   "outputs": [],
   "source": [
    "car1.accelerate()"
   ]
  },
  {
   "cell_type": "code",
   "execution_count": 33,
   "id": "06f71dae",
   "metadata": {},
   "outputs": [
    {
     "name": "stdout",
     "output_type": "stream",
     "text": [
      "2\n"
     ]
    }
   ],
   "source": [
    "print(car1.fuel)"
   ]
  },
  {
   "cell_type": "code",
   "execution_count": 34,
   "id": "b56da177",
   "metadata": {},
   "outputs": [
    {
     "name": "stdout",
     "output_type": "stream",
     "text": [
      "6\n"
     ]
    }
   ],
   "source": [
    "print(car1.speed)"
   ]
  },
  {
   "cell_type": "code",
   "execution_count": 35,
   "id": "874d4c58",
   "metadata": {},
   "outputs": [
    {
     "name": "stdout",
     "output_type": "stream",
     "text": [
      "1\n"
     ]
    }
   ],
   "source": [
    "class Car:\n",
    "    def __init__(self, fuel, speed=0):\n",
    "        self.fuel = fuel\n",
    "        self.speed = speed\n",
    "    def accelerate(self):\n",
    "        self.speed+=2    #speed is increased by 2 units\n",
    "        self.fuel-=1\n",
    "car2 = Car(5,1)\n",
    "print(car2.speed)"
   ]
  },
  {
   "cell_type": "code",
   "execution_count": null,
   "id": "b494140b",
   "metadata": {},
   "outputs": [],
   "source": [
    "H/W\n",
    "FAN, AC, Water-heaters, mobile, facebook etc.."
   ]
  },
  {
   "cell_type": "code",
   "execution_count": null,
   "id": "f117fcac",
   "metadata": {},
   "outputs": [],
   "source": [
    "FAN-> attributes--> initial_speed, color, brand, capacitor etc\n",
    "      Procedures --> regulator, power, etc\n",
    "facebook --> attributes--> name, phn, location, work...\n",
    "             procedures --> update_name(), update_phn(), update_location()"
   ]
  }
 ],
 "metadata": {
  "kernelspec": {
   "display_name": "Python 3 (ipykernel)",
   "language": "python",
   "name": "python3"
  },
  "language_info": {
   "codemirror_mode": {
    "name": "ipython",
    "version": 3
   },
   "file_extension": ".py",
   "mimetype": "text/x-python",
   "name": "python",
   "nbconvert_exporter": "python",
   "pygments_lexer": "ipython3",
   "version": "3.9.7"
  }
 },
 "nbformat": 4,
 "nbformat_minor": 5
}
