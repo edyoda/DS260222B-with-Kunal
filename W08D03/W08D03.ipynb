{
 "cells": [
  {
   "cell_type": "code",
   "execution_count": null,
   "id": "0d7ade79",
   "metadata": {},
   "outputs": [],
   "source": [
    "#  0 1 2 3\n",
    "#A B B E E\n",
    "#B E E E E\n",
    "#C E E E E\n",
    "#D E E E E\n",
    "\n",
    "user = {\n",
    "    phn : name, phn2 : name2\n",
    "}\n",
    "\n",
    "user = {\n",
    "    phn : {\n",
    "            name: \"\",\n",
    "            phn: 00\n",
    "            no_of_seat_booked: 2\n",
    "            booking_list = [\"A1\",\"C2\"]\n",
    "    }\n",
    "}\n",
    "\n",
    "phn_nu : phn--> password --> user[phn][password][booking_list]\n",
    "\n",
    "\n",
    "#E-> empty seats\n",
    "#BS -> Booked Seats\n",
    "\n",
    "# App:\n",
    "#    register\n",
    "#    login\n",
    "#    check_availability\n",
    "#    Book the Ticket"
   ]
  },
  {
   "cell_type": "code",
   "execution_count": 52,
   "id": "9a20242a",
   "metadata": {},
   "outputs": [],
   "source": [
    "import json\n",
    "class BookTheShow:\n",
    "    seats = [[\"E\",\"E\",\"E\",\"E\"],[\"E\",\"E\",\"E\",\"E\"],[\"E\",\"E\",\"E\",\"E\"],[\"E\",\"E\",\"E\",\"E\"]]\n",
    "    user = {}\n",
    "    def __init__(self):\n",
    "        self.name = \"\"\n",
    "        self.phn = \"\"\n",
    "        self.no_of_seat_booked = 0\n",
    "        self.booking_list = []\n",
    "    def booking(self):\n",
    "        for i,row in enumerate(BookTheShow.seats):\n",
    "            if \"E\" in row:\n",
    "                self.booking_list.append(f\"{BookTheShow.conv(i)}{row.index('E')}\")\n",
    "                BookTheShow.seats[i][row.index(\"E\")] = \"BS\"\n",
    "                self.no_of_seat_booked+=1\n",
    "                return row,BookTheShow.conv(i)\n",
    "        else:\n",
    "            return None\n",
    "    @staticmethod\n",
    "    def conv(num):\n",
    "        d = {i-ord(\"A\"): chr(i) for i in range(ord(\"A\"),ord(\"D\")+1)}\n",
    "        return d[num]\n",
    "    \n",
    "    def register(self, name, phn):\n",
    "        if phn in BookTheShow.user.keys():\n",
    "            return False\n",
    "        self.name = name\n",
    "        self.phn = phn\n",
    "        BookTheShow.user[phn] = {\"name\":name, \"phn\": phn, \"no_of_seat_booked\": 0, \"booking_list\": []}\n",
    "        return {\"message\": \"success\"}\n",
    "    "
   ]
  },
  {
   "cell_type": "code",
   "execution_count": 2,
   "id": "51f97cec",
   "metadata": {},
   "outputs": [],
   "source": [
    "b1 = BookTheShow()"
   ]
  },
  {
   "cell_type": "code",
   "execution_count": 3,
   "id": "2490fe9e",
   "metadata": {},
   "outputs": [
    {
     "data": {
      "text/plain": [
       "{'message': 'success'}"
      ]
     },
     "execution_count": 3,
     "metadata": {},
     "output_type": "execute_result"
    }
   ],
   "source": [
    "b1.register(\"Vaibhav\", 9856412378)"
   ]
  },
  {
   "cell_type": "code",
   "execution_count": 5,
   "id": "7bfed25d",
   "metadata": {},
   "outputs": [
    {
     "data": {
      "text/plain": [
       "{9856412378: {'name': 'Vaibhav',\n",
       "  'phn': 9856412378,\n",
       "  'no_of_seat_booked': 0,\n",
       "  'booking_list': []}}"
      ]
     },
     "execution_count": 5,
     "metadata": {},
     "output_type": "execute_result"
    }
   ],
   "source": [
    "b1.user"
   ]
  },
  {
   "cell_type": "code",
   "execution_count": 6,
   "id": "a90a5a4e",
   "metadata": {},
   "outputs": [
    {
     "data": {
      "text/plain": [
       "{'message': 'success'}"
      ]
     },
     "execution_count": 6,
     "metadata": {},
     "output_type": "execute_result"
    }
   ],
   "source": [
    "b1.register(\"Charulinga\",78445998662)"
   ]
  },
  {
   "cell_type": "code",
   "execution_count": 7,
   "id": "b352f01f",
   "metadata": {},
   "outputs": [
    {
     "data": {
      "text/plain": [
       "{9856412378: {'name': 'Vaibhav',\n",
       "  'phn': 9856412378,\n",
       "  'no_of_seat_booked': 0,\n",
       "  'booking_list': []},\n",
       " 78445998662: {'name': 'Charulinga',\n",
       "  'phn': 78445998662,\n",
       "  'no_of_seat_booked': 0,\n",
       "  'booking_list': []}}"
      ]
     },
     "execution_count": 7,
     "metadata": {},
     "output_type": "execute_result"
    }
   ],
   "source": [
    "b1.user"
   ]
  },
  {
   "cell_type": "code",
   "execution_count": 51,
   "id": "468cfbaa",
   "metadata": {
    "scrolled": true
   },
   "outputs": [
    {
     "name": "stdout",
     "output_type": "stream",
     "text": [
      "Do you want to watch movie?Y/nY\n",
      "Select one of the following option\n",
      "1) Register\n",
      "2) Login\n",
      "3) Exit\n",
      "Enter here: 1\n",
      "opt1\n",
      "Enter nameArmaan\n",
      "phn number:554635\n",
      "False\n",
      "User is already available!!\n",
      "Select one of the following option\n",
      "1) Register\n",
      "2) Login\n",
      "3) Exit\n",
      "Enter here: 3\n",
      "Pls consider Us in your Free time!!\n"
     ]
    }
   ],
   "source": [
    "def register_user(file_name, name, phn):\n",
    "    b1 = BookTheShow()\n",
    "    try:\n",
    "        file = open(file_name,\"r+\")\n",
    "        content = json.load(file)   #when smthng is there\n",
    "    except FileNotFoundError:\n",
    "        file = open(file_name,\"w+\")\n",
    "        content = {}\n",
    "    except JSONDecodeError:\n",
    "        content = {}  \n",
    "        \n",
    "    result = b1.register(name, phn)\n",
    "    print(result)        \n",
    "    if result:\n",
    "        content[phn] = b1.__dict__\n",
    "        file.seek(0)\n",
    "        file.truncate()\n",
    "        json.dump(content, file, indent=4)\n",
    "        file.close()\n",
    "        return \"success\"\n",
    "    file.close()\n",
    "    return \"User is already available!!\"\n",
    "\n",
    "def booking_for_movie(file_name, phn):\n",
    "    file = open(file_name, \"r+\")\n",
    "    content = json.load(file)\n",
    "    b1 = BookTheShow()\n",
    "    for i,row in enumerate(b1.seats):\n",
    "        if \"E\" in row:\n",
    "            content[phn][\"booking_list\"].append(f\"{BookTheShow.conv(i)}{row.index('E')}\")\n",
    "            BookTheShow.seats[i][row.index(\"E\")] = \"BS\"\n",
    "            content[phn][\"no_of_seat_booked\"]+=1\n",
    "            print(content[phn][\"no_of_seat_booked\"])\n",
    "            file.seek(0)\n",
    "            file.truncate()\n",
    "            json.dump(content, file, indent=4)\n",
    "            file.close()\n",
    "            return row,BookTheShow.conv(i)  \n",
    "        \n",
    "def check_ticket_history(file_name, phn):\n",
    "    with open(file_name, \"r+\") as file:\n",
    "        content = json.load(file)\n",
    "        print()\n",
    "        if content[phn][\"booking_list\"]:\n",
    "            for i in content[phn][\"booking_list\"]:\n",
    "                print(i)\n",
    "        else:\n",
    "            print(\"Pls Book the tickets quickly\")\n",
    "            \n",
    "book = input(\"Do you want to watch movie?Y/n\")\n",
    "\n",
    "while book.lower() == \"y\":\n",
    "    print(\"Select one of the following option\")\n",
    "    print(\"1) Register\")\n",
    "    print(\"2) Login\")\n",
    "    print(\"3) Exit\")\n",
    "    option = input(\"Enter here: \")\n",
    "    if option == \"1\":\n",
    "        print(\"opt1\")\n",
    "        print(register_user(\"booktheshow.json\", input(\"Enter name\"), input(\"phn number:\")))\n",
    "        #do smthng\n",
    "    elif option == \"2\":\n",
    "        #do smthng\n",
    "        file = open(\"booktheshow.json\", \"r+\")\n",
    "        content = json.load(file)\n",
    "        phn  = input(\"phn number\")\n",
    "        if phn in content:\n",
    "            login = input(\"Want to stay login!\")\n",
    "            while login.lower() == \"y\":\n",
    "                print(\"Select the options below:\")\n",
    "                print(\"1) Book the ticket\")\n",
    "                print(\"2) Booking History\")\n",
    "                print(\"3) Exit!!\")\n",
    "                option = input(\"Enter your option\")\n",
    "                if option == \"1\":\n",
    "                    booking_for_movie(\"booktheshow.json\",phn)\n",
    "                    print(\"book ticket\")\n",
    "                elif option == \"2\":\n",
    "                    print(\"Ticket History\")\n",
    "                    check_ticket_history(\"booktheshow.json\", phn)\n",
    "                else:\n",
    "                    break\n",
    "                    print(\"Logging off\")\n",
    "        else:\n",
    "            print(\"Pls Register!\")\n",
    "            \n",
    "    elif option == \"3\":\n",
    "        print(\"Pls consider Us in your Free time!!\")\n",
    "        break\n",
    "    else:\n",
    "        print(\"Hey Select correct option!!\")"
   ]
  },
  {
   "cell_type": "code",
   "execution_count": 10,
   "id": "7e239fea",
   "metadata": {},
   "outputs": [
    {
     "data": {
      "text/plain": [
       "'y'"
      ]
     },
     "execution_count": 10,
     "metadata": {},
     "output_type": "execute_result"
    }
   ],
   "source": [
    "\"Y\".lower()"
   ]
  },
  {
   "cell_type": "code",
   "execution_count": 16,
   "id": "4980674b",
   "metadata": {},
   "outputs": [
    {
     "ename": "FileNotFoundError",
     "evalue": "[Errno 2] No such file or directory: 'file.js'",
     "output_type": "error",
     "traceback": [
      "\u001b[1;31m---------------------------------------------------------------------------\u001b[0m",
      "\u001b[1;31mFileNotFoundError\u001b[0m                         Traceback (most recent call last)",
      "Input \u001b[1;32mIn [16]\u001b[0m, in \u001b[0;36m<module>\u001b[1;34m\u001b[0m\n\u001b[1;32m----> 1\u001b[0m \u001b[38;5;28;43mopen\u001b[39;49m\u001b[43m(\u001b[49m\u001b[38;5;124;43m\"\u001b[39;49m\u001b[38;5;124;43mfile.js\u001b[39;49m\u001b[38;5;124;43m\"\u001b[39;49m\u001b[43m)\u001b[49m\n",
      "\u001b[1;31mFileNotFoundError\u001b[0m: [Errno 2] No such file or directory: 'file.js'"
     ]
    }
   ],
   "source": [
    "open(\"file.js\")"
   ]
  },
  {
   "cell_type": "code",
   "execution_count": null,
   "id": "a1fc41f2",
   "metadata": {},
   "outputs": [],
   "source": [
    "credentials.json-->[{name:name, password:password, id_of_user:namepass},{name:name, password:password, id_of_user:namepass}]\n",
    "food_order.json --> [{order_id:order_id,food:food},{order_id:order_id,food:food},{order_id:order_id,food:food}]"
   ]
  }
 ],
 "metadata": {
  "kernelspec": {
   "display_name": "Python 3 (ipykernel)",
   "language": "python",
   "name": "python3"
  },
  "language_info": {
   "codemirror_mode": {
    "name": "ipython",
    "version": 3
   },
   "file_extension": ".py",
   "mimetype": "text/x-python",
   "name": "python",
   "nbconvert_exporter": "python",
   "pygments_lexer": "ipython3",
   "version": "3.10.2"
  }
 },
 "nbformat": 4,
 "nbformat_minor": 5
}
