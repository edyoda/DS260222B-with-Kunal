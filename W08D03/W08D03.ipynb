{
 "cells": [
  {
   "cell_type": "code",
   "execution_count": null,
   "id": "67f98ef5",
   "metadata": {},
   "outputs": [],
   "source": [
    "#  0 1 2 3\n",
    "#A B B E E\n",
    "#B E E E E\n",
    "#C E E E E\n",
    "#D E E E E\n",
    "\n",
    "user = {\n",
    "    phn : name, phn2 : name2\n",
    "}\n",
    "\n",
    "user = {\n",
    "    phn : {\n",
    "            name: \"\",\n",
    "            phn: 00\n",
    "            no_of_seat_booked: 2\n",
    "            booking_list = [\"A1\",\"C2\"]\n",
    "    }\n",
    "}\n",
    "\n",
    "phn_nu : phn--> password --> user[phn][password][booking_list]\n",
    "\n",
    "\n",
    "#E-> empty seats\n",
    "#BS -> Booked Seats\n",
    "\n",
    "# App:\n",
    "#    register\n",
    "#    login\n",
    "#    check_availability\n",
    "#    Book the Ticket"
   ]
  },
  {
   "cell_type": "code",
   "execution_count": 46,
   "id": "4783d7dc",
   "metadata": {},
   "outputs": [],
   "source": [
    "import json\n",
    "class BookTheShow:\n",
    "    seats = [[\"E\",\"E\",\"E\",\"E\"],[\"E\",\"E\",\"E\",\"E\"],[\"E\",\"E\",\"E\",\"E\"],[\"E\",\"E\",\"E\",\"E\"]]\n",
    "    def __init__(self):\n",
    "        self.name = \"\"\n",
    "        self.phn = \"\"\n",
    "        self.no_of_seat_booked = 0\n",
    "        self.booking_list = []\n",
    "    def booking(self):\n",
    "        for i,row in enumerate(BookTheShow.seats):\n",
    "            if \"E\" in row:\n",
    "                self.booking_list.append(f\"{BookTheShow.conv(i)}{row.index('E')}\")\n",
    "                BookTheShow.seats[i][row.index(\"E\")] = \"BS\"\n",
    "                self.no_of_seat_booked+=1\n",
    "                return row,BookTheShow.conv(i)\n",
    "        else:\n",
    "            return None\n",
    "    @staticmethod\n",
    "    def conv(num):\n",
    "        d = {i-ord(\"A\"): chr(i) for i in range(ord(\"A\"),ord(\"D\")+1)}\n",
    "        return d[num]\n",
    "    \n",
    "    def register(self, name, phn):\n",
    "        if phn in BookTheShow.user.keys():\n",
    "            return False\n",
    "        self.name = name\n",
    "        self.phn = phn\n",
    "        BookTheShow.user[phn] = {\"name\":name, \"phn\": phn, \"no_of_seat_booked\": 0, \"booking_list\": []}\n",
    "        return {\"message\": \"success\"}\n",
    "    "
   ]
  },
  {
   "cell_type": "code",
   "execution_count": 2,
   "id": "71a491e4",
   "metadata": {},
   "outputs": [],
   "source": [
    "b1 = BookTheShow()"
   ]
  },
  {
   "cell_type": "code",
   "execution_count": 3,
   "id": "b59312bf",
   "metadata": {},
   "outputs": [
    {
     "data": {
      "text/plain": [
       "{'message': 'success'}"
      ]
     },
     "execution_count": 3,
     "metadata": {},
     "output_type": "execute_result"
    }
   ],
   "source": [
    "b1.register(\"Vaibhav\", 9856412378)"
   ]
  },
  {
   "cell_type": "code",
   "execution_count": 5,
   "id": "758e9249",
   "metadata": {},
   "outputs": [
    {
     "data": {
      "text/plain": [
       "{9856412378: {'name': 'Vaibhav',\n",
       "  'phn': 9856412378,\n",
       "  'no_of_seat_booked': 0,\n",
       "  'booking_list': []}}"
      ]
     },
     "execution_count": 5,
     "metadata": {},
     "output_type": "execute_result"
    }
   ],
   "source": [
    "b1.user"
   ]
  },
  {
   "cell_type": "code",
   "execution_count": 6,
   "id": "1b01fb09",
   "metadata": {},
   "outputs": [
    {
     "data": {
      "text/plain": [
       "{'message': 'success'}"
      ]
     },
     "execution_count": 6,
     "metadata": {},
     "output_type": "execute_result"
    }
   ],
   "source": [
    "b1.register(\"Charulinga\",78445998662)"
   ]
  },
  {
   "cell_type": "code",
   "execution_count": 7,
   "id": "6a9dd407",
   "metadata": {},
   "outputs": [
    {
     "data": {
      "text/plain": [
       "{9856412378: {'name': 'Vaibhav',\n",
       "  'phn': 9856412378,\n",
       "  'no_of_seat_booked': 0,\n",
       "  'booking_list': []},\n",
       " 78445998662: {'name': 'Charulinga',\n",
       "  'phn': 78445998662,\n",
       "  'no_of_seat_booked': 0,\n",
       "  'booking_list': []}}"
      ]
     },
     "execution_count": 7,
     "metadata": {},
     "output_type": "execute_result"
    }
   ],
   "source": [
    "b1.user"
   ]
  },
  {
   "cell_type": "code",
   "execution_count": 47,
   "id": "ecb7f9ff",
   "metadata": {
    "scrolled": true
   },
   "outputs": [
    {
     "name": "stdout",
     "output_type": "stream",
     "text": [
      "Do you want to watch movie?Y/nY\n",
      "Select one of the following option\n",
      "1) Register\n",
      "2) Login\n",
      "3) Exit\n",
      "Enter here: 1\n",
      "opt1\n",
      "Enter nameArmaan\n",
      "phn number:541521\n"
     ]
    },
    {
     "ename": "AttributeError",
     "evalue": "type object 'BookTheShow' has no attribute 'user'",
     "output_type": "error",
     "traceback": [
      "\u001b[1;31m---------------------------------------------------------------------------\u001b[0m",
      "\u001b[1;31mAttributeError\u001b[0m                            Traceback (most recent call last)",
      "Input \u001b[1;32mIn [47]\u001b[0m, in \u001b[0;36m<module>\u001b[1;34m\u001b[0m\n\u001b[0;32m     58\u001b[0m \u001b[38;5;28;01mif\u001b[39;00m option \u001b[38;5;241m==\u001b[39m \u001b[38;5;124m\"\u001b[39m\u001b[38;5;124m1\u001b[39m\u001b[38;5;124m\"\u001b[39m:\n\u001b[0;32m     59\u001b[0m     \u001b[38;5;28mprint\u001b[39m(\u001b[38;5;124m\"\u001b[39m\u001b[38;5;124mopt1\u001b[39m\u001b[38;5;124m\"\u001b[39m)\n\u001b[1;32m---> 60\u001b[0m     \u001b[38;5;28mprint\u001b[39m(\u001b[43mregister_user\u001b[49m\u001b[43m(\u001b[49m\u001b[38;5;124;43m\"\u001b[39;49m\u001b[38;5;124;43mbooktheshow.json\u001b[39;49m\u001b[38;5;124;43m\"\u001b[39;49m\u001b[43m,\u001b[49m\u001b[43m \u001b[49m\u001b[38;5;28;43minput\u001b[39;49m\u001b[43m(\u001b[49m\u001b[38;5;124;43m\"\u001b[39;49m\u001b[38;5;124;43mEnter name\u001b[39;49m\u001b[38;5;124;43m\"\u001b[39;49m\u001b[43m)\u001b[49m\u001b[43m,\u001b[49m\u001b[43m \u001b[49m\u001b[38;5;28;43minput\u001b[39;49m\u001b[43m(\u001b[49m\u001b[38;5;124;43m\"\u001b[39;49m\u001b[38;5;124;43mphn number:\u001b[39;49m\u001b[38;5;124;43m\"\u001b[39;49m\u001b[43m)\u001b[49m\u001b[43m)\u001b[49m)\n\u001b[0;32m     61\u001b[0m     \u001b[38;5;66;03m#do smthng\u001b[39;00m\n\u001b[0;32m     62\u001b[0m \u001b[38;5;28;01melif\u001b[39;00m option \u001b[38;5;241m==\u001b[39m \u001b[38;5;124m\"\u001b[39m\u001b[38;5;124m2\u001b[39m\u001b[38;5;124m\"\u001b[39m:\n\u001b[0;32m     63\u001b[0m     \u001b[38;5;66;03m#do smthng\u001b[39;00m\n",
      "Input \u001b[1;32mIn [47]\u001b[0m, in \u001b[0;36mregister_user\u001b[1;34m(file_name, name, phn)\u001b[0m\n\u001b[0;32m      9\u001b[0m \u001b[38;5;28;01mexcept\u001b[39;00m JSONDecodeError:\n\u001b[0;32m     10\u001b[0m     content \u001b[38;5;241m=\u001b[39m {}  \n\u001b[1;32m---> 12\u001b[0m result \u001b[38;5;241m=\u001b[39m \u001b[43mb1\u001b[49m\u001b[38;5;241;43m.\u001b[39;49m\u001b[43mregister\u001b[49m\u001b[43m(\u001b[49m\u001b[43mname\u001b[49m\u001b[43m,\u001b[49m\u001b[43m \u001b[49m\u001b[43mphn\u001b[49m\u001b[43m)\u001b[49m\n\u001b[0;32m     13\u001b[0m \u001b[38;5;28mprint\u001b[39m(result)        \n\u001b[0;32m     14\u001b[0m \u001b[38;5;28;01mif\u001b[39;00m result:\n",
      "Input \u001b[1;32mIn [46]\u001b[0m, in \u001b[0;36mBookTheShow.register\u001b[1;34m(self, name, phn)\u001b[0m\n\u001b[0;32m     23\u001b[0m \u001b[38;5;28;01mdef\u001b[39;00m \u001b[38;5;21mregister\u001b[39m(\u001b[38;5;28mself\u001b[39m, name, phn):\n\u001b[1;32m---> 24\u001b[0m     \u001b[38;5;28;01mif\u001b[39;00m phn \u001b[38;5;129;01min\u001b[39;00m \u001b[43mBookTheShow\u001b[49m\u001b[38;5;241;43m.\u001b[39;49m\u001b[43muser\u001b[49m\u001b[38;5;241m.\u001b[39mkeys():\n\u001b[0;32m     25\u001b[0m         \u001b[38;5;28;01mreturn\u001b[39;00m \u001b[38;5;28;01mFalse\u001b[39;00m\n\u001b[0;32m     26\u001b[0m     \u001b[38;5;28mself\u001b[39m\u001b[38;5;241m.\u001b[39mname \u001b[38;5;241m=\u001b[39m name\n",
      "\u001b[1;31mAttributeError\u001b[0m: type object 'BookTheShow' has no attribute 'user'"
     ]
    }
   ],
   "source": [
    "def register_user(file_name, name, phn):\n",
    "    b1 = BookTheShow()\n",
    "    try:\n",
    "        file = open(file_name,\"r+\")\n",
    "        content = json.load(file)   #when smthng is there\n",
    "    except FileNotFoundError:\n",
    "        file = open(file_name,\"w+\")\n",
    "        content = {}\n",
    "    except JSONDecodeError:\n",
    "        content = {}  \n",
    "        \n",
    "    result = b1.register(name, phn)\n",
    "    print(result)        \n",
    "    if result:\n",
    "        result[phn] = b1.__dict__\n",
    "        file.seek(0)\n",
    "        file.truncate()\n",
    "        json.dump(b1.user, file, indent=4)\n",
    "        file.close()\n",
    "        return \"success\"\n",
    "    file.close()\n",
    "    return \"User is already available!!\"\n",
    "\n",
    "def booking_for_movie(file_name, phn):\n",
    "    file = open(file_name, \"r+\")\n",
    "    content = json.load(file)\n",
    "    b1 = BookTheShow()\n",
    "    for i,row in enumerate(b1.seats):\n",
    "        if \"E\" in row:\n",
    "            content[phn][\"booking_list\"].append(f\"{BookTheShow.conv(i)}{row.index('E')}\")\n",
    "            BookTheShow.seats[i][row.index(\"E\")] = \"BS\"\n",
    "            content[phn][\"no_of_seat_booked\"]+=1\n",
    "            print(content[phn][\"no_of_seat_booked\"])\n",
    "            file.seek(0)\n",
    "            file.truncate()\n",
    "            json.dump(content, file, indent=4)\n",
    "            file.close()\n",
    "            return row,BookTheShow.conv(i)  \n",
    "        \n",
    "def check_ticket_history(file_name, phn):\n",
    "    with open(file_name, \"r+\") as file:\n",
    "        content = json.load(file)\n",
    "        print()\n",
    "        if content[phn][\"booking_list\"]:\n",
    "            for i in content[phn][\"booking_list\"]:\n",
    "                print(i)\n",
    "        else:\n",
    "            print(\"Pls Book the tickets quickly\")\n",
    "            \n",
    "book = input(\"Do you want to watch movie?Y/n\")\n",
    "\n",
    "while book.lower() == \"y\":\n",
    "    print(\"Select one of the following option\")\n",
    "    print(\"1) Register\")\n",
    "    print(\"2) Login\")\n",
    "    print(\"3) Exit\")\n",
    "    option = input(\"Enter here: \")\n",
    "    if option == \"1\":\n",
    "        print(\"opt1\")\n",
    "        print(register_user(\"booktheshow.json\", input(\"Enter name\"), input(\"phn number:\")))\n",
    "        #do smthng\n",
    "    elif option == \"2\":\n",
    "        #do smthng\n",
    "        file = open(\"booktheshow.json\", \"r+\")\n",
    "        content = json.load(file)\n",
    "        phn  = input(\"phn number\")\n",
    "        if phn in content:\n",
    "            login = input(\"Want to stay login!\")\n",
    "            while login.lower() == \"y\":\n",
    "                print(\"Select the options below:\")\n",
    "                print(\"1) Book the ticket\")\n",
    "                print(\"2) Booking History\")\n",
    "                print(\"3) Exit!!\")\n",
    "                option = input(\"Enter your option\")\n",
    "                if option == \"1\":\n",
    "                    booking_for_movie(\"booktheshow.json\",phn)\n",
    "                    print(\"book ticket\")\n",
    "                elif option == \"2\":\n",
    "                    print(\"Ticket History\")\n",
    "                    check_ticket_history(\"booktheshow.json\", phn)\n",
    "                else:\n",
    "                    break\n",
    "                    print(\"Logging off\")\n",
    "        else:\n",
    "            print(\"Pls Register!\")\n",
    "            \n",
    "    elif option == \"3\":\n",
    "        print(\"Pls consider Us in your Free time!!\")\n",
    "        break\n",
    "    else:\n",
    "        print(\"Hey Select correct option!!\")"
   ]
  },
  {
   "cell_type": "code",
   "execution_count": 10,
   "id": "97f2034b",
   "metadata": {},
   "outputs": [
    {
     "data": {
      "text/plain": [
       "'y'"
      ]
     },
     "execution_count": 10,
     "metadata": {},
     "output_type": "execute_result"
    }
   ],
   "source": [
    "\"Y\".lower()"
   ]
  },
  {
   "cell_type": "code",
   "execution_count": 16,
   "id": "ca09461a",
   "metadata": {},
   "outputs": [
    {
     "ename": "FileNotFoundError",
     "evalue": "[Errno 2] No such file or directory: 'file.js'",
     "output_type": "error",
     "traceback": [
      "\u001b[1;31m---------------------------------------------------------------------------\u001b[0m",
      "\u001b[1;31mFileNotFoundError\u001b[0m                         Traceback (most recent call last)",
      "Input \u001b[1;32mIn [16]\u001b[0m, in \u001b[0;36m<module>\u001b[1;34m\u001b[0m\n\u001b[1;32m----> 1\u001b[0m \u001b[38;5;28;43mopen\u001b[39;49m\u001b[43m(\u001b[49m\u001b[38;5;124;43m\"\u001b[39;49m\u001b[38;5;124;43mfile.js\u001b[39;49m\u001b[38;5;124;43m\"\u001b[39;49m\u001b[43m)\u001b[49m\n",
      "\u001b[1;31mFileNotFoundError\u001b[0m: [Errno 2] No such file or directory: 'file.js'"
     ]
    }
   ],
   "source": [
    "open(\"file.js\")"
   ]
  },
  {
   "cell_type": "code",
   "execution_count": null,
   "id": "96fa6110",
   "metadata": {},
   "outputs": [],
   "source": [
    "credentials.json-->[{name:name, password:password, id_of_user:namepass},{name:name, password:password, id_of_user:namepass}]\n",
    "food_order.json --> [{order_id:order_id,food:food},{order_id:order_id,food:food},{order_id:order_id,food:food}]"
   ]
  }
 ],
 "metadata": {
  "kernelspec": {
   "display_name": "Python 3 (ipykernel)",
   "language": "python",
   "name": "python3"
  },
  "language_info": {
   "codemirror_mode": {
    "name": "ipython",
    "version": 3
   },
   "file_extension": ".py",
   "mimetype": "text/x-python",
   "name": "python",
   "nbconvert_exporter": "python",
   "pygments_lexer": "ipython3",
   "version": "3.10.2"
  }
 },
 "nbformat": 4,
 "nbformat_minor": 5
}
