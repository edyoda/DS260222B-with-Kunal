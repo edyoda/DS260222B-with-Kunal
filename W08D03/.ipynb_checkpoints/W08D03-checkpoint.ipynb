{
 "cells": [
  {
   "cell_type": "code",
   "execution_count": null,
   "id": "07647368",
   "metadata": {},
   "outputs": [],
   "source": [
    "#  0 1 2 3\n",
    "#A B B E E\n",
    "#B E E E E\n",
    "#C E E E E\n",
    "#D E E E E\n",
    "\n",
    "user = {\n",
    "    phn : name, phn2 : name2\n",
    "}\n",
    "\n",
    "user = {\n",
    "    phn : {\n",
    "            name: \"\",\n",
    "            phn: 00\n",
    "            no_of_seat_booked: 2\n",
    "            booking_list = [\"A1\",\"C2\"]\n",
    "    }\n",
    "}\n",
    "\n",
    "phn_nu : phn--> password --> user[phn][password][booking_list]\n",
    "\n",
    "\n",
    "#E-> empty seats\n",
    "#BS -> Booked Seats\n",
    "\n",
    "# App:\n",
    "#    register\n",
    "#    login\n",
    "#    check_availability\n",
    "#    Book the Ticket"
   ]
  },
  {
   "cell_type": "code",
   "execution_count": 39,
   "id": "6e4d6cb6",
   "metadata": {},
   "outputs": [],
   "source": [
    "import json\n",
    "class BookTheShow:\n",
    "    seats = [[\"E\",\"E\",\"E\",\"E\"],[\"E\",\"E\",\"E\",\"E\"],[\"E\",\"E\",\"E\",\"E\"],[\"E\",\"E\",\"E\",\"E\"]]\n",
    "    def __init__(self):\n",
    "        self.name = \"\"\n",
    "        self.phn = \"\"\n",
    "        self.no_of_seat_booked = 0\n",
    "        self.booking_list = []\n",
    "    def booking(self):\n",
    "        for i,row in enumerate(BookTheShow.seats):\n",
    "            if \"E\" in row:\n",
    "                self.booking_list.append(f\"{BookTheShow.conv(i)}{row.index('E')}\")\n",
    "                BookTheShow.seats[i][row.index(\"E\")] = \"BS\"\n",
    "                self.no_of_seat_booked+=1\n",
    "                return row,BookTheShow.conv(i)\n",
    "        else:\n",
    "            return None\n",
    "    @staticmethod\n",
    "    def conv(num):\n",
    "        d = {i-ord(\"A\"): chr(i) for i in range(ord(\"A\"),ord(\"D\")+1)}\n",
    "        return d[num]\n",
    "    \n",
    "    def register(self, name, phn):\n",
    "        if phn in BookTheShow.user.keys():\n",
    "            return False\n",
    "        self.name = name\n",
    "        self.phn = phn\n",
    "        BookTheShow.user[phn] = {\"name\":name, \"phn\": phn, \"no_of_seat_booked\": 0, \"booking_list\": []}\n",
    "        return {\"message\": \"success\"}\n",
    "    "
   ]
  },
  {
   "cell_type": "code",
   "execution_count": 2,
   "id": "74564dd4",
   "metadata": {},
   "outputs": [],
   "source": [
    "b1 = BookTheShow()"
   ]
  },
  {
   "cell_type": "code",
   "execution_count": 3,
   "id": "75ff0a0d",
   "metadata": {},
   "outputs": [
    {
     "data": {
      "text/plain": [
       "{'message': 'success'}"
      ]
     },
     "execution_count": 3,
     "metadata": {},
     "output_type": "execute_result"
    }
   ],
   "source": [
    "b1.register(\"Vaibhav\", 9856412378)"
   ]
  },
  {
   "cell_type": "code",
   "execution_count": 5,
   "id": "bf6c8f5d",
   "metadata": {},
   "outputs": [
    {
     "data": {
      "text/plain": [
       "{9856412378: {'name': 'Vaibhav',\n",
       "  'phn': 9856412378,\n",
       "  'no_of_seat_booked': 0,\n",
       "  'booking_list': []}}"
      ]
     },
     "execution_count": 5,
     "metadata": {},
     "output_type": "execute_result"
    }
   ],
   "source": [
    "b1.user"
   ]
  },
  {
   "cell_type": "code",
   "execution_count": 6,
   "id": "f1764e86",
   "metadata": {},
   "outputs": [
    {
     "data": {
      "text/plain": [
       "{'message': 'success'}"
      ]
     },
     "execution_count": 6,
     "metadata": {},
     "output_type": "execute_result"
    }
   ],
   "source": [
    "b1.register(\"Charulinga\",78445998662)"
   ]
  },
  {
   "cell_type": "code",
   "execution_count": 7,
   "id": "18cf3880",
   "metadata": {},
   "outputs": [
    {
     "data": {
      "text/plain": [
       "{9856412378: {'name': 'Vaibhav',\n",
       "  'phn': 9856412378,\n",
       "  'no_of_seat_booked': 0,\n",
       "  'booking_list': []},\n",
       " 78445998662: {'name': 'Charulinga',\n",
       "  'phn': 78445998662,\n",
       "  'no_of_seat_booked': 0,\n",
       "  'booking_list': []}}"
      ]
     },
     "execution_count": 7,
     "metadata": {},
     "output_type": "execute_result"
    }
   ],
   "source": [
    "b1.user"
   ]
  },
  {
   "cell_type": "code",
   "execution_count": 40,
   "id": "fa46ce23",
   "metadata": {},
   "outputs": [
    {
     "name": "stdout",
     "output_type": "stream",
     "text": [
      "Do you want to watch movie?Y/nY\n",
      "Select one of the following option\n",
      "1) Register\n",
      "2) Login\n",
      "3) Exit\n",
      "Enter here: 2\n",
      "phn number74635654\n",
      "Want to stay login!y\n",
      "Select the options below:\n",
      "1) Book the ticket\n",
      "2) Booking History\n",
      "3) Exit!!\n",
      "Enter your option1\n",
      "4\n",
      "(['BS', 'E', 'E', 'E'], 'A')\n",
      "book ticket\n",
      "Select the options below:\n",
      "1) Book the ticket\n",
      "2) Booking History\n",
      "3) Exit!!\n"
     ]
    },
    {
     "ename": "KeyboardInterrupt",
     "evalue": "Interrupted by user",
     "output_type": "error",
     "traceback": [
      "\u001b[1;31m---------------------------------------------------------------------------\u001b[0m",
      "\u001b[1;31mKeyboardInterrupt\u001b[0m                         Traceback (most recent call last)",
      "Input \u001b[1;32mIn [40]\u001b[0m, in \u001b[0;36m<module>\u001b[1;34m\u001b[0m\n\u001b[0;32m     62\u001b[0m \u001b[38;5;28mprint\u001b[39m(\u001b[38;5;124m\"\u001b[39m\u001b[38;5;124m2) Booking History\u001b[39m\u001b[38;5;124m\"\u001b[39m)\n\u001b[0;32m     63\u001b[0m \u001b[38;5;28mprint\u001b[39m(\u001b[38;5;124m\"\u001b[39m\u001b[38;5;124m3) Exit!!\u001b[39m\u001b[38;5;124m\"\u001b[39m)\n\u001b[1;32m---> 64\u001b[0m option \u001b[38;5;241m=\u001b[39m \u001b[38;5;28;43minput\u001b[39;49m\u001b[43m(\u001b[49m\u001b[38;5;124;43m\"\u001b[39;49m\u001b[38;5;124;43mEnter your option\u001b[39;49m\u001b[38;5;124;43m\"\u001b[39;49m\u001b[43m)\u001b[49m\n\u001b[0;32m     65\u001b[0m \u001b[38;5;28;01mif\u001b[39;00m option \u001b[38;5;241m==\u001b[39m \u001b[38;5;124m\"\u001b[39m\u001b[38;5;124m1\u001b[39m\u001b[38;5;124m\"\u001b[39m:\n\u001b[0;32m     66\u001b[0m     \u001b[38;5;28mprint\u001b[39m(booking_for_movie(\u001b[38;5;124m\"\u001b[39m\u001b[38;5;124mbooktheshow.json\u001b[39m\u001b[38;5;124m\"\u001b[39m,phn))\n",
      "File \u001b[1;32m~\\AppData\\Local\\Programs\\Python\\Python310\\lib\\site-packages\\ipykernel\\kernelbase.py:1044\u001b[0m, in \u001b[0;36mKernel.raw_input\u001b[1;34m(self, prompt)\u001b[0m\n\u001b[0;32m   1040\u001b[0m \u001b[38;5;28;01mif\u001b[39;00m \u001b[38;5;129;01mnot\u001b[39;00m \u001b[38;5;28mself\u001b[39m\u001b[38;5;241m.\u001b[39m_allow_stdin:\n\u001b[0;32m   1041\u001b[0m     \u001b[38;5;28;01mraise\u001b[39;00m StdinNotImplementedError(\n\u001b[0;32m   1042\u001b[0m         \u001b[38;5;124m\"\u001b[39m\u001b[38;5;124mraw_input was called, but this frontend does not support input requests.\u001b[39m\u001b[38;5;124m\"\u001b[39m\n\u001b[0;32m   1043\u001b[0m     )\n\u001b[1;32m-> 1044\u001b[0m \u001b[38;5;28;01mreturn\u001b[39;00m \u001b[38;5;28;43mself\u001b[39;49m\u001b[38;5;241;43m.\u001b[39;49m\u001b[43m_input_request\u001b[49m\u001b[43m(\u001b[49m\n\u001b[0;32m   1045\u001b[0m \u001b[43m    \u001b[49m\u001b[38;5;28;43mstr\u001b[39;49m\u001b[43m(\u001b[49m\u001b[43mprompt\u001b[49m\u001b[43m)\u001b[49m\u001b[43m,\u001b[49m\n\u001b[0;32m   1046\u001b[0m \u001b[43m    \u001b[49m\u001b[38;5;28;43mself\u001b[39;49m\u001b[38;5;241;43m.\u001b[39;49m\u001b[43m_parent_ident\u001b[49m\u001b[43m[\u001b[49m\u001b[38;5;124;43m\"\u001b[39;49m\u001b[38;5;124;43mshell\u001b[39;49m\u001b[38;5;124;43m\"\u001b[39;49m\u001b[43m]\u001b[49m\u001b[43m,\u001b[49m\n\u001b[0;32m   1047\u001b[0m \u001b[43m    \u001b[49m\u001b[38;5;28;43mself\u001b[39;49m\u001b[38;5;241;43m.\u001b[39;49m\u001b[43mget_parent\u001b[49m\u001b[43m(\u001b[49m\u001b[38;5;124;43m\"\u001b[39;49m\u001b[38;5;124;43mshell\u001b[39;49m\u001b[38;5;124;43m\"\u001b[39;49m\u001b[43m)\u001b[49m\u001b[43m,\u001b[49m\n\u001b[0;32m   1048\u001b[0m \u001b[43m    \u001b[49m\u001b[43mpassword\u001b[49m\u001b[38;5;241;43m=\u001b[39;49m\u001b[38;5;28;43;01mFalse\u001b[39;49;00m\u001b[43m,\u001b[49m\n\u001b[0;32m   1049\u001b[0m \u001b[43m\u001b[49m\u001b[43m)\u001b[49m\n",
      "File \u001b[1;32m~\\AppData\\Local\\Programs\\Python\\Python310\\lib\\site-packages\\ipykernel\\kernelbase.py:1089\u001b[0m, in \u001b[0;36mKernel._input_request\u001b[1;34m(self, prompt, ident, parent, password)\u001b[0m\n\u001b[0;32m   1086\u001b[0m             \u001b[38;5;28;01mbreak\u001b[39;00m\n\u001b[0;32m   1087\u001b[0m \u001b[38;5;28;01mexcept\u001b[39;00m \u001b[38;5;167;01mKeyboardInterrupt\u001b[39;00m:\n\u001b[0;32m   1088\u001b[0m     \u001b[38;5;66;03m# re-raise KeyboardInterrupt, to truncate traceback\u001b[39;00m\n\u001b[1;32m-> 1089\u001b[0m     \u001b[38;5;28;01mraise\u001b[39;00m \u001b[38;5;167;01mKeyboardInterrupt\u001b[39;00m(\u001b[38;5;124m\"\u001b[39m\u001b[38;5;124mInterrupted by user\u001b[39m\u001b[38;5;124m\"\u001b[39m) \u001b[38;5;28;01mfrom\u001b[39;00m \u001b[38;5;28mNone\u001b[39m\n\u001b[0;32m   1090\u001b[0m \u001b[38;5;28;01mexcept\u001b[39;00m \u001b[38;5;167;01mException\u001b[39;00m:\n\u001b[0;32m   1091\u001b[0m     \u001b[38;5;28mself\u001b[39m\u001b[38;5;241m.\u001b[39mlog\u001b[38;5;241m.\u001b[39mwarning(\u001b[38;5;124m\"\u001b[39m\u001b[38;5;124mInvalid Message:\u001b[39m\u001b[38;5;124m\"\u001b[39m, exc_info\u001b[38;5;241m=\u001b[39m\u001b[38;5;28;01mTrue\u001b[39;00m)\n",
      "\u001b[1;31mKeyboardInterrupt\u001b[0m: Interrupted by user"
     ]
    }
   ],
   "source": [
    "def register_user(file_name, name, phn):\n",
    "    b1 = BookTheShow()\n",
    "    try:\n",
    "        file = open(file_name,\"r+\")\n",
    "        content = json.load(file)   #when smthng is there\n",
    "    except FileNotFoundError:\n",
    "        file = open(file_name,\"w+\")\n",
    "        content = {}\n",
    "    except JSONDecodeError:\n",
    "        content = {}  \n",
    "        \n",
    "    result = b1.register(name, phn)\n",
    "    print(result)        \n",
    "    if result:\n",
    "        result[phn] = b1.__dict__\n",
    "        file.seek(0)\n",
    "        file.truncate()\n",
    "        json.dump(b1.user, file, indent=4)\n",
    "        file.close()\n",
    "        return \"success\"\n",
    "    file.close()\n",
    "    return \"User is already available!!\"\n",
    "\n",
    "def booking_for_movie(file_name, phn):\n",
    "    file = open(file_name, \"r+\")\n",
    "    content = json.load(file)\n",
    "    b1 = BookTheShow()\n",
    "    for i,row in enumerate(b1.seats):\n",
    "        if \"E\" in row:\n",
    "            content[phn][\"booking_list\"].append(f\"{BookTheShow.conv(i)}{row.index('E')}\")\n",
    "            BookTheShow.seats[i][row.index(\"E\")] = \"BS\"\n",
    "            content[phn][\"no_of_seat_booked\"]+=1\n",
    "            print(content[phn][\"no_of_seat_booked\"])\n",
    "            file.seek(0)\n",
    "            file.truncate()\n",
    "            json.dump(content, file, indent=4)\n",
    "            file.close()\n",
    "            return row,BookTheShow.conv(i)  \n",
    "        \n",
    "def check_ticket_history(file_name, phn):\n",
    "    with open(file_name, \"r+\") as file:\n",
    "        content = json.load(file)\n",
    "        print()\n",
    "        if content[phn][\"booking_list\"]:\n",
    "            for i in content[phn][\"booking_list\"]:\n",
    "                print(i)\n",
    "        else:\n",
    "            print(\"Pls Book the tickets quickly\")\n",
    "            \n",
    "book = input(\"Do you want to watch movie?Y/n\")\n",
    "while book.lower() == \"y\":\n",
    "    print(\"Select one of the following option\")\n",
    "    print(\"1) Register\")\n",
    "    print(\"2) Login\")\n",
    "    print(\"3) Exit\")\n",
    "    option = input(\"Enter here: \")\n",
    "    if option == \"1\":\n",
    "        print(\"opt1\")\n",
    "        print(register_user(\"booktheshow.json\", input(\"Enter name\"), input(\"phn number:\")))\n",
    "        #do smthng\n",
    "    elif option == \"2\":\n",
    "        #do smthng\n",
    "        file = open(\"booktheshow.json\", \"r+\")\n",
    "        content = json.load(file)\n",
    "        phn  = input(\"phn number\")\n",
    "        if phn in content:\n",
    "            login = input(\"Want to stay login!\")\n",
    "            while login.lower() == \"y\":\n",
    "                print(\"Select the options below:\")\n",
    "                print(\"1) Book the ticket\")\n",
    "                print(\"2) Booking History\")\n",
    "                print(\"3) Exit!!\")\n",
    "                option = input(\"Enter your option\")\n",
    "                if option == \"1\":\n",
    "                    booking_for_movie(\"booktheshow.json\",phn)\n",
    "                    print(\"book ticket\")\n",
    "                elif option == \"2\":\n",
    "                    print(\"Ticket History\")\n",
    "                    check_ticket_history(\"booktheshow.json\", phn)\n",
    "                else:\n",
    "                    break\n",
    "                    print(\"Logging off\")\n",
    "        else:\n",
    "            print(\"Pls Register!\")\n",
    "            \n",
    "    elif option == \"3\":\n",
    "        print(\"Pls consider Us in your Free time!!\")\n",
    "        break\n",
    "    else:\n",
    "        print(\"Hey Select correct option!!\")"
   ]
  },
  {
   "cell_type": "code",
   "execution_count": 10,
   "id": "953381da",
   "metadata": {},
   "outputs": [
    {
     "data": {
      "text/plain": [
       "'y'"
      ]
     },
     "execution_count": 10,
     "metadata": {},
     "output_type": "execute_result"
    }
   ],
   "source": [
    "\"Y\".lower()"
   ]
  },
  {
   "cell_type": "code",
   "execution_count": 16,
   "id": "c065e7d0",
   "metadata": {},
   "outputs": [
    {
     "ename": "FileNotFoundError",
     "evalue": "[Errno 2] No such file or directory: 'file.js'",
     "output_type": "error",
     "traceback": [
      "\u001b[1;31m---------------------------------------------------------------------------\u001b[0m",
      "\u001b[1;31mFileNotFoundError\u001b[0m                         Traceback (most recent call last)",
      "Input \u001b[1;32mIn [16]\u001b[0m, in \u001b[0;36m<module>\u001b[1;34m\u001b[0m\n\u001b[1;32m----> 1\u001b[0m \u001b[38;5;28;43mopen\u001b[39;49m\u001b[43m(\u001b[49m\u001b[38;5;124;43m\"\u001b[39;49m\u001b[38;5;124;43mfile.js\u001b[39;49m\u001b[38;5;124;43m\"\u001b[39;49m\u001b[43m)\u001b[49m\n",
      "\u001b[1;31mFileNotFoundError\u001b[0m: [Errno 2] No such file or directory: 'file.js'"
     ]
    }
   ],
   "source": [
    "open(\"file.js\")"
   ]
  },
  {
   "cell_type": "code",
   "execution_count": null,
   "id": "4efe10ab",
   "metadata": {},
   "outputs": [],
   "source": []
  }
 ],
 "metadata": {
  "kernelspec": {
   "display_name": "Python 3 (ipykernel)",
   "language": "python",
   "name": "python3"
  },
  "language_info": {
   "codemirror_mode": {
    "name": "ipython",
    "version": 3
   },
   "file_extension": ".py",
   "mimetype": "text/x-python",
   "name": "python",
   "nbconvert_exporter": "python",
   "pygments_lexer": "ipython3",
   "version": "3.10.2"
  }
 },
 "nbformat": 4,
 "nbformat_minor": 5
}
