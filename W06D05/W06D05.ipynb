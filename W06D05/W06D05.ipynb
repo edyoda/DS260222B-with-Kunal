{
 "cells": [
  {
   "cell_type": "code",
   "execution_count": 1,
   "id": "d4183e46",
   "metadata": {},
   "outputs": [],
   "source": [
    "class Amezon:\n",
    "    def __init__(self):\n",
    "        self.account_holder = \"\"\n",
    "        self.contact_details = \"0000000000\"\n",
    "        self.pin = \"********\"\n",
    "    def your_orders(self, Mobile_Electronic_devices):\n",
    "        self.products = Mobile_Electronic_devices\n",
    "        self.fashion_and_beautyproducts = \"\"\n",
    "        self.books_and_education = \"\"\n",
    "        self.home_appliances = \"\"\n",
    "        \n",
    "        #setters\n",
    "    def set_name(self,Pratiksha):\n",
    "        self.name = \"Pratiksha\"\n",
    "    def set_fashion_and_beautyproducts(self, Lipstick):\n",
    "        self.fashion_and_beautyproducts =\"Lipstick\"\n",
    "    def set_books_and_education(self, State_board_books):\n",
    "        self.books_and_education = State_board_books\n",
    "    def set_contact_details(self, contact_details):\n",
    "        if len(contact_details) >= 10:\n",
    "            self.contact_details = contact_details\n",
    "        else:\n",
    "            print(\"Invalid Phn No.\")\n",
    "    def set_pin(self, pin):\n",
    "        self.pin = pin\n",
    "        #getters\n",
    "        \n",
    "    def get_fashion_and_beautyproducts(self):\n",
    "        return self.fashion\n",
    "customer = Amezon()"
   ]
  },
  {
   "cell_type": "code",
   "execution_count": 2,
   "id": "292983ae",
   "metadata": {},
   "outputs": [
    {
     "data": {
      "text/plain": [
       "{'account_holder': '', 'contact_details': '0000000000', 'pin': '********'}"
      ]
     },
     "execution_count": 2,
     "metadata": {},
     "output_type": "execute_result"
    }
   ],
   "source": [
    "customer.__dict__"
   ]
  },
  {
   "cell_type": "code",
   "execution_count": 3,
   "id": "abb41da5",
   "metadata": {},
   "outputs": [],
   "source": [
    "customer.your_orders(3)"
   ]
  },
  {
   "cell_type": "code",
   "execution_count": 4,
   "id": "17649394",
   "metadata": {},
   "outputs": [
    {
     "data": {
      "text/plain": [
       "{'account_holder': '',\n",
       " 'contact_details': '0000000000',\n",
       " 'pin': '********',\n",
       " 'products': 3,\n",
       " 'fashion_and_beautyproducts': '',\n",
       " 'books_and_education': '',\n",
       " 'home_appliances': ''}"
      ]
     },
     "execution_count": 4,
     "metadata": {},
     "output_type": "execute_result"
    }
   ],
   "source": [
    "customer.__dict__"
   ]
  },
  {
   "cell_type": "code",
   "execution_count": 5,
   "id": "7d31b1ae",
   "metadata": {},
   "outputs": [],
   "source": [
    "customer.set_pin(123456789)"
   ]
  },
  {
   "cell_type": "code",
   "execution_count": 6,
   "id": "5e5d644f",
   "metadata": {},
   "outputs": [
    {
     "data": {
      "text/plain": [
       "{'account_holder': '',\n",
       " 'contact_details': '0000000000',\n",
       " 'pin': 123456789,\n",
       " 'products': 3,\n",
       " 'fashion_and_beautyproducts': '',\n",
       " 'books_and_education': '',\n",
       " 'home_appliances': ''}"
      ]
     },
     "execution_count": 6,
     "metadata": {},
     "output_type": "execute_result"
    }
   ],
   "source": [
    "customer.__dict__"
   ]
  },
  {
   "cell_type": "code",
   "execution_count": 7,
   "id": "02ae1ac6",
   "metadata": {},
   "outputs": [
    {
     "name": "stdout",
     "output_type": "stream",
     "text": [
      "Sandip is in Twitter\n",
      "Mandip is in Twitter\n",
      "Mandip is now following Sandip\n",
      "Sandip is now following Mandip\n"
     ]
    }
   ],
   "source": [
    "class Twitter:\n",
    "    def __init__(self,name,sport):\n",
    "        self.name = name\n",
    "        self.sport = sport\n",
    "        self.following =[]\n",
    "        print(f\"{self.name} is in Twitter\")\n",
    "        \n",
    "    def get_name(self):\n",
    "        return self.name\n",
    "    def get_sport(self):\n",
    "        return self.sport\n",
    "    def make_followers(self,follow):\n",
    "        '''\n",
    "        One can follow other once their choice of sport is same otherwise\n",
    "        they can't follow each other\n",
    "        '''\n",
    "        if self.sport.lower() == follow.sport.lower():\n",
    "            self.following.append(follow)             \n",
    "            print(f\"{self.name} is now following {follow.name}\")\n",
    "            \n",
    "        else:\n",
    "            print(f\"{self.name} preference is unmatched with {follow.name} \"\n",
    "            \"find someone who have same interest\")        \n",
    "            print(f\"as {follow.name} likes {follow.sport}\")\n",
    "            \n",
    "Sandy = Twitter(\"Sandip\",\"Cricket\")\n",
    "Mandy = Twitter(\"Mandip\",\"cricket\") \n",
    "Mandy.make_followers(Sandy)\n",
    "Sandy.make_followers(Mandy)"
   ]
  },
  {
   "cell_type": "code",
   "execution_count": 8,
   "id": "3f765302",
   "metadata": {},
   "outputs": [
    {
     "name": "stdout",
     "output_type": "stream",
     "text": [
      "Ganesh is in Twitter\n"
     ]
    }
   ],
   "source": [
    "Ganesh = Twitter(\"Ganesh\",\"FootBall\")"
   ]
  },
  {
   "cell_type": "code",
   "execution_count": 9,
   "id": "dddb7fb8",
   "metadata": {},
   "outputs": [
    {
     "name": "stdout",
     "output_type": "stream",
     "text": [
      "Ganesh preference is unmatched with Mandip find someone who have same interest\n",
      "as Mandip likes cricket\n"
     ]
    }
   ],
   "source": [
    "Ganesh.make_followers(Mandy)"
   ]
  },
  {
   "cell_type": "code",
   "execution_count": null,
   "id": "979df8b9",
   "metadata": {},
   "outputs": [],
   "source": [
    "class User():\n",
    "    def __init__(self,name,age,gender):\n",
    "        self.name = name\n",
    "        self.age = age\n",
    "        self.gender = gender\n",
    "#Has a function to show user details\n",
    "    def show_details(self):\n",
    "        print(\"Personal Details \", end='\\n')\n",
    "        print(\"\")\n",
    "        print(\"Name :\", self.name)\n",
    "        print(\"Age :\", self.age)\n",
    "        print(\"Gender :\", self.gender)  \n",
    "\n",
    "class Bank(User):\n",
    "    def __init__(self,name,age,gender):\n",
    "        super().__init__(name,age,gender)\n",
    "        self.balance = 0\n",
    "\n",
    "#Allows for deposits\n",
    "\n",
    "    def deposit(self,amount):\n",
    "        self.balance = self.balance + amount\n",
    "        print(\"Account balance has been updated : $\",self.balance)\n",
    "\n",
    "#Allows for withdraw\n",
    "    def withdraw(self,amount):\n",
    "        if amount > self.balance:\n",
    "            print(\"Insufficient funds | Balance Available: $\",self.balance)\n",
    "        else:\n",
    "            self.balance = self.balance - amount\n",
    "            print(\"Withdrawal Successfull | Balance Available: $\",self.balance)\n",
    "#view_balance\n",
    "    def view_balance(self):\n",
    "        self.show_details()\n",
    "        print(\"Account Balance | $\",self.balance)      "
   ]
  },
  {
   "cell_type": "code",
   "execution_count": 11,
   "id": "806f5226",
   "metadata": {},
   "outputs": [],
   "source": [
    "class Amazon():\n",
    "    def __init__(self):\n",
    "        self.electronics     = \"Mobiles\",\"Laptops\",\"Washing_machine\"\n",
    "        self.clothes         = \"Tops\",\"Kurtas\",\"Shirts\",\"Pants\"\n",
    "        self.groceries       = \"Vegetables\",\"Fruits\",\"dry_fruits\"\n",
    "        self.bookings        = \"Travelling\",\"Food\",\"movies\"\n",
    "        self.accessories     = \"Watches\",\"Goggles\"\n",
    "        \n",
    "    def add_electronics (self, electronics):\n",
    "        self.add_electronics = electronics\n",
    "    def add_clothes     (self, clothes ):\n",
    "        self.clothes         = clothes \n",
    "    def add_groceries   (self, groceries):\n",
    "        self.add_groceries   = groceries\n",
    "    def add_bookings    ( self,bookings  ):\n",
    "        self.add_bookings    = bookings\n",
    "    def  add_accessories( self, accessories):\n",
    "        self.add_accessories = accessories\n",
    "\n",
    "#getter method\n",
    "\n",
    "    def get_electronics(self):\n",
    "        return self.electronics\n",
    "    def get_clothes    (self):\n",
    "        return self.clothes\n",
    "    def get_groceries  (self):\n",
    "        return self.groceries \n",
    "    def get_bookings   (self):\n",
    "        return self.bookings \n",
    "    def get_accessories(self):\n",
    "        return self.accessories\n",
    "    \n",
    "consumers = Amazon()\n"
   ]
  },
  {
   "cell_type": "code",
   "execution_count": 12,
   "id": "5d9b78c6",
   "metadata": {},
   "outputs": [
    {
     "data": {
      "text/plain": [
       "{'electronics': ('Mobiles', 'Laptops', 'Washing_machine'),\n",
       " 'clothes': ('Tops', 'Kurtas', 'Shirts', 'Pants'),\n",
       " 'groceries': ('Vegetables', 'Fruits', 'dry_fruits'),\n",
       " 'bookings': ('Travelling', 'Food', 'movies'),\n",
       " 'accessories': ('Watches', 'Goggles')}"
      ]
     },
     "execution_count": 12,
     "metadata": {},
     "output_type": "execute_result"
    }
   ],
   "source": [
    "consumers.__dict__"
   ]
  },
  {
   "cell_type": "code",
   "execution_count": null,
   "id": "2e02e95b",
   "metadata": {},
   "outputs": [],
   "source": [
    "@staticmethods"
   ]
  },
  {
   "cell_type": "code",
   "execution_count": 23,
   "id": "dcb886bc",
   "metadata": {},
   "outputs": [],
   "source": [
    "class Student:\n",
    "    total_marks = 400 \n",
    "    def __init__(self, name, roll, gender):\n",
    "        self.name = name\n",
    "        self.roll = roll\n",
    "        self.gender = gender\n",
    "        self.marks = {\"history\": 0, \"physics\": 0, \"biology\": 0,\"maths\": 0}\n",
    "    \n",
    "    def get_marks(self, history, physics, bio, maths):\n",
    "        self.marks[\"history\"] = history\n",
    "        self.marks[\"physics\"] = physics\n",
    "        self.marks[\"biology\"] = bio\n",
    "        self.marks[\"maths\"] = maths\n",
    "        self.percentage = Student.cal_percentage(history, physics, bio, maths, Student.total_marks)\n",
    "    \n",
    "    @staticmethod\n",
    "    def cal_percentage(hist, phy, bio, maths, totalmarks):\n",
    "        return (sum([hist,phy,bio,maths])/totalmarks)*100"
   ]
  },
  {
   "cell_type": "code",
   "execution_count": 24,
   "id": "f3ab3884",
   "metadata": {},
   "outputs": [],
   "source": [
    "kunal = Student(\"Kunal\", 23, \"male\")"
   ]
  },
  {
   "cell_type": "code",
   "execution_count": 25,
   "id": "1f5b4619",
   "metadata": {},
   "outputs": [
    {
     "data": {
      "text/plain": [
       "{'history': 0, 'physics': 0, 'biology': 0, 'maths': 0}"
      ]
     },
     "execution_count": 25,
     "metadata": {},
     "output_type": "execute_result"
    }
   ],
   "source": [
    "kunal.marks"
   ]
  },
  {
   "cell_type": "code",
   "execution_count": 26,
   "id": "001dc80d",
   "metadata": {},
   "outputs": [],
   "source": [
    "kunal.get_marks(32,72,100,25)"
   ]
  },
  {
   "cell_type": "code",
   "execution_count": 27,
   "id": "25f41e12",
   "metadata": {},
   "outputs": [
    {
     "data": {
      "text/plain": [
       "57.25"
      ]
     },
     "execution_count": 27,
     "metadata": {},
     "output_type": "execute_result"
    }
   ],
   "source": [
    "kunal.percentage"
   ]
  },
  {
   "cell_type": "code",
   "execution_count": 28,
   "id": "9b13d287",
   "metadata": {},
   "outputs": [
    {
     "data": {
      "text/plain": [
       "57.25"
      ]
     },
     "execution_count": 28,
     "metadata": {},
     "output_type": "execute_result"
    }
   ],
   "source": [
    "kunal.cal_percentage(32,72,100,25,400)"
   ]
  },
  {
   "cell_type": "code",
   "execution_count": 29,
   "id": "3ebab186",
   "metadata": {},
   "outputs": [],
   "source": [
    "del kunal"
   ]
  },
  {
   "cell_type": "code",
   "execution_count": 30,
   "id": "178ba752",
   "metadata": {},
   "outputs": [
    {
     "ename": "NameError",
     "evalue": "name 'kunal' is not defined",
     "output_type": "error",
     "traceback": [
      "\u001b[1;31m---------------------------------------------------------------------------\u001b[0m",
      "\u001b[1;31mNameError\u001b[0m                                 Traceback (most recent call last)",
      "\u001b[1;32mC:\\Users\\KUNALC~1\\AppData\\Local\\Temp/ipykernel_23056/226289158.py\u001b[0m in \u001b[0;36m<module>\u001b[1;34m\u001b[0m\n\u001b[1;32m----> 1\u001b[1;33m \u001b[0mkunal\u001b[0m\u001b[1;33m\u001b[0m\u001b[1;33m\u001b[0m\u001b[0m\n\u001b[0m",
      "\u001b[1;31mNameError\u001b[0m: name 'kunal' is not defined"
     ]
    }
   ],
   "source": [
    "kunal"
   ]
  },
  {
   "cell_type": "code",
   "execution_count": 31,
   "id": "6e96ff6e",
   "metadata": {},
   "outputs": [],
   "source": [
    "class A:\n",
    "    def __init__(self, a, b):\n",
    "        self.a = a\n",
    "        self.b = b\n",
    "    def print_conct_value(self, a, b):\n",
    "        return self.a + self.b\n",
    "    \n",
    "    @staticmethod\n",
    "    def add():\n",
    "        return self.a + self.b"
   ]
  },
  {
   "cell_type": "code",
   "execution_count": 33,
   "id": "5dd6813f",
   "metadata": {},
   "outputs": [],
   "source": [
    "a = A(1,2)"
   ]
  },
  {
   "cell_type": "code",
   "execution_count": 34,
   "id": "c466cfab",
   "metadata": {},
   "outputs": [
    {
     "ename": "NameError",
     "evalue": "name 'self' is not defined",
     "output_type": "error",
     "traceback": [
      "\u001b[1;31m---------------------------------------------------------------------------\u001b[0m",
      "\u001b[1;31mNameError\u001b[0m                                 Traceback (most recent call last)",
      "\u001b[1;32mC:\\Users\\KUNALC~1\\AppData\\Local\\Temp/ipykernel_23056/2595422640.py\u001b[0m in \u001b[0;36m<module>\u001b[1;34m\u001b[0m\n\u001b[1;32m----> 1\u001b[1;33m \u001b[0ma\u001b[0m\u001b[1;33m.\u001b[0m\u001b[0madd\u001b[0m\u001b[1;33m(\u001b[0m\u001b[1;33m)\u001b[0m\u001b[1;33m\u001b[0m\u001b[1;33m\u001b[0m\u001b[0m\n\u001b[0m",
      "\u001b[1;32mC:\\Users\\KUNALC~1\\AppData\\Local\\Temp/ipykernel_23056/163824598.py\u001b[0m in \u001b[0;36madd\u001b[1;34m()\u001b[0m\n\u001b[0;32m      8\u001b[0m     \u001b[1;33m@\u001b[0m\u001b[0mstaticmethod\u001b[0m\u001b[1;33m\u001b[0m\u001b[1;33m\u001b[0m\u001b[0m\n\u001b[0;32m      9\u001b[0m     \u001b[1;32mdef\u001b[0m \u001b[0madd\u001b[0m\u001b[1;33m(\u001b[0m\u001b[1;33m)\u001b[0m\u001b[1;33m:\u001b[0m\u001b[1;33m\u001b[0m\u001b[1;33m\u001b[0m\u001b[0m\n\u001b[1;32m---> 10\u001b[1;33m         \u001b[1;32mreturn\u001b[0m \u001b[0mself\u001b[0m\u001b[1;33m.\u001b[0m\u001b[0ma\u001b[0m \u001b[1;33m+\u001b[0m \u001b[0mself\u001b[0m\u001b[1;33m.\u001b[0m\u001b[0mb\u001b[0m\u001b[1;33m\u001b[0m\u001b[1;33m\u001b[0m\u001b[0m\n\u001b[0m",
      "\u001b[1;31mNameError\u001b[0m: name 'self' is not defined"
     ]
    }
   ],
   "source": [
    "a.add()"
   ]
  },
  {
   "cell_type": "code",
   "execution_count": 38,
   "id": "3fc64ea2",
   "metadata": {},
   "outputs": [],
   "source": [
    "class A:\n",
    "    def __init__(self, a, b):\n",
    "        self.a = a\n",
    "        self.b = b\n",
    "    def print_conct_value(self):\n",
    "        return self.a + self.b\n",
    "    \n",
    "    @staticmethod\n",
    "    def add(self):\n",
    "        return self.a + self.b"
   ]
  },
  {
   "cell_type": "code",
   "execution_count": 39,
   "id": "a6484753",
   "metadata": {},
   "outputs": [],
   "source": [
    "a = A(1,2)"
   ]
  },
  {
   "cell_type": "code",
   "execution_count": 40,
   "id": "0e5153ac",
   "metadata": {},
   "outputs": [
    {
     "ename": "TypeError",
     "evalue": "add() missing 1 required positional argument: 'self'",
     "output_type": "error",
     "traceback": [
      "\u001b[1;31m---------------------------------------------------------------------------\u001b[0m",
      "\u001b[1;31mTypeError\u001b[0m                                 Traceback (most recent call last)",
      "\u001b[1;32mC:\\Users\\KUNALC~1\\AppData\\Local\\Temp/ipykernel_23056/2595422640.py\u001b[0m in \u001b[0;36m<module>\u001b[1;34m\u001b[0m\n\u001b[1;32m----> 1\u001b[1;33m \u001b[0ma\u001b[0m\u001b[1;33m.\u001b[0m\u001b[0madd\u001b[0m\u001b[1;33m(\u001b[0m\u001b[1;33m)\u001b[0m\u001b[1;33m\u001b[0m\u001b[1;33m\u001b[0m\u001b[0m\n\u001b[0m",
      "\u001b[1;31mTypeError\u001b[0m: add() missing 1 required positional argument: 'self'"
     ]
    }
   ],
   "source": [
    "a.add()"
   ]
  },
  {
   "cell_type": "code",
   "execution_count": 41,
   "id": "57162c43",
   "metadata": {},
   "outputs": [
    {
     "data": {
      "text/plain": [
       "3"
      ]
     },
     "execution_count": 41,
     "metadata": {},
     "output_type": "execute_result"
    }
   ],
   "source": [
    "a.print_conct_value()"
   ]
  },
  {
   "cell_type": "code",
   "execution_count": 42,
   "id": "be4af942",
   "metadata": {},
   "outputs": [],
   "source": [
    "class A:\n",
    "    def __init__(self, a, b):\n",
    "        self.a = a\n",
    "        self.b = b\n",
    "    def print_conct_value(self, a, b):\n",
    "        return self.a + self.b\n",
    "    \n",
    "    @staticmethod\n",
    "    def add(self, a, b):\n",
    "        return self.a + self.b"
   ]
  },
  {
   "cell_type": "code",
   "execution_count": 43,
   "id": "97d58051",
   "metadata": {},
   "outputs": [],
   "source": [
    "a = A(1,2)"
   ]
  },
  {
   "cell_type": "code",
   "execution_count": 45,
   "id": "1349d8c8",
   "metadata": {},
   "outputs": [
    {
     "ename": "AttributeError",
     "evalue": "'int' object has no attribute 'a'",
     "output_type": "error",
     "traceback": [
      "\u001b[1;31m---------------------------------------------------------------------------\u001b[0m",
      "\u001b[1;31mAttributeError\u001b[0m                            Traceback (most recent call last)",
      "\u001b[1;32mC:\\Users\\KUNALC~1\\AppData\\Local\\Temp/ipykernel_23056/3206102587.py\u001b[0m in \u001b[0;36m<module>\u001b[1;34m\u001b[0m\n\u001b[1;32m----> 1\u001b[1;33m \u001b[0ma\u001b[0m\u001b[1;33m.\u001b[0m\u001b[0madd\u001b[0m\u001b[1;33m(\u001b[0m\u001b[1;36m5\u001b[0m\u001b[1;33m,\u001b[0m\u001b[1;36m2\u001b[0m\u001b[1;33m,\u001b[0m\u001b[1;36m3\u001b[0m\u001b[1;33m)\u001b[0m\u001b[1;33m\u001b[0m\u001b[1;33m\u001b[0m\u001b[0m\n\u001b[0m",
      "\u001b[1;32mC:\\Users\\KUNALC~1\\AppData\\Local\\Temp/ipykernel_23056/1643767280.py\u001b[0m in \u001b[0;36madd\u001b[1;34m(self, a, b)\u001b[0m\n\u001b[0;32m      8\u001b[0m     \u001b[1;33m@\u001b[0m\u001b[0mstaticmethod\u001b[0m\u001b[1;33m\u001b[0m\u001b[1;33m\u001b[0m\u001b[0m\n\u001b[0;32m      9\u001b[0m     \u001b[1;32mdef\u001b[0m \u001b[0madd\u001b[0m\u001b[1;33m(\u001b[0m\u001b[0mself\u001b[0m\u001b[1;33m,\u001b[0m \u001b[0ma\u001b[0m\u001b[1;33m,\u001b[0m \u001b[0mb\u001b[0m\u001b[1;33m)\u001b[0m\u001b[1;33m:\u001b[0m\u001b[1;33m\u001b[0m\u001b[1;33m\u001b[0m\u001b[0m\n\u001b[1;32m---> 10\u001b[1;33m         \u001b[1;32mreturn\u001b[0m \u001b[0mself\u001b[0m\u001b[1;33m.\u001b[0m\u001b[0ma\u001b[0m \u001b[1;33m+\u001b[0m \u001b[0mself\u001b[0m\u001b[1;33m.\u001b[0m\u001b[0mb\u001b[0m\u001b[1;33m\u001b[0m\u001b[1;33m\u001b[0m\u001b[0m\n\u001b[0m",
      "\u001b[1;31mAttributeError\u001b[0m: 'int' object has no attribute 'a'"
     ]
    }
   ],
   "source": [
    "a.add(5,2,3)"
   ]
  },
  {
   "cell_type": "code",
   "execution_count": 46,
   "id": "3fa802c9",
   "metadata": {},
   "outputs": [
    {
     "data": {
      "text/plain": [
       "3"
      ]
     },
     "execution_count": 46,
     "metadata": {},
     "output_type": "execute_result"
    }
   ],
   "source": [
    "a.add(a, 2, 3)"
   ]
  },
  {
   "cell_type": "code",
   "execution_count": 47,
   "id": "67c8d9c9",
   "metadata": {},
   "outputs": [],
   "source": [
    "class A:\n",
    "    def __init__(self, a, b):\n",
    "        self.a = a\n",
    "        self.b = b\n",
    "    def print_conct_value(self, a, b):\n",
    "        return self.a + self.b\n",
    "    \n",
    "    @staticmethod\n",
    "    def add(self, a, b):\n",
    "        return a + self.b"
   ]
  },
  {
   "cell_type": "code",
   "execution_count": 48,
   "id": "ae57d72f",
   "metadata": {},
   "outputs": [],
   "source": [
    "a = A(1,2)"
   ]
  },
  {
   "cell_type": "code",
   "execution_count": 49,
   "id": "bde5c653",
   "metadata": {},
   "outputs": [
    {
     "data": {
      "text/plain": [
       "4"
      ]
     },
     "execution_count": 49,
     "metadata": {},
     "output_type": "execute_result"
    }
   ],
   "source": [
    "a.add(a, 2, 3)"
   ]
  },
  {
   "cell_type": "code",
   "execution_count": 50,
   "id": "e8d850de",
   "metadata": {},
   "outputs": [
    {
     "data": {
      "text/plain": [
       "1"
      ]
     },
     "execution_count": 50,
     "metadata": {},
     "output_type": "execute_result"
    }
   ],
   "source": [
    "a.a"
   ]
  },
  {
   "cell_type": "code",
   "execution_count": 51,
   "id": "9a665edd",
   "metadata": {},
   "outputs": [
    {
     "data": {
      "text/plain": [
       "2"
      ]
     },
     "execution_count": 51,
     "metadata": {},
     "output_type": "execute_result"
    }
   ],
   "source": [
    "a.b"
   ]
  },
  {
   "cell_type": "code",
   "execution_count": 52,
   "id": "c9d60d2e",
   "metadata": {},
   "outputs": [],
   "source": [
    "# dunder Method --> Double Underscore method\n",
    "# it is also called Magic method\n",
    "__init__\n",
    "__str__\n",
    "__repr__\n",
    "__add__\n",
    "__sub__\n",
    "__lt__\n",
    "__gt__"
   ]
  },
  {
   "cell_type": "code",
   "execution_count": 59,
   "id": "1659f163",
   "metadata": {},
   "outputs": [],
   "source": [
    "class Complex:\n",
    "    def __init__(self, real, compl):\n",
    "        self.real = real\n",
    "        self.compl = compl\n",
    "    \n",
    "    def __add__(self, other):\n",
    "        return str(self.real+other.real) + \"+ i\" + str(self.compl + other.compl)"
   ]
  },
  {
   "cell_type": "code",
   "execution_count": 60,
   "id": "aa618dd7",
   "metadata": {},
   "outputs": [],
   "source": [
    "c1 = Complex(2, 3)\n",
    "c2 = Complex(3, 4)\n",
    "#c1 = 2 + 3i,   c2 = 3 + 4i\n",
    "#c3 = c1 + c2 = 5 + 7i"
   ]
  },
  {
   "cell_type": "code",
   "execution_count": 61,
   "id": "51d4511e",
   "metadata": {},
   "outputs": [],
   "source": [
    "c3 = c1.__add__(c2)"
   ]
  },
  {
   "cell_type": "code",
   "execution_count": 62,
   "id": "9c9f183f",
   "metadata": {},
   "outputs": [
    {
     "data": {
      "text/plain": [
       "'5+ i7'"
      ]
     },
     "execution_count": 62,
     "metadata": {},
     "output_type": "execute_result"
    }
   ],
   "source": [
    "c3"
   ]
  },
  {
   "cell_type": "code",
   "execution_count": 64,
   "id": "b263f11e",
   "metadata": {},
   "outputs": [],
   "source": [
    "c4 = c1 + c2"
   ]
  },
  {
   "cell_type": "code",
   "execution_count": 65,
   "id": "08afd4fe",
   "metadata": {},
   "outputs": [
    {
     "name": "stdout",
     "output_type": "stream",
     "text": [
      "5+ i7\n"
     ]
    }
   ],
   "source": [
    "print(c4)"
   ]
  },
  {
   "cell_type": "code",
   "execution_count": 66,
   "id": "9f9a85bf",
   "metadata": {},
   "outputs": [
    {
     "ename": "TypeError",
     "evalue": "unsupported operand type(s) for -: 'Complex' and 'Complex'",
     "output_type": "error",
     "traceback": [
      "\u001b[1;31m---------------------------------------------------------------------------\u001b[0m",
      "\u001b[1;31mTypeError\u001b[0m                                 Traceback (most recent call last)",
      "\u001b[1;32mC:\\Users\\KUNALC~1\\AppData\\Local\\Temp/ipykernel_23056/1420724433.py\u001b[0m in \u001b[0;36m<module>\u001b[1;34m\u001b[0m\n\u001b[1;32m----> 1\u001b[1;33m \u001b[0mc5\u001b[0m \u001b[1;33m=\u001b[0m \u001b[0mc1\u001b[0m \u001b[1;33m-\u001b[0m \u001b[0mc2\u001b[0m\u001b[1;33m\u001b[0m\u001b[1;33m\u001b[0m\u001b[0m\n\u001b[0m",
      "\u001b[1;31mTypeError\u001b[0m: unsupported operand type(s) for -: 'Complex' and 'Complex'"
     ]
    }
   ],
   "source": [
    "c5 = c1 - c2"
   ]
  },
  {
   "cell_type": "code",
   "execution_count": 67,
   "id": "a3a07413",
   "metadata": {},
   "outputs": [],
   "source": [
    "class Complex:\n",
    "    def __init__(self, real, compl):\n",
    "        self.real = real\n",
    "        self.compl = compl\n",
    "    \n",
    "    def __add__(self, other):\n",
    "        return str(self.real+other.real) + \"+ i\" + str(self.compl + other.compl)\n",
    "    \n",
    "    def __sub__(self, other):\n",
    "        return str(self.real-other.real) + \"- i\" + str(self.compl-other.compl) "
   ]
  },
  {
   "cell_type": "code",
   "execution_count": 68,
   "id": "28f0e486",
   "metadata": {},
   "outputs": [
    {
     "name": "stdout",
     "output_type": "stream",
     "text": [
      "2- i1\n"
     ]
    }
   ],
   "source": [
    "c1 = Complex(4, 2)\n",
    "c2 = Complex(2, 1)\n",
    "print(c1 - c2)"
   ]
  },
  {
   "cell_type": "code",
   "execution_count": 69,
   "id": "bcfe6d8d",
   "metadata": {},
   "outputs": [
    {
     "name": "stdout",
     "output_type": "stream",
     "text": [
      "6+ i3\n"
     ]
    }
   ],
   "source": [
    "print(c1 + c2)"
   ]
  },
  {
   "cell_type": "code",
   "execution_count": 70,
   "id": "1c515dde",
   "metadata": {},
   "outputs": [
    {
     "ename": "TypeError",
     "evalue": "__sub__() missing 1 required positional argument: 'other'",
     "output_type": "error",
     "traceback": [
      "\u001b[1;31m---------------------------------------------------------------------------\u001b[0m",
      "\u001b[1;31mTypeError\u001b[0m                                 Traceback (most recent call last)",
      "\u001b[1;32mC:\\Users\\KUNALC~1\\AppData\\Local\\Temp/ipykernel_23056/1944397295.py\u001b[0m in \u001b[0;36m<module>\u001b[1;34m\u001b[0m\n\u001b[1;32m----> 1\u001b[1;33m \u001b[0mc1\u001b[0m\u001b[1;33m.\u001b[0m\u001b[0m__sub__\u001b[0m\u001b[1;33m(\u001b[0m\u001b[1;33m)\u001b[0m\u001b[1;33m\u001b[0m\u001b[1;33m\u001b[0m\u001b[0m\n\u001b[0m",
      "\u001b[1;31mTypeError\u001b[0m: __sub__() missing 1 required positional argument: 'other'"
     ]
    }
   ],
   "source": [
    "c1.__sub__()"
   ]
  },
  {
   "cell_type": "code",
   "execution_count": 71,
   "id": "5196b8d8",
   "metadata": {},
   "outputs": [
    {
     "data": {
      "text/plain": [
       "'2- i1'"
      ]
     },
     "execution_count": 71,
     "metadata": {},
     "output_type": "execute_result"
    }
   ],
   "source": [
    "c1.__sub__(c2)"
   ]
  },
  {
   "cell_type": "code",
   "execution_count": null,
   "id": "4e83a0f6",
   "metadata": {},
   "outputs": [],
   "source": []
  },
  {
   "cell_type": "code",
   "execution_count": null,
   "id": "31448798",
   "metadata": {},
   "outputs": [],
   "source": []
  }
 ],
 "metadata": {
  "kernelspec": {
   "display_name": "Python 3 (ipykernel)",
   "language": "python",
   "name": "python3"
  },
  "language_info": {
   "codemirror_mode": {
    "name": "ipython",
    "version": 3
   },
   "file_extension": ".py",
   "mimetype": "text/x-python",
   "name": "python",
   "nbconvert_exporter": "python",
   "pygments_lexer": "ipython3",
   "version": "3.9.7"
  }
 },
 "nbformat": 4,
 "nbformat_minor": 5
}
