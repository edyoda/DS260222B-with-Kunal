{
 "cells": [
  {
   "cell_type": "code",
   "execution_count": 1,
   "id": "35c4008b",
   "metadata": {},
   "outputs": [],
   "source": [
    "l = [1,5,8,\"Adil\",\"Meraj\",\"Arman\",\"Zomato\",\"RRR\",\"Hrsha\",8.12,\"Bachan Pandey\",\"Kashmir files\",83,\\\n",
    "     \"Pushpa\"]"
   ]
  },
  {
   "cell_type": "code",
   "execution_count": 2,
   "id": "d86bfbe6",
   "metadata": {},
   "outputs": [
    {
     "name": "stdout",
     "output_type": "stream",
     "text": [
      "14\n"
     ]
    }
   ],
   "source": [
    "count = 0\n",
    "for i in l:\n",
    "    count+=1\n",
    "print(count)"
   ]
  },
  {
   "cell_type": "code",
   "execution_count": 3,
   "id": "ccf9d094",
   "metadata": {},
   "outputs": [
    {
     "name": "stdout",
     "output_type": "stream",
     "text": [
      "6\n"
     ]
    }
   ],
   "source": [
    "t = (1,5,98,7,9,6)\n",
    "count_tuple = 0\n",
    "for i in t:\n",
    "    count_tuple+=1\n",
    "print(count_tuple)"
   ]
  },
  {
   "cell_type": "code",
   "execution_count": 5,
   "id": "df7dd535",
   "metadata": {},
   "outputs": [
    {
     "name": "stdout",
     "output_type": "stream",
     "text": [
      "3\n"
     ]
    }
   ],
   "source": [
    "d = {1:None, False:[1,2,3], \"Saikumar\":\"Yes sir\"}\n",
    "count_dict = 0\n",
    "for i in d:\n",
    "    count_dict+=1\n",
    "print(count_dict)"
   ]
  },
  {
   "cell_type": "code",
   "execution_count": 6,
   "id": "7c167ec1",
   "metadata": {},
   "outputs": [
    {
     "name": "stdout",
     "output_type": "stream",
     "text": [
      "2\n"
     ]
    }
   ],
   "source": [
    "d={1:None,True:[1,2,3],\"test\":\"hello\"}\n",
    "count_dic =0\n",
    "for i in d:\n",
    "    count_dic+=1\n",
    "print(count_dic)"
   ]
  },
  {
   "cell_type": "code",
   "execution_count": 7,
   "id": "f380154e",
   "metadata": {},
   "outputs": [
    {
     "data": {
      "text/plain": [
       "[1, 2, 3]"
      ]
     },
     "execution_count": 7,
     "metadata": {},
     "output_type": "execute_result"
    }
   ],
   "source": [
    "d[True]"
   ]
  },
  {
   "cell_type": "code",
   "execution_count": 8,
   "id": "b02947f3",
   "metadata": {},
   "outputs": [
    {
     "data": {
      "text/plain": [
       "[1, 2, 3]"
      ]
     },
     "execution_count": 8,
     "metadata": {},
     "output_type": "execute_result"
    }
   ],
   "source": [
    "d[1]"
   ]
  },
  {
   "cell_type": "code",
   "execution_count": 9,
   "id": "925d72ed",
   "metadata": {},
   "outputs": [
    {
     "data": {
      "text/plain": [
       "14"
      ]
     },
     "execution_count": 9,
     "metadata": {},
     "output_type": "execute_result"
    }
   ],
   "source": [
    "len(l)"
   ]
  },
  {
   "cell_type": "code",
   "execution_count": 10,
   "id": "8a0a1265",
   "metadata": {},
   "outputs": [],
   "source": [
    "# How to make these functions manually"
   ]
  },
  {
   "cell_type": "code",
   "execution_count": null,
   "id": "a56996dc",
   "metadata": {},
   "outputs": [],
   "source": [
    "#syntax\n",
    "def name_of_the_function(parameters):\n",
    "    ''' what this function is going to do '''\n",
    "    #statements"
   ]
  },
  {
   "cell_type": "code",
   "execution_count": 11,
   "id": "11ecf914",
   "metadata": {},
   "outputs": [],
   "source": [
    "def length(iterable): #function Definition\n",
    "    '''This function finds out the length of the iterable'''\n",
    "    count = 0\n",
    "    for i in iterable:\n",
    "        count+=1\n",
    "    return count"
   ]
  },
  {
   "cell_type": "code",
   "execution_count": 12,
   "id": "cd60b548",
   "metadata": {},
   "outputs": [
    {
     "data": {
      "text/plain": [
       "2"
      ]
     },
     "execution_count": 12,
     "metadata": {},
     "output_type": "execute_result"
    }
   ],
   "source": [
    "length(d) # function calling"
   ]
  },
  {
   "cell_type": "code",
   "execution_count": 13,
   "id": "733c4a8c",
   "metadata": {},
   "outputs": [
    {
     "data": {
      "text/plain": [
       "5"
      ]
     },
     "execution_count": 13,
     "metadata": {},
     "output_type": "execute_result"
    }
   ],
   "source": [
    "l=[12,32,34,23,'kavya']\n",
    "\n",
    "def length(iterable):\n",
    "    '''length of the list'''\n",
    "    count=0\n",
    "    for i in iterable:\n",
    "        count+=1\n",
    "    return count\n",
    "print(length(l))"
   ]
  },
  {
   "cell_type": "code",
   "execution_count": 14,
   "id": "28cb5615",
   "metadata": {},
   "outputs": [],
   "source": [
    "def length(iterable): #function Definition\n",
    "    '''This function finds out the length of the iterable'''\n",
    "    count = 0\n",
    "    for i in iterable:\n",
    "        count+=1\n",
    "    print(\"Hello\")\n",
    "    return count\n",
    "    print(\"Hello\")"
   ]
  },
  {
   "cell_type": "code",
   "execution_count": 15,
   "id": "49d4540f",
   "metadata": {},
   "outputs": [
    {
     "name": "stdout",
     "output_type": "stream",
     "text": [
      "Hello\n"
     ]
    },
    {
     "data": {
      "text/plain": [
       "5"
      ]
     },
     "execution_count": 15,
     "metadata": {},
     "output_type": "execute_result"
    }
   ],
   "source": [
    "length(l)"
   ]
  },
  {
   "cell_type": "code",
   "execution_count": 16,
   "id": "af397adb",
   "metadata": {},
   "outputs": [
    {
     "ename": "TypeError",
     "evalue": "'int' object is not iterable",
     "output_type": "error",
     "traceback": [
      "\u001b[1;31m---------------------------------------------------------------------------\u001b[0m",
      "\u001b[1;31mTypeError\u001b[0m                                 Traceback (most recent call last)",
      "\u001b[1;32mC:\\Users\\KUNALC~1\\AppData\\Local\\Temp/ipykernel_40428/757482388.py\u001b[0m in \u001b[0;36m<module>\u001b[1;34m\u001b[0m\n\u001b[1;32m----> 1\u001b[1;33m \u001b[0mlength\u001b[0m\u001b[1;33m(\u001b[0m\u001b[1;36m23\u001b[0m\u001b[1;33m)\u001b[0m\u001b[1;33m\u001b[0m\u001b[1;33m\u001b[0m\u001b[0m\n\u001b[0m",
      "\u001b[1;32mC:\\Users\\KUNALC~1\\AppData\\Local\\Temp/ipykernel_40428/2107868370.py\u001b[0m in \u001b[0;36mlength\u001b[1;34m(iterable)\u001b[0m\n\u001b[0;32m      2\u001b[0m     \u001b[1;34m'''This function finds out the length of the iterable'''\u001b[0m\u001b[1;33m\u001b[0m\u001b[1;33m\u001b[0m\u001b[0m\n\u001b[0;32m      3\u001b[0m     \u001b[0mcount\u001b[0m \u001b[1;33m=\u001b[0m \u001b[1;36m0\u001b[0m\u001b[1;33m\u001b[0m\u001b[1;33m\u001b[0m\u001b[0m\n\u001b[1;32m----> 4\u001b[1;33m     \u001b[1;32mfor\u001b[0m \u001b[0mi\u001b[0m \u001b[1;32min\u001b[0m \u001b[0miterable\u001b[0m\u001b[1;33m:\u001b[0m\u001b[1;33m\u001b[0m\u001b[1;33m\u001b[0m\u001b[0m\n\u001b[0m\u001b[0;32m      5\u001b[0m         \u001b[0mcount\u001b[0m\u001b[1;33m+=\u001b[0m\u001b[1;36m1\u001b[0m\u001b[1;33m\u001b[0m\u001b[1;33m\u001b[0m\u001b[0m\n\u001b[0;32m      6\u001b[0m     \u001b[0mprint\u001b[0m\u001b[1;33m(\u001b[0m\u001b[1;34m\"Hello\"\u001b[0m\u001b[1;33m)\u001b[0m\u001b[1;33m\u001b[0m\u001b[1;33m\u001b[0m\u001b[0m\n",
      "\u001b[1;31mTypeError\u001b[0m: 'int' object is not iterable"
     ]
    }
   ],
   "source": [
    "length(23)"
   ]
  },
  {
   "cell_type": "code",
   "execution_count": 17,
   "id": "24b235ef",
   "metadata": {},
   "outputs": [],
   "source": [
    "def add(Ganesh,Rathod):\n",
    "    return Ganesh+Rathod"
   ]
  },
  {
   "cell_type": "code",
   "execution_count": 18,
   "id": "e21c6f0a",
   "metadata": {},
   "outputs": [
    {
     "data": {
      "text/plain": [
       "74"
      ]
     },
     "execution_count": 18,
     "metadata": {},
     "output_type": "execute_result"
    }
   ],
   "source": [
    "add(8,66)"
   ]
  },
  {
   "cell_type": "code",
   "execution_count": 19,
   "id": "5204cd29",
   "metadata": {},
   "outputs": [
    {
     "data": {
      "text/plain": [
       "'Mona Dukandar'"
      ]
     },
     "execution_count": 19,
     "metadata": {},
     "output_type": "execute_result"
    }
   ],
   "source": [
    "add(\"Mona\",\" Dukandar\")"
   ]
  },
  {
   "cell_type": "code",
   "execution_count": 22,
   "id": "32c4389e",
   "metadata": {},
   "outputs": [],
   "source": [
    "def funt_one():\n",
    "    print(\"Ganesh\")"
   ]
  },
  {
   "cell_type": "code",
   "execution_count": 23,
   "id": "b9a8b224",
   "metadata": {},
   "outputs": [
    {
     "name": "stdout",
     "output_type": "stream",
     "text": [
      "Ganesh\n"
     ]
    }
   ],
   "source": [
    "funt_one()"
   ]
  },
  {
   "cell_type": "code",
   "execution_count": 24,
   "id": "d43c3695",
   "metadata": {},
   "outputs": [],
   "source": [
    "def funt_two():\n",
    "    \"\"\"Nothing in this function\"\"\""
   ]
  },
  {
   "cell_type": "code",
   "execution_count": 25,
   "id": "753c45ee",
   "metadata": {},
   "outputs": [
    {
     "name": "stdout",
     "output_type": "stream",
     "text": [
      "None\n"
     ]
    }
   ],
   "source": [
    "print(funt_two())"
   ]
  },
  {
   "cell_type": "code",
   "execution_count": null,
   "id": "49450505",
   "metadata": {},
   "outputs": [],
   "source": [
    "None is the default return type of the function"
   ]
  },
  {
   "cell_type": "code",
   "execution_count": 26,
   "id": "01e6deac",
   "metadata": {},
   "outputs": [],
   "source": [
    "x = len([1,2,3])"
   ]
  },
  {
   "cell_type": "code",
   "execution_count": 27,
   "id": "75572819",
   "metadata": {},
   "outputs": [
    {
     "name": "stdout",
     "output_type": "stream",
     "text": [
      "3\n"
     ]
    }
   ],
   "source": [
    "print(x)"
   ]
  },
  {
   "cell_type": "code",
   "execution_count": 29,
   "id": "a541370c",
   "metadata": {},
   "outputs": [
    {
     "name": "stdout",
     "output_type": "stream",
     "text": [
      "Ganesh\n"
     ]
    }
   ],
   "source": [
    "y = funt_one()"
   ]
  },
  {
   "cell_type": "code",
   "execution_count": 30,
   "id": "faf4bc45",
   "metadata": {},
   "outputs": [
    {
     "name": "stdout",
     "output_type": "stream",
     "text": [
      "None\n"
     ]
    }
   ],
   "source": [
    "print(y)"
   ]
  },
  {
   "cell_type": "code",
   "execution_count": null,
   "id": "67a3543e",
   "metadata": {},
   "outputs": [],
   "source": [
    "Q) WAP to define a function which takes a single int value and checks if it is even or odd\n",
    "5 mins 20:37"
   ]
  },
  {
   "cell_type": "code",
   "execution_count": 31,
   "id": "02987c13",
   "metadata": {},
   "outputs": [],
   "source": [
    "def check_even_odd(num):\n",
    "    if num%2==0:\n",
    "        print(\"Even\")\n",
    "    else:\n",
    "        print(\"Odd\")"
   ]
  },
  {
   "cell_type": "code",
   "execution_count": 32,
   "id": "fa2e1b26",
   "metadata": {},
   "outputs": [
    {
     "name": "stdout",
     "output_type": "stream",
     "text": [
      "Odd\n"
     ]
    }
   ],
   "source": [
    "check_even_odd(55)"
   ]
  },
  {
   "cell_type": "code",
   "execution_count": 33,
   "id": "eed8c707",
   "metadata": {},
   "outputs": [
    {
     "ename": "NameError",
     "evalue": "name 'var' is not defined",
     "output_type": "error",
     "traceback": [
      "\u001b[1;31m---------------------------------------------------------------------------\u001b[0m",
      "\u001b[1;31mNameError\u001b[0m                                 Traceback (most recent call last)",
      "\u001b[1;32mC:\\Users\\KUNALC~1\\AppData\\Local\\Temp/ipykernel_40428/258115967.py\u001b[0m in \u001b[0;36m<module>\u001b[1;34m\u001b[0m\n\u001b[1;32m----> 1\u001b[1;33m \u001b[0mvar\u001b[0m\u001b[1;33m(\u001b[0m\u001b[1;34m\"like\"\u001b[0m\u001b[1;33m)\u001b[0m\u001b[1;33m\u001b[0m\u001b[1;33m\u001b[0m\u001b[0m\n\u001b[0m",
      "\u001b[1;31mNameError\u001b[0m: name 'var' is not defined"
     ]
    }
   ],
   "source": [
    "var(\"like\")"
   ]
  },
  {
   "cell_type": "code",
   "execution_count": 36,
   "id": "bc5e793c",
   "metadata": {},
   "outputs": [],
   "source": [
    "var = 25\n",
    "def test_func():\n",
    "    print(var)"
   ]
  },
  {
   "cell_type": "code",
   "execution_count": 37,
   "id": "95cb3a12",
   "metadata": {},
   "outputs": [
    {
     "name": "stdout",
     "output_type": "stream",
     "text": [
      "25\n"
     ]
    }
   ],
   "source": [
    "test_func()"
   ]
  },
  {
   "cell_type": "code",
   "execution_count": 38,
   "id": "63856a83",
   "metadata": {},
   "outputs": [],
   "source": [
    "var = 25\n",
    "def test_func():\n",
    "    var = 32\n",
    "    print(var)"
   ]
  },
  {
   "cell_type": "code",
   "execution_count": 39,
   "id": "08e08166",
   "metadata": {},
   "outputs": [
    {
     "name": "stdout",
     "output_type": "stream",
     "text": [
      "32\n"
     ]
    }
   ],
   "source": [
    "test_func()"
   ]
  },
  {
   "cell_type": "code",
   "execution_count": 40,
   "id": "3e5a01b2",
   "metadata": {},
   "outputs": [
    {
     "name": "stdout",
     "output_type": "stream",
     "text": [
      "Sayali\n"
     ]
    }
   ],
   "source": [
    "val = \"Sayali\"\n",
    "def change_name():\n",
    "    val = \"Mona\"\n",
    "    print(val)\n",
    "print(val)"
   ]
  },
  {
   "cell_type": "code",
   "execution_count": 41,
   "id": "dc1e4e5e",
   "metadata": {},
   "outputs": [
    {
     "name": "stdout",
     "output_type": "stream",
     "text": [
      "Mona\n",
      "Sayali\n"
     ]
    }
   ],
   "source": [
    "change_name()\n",
    "print(val)"
   ]
  },
  {
   "cell_type": "code",
   "execution_count": 42,
   "id": "307d19d6",
   "metadata": {},
   "outputs": [],
   "source": [
    "def func1():\n",
    "    v = \"Mayank\""
   ]
  },
  {
   "cell_type": "code",
   "execution_count": 43,
   "id": "9ce92db4",
   "metadata": {},
   "outputs": [
    {
     "ename": "NameError",
     "evalue": "name 'v' is not defined",
     "output_type": "error",
     "traceback": [
      "\u001b[1;31m---------------------------------------------------------------------------\u001b[0m",
      "\u001b[1;31mNameError\u001b[0m                                 Traceback (most recent call last)",
      "\u001b[1;32mC:\\Users\\KUNALC~1\\AppData\\Local\\Temp/ipykernel_40428/1609929102.py\u001b[0m in \u001b[0;36m<module>\u001b[1;34m\u001b[0m\n\u001b[1;32m----> 1\u001b[1;33m \u001b[0mprint\u001b[0m\u001b[1;33m(\u001b[0m\u001b[0mv\u001b[0m\u001b[1;33m)\u001b[0m\u001b[1;33m\u001b[0m\u001b[1;33m\u001b[0m\u001b[0m\n\u001b[0m",
      "\u001b[1;31mNameError\u001b[0m: name 'v' is not defined"
     ]
    }
   ],
   "source": [
    "print(v)"
   ]
  },
  {
   "cell_type": "code",
   "execution_count": 44,
   "id": "7746e524",
   "metadata": {},
   "outputs": [
    {
     "ename": "NameError",
     "evalue": "name 'v' is not defined",
     "output_type": "error",
     "traceback": [
      "\u001b[1;31m---------------------------------------------------------------------------\u001b[0m",
      "\u001b[1;31mNameError\u001b[0m                                 Traceback (most recent call last)",
      "\u001b[1;32mC:\\Users\\KUNALC~1\\AppData\\Local\\Temp/ipykernel_40428/3894289364.py\u001b[0m in \u001b[0;36m<module>\u001b[1;34m\u001b[0m\n\u001b[0;32m      1\u001b[0m \u001b[0mfunc1\u001b[0m\u001b[1;33m(\u001b[0m\u001b[1;33m)\u001b[0m\u001b[1;33m\u001b[0m\u001b[1;33m\u001b[0m\u001b[0m\n\u001b[1;32m----> 2\u001b[1;33m \u001b[0mprint\u001b[0m\u001b[1;33m(\u001b[0m\u001b[0mv\u001b[0m\u001b[1;33m)\u001b[0m\u001b[1;33m\u001b[0m\u001b[1;33m\u001b[0m\u001b[0m\n\u001b[0m",
      "\u001b[1;31mNameError\u001b[0m: name 'v' is not defined"
     ]
    }
   ],
   "source": [
    "func1()\n",
    "print(v)"
   ]
  },
  {
   "cell_type": "code",
   "execution_count": 46,
   "id": "6a2f55a3",
   "metadata": {},
   "outputs": [
    {
     "name": "stdout",
     "output_type": "stream",
     "text": [
      "Mona\n",
      "Mona\n"
     ]
    }
   ],
   "source": [
    "val = \"Sayali\"\n",
    "def change_name():\n",
    "    global val\n",
    "    val = \"Mona\"\n",
    "    print(val)\n",
    "change_name()\n",
    "print(val)"
   ]
  },
  {
   "cell_type": "code",
   "execution_count": 48,
   "id": "be592c23",
   "metadata": {},
   "outputs": [
    {
     "name": "stdout",
     "output_type": "stream",
     "text": [
      "Sayali\n",
      "Sayali\n"
     ]
    }
   ],
   "source": [
    "val = \"Sayali\"\n",
    "def change_name():\n",
    "    print(val)\n",
    "change_name()\n",
    "print(val)"
   ]
  },
  {
   "cell_type": "code",
   "execution_count": 49,
   "id": "a2d7b56f",
   "metadata": {},
   "outputs": [],
   "source": [
    "def funct1():\n",
    "    #defining funct2\n",
    "    def funct2():\n",
    "        print(\"Varun\")\n",
    "    #calling funct2\n",
    "    funct2()\n",
    "    print(\"Sharon\")\n",
    "    "
   ]
  },
  {
   "cell_type": "code",
   "execution_count": 50,
   "id": "37a7407a",
   "metadata": {},
   "outputs": [
    {
     "name": "stdout",
     "output_type": "stream",
     "text": [
      "Varun\n",
      "Sharon\n"
     ]
    }
   ],
   "source": [
    "funct1()"
   ]
  },
  {
   "cell_type": "code",
   "execution_count": 51,
   "id": "93dc4198",
   "metadata": {},
   "outputs": [
    {
     "data": {
      "text/plain": [
       "8"
      ]
     },
     "execution_count": 51,
     "metadata": {},
     "output_type": "execute_result"
    }
   ],
   "source": [
    "max([1,2,8,6])"
   ]
  },
  {
   "cell_type": "code",
   "execution_count": null,
   "id": "e8acfd6d",
   "metadata": {},
   "outputs": [],
   "source": [
    "#max example in text document"
   ]
  }
 ],
 "metadata": {
  "kernelspec": {
   "display_name": "Python 3 (ipykernel)",
   "language": "python",
   "name": "python3"
  },
  "language_info": {
   "codemirror_mode": {
    "name": "ipython",
    "version": 3
   },
   "file_extension": ".py",
   "mimetype": "text/x-python",
   "name": "python",
   "nbconvert_exporter": "python",
   "pygments_lexer": "ipython3",
   "version": "3.9.7"
  }
 },
 "nbformat": 4,
 "nbformat_minor": 5
}
