{
 "cells": [
  {
   "cell_type": "markdown",
   "id": "9a916dce",
   "metadata": {},
   "source": [
    "## `File Handling`"
   ]
  },
  {
   "cell_type": "code",
   "execution_count": null,
   "id": "00d42b67",
   "metadata": {},
   "outputs": [],
   "source": [
    "create, save, open, edit, write, rename"
   ]
  },
  {
   "cell_type": "code",
   "execution_count": null,
   "id": "36bfe0bb",
   "metadata": {},
   "outputs": [],
   "source": [
    "Create\n",
    "Read\n",
    "Update\n",
    "Delete\n",
    "\n",
    "CRUD"
   ]
  },
  {
   "cell_type": "code",
   "execution_count": 2,
   "id": "f8162686",
   "metadata": {},
   "outputs": [],
   "source": [
    "f = open(\"students_info.txt\")"
   ]
  },
  {
   "cell_type": "code",
   "execution_count": 3,
   "id": "bf8f4b5b",
   "metadata": {},
   "outputs": [
    {
     "name": "stdout",
     "output_type": "stream",
     "text": [
      "Name:- charulinga\n",
      "Univerity:- Edyoda\n"
     ]
    }
   ],
   "source": [
    "print(f.read())"
   ]
  },
  {
   "cell_type": "code",
   "execution_count": 4,
   "id": "575c6c29",
   "metadata": {},
   "outputs": [],
   "source": [
    "f.close()"
   ]
  },
  {
   "cell_type": "code",
   "execution_count": 5,
   "id": "d48e7eef",
   "metadata": {},
   "outputs": [
    {
     "name": "stdout",
     "output_type": "stream",
     "text": [
      "Name:- charulinga\n",
      "Univerity:- Edyoda\n"
     ]
    }
   ],
   "source": [
    "f = open(\"E:\\Python Trainer\\DS260222B\\W04D04\\students_info.txt\")\n",
    "print(f.read())"
   ]
  },
  {
   "cell_type": "code",
   "execution_count": 6,
   "id": "9b709866",
   "metadata": {},
   "outputs": [],
   "source": [
    "f.close()"
   ]
  },
  {
   "cell_type": "code",
   "execution_count": 7,
   "id": "793bae31",
   "metadata": {},
   "outputs": [
    {
     "name": "stdout",
     "output_type": "stream",
     "text": [
      "<_io.TextIOWrapper name='E:\\\\Python Trainer\\\\DS260222B\\\\W04D04\\\\students_info.txt' mode='r' encoding='cp1252'>\n"
     ]
    }
   ],
   "source": [
    "f = open(\"E:\\Python Trainer\\DS260222B\\W04D04\\students_info.txt\")\n",
    "print(f)"
   ]
  },
  {
   "cell_type": "code",
   "execution_count": 8,
   "id": "4316a60b",
   "metadata": {},
   "outputs": [
    {
     "data": {
      "text/plain": [
       "'Name:'"
      ]
     },
     "execution_count": 8,
     "metadata": {},
     "output_type": "execute_result"
    }
   ],
   "source": [
    "f.read(5)"
   ]
  },
  {
   "cell_type": "code",
   "execution_count": 9,
   "id": "1172b84f",
   "metadata": {},
   "outputs": [
    {
     "data": {
      "text/plain": [
       "'- charulinga\\nUniverity:- Edyoda'"
      ]
     },
     "execution_count": 9,
     "metadata": {},
     "output_type": "execute_result"
    }
   ],
   "source": [
    "f.read()"
   ]
  },
  {
   "cell_type": "code",
   "execution_count": 10,
   "id": "ad6d74dc",
   "metadata": {},
   "outputs": [
    {
     "data": {
      "text/plain": [
       "''"
      ]
     },
     "execution_count": 10,
     "metadata": {},
     "output_type": "execute_result"
    }
   ],
   "source": [
    "f.read()"
   ]
  },
  {
   "cell_type": "code",
   "execution_count": 11,
   "id": "8a520804",
   "metadata": {},
   "outputs": [],
   "source": [
    "f.close()"
   ]
  },
  {
   "cell_type": "code",
   "execution_count": 12,
   "id": "611a31e1",
   "metadata": {},
   "outputs": [
    {
     "ename": "FileNotFoundError",
     "evalue": "[Errno 2] No such file or directory: 'kunal.txt'",
     "output_type": "error",
     "traceback": [
      "\u001b[1;31m---------------------------------------------------------------------------\u001b[0m",
      "\u001b[1;31mFileNotFoundError\u001b[0m                         Traceback (most recent call last)",
      "\u001b[1;32mC:\\Users\\KUNALC~1\\AppData\\Local\\Temp/ipykernel_40852/2345870290.py\u001b[0m in \u001b[0;36m<module>\u001b[1;34m\u001b[0m\n\u001b[1;32m----> 1\u001b[1;33m \u001b[0mf\u001b[0m \u001b[1;33m=\u001b[0m \u001b[0mopen\u001b[0m\u001b[1;33m(\u001b[0m\u001b[1;34m\"kunal.txt\"\u001b[0m\u001b[1;33m)\u001b[0m\u001b[1;33m\u001b[0m\u001b[1;33m\u001b[0m\u001b[0m\n\u001b[0m",
      "\u001b[1;31mFileNotFoundError\u001b[0m: [Errno 2] No such file or directory: 'kunal.txt'"
     ]
    }
   ],
   "source": [
    "f = open(\"kunal.txt\")"
   ]
  },
  {
   "cell_type": "code",
   "execution_count": 14,
   "id": "650f97d2",
   "metadata": {},
   "outputs": [],
   "source": [
    "f.close()"
   ]
  },
  {
   "cell_type": "code",
   "execution_count": 15,
   "id": "fbf9b917",
   "metadata": {},
   "outputs": [],
   "source": [
    "fp = open(\"students_info.txt\", \"r\")\n",
    "fp.close()"
   ]
  },
  {
   "cell_type": "code",
   "execution_count": 16,
   "id": "15d91e8a",
   "metadata": {},
   "outputs": [],
   "source": [
    "# Write mode"
   ]
  },
  {
   "cell_type": "code",
   "execution_count": null,
   "id": "5289a04f",
   "metadata": {},
   "outputs": [],
   "source": [
    "# if file is not available in the directory it creates it for you in write mode\n",
    "# and if file is already available then it truncates the file and opens it in writing mode"
   ]
  },
  {
   "cell_type": "code",
   "execution_count": 17,
   "id": "ce394f26",
   "metadata": {},
   "outputs": [],
   "source": [
    "fp = open(\"write_operation.txt\", \"w\")\n",
    "fp.write(\"Hey I am written by write mode\")\n",
    "fp.close()"
   ]
  },
  {
   "cell_type": "code",
   "execution_count": 18,
   "id": "c66b7c4e",
   "metadata": {},
   "outputs": [
    {
     "name": "stdout",
     "output_type": "stream",
     "text": [
      "Hey I am written by write mode\n"
     ]
    }
   ],
   "source": [
    "fp = open(\"write_operation.txt\", \"r\")\n",
    "print(fp.read())\n",
    "fp.close()"
   ]
  },
  {
   "cell_type": "code",
   "execution_count": 19,
   "id": "e3c85de2",
   "metadata": {},
   "outputs": [],
   "source": [
    "fp = open(\"write_operation.txt\", \"r\")"
   ]
  },
  {
   "cell_type": "code",
   "execution_count": 20,
   "id": "c16532cc",
   "metadata": {},
   "outputs": [
    {
     "name": "stdout",
     "output_type": "stream",
     "text": [
      "Hey I am written by write mode\n",
      "Hey I am written manually\n",
      "Hey I am the third line written manually\n"
     ]
    }
   ],
   "source": [
    "print(fp.read())"
   ]
  },
  {
   "cell_type": "code",
   "execution_count": 21,
   "id": "cf2be5ef",
   "metadata": {},
   "outputs": [
    {
     "data": {
      "text/plain": [
       "0"
      ]
     },
     "execution_count": 21,
     "metadata": {},
     "output_type": "execute_result"
    }
   ],
   "source": [
    "fp.seek(0)"
   ]
  },
  {
   "cell_type": "code",
   "execution_count": 22,
   "id": "fa58c691",
   "metadata": {},
   "outputs": [
    {
     "name": "stdout",
     "output_type": "stream",
     "text": [
      "Hey I am written by write mode\n",
      "\n"
     ]
    }
   ],
   "source": [
    "s = fp.readline()\n",
    "print(s)"
   ]
  },
  {
   "cell_type": "code",
   "execution_count": 24,
   "id": "e2df3e1f",
   "metadata": {},
   "outputs": [
    {
     "name": "stdout",
     "output_type": "stream",
     "text": [
      "31\n"
     ]
    }
   ],
   "source": [
    "print(fp.tell())"
   ]
  },
  {
   "cell_type": "code",
   "execution_count": 25,
   "id": "eece385a",
   "metadata": {},
   "outputs": [
    {
     "name": "stdout",
     "output_type": "stream",
     "text": [
      "Hey I am written manually\n",
      "\n"
     ]
    }
   ],
   "source": [
    "print(fp.readline())"
   ]
  },
  {
   "cell_type": "code",
   "execution_count": 26,
   "id": "b1524ee0",
   "metadata": {},
   "outputs": [
    {
     "name": "stdout",
     "output_type": "stream",
     "text": [
      "Hey I am the third line written manually\n"
     ]
    }
   ],
   "source": [
    "print(fp.readline())"
   ]
  },
  {
   "cell_type": "code",
   "execution_count": 27,
   "id": "7b2b20d7",
   "metadata": {},
   "outputs": [
    {
     "name": "stdout",
     "output_type": "stream",
     "text": [
      "\n"
     ]
    }
   ],
   "source": [
    "print(fp.readline())"
   ]
  },
  {
   "cell_type": "code",
   "execution_count": 28,
   "id": "c6da19e1",
   "metadata": {},
   "outputs": [
    {
     "data": {
      "text/plain": [
       "97"
      ]
     },
     "execution_count": 28,
     "metadata": {},
     "output_type": "execute_result"
    }
   ],
   "source": [
    "fp.tell()"
   ]
  },
  {
   "cell_type": "code",
   "execution_count": 29,
   "id": "62283138",
   "metadata": {},
   "outputs": [
    {
     "data": {
      "text/plain": [
       "0"
      ]
     },
     "execution_count": 29,
     "metadata": {},
     "output_type": "execute_result"
    }
   ],
   "source": [
    "fp.seek(0)"
   ]
  },
  {
   "cell_type": "code",
   "execution_count": 30,
   "id": "c5b7ebcf",
   "metadata": {},
   "outputs": [
    {
     "data": {
      "text/plain": [
       "'Hey I am written by write mode\\nHey I am written manually\\nHey I am the third line written manually'"
      ]
     },
     "execution_count": 30,
     "metadata": {},
     "output_type": "execute_result"
    }
   ],
   "source": [
    "fp.read()"
   ]
  },
  {
   "cell_type": "code",
   "execution_count": 31,
   "id": "9c2dff6e",
   "metadata": {},
   "outputs": [
    {
     "data": {
      "text/plain": [
       "97"
      ]
     },
     "execution_count": 31,
     "metadata": {},
     "output_type": "execute_result"
    }
   ],
   "source": [
    "fp.tell()"
   ]
  },
  {
   "cell_type": "code",
   "execution_count": 32,
   "id": "af2b54f2",
   "metadata": {},
   "outputs": [],
   "source": [
    "fp.close()"
   ]
  },
  {
   "cell_type": "code",
   "execution_count": 33,
   "id": "5a6d41fd",
   "metadata": {},
   "outputs": [
    {
     "name": "stdout",
     "output_type": "stream",
     "text": [
      "['Name:- charulinga\\n', 'Univerity:- Edyoda']\n"
     ]
    }
   ],
   "source": [
    "file = open(\"students_info.txt\", \"r\")\n",
    "l = file.readlines()\n",
    "print(l)\n",
    "file.close()"
   ]
  },
  {
   "cell_type": "code",
   "execution_count": 34,
   "id": "d5cb4371",
   "metadata": {},
   "outputs": [],
   "source": [
    "# write mode\n",
    "# if file is not available in the directory it creates it for you in write mode\n",
    "# and if file is already available then it truncates the file and opens it in writing mode"
   ]
  },
  {
   "cell_type": "code",
   "execution_count": 35,
   "id": "aa547c78",
   "metadata": {},
   "outputs": [
    {
     "data": {
      "text/plain": [
       "54"
      ]
     },
     "execution_count": 35,
     "metadata": {},
     "output_type": "execute_result"
    }
   ],
   "source": [
    "file = open(\"assignments.py\", \"w\")\n",
    "# def func():\n",
    "#     for i in range(11):\n",
    "#         print(i)\n",
    "code = '''\n",
    "def func():\n",
    "    for i in range(11):\n",
    "        print(i)\n",
    "'''\n",
    "file.write(code)\n",
    "file.close()"
   ]
  },
  {
   "cell_type": "code",
   "execution_count": 36,
   "id": "853741e5",
   "metadata": {},
   "outputs": [],
   "source": [
    "file.close()"
   ]
  },
  {
   "cell_type": "code",
   "execution_count": 37,
   "id": "1d649280",
   "metadata": {},
   "outputs": [
    {
     "name": "stdout",
     "output_type": "stream",
     "text": [
      "0\n",
      "1\n",
      "2\n",
      "3\n",
      "4\n",
      "5\n",
      "6\n",
      "7\n",
      "8\n",
      "9\n",
      "10\n"
     ]
    }
   ],
   "source": [
    "import assignments as asgn\n",
    "asgn.func()"
   ]
  },
  {
   "cell_type": "code",
   "execution_count": 38,
   "id": "5435ac94",
   "metadata": {},
   "outputs": [
    {
     "name": "stdout",
     "output_type": "stream",
     "text": [
      "\n",
      "None\n"
     ]
    }
   ],
   "source": [
    "print(print())"
   ]
  },
  {
   "cell_type": "code",
   "execution_count": 39,
   "id": "17ec6ae7",
   "metadata": {},
   "outputs": [
    {
     "name": "stdout",
     "output_type": "stream",
     "text": [
      "Help on module assignments:\n",
      "\n",
      "NAME\n",
      "    assignments\n",
      "\n",
      "FUNCTIONS\n",
      "    func()\n",
      "\n",
      "FILE\n",
      "    e:\\python trainer\\ds260222b\\w04d04\\assignments.py\n",
      "\n",
      "\n"
     ]
    }
   ],
   "source": [
    "help(asgn)"
   ]
  },
  {
   "cell_type": "code",
   "execution_count": 40,
   "id": "741e4b55",
   "metadata": {},
   "outputs": [
    {
     "name": "stdout",
     "output_type": "stream",
     "text": [
      "Help on module assignments:\n",
      "\n",
      "NAME\n",
      "    assignments\n",
      "\n",
      "FUNCTIONS\n",
      "    func()\n",
      "\n",
      "FILE\n",
      "    e:\\python trainer\\ds260222b\\w04d04\\assignments.py\n",
      "\n",
      "\n",
      "None\n"
     ]
    }
   ],
   "source": [
    "print(help(asgn))"
   ]
  },
  {
   "cell_type": "code",
   "execution_count": 41,
   "id": "6eb84104",
   "metadata": {},
   "outputs": [
    {
     "ename": "ModuleNotFoundError",
     "evalue": "No module named 'name'",
     "output_type": "error",
     "traceback": [
      "\u001b[1;31m---------------------------------------------------------------------------\u001b[0m",
      "\u001b[1;31mModuleNotFoundError\u001b[0m                       Traceback (most recent call last)",
      "\u001b[1;32mC:\\Users\\KUNALC~1\\AppData\\Local\\Temp/ipykernel_40852/2304510203.py\u001b[0m in \u001b[0;36m<module>\u001b[1;34m\u001b[0m\n\u001b[1;32m----> 1\u001b[1;33m \u001b[1;32mimport\u001b[0m \u001b[0mname\u001b[0m\u001b[1;33m\u001b[0m\u001b[1;33m\u001b[0m\u001b[0m\n\u001b[0m",
      "\u001b[1;31mModuleNotFoundError\u001b[0m: No module named 'name'"
     ]
    }
   ],
   "source": [
    "import name"
   ]
  },
  {
   "cell_type": "code",
   "execution_count": 42,
   "id": "9b73b421",
   "metadata": {},
   "outputs": [],
   "source": [
    "file = open(\"numbers.txt\", \"w\")\n",
    "for i in range(10):\n",
    "    file.write(str(i)+\"\\n\")"
   ]
  },
  {
   "cell_type": "code",
   "execution_count": 43,
   "id": "dbc036a7",
   "metadata": {},
   "outputs": [
    {
     "ename": "UnsupportedOperation",
     "evalue": "not readable",
     "output_type": "error",
     "traceback": [
      "\u001b[1;31m---------------------------------------------------------------------------\u001b[0m",
      "\u001b[1;31mUnsupportedOperation\u001b[0m                      Traceback (most recent call last)",
      "\u001b[1;32mC:\\Users\\KUNALC~1\\AppData\\Local\\Temp/ipykernel_40852/1407933502.py\u001b[0m in \u001b[0;36m<module>\u001b[1;34m\u001b[0m\n\u001b[1;32m----> 1\u001b[1;33m \u001b[0mfile\u001b[0m\u001b[1;33m.\u001b[0m\u001b[0mread\u001b[0m\u001b[1;33m(\u001b[0m\u001b[1;33m)\u001b[0m\u001b[1;33m\u001b[0m\u001b[1;33m\u001b[0m\u001b[0m\n\u001b[0m",
      "\u001b[1;31mUnsupportedOperation\u001b[0m: not readable"
     ]
    }
   ],
   "source": [
    "file.read()"
   ]
  },
  {
   "cell_type": "code",
   "execution_count": 44,
   "id": "40326b0a",
   "metadata": {},
   "outputs": [],
   "source": [
    "file.close()"
   ]
  },
  {
   "cell_type": "code",
   "execution_count": 45,
   "id": "6d610cd7",
   "metadata": {},
   "outputs": [
    {
     "name": "stdout",
     "output_type": "stream",
     "text": [
      "0\n",
      "1\n",
      "2\n",
      "3\n",
      "4\n",
      "5\n",
      "6\n",
      "7\n",
      "8\n",
      "9\n",
      "\n"
     ]
    }
   ],
   "source": [
    "file = open(\"numbers.txt\",\"r\")\n",
    "print(file.read())"
   ]
  },
  {
   "cell_type": "code",
   "execution_count": 46,
   "id": "37fa9c33",
   "metadata": {},
   "outputs": [],
   "source": [
    "file.close()"
   ]
  },
  {
   "cell_type": "code",
   "execution_count": 47,
   "id": "bb229b1f",
   "metadata": {},
   "outputs": [
    {
     "name": "stdout",
     "output_type": "stream",
     "text": [
      "0\n",
      "1\n",
      "2\n",
      "3\n",
      "4\n",
      "5\n",
      "6\n",
      "7\n",
      "8\n",
      "9\n",
      "\n"
     ]
    },
    {
     "ename": "UnsupportedOperation",
     "evalue": "not writable",
     "output_type": "error",
     "traceback": [
      "\u001b[1;31m---------------------------------------------------------------------------\u001b[0m",
      "\u001b[1;31mUnsupportedOperation\u001b[0m                      Traceback (most recent call last)",
      "\u001b[1;32mC:\\Users\\KUNALC~1\\AppData\\Local\\Temp/ipykernel_40852/571462195.py\u001b[0m in \u001b[0;36m<module>\u001b[1;34m\u001b[0m\n\u001b[0;32m      1\u001b[0m \u001b[0mfile\u001b[0m \u001b[1;33m=\u001b[0m \u001b[0mopen\u001b[0m\u001b[1;33m(\u001b[0m\u001b[1;34m\"numbers.txt\"\u001b[0m\u001b[1;33m,\u001b[0m\u001b[1;34m\"r\"\u001b[0m\u001b[1;33m)\u001b[0m\u001b[1;33m\u001b[0m\u001b[1;33m\u001b[0m\u001b[0m\n\u001b[0;32m      2\u001b[0m \u001b[0mprint\u001b[0m\u001b[1;33m(\u001b[0m\u001b[0mfile\u001b[0m\u001b[1;33m.\u001b[0m\u001b[0mread\u001b[0m\u001b[1;33m(\u001b[0m\u001b[1;33m)\u001b[0m\u001b[1;33m)\u001b[0m\u001b[1;33m\u001b[0m\u001b[1;33m\u001b[0m\u001b[0m\n\u001b[1;32m----> 3\u001b[1;33m \u001b[0mfile\u001b[0m\u001b[1;33m.\u001b[0m\u001b[0mwrite\u001b[0m\u001b[1;33m(\u001b[0m\u001b[1;34m\"Hey If I work Kunal will go to MARS\"\u001b[0m\u001b[1;33m)\u001b[0m\u001b[1;33m\u001b[0m\u001b[1;33m\u001b[0m\u001b[0m\n\u001b[0m",
      "\u001b[1;31mUnsupportedOperation\u001b[0m: not writable"
     ]
    }
   ],
   "source": [
    "file = open(\"numbers.txt\",\"r\") #we opened the file in reading mode\n",
    "print(file.read())\n",
    "file.write(\"Hey If I work Kunal will go to MARS\")"
   ]
  },
  {
   "cell_type": "code",
   "execution_count": 48,
   "id": "2d1e0479",
   "metadata": {},
   "outputs": [],
   "source": [
    "file.close()"
   ]
  },
  {
   "cell_type": "code",
   "execution_count": null,
   "id": "aad08a9e",
   "metadata": {},
   "outputs": [],
   "source": []
  },
  {
   "cell_type": "code",
   "execution_count": 50,
   "id": "b4e2e976",
   "metadata": {},
   "outputs": [
    {
     "ename": "ValueError",
     "evalue": "I/O operation on closed file.",
     "output_type": "error",
     "traceback": [
      "\u001b[1;31m---------------------------------------------------------------------------\u001b[0m",
      "\u001b[1;31mValueError\u001b[0m                                Traceback (most recent call last)",
      "\u001b[1;32mC:\\Users\\KUNALC~1\\AppData\\Local\\Temp/ipykernel_40852/1407933502.py\u001b[0m in \u001b[0;36m<module>\u001b[1;34m\u001b[0m\n\u001b[1;32m----> 1\u001b[1;33m \u001b[0mfile\u001b[0m\u001b[1;33m.\u001b[0m\u001b[0mread\u001b[0m\u001b[1;33m(\u001b[0m\u001b[1;33m)\u001b[0m\u001b[1;33m\u001b[0m\u001b[1;33m\u001b[0m\u001b[0m\n\u001b[0m",
      "\u001b[1;31mValueError\u001b[0m: I/O operation on closed file."
     ]
    }
   ],
   "source": [
    "file.read()"
   ]
  },
  {
   "cell_type": "markdown",
   "id": "8e1f36e5",
   "metadata": {},
   "source": [
    "``` Q where will be the file pointer if I open the file in reading mode\n",
    " A - start of the file```"
   ]
  },
  {
   "cell_type": "code",
   "execution_count": null,
   "id": "0265ac8c",
   "metadata": {},
   "outputs": [],
   "source": [
    "Q2 where will be the file pointer if I open the file with writing mode(w)\n",
    "A - start of the file"
   ]
  },
  {
   "cell_type": "code",
   "execution_count": null,
   "id": "60304b97",
   "metadata": {},
   "outputs": [],
   "source": [
    "s = open(\"name.txt\", \"w\")\n",
    "s.write(\"OOPs did I do smthing\")"
   ]
  }
 ],
 "metadata": {
  "kernelspec": {
   "display_name": "Python 3 (ipykernel)",
   "language": "python",
   "name": "python3"
  },
  "language_info": {
   "codemirror_mode": {
    "name": "ipython",
    "version": 3
   },
   "file_extension": ".py",
   "mimetype": "text/x-python",
   "name": "python",
   "nbconvert_exporter": "python",
   "pygments_lexer": "ipython3",
   "version": "3.9.7"
  }
 },
 "nbformat": 4,
 "nbformat_minor": 5
}
