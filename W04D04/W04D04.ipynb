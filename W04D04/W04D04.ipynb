{
 "cells": [
  {
   "cell_type": "markdown",
   "id": "a17703cf",
   "metadata": {},
   "source": [
    "## `File Handling`"
   ]
  },
  {
   "cell_type": "code",
   "execution_count": null,
   "id": "eb9268c6",
   "metadata": {},
   "outputs": [],
   "source": [
    "create, save, open, edit, write, rename"
   ]
  },
  {
   "cell_type": "code",
   "execution_count": null,
   "id": "e8e393b9",
   "metadata": {},
   "outputs": [],
   "source": [
    "Create\n",
    "Read\n",
    "Update\n",
    "Delete\n",
    "\n",
    "CRUD"
   ]
  },
  {
   "cell_type": "code",
   "execution_count": 2,
   "id": "fae2bc24",
   "metadata": {},
   "outputs": [],
   "source": [
    "f = open(\"students_info.txt\")"
   ]
  },
  {
   "cell_type": "code",
   "execution_count": 3,
   "id": "a7a9d28a",
   "metadata": {},
   "outputs": [
    {
     "name": "stdout",
     "output_type": "stream",
     "text": [
      "Name:- charulinga\n",
      "Univerity:- Edyoda\n"
     ]
    }
   ],
   "source": [
    "print(f.read())"
   ]
  },
  {
   "cell_type": "code",
   "execution_count": 4,
   "id": "892a3e76",
   "metadata": {},
   "outputs": [],
   "source": [
    "f.close()"
   ]
  },
  {
   "cell_type": "code",
   "execution_count": 5,
   "id": "9c5fb755",
   "metadata": {},
   "outputs": [
    {
     "name": "stdout",
     "output_type": "stream",
     "text": [
      "Name:- charulinga\n",
      "Univerity:- Edyoda\n"
     ]
    }
   ],
   "source": [
    "f = open(\"E:\\Python Trainer\\DS260222B\\W04D04\\students_info.txt\")\n",
    "print(f.read())"
   ]
  },
  {
   "cell_type": "code",
   "execution_count": 6,
   "id": "aae1469a",
   "metadata": {},
   "outputs": [],
   "source": [
    "f.close()"
   ]
  },
  {
   "cell_type": "code",
   "execution_count": 7,
   "id": "209ed7c3",
   "metadata": {},
   "outputs": [
    {
     "name": "stdout",
     "output_type": "stream",
     "text": [
      "<_io.TextIOWrapper name='E:\\\\Python Trainer\\\\DS260222B\\\\W04D04\\\\students_info.txt' mode='r' encoding='cp1252'>\n"
     ]
    }
   ],
   "source": [
    "f = open(\"E:\\Python Trainer\\DS260222B\\W04D04\\students_info.txt\")\n",
    "print(f)"
   ]
  },
  {
   "cell_type": "code",
   "execution_count": 8,
   "id": "22bf9f8e",
   "metadata": {},
   "outputs": [
    {
     "data": {
      "text/plain": [
       "'Name:'"
      ]
     },
     "execution_count": 8,
     "metadata": {},
     "output_type": "execute_result"
    }
   ],
   "source": [
    "f.read(5)"
   ]
  },
  {
   "cell_type": "code",
   "execution_count": 9,
   "id": "03b2678d",
   "metadata": {},
   "outputs": [
    {
     "data": {
      "text/plain": [
       "'- charulinga\\nUniverity:- Edyoda'"
      ]
     },
     "execution_count": 9,
     "metadata": {},
     "output_type": "execute_result"
    }
   ],
   "source": [
    "f.read()"
   ]
  },
  {
   "cell_type": "code",
   "execution_count": 10,
   "id": "dc88de9b",
   "metadata": {},
   "outputs": [
    {
     "data": {
      "text/plain": [
       "''"
      ]
     },
     "execution_count": 10,
     "metadata": {},
     "output_type": "execute_result"
    }
   ],
   "source": [
    "f.read()"
   ]
  },
  {
   "cell_type": "code",
   "execution_count": 11,
   "id": "86673e73",
   "metadata": {},
   "outputs": [],
   "source": [
    "f.close()"
   ]
  },
  {
   "cell_type": "code",
   "execution_count": 12,
   "id": "c87b4196",
   "metadata": {},
   "outputs": [
    {
     "ename": "FileNotFoundError",
     "evalue": "[Errno 2] No such file or directory: 'kunal.txt'",
     "output_type": "error",
     "traceback": [
      "\u001b[1;31m---------------------------------------------------------------------------\u001b[0m",
      "\u001b[1;31mFileNotFoundError\u001b[0m                         Traceback (most recent call last)",
      "\u001b[1;32mC:\\Users\\KUNALC~1\\AppData\\Local\\Temp/ipykernel_40852/2345870290.py\u001b[0m in \u001b[0;36m<module>\u001b[1;34m\u001b[0m\n\u001b[1;32m----> 1\u001b[1;33m \u001b[0mf\u001b[0m \u001b[1;33m=\u001b[0m \u001b[0mopen\u001b[0m\u001b[1;33m(\u001b[0m\u001b[1;34m\"kunal.txt\"\u001b[0m\u001b[1;33m)\u001b[0m\u001b[1;33m\u001b[0m\u001b[1;33m\u001b[0m\u001b[0m\n\u001b[0m",
      "\u001b[1;31mFileNotFoundError\u001b[0m: [Errno 2] No such file or directory: 'kunal.txt'"
     ]
    }
   ],
   "source": [
    "f = open(\"kunal.txt\")"
   ]
  },
  {
   "cell_type": "code",
   "execution_count": 14,
   "id": "b6a2d194",
   "metadata": {},
   "outputs": [],
   "source": [
    "f.close()"
   ]
  },
  {
   "cell_type": "code",
   "execution_count": 15,
   "id": "a3182fe2",
   "metadata": {},
   "outputs": [],
   "source": [
    "fp = open(\"students_info.txt\", \"r\")\n",
    "fp.close()"
   ]
  },
  {
   "cell_type": "code",
   "execution_count": 16,
   "id": "a30133ac",
   "metadata": {},
   "outputs": [],
   "source": [
    "# Write mode"
   ]
  },
  {
   "cell_type": "code",
   "execution_count": null,
   "id": "0ec73590",
   "metadata": {},
   "outputs": [],
   "source": [
    "# if file is not available in the directory it creates it for you in write mode\n",
    "# and if file is already available then it truncates the file and opens it in writing mode"
   ]
  },
  {
   "cell_type": "code",
   "execution_count": 17,
   "id": "c5beaa91",
   "metadata": {},
   "outputs": [],
   "source": [
    "fp = open(\"write_operation.txt\", \"w\")\n",
    "fp.write(\"Hey I am written by write mode\")\n",
    "fp.close()"
   ]
  },
  {
   "cell_type": "code",
   "execution_count": 18,
   "id": "e225a817",
   "metadata": {},
   "outputs": [
    {
     "name": "stdout",
     "output_type": "stream",
     "text": [
      "Hey I am written by write mode\n"
     ]
    }
   ],
   "source": [
    "fp = open(\"write_operation.txt\", \"r\")\n",
    "print(fp.read())\n",
    "fp.close()"
   ]
  },
  {
   "cell_type": "code",
   "execution_count": 19,
   "id": "2364d235",
   "metadata": {},
   "outputs": [],
   "source": [
    "fp = open(\"write_operation.txt\", \"r\")"
   ]
  },
  {
   "cell_type": "code",
   "execution_count": 20,
   "id": "44528df0",
   "metadata": {},
   "outputs": [
    {
     "name": "stdout",
     "output_type": "stream",
     "text": [
      "Hey I am written by write mode\n",
      "Hey I am written manually\n",
      "Hey I am the third line written manually\n"
     ]
    }
   ],
   "source": [
    "print(fp.read())"
   ]
  },
  {
   "cell_type": "code",
   "execution_count": 21,
   "id": "65b2c9cb",
   "metadata": {},
   "outputs": [
    {
     "data": {
      "text/plain": [
       "0"
      ]
     },
     "execution_count": 21,
     "metadata": {},
     "output_type": "execute_result"
    }
   ],
   "source": [
    "fp.seek(0)"
   ]
  },
  {
   "cell_type": "code",
   "execution_count": 22,
   "id": "872f9be0",
   "metadata": {},
   "outputs": [
    {
     "name": "stdout",
     "output_type": "stream",
     "text": [
      "Hey I am written by write mode\n",
      "\n"
     ]
    }
   ],
   "source": [
    "s = fp.readline()\n",
    "print(s)"
   ]
  },
  {
   "cell_type": "code",
   "execution_count": 24,
   "id": "00302591",
   "metadata": {},
   "outputs": [
    {
     "name": "stdout",
     "output_type": "stream",
     "text": [
      "31\n"
     ]
    }
   ],
   "source": [
    "print(fp.tell())"
   ]
  },
  {
   "cell_type": "code",
   "execution_count": 25,
   "id": "803f2e83",
   "metadata": {},
   "outputs": [
    {
     "name": "stdout",
     "output_type": "stream",
     "text": [
      "Hey I am written manually\n",
      "\n"
     ]
    }
   ],
   "source": [
    "print(fp.readline())"
   ]
  },
  {
   "cell_type": "code",
   "execution_count": 26,
   "id": "bf4b324d",
   "metadata": {},
   "outputs": [
    {
     "name": "stdout",
     "output_type": "stream",
     "text": [
      "Hey I am the third line written manually\n"
     ]
    }
   ],
   "source": [
    "print(fp.readline())"
   ]
  },
  {
   "cell_type": "code",
   "execution_count": 27,
   "id": "e104267e",
   "metadata": {},
   "outputs": [
    {
     "name": "stdout",
     "output_type": "stream",
     "text": [
      "\n"
     ]
    }
   ],
   "source": [
    "print(fp.readline())"
   ]
  },
  {
   "cell_type": "code",
   "execution_count": 28,
   "id": "2b4ea635",
   "metadata": {},
   "outputs": [
    {
     "data": {
      "text/plain": [
       "97"
      ]
     },
     "execution_count": 28,
     "metadata": {},
     "output_type": "execute_result"
    }
   ],
   "source": [
    "fp.tell()"
   ]
  },
  {
   "cell_type": "code",
   "execution_count": 29,
   "id": "f583174c",
   "metadata": {},
   "outputs": [
    {
     "data": {
      "text/plain": [
       "0"
      ]
     },
     "execution_count": 29,
     "metadata": {},
     "output_type": "execute_result"
    }
   ],
   "source": [
    "fp.seek(0)"
   ]
  },
  {
   "cell_type": "code",
   "execution_count": 30,
   "id": "361e803c",
   "metadata": {},
   "outputs": [
    {
     "data": {
      "text/plain": [
       "'Hey I am written by write mode\\nHey I am written manually\\nHey I am the third line written manually'"
      ]
     },
     "execution_count": 30,
     "metadata": {},
     "output_type": "execute_result"
    }
   ],
   "source": [
    "fp.read()"
   ]
  },
  {
   "cell_type": "code",
   "execution_count": 31,
   "id": "a0a4032b",
   "metadata": {},
   "outputs": [
    {
     "data": {
      "text/plain": [
       "97"
      ]
     },
     "execution_count": 31,
     "metadata": {},
     "output_type": "execute_result"
    }
   ],
   "source": [
    "fp.tell()"
   ]
  },
  {
   "cell_type": "code",
   "execution_count": 32,
   "id": "3bbdc319",
   "metadata": {},
   "outputs": [],
   "source": [
    "fp.close()"
   ]
  },
  {
   "cell_type": "code",
   "execution_count": 33,
   "id": "1cb59d4a",
   "metadata": {},
   "outputs": [
    {
     "name": "stdout",
     "output_type": "stream",
     "text": [
      "['Name:- charulinga\\n', 'Univerity:- Edyoda']\n"
     ]
    }
   ],
   "source": [
    "file = open(\"students_info.txt\", \"r\")\n",
    "l = file.readlines()\n",
    "print(l)\n",
    "file.close()"
   ]
  },
  {
   "cell_type": "code",
   "execution_count": 34,
   "id": "9a5aad1a",
   "metadata": {},
   "outputs": [],
   "source": [
    "# write mode\n",
    "# if file is not available in the directory it creates it for you in write mode\n",
    "# and if file is already available then it truncates the file and opens it in writing mode"
   ]
  },
  {
   "cell_type": "code",
   "execution_count": 35,
   "id": "b3b98c4a",
   "metadata": {},
   "outputs": [
    {
     "data": {
      "text/plain": [
       "54"
      ]
     },
     "execution_count": 35,
     "metadata": {},
     "output_type": "execute_result"
    }
   ],
   "source": [
    "file = open(\"assignments.py\", \"w\")\n",
    "# def func():\n",
    "#     for i in range(11):\n",
    "#         print(i)\n",
    "code = '''\n",
    "def func():\n",
    "    for i in range(11):\n",
    "        print(i)\n",
    "'''\n",
    "file.write(code)\n",
    "file.close()"
   ]
  },
  {
   "cell_type": "code",
   "execution_count": 36,
   "id": "c10781d9",
   "metadata": {},
   "outputs": [],
   "source": [
    "file.close()"
   ]
  },
  {
   "cell_type": "code",
   "execution_count": 37,
   "id": "cb9b3451",
   "metadata": {},
   "outputs": [
    {
     "name": "stdout",
     "output_type": "stream",
     "text": [
      "0\n",
      "1\n",
      "2\n",
      "3\n",
      "4\n",
      "5\n",
      "6\n",
      "7\n",
      "8\n",
      "9\n",
      "10\n"
     ]
    }
   ],
   "source": [
    "import assignments as asgn\n",
    "asgn.func()"
   ]
  },
  {
   "cell_type": "code",
   "execution_count": 38,
   "id": "0def57d0",
   "metadata": {},
   "outputs": [
    {
     "name": "stdout",
     "output_type": "stream",
     "text": [
      "\n",
      "None\n"
     ]
    }
   ],
   "source": [
    "print(print())"
   ]
  },
  {
   "cell_type": "code",
   "execution_count": 39,
   "id": "7dbc0af6",
   "metadata": {},
   "outputs": [
    {
     "name": "stdout",
     "output_type": "stream",
     "text": [
      "Help on module assignments:\n",
      "\n",
      "NAME\n",
      "    assignments\n",
      "\n",
      "FUNCTIONS\n",
      "    func()\n",
      "\n",
      "FILE\n",
      "    e:\\python trainer\\ds260222b\\w04d04\\assignments.py\n",
      "\n",
      "\n"
     ]
    }
   ],
   "source": [
    "help(asgn)"
   ]
  },
  {
   "cell_type": "code",
   "execution_count": 40,
   "id": "4dfdaf3a",
   "metadata": {},
   "outputs": [
    {
     "name": "stdout",
     "output_type": "stream",
     "text": [
      "Help on module assignments:\n",
      "\n",
      "NAME\n",
      "    assignments\n",
      "\n",
      "FUNCTIONS\n",
      "    func()\n",
      "\n",
      "FILE\n",
      "    e:\\python trainer\\ds260222b\\w04d04\\assignments.py\n",
      "\n",
      "\n",
      "None\n"
     ]
    }
   ],
   "source": [
    "print(help(asgn))"
   ]
  },
  {
   "cell_type": "code",
   "execution_count": 41,
   "id": "44567f5f",
   "metadata": {},
   "outputs": [
    {
     "ename": "ModuleNotFoundError",
     "evalue": "No module named 'name'",
     "output_type": "error",
     "traceback": [
      "\u001b[1;31m---------------------------------------------------------------------------\u001b[0m",
      "\u001b[1;31mModuleNotFoundError\u001b[0m                       Traceback (most recent call last)",
      "\u001b[1;32mC:\\Users\\KUNALC~1\\AppData\\Local\\Temp/ipykernel_40852/2304510203.py\u001b[0m in \u001b[0;36m<module>\u001b[1;34m\u001b[0m\n\u001b[1;32m----> 1\u001b[1;33m \u001b[1;32mimport\u001b[0m \u001b[0mname\u001b[0m\u001b[1;33m\u001b[0m\u001b[1;33m\u001b[0m\u001b[0m\n\u001b[0m",
      "\u001b[1;31mModuleNotFoundError\u001b[0m: No module named 'name'"
     ]
    }
   ],
   "source": [
    "import name"
   ]
  },
  {
   "cell_type": "code",
   "execution_count": 42,
   "id": "17b00da4",
   "metadata": {},
   "outputs": [],
   "source": [
    "file = open(\"numbers.txt\", \"w\")\n",
    "for i in range(10):\n",
    "    file.write(str(i)+\"\\n\")"
   ]
  },
  {
   "cell_type": "code",
   "execution_count": 43,
   "id": "f293c7c3",
   "metadata": {},
   "outputs": [
    {
     "ename": "UnsupportedOperation",
     "evalue": "not readable",
     "output_type": "error",
     "traceback": [
      "\u001b[1;31m---------------------------------------------------------------------------\u001b[0m",
      "\u001b[1;31mUnsupportedOperation\u001b[0m                      Traceback (most recent call last)",
      "\u001b[1;32mC:\\Users\\KUNALC~1\\AppData\\Local\\Temp/ipykernel_40852/1407933502.py\u001b[0m in \u001b[0;36m<module>\u001b[1;34m\u001b[0m\n\u001b[1;32m----> 1\u001b[1;33m \u001b[0mfile\u001b[0m\u001b[1;33m.\u001b[0m\u001b[0mread\u001b[0m\u001b[1;33m(\u001b[0m\u001b[1;33m)\u001b[0m\u001b[1;33m\u001b[0m\u001b[1;33m\u001b[0m\u001b[0m\n\u001b[0m",
      "\u001b[1;31mUnsupportedOperation\u001b[0m: not readable"
     ]
    }
   ],
   "source": [
    "file.read()"
   ]
  },
  {
   "cell_type": "code",
   "execution_count": 44,
   "id": "6b850cba",
   "metadata": {},
   "outputs": [],
   "source": [
    "file.close()"
   ]
  },
  {
   "cell_type": "code",
   "execution_count": 45,
   "id": "aa09c6d0",
   "metadata": {},
   "outputs": [
    {
     "name": "stdout",
     "output_type": "stream",
     "text": [
      "0\n",
      "1\n",
      "2\n",
      "3\n",
      "4\n",
      "5\n",
      "6\n",
      "7\n",
      "8\n",
      "9\n",
      "\n"
     ]
    }
   ],
   "source": [
    "file = open(\"numbers.txt\",\"r\")\n",
    "print(file.read())"
   ]
  },
  {
   "cell_type": "code",
   "execution_count": 46,
   "id": "89832e94",
   "metadata": {},
   "outputs": [],
   "source": [
    "file.close()"
   ]
  },
  {
   "cell_type": "code",
   "execution_count": 47,
   "id": "bc84779d",
   "metadata": {},
   "outputs": [
    {
     "name": "stdout",
     "output_type": "stream",
     "text": [
      "0\n",
      "1\n",
      "2\n",
      "3\n",
      "4\n",
      "5\n",
      "6\n",
      "7\n",
      "8\n",
      "9\n",
      "\n"
     ]
    },
    {
     "ename": "UnsupportedOperation",
     "evalue": "not writable",
     "output_type": "error",
     "traceback": [
      "\u001b[1;31m---------------------------------------------------------------------------\u001b[0m",
      "\u001b[1;31mUnsupportedOperation\u001b[0m                      Traceback (most recent call last)",
      "\u001b[1;32mC:\\Users\\KUNALC~1\\AppData\\Local\\Temp/ipykernel_40852/571462195.py\u001b[0m in \u001b[0;36m<module>\u001b[1;34m\u001b[0m\n\u001b[0;32m      1\u001b[0m \u001b[0mfile\u001b[0m \u001b[1;33m=\u001b[0m \u001b[0mopen\u001b[0m\u001b[1;33m(\u001b[0m\u001b[1;34m\"numbers.txt\"\u001b[0m\u001b[1;33m,\u001b[0m\u001b[1;34m\"r\"\u001b[0m\u001b[1;33m)\u001b[0m\u001b[1;33m\u001b[0m\u001b[1;33m\u001b[0m\u001b[0m\n\u001b[0;32m      2\u001b[0m \u001b[0mprint\u001b[0m\u001b[1;33m(\u001b[0m\u001b[0mfile\u001b[0m\u001b[1;33m.\u001b[0m\u001b[0mread\u001b[0m\u001b[1;33m(\u001b[0m\u001b[1;33m)\u001b[0m\u001b[1;33m)\u001b[0m\u001b[1;33m\u001b[0m\u001b[1;33m\u001b[0m\u001b[0m\n\u001b[1;32m----> 3\u001b[1;33m \u001b[0mfile\u001b[0m\u001b[1;33m.\u001b[0m\u001b[0mwrite\u001b[0m\u001b[1;33m(\u001b[0m\u001b[1;34m\"Hey If I work Kunal will go to MARS\"\u001b[0m\u001b[1;33m)\u001b[0m\u001b[1;33m\u001b[0m\u001b[1;33m\u001b[0m\u001b[0m\n\u001b[0m",
      "\u001b[1;31mUnsupportedOperation\u001b[0m: not writable"
     ]
    }
   ],
   "source": [
    "file = open(\"numbers.txt\",\"r\") #we opened the file in reading mode\n",
    "print(file.read())\n",
    "file.write(\"Hey If I work Kunal will go to MARS\")"
   ]
  },
  {
   "cell_type": "code",
   "execution_count": 48,
   "id": "00a2788a",
   "metadata": {},
   "outputs": [],
   "source": [
    "file.close()"
   ]
  },
  {
   "cell_type": "code",
   "execution_count": null,
   "id": "f925245a",
   "metadata": {},
   "outputs": [],
   "source": []
  },
  {
   "cell_type": "code",
   "execution_count": 50,
   "id": "15fb6405",
   "metadata": {},
   "outputs": [
    {
     "ename": "ValueError",
     "evalue": "I/O operation on closed file.",
     "output_type": "error",
     "traceback": [
      "\u001b[1;31m---------------------------------------------------------------------------\u001b[0m",
      "\u001b[1;31mValueError\u001b[0m                                Traceback (most recent call last)",
      "\u001b[1;32mC:\\Users\\KUNALC~1\\AppData\\Local\\Temp/ipykernel_40852/1407933502.py\u001b[0m in \u001b[0;36m<module>\u001b[1;34m\u001b[0m\n\u001b[1;32m----> 1\u001b[1;33m \u001b[0mfile\u001b[0m\u001b[1;33m.\u001b[0m\u001b[0mread\u001b[0m\u001b[1;33m(\u001b[0m\u001b[1;33m)\u001b[0m\u001b[1;33m\u001b[0m\u001b[1;33m\u001b[0m\u001b[0m\n\u001b[0m",
      "\u001b[1;31mValueError\u001b[0m: I/O operation on closed file."
     ]
    }
   ],
   "source": [
    "file.read()"
   ]
  },
  {
   "cell_type": "markdown",
   "id": "9d000c7d",
   "metadata": {},
   "source": [
    "``` Q where will be the file pointer if I open the file in reading mode\n",
    " A - start of the file```"
   ]
  },
  {
   "cell_type": "code",
   "execution_count": null,
   "id": "fe7a37c4",
   "metadata": {},
   "outputs": [],
   "source": [
    "Q2 where will be the file pointer if I open the file with writing mode(w)\n",
    "A - start of the file"
   ]
  },
  {
   "cell_type": "code",
   "execution_count": 51,
   "id": "ae0fc4ff",
   "metadata": {},
   "outputs": [],
   "source": [
    "s = open(\"name.txt\", \"w\")\n",
    "s.write(\"OOPs did I do smthing\")\n",
    "s.close()"
   ]
  },
  {
   "cell_type": "code",
   "execution_count": 52,
   "id": "8fba3149",
   "metadata": {},
   "outputs": [],
   "source": [
    "# append mode a\n",
    "# it opens the file with file pointer at the end of the file\n",
    "# if the file is not present it will create a new file for you"
   ]
  },
  {
   "cell_type": "code",
   "execution_count": 53,
   "id": "1a9b8ee7",
   "metadata": {},
   "outputs": [],
   "source": [
    "file = open(\"name.txt\", \"a\")\n",
    "# file.write(\"\\n\")\n",
    "file.write(\"Hey I am written from append mode\")\n",
    "file.close()"
   ]
  },
  {
   "cell_type": "code",
   "execution_count": 54,
   "id": "4f5754cd",
   "metadata": {},
   "outputs": [],
   "source": [
    "file2 = open(\"name.txt\",\"a\")\n",
    "file2.write(\"\\nHey I am in new line\")\n",
    "file2.close()"
   ]
  },
  {
   "cell_type": "code",
   "execution_count": 55,
   "id": "df185167",
   "metadata": {},
   "outputs": [],
   "source": [
    "file = open(\"arman\", \"a\")\n",
    "file.write(\"sir I did not write txt extension still its working\")\n",
    "file.close()"
   ]
  },
  {
   "cell_type": "code",
   "execution_count": 56,
   "id": "90f781eb",
   "metadata": {},
   "outputs": [
    {
     "ename": "FileNotFoundError",
     "evalue": "[Errno 2] No such file or directory: 'arman.txt'",
     "output_type": "error",
     "traceback": [
      "\u001b[1;31m---------------------------------------------------------------------------\u001b[0m",
      "\u001b[1;31mFileNotFoundError\u001b[0m                         Traceback (most recent call last)",
      "\u001b[1;32mC:\\Users\\KUNALC~1\\AppData\\Local\\Temp/ipykernel_40852/1201529129.py\u001b[0m in \u001b[0;36m<module>\u001b[1;34m\u001b[0m\n\u001b[1;32m----> 1\u001b[1;33m \u001b[0mfile\u001b[0m \u001b[1;33m=\u001b[0m \u001b[0mopen\u001b[0m\u001b[1;33m(\u001b[0m\u001b[1;34m\"arman.txt\"\u001b[0m\u001b[1;33m,\u001b[0m\u001b[1;34m\"r\"\u001b[0m\u001b[1;33m)\u001b[0m\u001b[1;33m\u001b[0m\u001b[1;33m\u001b[0m\u001b[0m\n\u001b[0m\u001b[0;32m      2\u001b[0m \u001b[0mprint\u001b[0m\u001b[1;33m(\u001b[0m\u001b[0mfile\u001b[0m\u001b[1;33m.\u001b[0m\u001b[0mread\u001b[0m\u001b[1;33m(\u001b[0m\u001b[1;33m)\u001b[0m\u001b[1;33m)\u001b[0m\u001b[1;33m\u001b[0m\u001b[1;33m\u001b[0m\u001b[0m\n\u001b[0;32m      3\u001b[0m \u001b[0mfile\u001b[0m\u001b[1;33m.\u001b[0m\u001b[0mclose\u001b[0m\u001b[1;33m(\u001b[0m\u001b[1;33m)\u001b[0m\u001b[1;33m\u001b[0m\u001b[1;33m\u001b[0m\u001b[0m\n",
      "\u001b[1;31mFileNotFoundError\u001b[0m: [Errno 2] No such file or directory: 'arman.txt'"
     ]
    }
   ],
   "source": [
    "file = open(\"arman.txt\",\"r\")\n",
    "print(file.read())\n",
    "file.close()"
   ]
  },
  {
   "cell_type": "code",
   "execution_count": null,
   "id": "04acac91",
   "metadata": {},
   "outputs": [],
   "source": [
    "Difference between \n",
    "            Reading mode(r)    |  Writing mode(w)   |  Append mode(a)\n",
    "filepoint:    strat of file         strat of file          EOF\n",
    "read():        yes                      no                  no\n",
    "write():       no                       yes                 yes\n",
    "File NotFound: error               create new file      create a new file\n",
    "    "
   ]
  },
  {
   "cell_type": "code",
   "execution_count": null,
   "id": "a7055315",
   "metadata": {},
   "outputs": [],
   "source": [
    "HW:\n",
    "    do some digging on r+, w+, a+ mode and also do some reading on seek() and tell()"
   ]
  }
 ],
 "metadata": {
  "kernelspec": {
   "display_name": "Python 3 (ipykernel)",
   "language": "python",
   "name": "python3"
  },
  "language_info": {
   "codemirror_mode": {
    "name": "ipython",
    "version": 3
   },
   "file_extension": ".py",
   "mimetype": "text/x-python",
   "name": "python",
   "nbconvert_exporter": "python",
   "pygments_lexer": "ipython3",
   "version": "3.9.7"
  }
 },
 "nbformat": 4,
 "nbformat_minor": 5
}
