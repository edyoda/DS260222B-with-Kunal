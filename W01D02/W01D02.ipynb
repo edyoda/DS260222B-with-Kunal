{
 "cells": [
  {
   "cell_type": "code",
   "execution_count": null,
   "id": "4f423c0a",
   "metadata": {},
   "outputs": [],
   "source": [
    "on off\n",
    "0 1 1 0 1 - Binary codes\n",
    "Progamming language:\n",
    "    python - object oriented programming language (OOPs)"
   ]
  },
  {
   "cell_type": "code",
   "execution_count": null,
   "id": "c878a608",
   "metadata": {},
   "outputs": [],
   "source": [
    "Feature of Jupyter Notebook\n",
    "      - code\n",
    "      - Presentation (Markdown)"
   ]
  },
  {
   "cell_type": "code",
   "execution_count": 1,
   "id": "2b792b8f",
   "metadata": {},
   "outputs": [
    {
     "name": "stdout",
     "output_type": "stream",
     "text": [
      "Hi Aramn\n"
     ]
    }
   ],
   "source": [
    "print(\"Hi Aramn\")  --> coding mode"
   ]
  },
  {
   "cell_type": "markdown",
   "id": "489290c8",
   "metadata": {},
   "source": [
    "Heading\n",
    "# Heading 1 --> `#`\n",
    "## Heading 2 --> `##`\n",
    "### Heading 3 --> `###`\n",
    "#### Heading 4 --> `####`"
   ]
  },
  {
   "cell_type": "markdown",
   "id": "eee75880",
   "metadata": {},
   "source": [
    "## Bold\n",
    "**Swarendu** `**`"
   ]
  },
  {
   "cell_type": "markdown",
   "id": "41719b9b",
   "metadata": {},
   "source": [
    "## Italic\n",
    "*italic feature of markdown* --> `*`"
   ]
  },
  {
   "cell_type": "markdown",
   "id": "7ca11d8b",
   "metadata": {},
   "source": [
    "## Blockquote\n",
    "\n",
    "> Hey I am blockquote --> `>`"
   ]
  },
  {
   "cell_type": "markdown",
   "id": "d70d0bde",
   "metadata": {},
   "source": [
    "# Hey I am heading 1\n",
    "\n",
    "hey I am bold with # bold, Hey I am **bold** with `**` "
   ]
  },
  {
   "cell_type": "markdown",
   "id": "6bee5ac0",
   "metadata": {},
   "source": [
    "## Odered list\n",
    "\n",
    "1. First item\n",
    "2. Second Item\n",
    "3. Third item"
   ]
  },
  {
   "cell_type": "markdown",
   "id": "7eda3a58",
   "metadata": {},
   "source": [
    "## Unordered list\n",
    "- First item\n",
    "- Second item\n",
    "- Third item"
   ]
  },
  {
   "cell_type": "markdown",
   "id": "ba7a14d9",
   "metadata": {},
   "source": [
    "## Code\n",
    "\n",
    "`Code mode on` --> `"
   ]
  },
  {
   "cell_type": "markdown",
   "id": "ebc611ec",
   "metadata": {},
   "source": [
    "## Horizontal Rule\n",
    "\n",
    "---"
   ]
  },
  {
   "cell_type": "markdown",
   "id": "1d872f9f",
   "metadata": {},
   "source": [
    "## Link\n",
    "[google](https://www.google.com)"
   ]
  },
  {
   "attachments": {
    "image.png": {
     "image/png": "[encoded data removed]"
    }
   },
   "cell_type": "markdown",
   "id": "c067e995",
   "metadata": {},
   "source": [
    "## Image\n",
    "![alt text](imgage.jpg)\n",
    "![image.png is an alt text](attachment:image.png)\n",
    "![image from the skyrim blog](genshin-impact-scaramouche_djp1.jpg)"
   ]
  },
  {
   "cell_type": "markdown",
   "id": "3d00b614",
   "metadata": {},
   "source": [
    "## Table\n",
    "| Syntax | Description |\n",
    "| ------ | ----------- |\n",
    "| Header | Title |\n",
    "| Paragraph | Text |"
   ]
  },
  {
   "cell_type": "code",
   "execution_count": null,
   "id": "1b1f5c2b",
   "metadata": {},
   "outputs": [],
   "source": []
  },
  {
   "cell_type": "markdown",
   "id": "5cff4e8b",
   "metadata": {},
   "source": [
    "## `Russia` attacked `Ukrain` "
   ]
  },
  {
   "cell_type": "code",
   "execution_count": 2,
   "id": "0f5090fe",
   "metadata": {},
   "outputs": [
    {
     "name": "stdout",
     "output_type": "stream",
     "text": [
      "War is not the solution!!\n"
     ]
    }
   ],
   "source": [
    "print(\"War is not the solution!!\")"
   ]
  },
  {
   "cell_type": "code",
   "execution_count": null,
   "id": "1b01b35e",
   "metadata": {},
   "outputs": [],
   "source": [
    "shift + \\ --> |"
   ]
  },
  {
   "cell_type": "markdown",
   "id": "44d1c3d3",
   "metadata": {},
   "source": [
    "[markdown cheatsheet](https://www.markdownguide.org/cheat-sheet/)"
   ]
  },
  {
   "cell_type": "code",
   "execution_count": null,
   "id": "fa24b998",
   "metadata": {},
   "outputs": [],
   "source": [
    "key to conv code cell to markdown is esc + m\n",
    "key to convert markdown cell to code cell is esc + y + enter"
   ]
  },
  {
   "cell_type": "code",
   "execution_count": null,
   "id": "b42d7da5",
   "metadata": {},
   "outputs": [],
   "source": []
  },
  {
   "cell_type": "code",
   "execution_count": null,
   "id": "e8353085",
   "metadata": {},
   "outputs": [],
   "source": [
    "key to make new cell below is esc + b\n",
    "key to have a new cell above is esc + a"
   ]
  },
  {
   "cell_type": "code",
   "execution_count": null,
   "id": "5018e2ad",
   "metadata": {},
   "outputs": [],
   "source": []
  },
  {
   "cell_type": "code",
   "execution_count": null,
   "id": "a5243f68",
   "metadata": {},
   "outputs": [],
   "source": [
    "1 2 3 4 5 --> numbers\n",
    "a b c --> string"
   ]
  },
  {
   "cell_type": "code",
   "execution_count": null,
   "id": "c3aca47b",
   "metadata": {},
   "outputs": [],
   "source": [
    "Data Types:\n",
    "    Data types are format of literals or values that is stored in a variable.\n",
    "    Built in data types\n",
    "    int\n",
    "    string\n",
    "    float\n",
    "    complex ..."
   ]
  },
  {
   "cell_type": "code",
   "execution_count": null,
   "id": "1879c3bd",
   "metadata": {},
   "outputs": [],
   "source": [
    "a = 1\n",
    "b = 2"
   ]
  },
  {
   "cell_type": "code",
   "execution_count": null,
   "id": "c802d4c6",
   "metadata": {},
   "outputs": [],
   "source": [
    "c = \"hello\""
   ]
  },
  {
   "cell_type": "code",
   "execution_count": 7,
   "id": "cb7d61df",
   "metadata": {},
   "outputs": [
    {
     "name": "stdout",
     "output_type": "stream",
     "text": [
      "0.75\n"
     ]
    }
   ],
   "source": [
    "print(a/b)"
   ]
  },
  {
   "cell_type": "code",
   "execution_count": 3,
   "id": "809ba1c6",
   "metadata": {},
   "outputs": [],
   "source": [
    "a = 3\n",
    "b = 4"
   ]
  },
  {
   "cell_type": "code",
   "execution_count": 4,
   "id": "3a3ddbde",
   "metadata": {},
   "outputs": [
    {
     "name": "stdout",
     "output_type": "stream",
     "text": [
      "7\n"
     ]
    }
   ],
   "source": [
    "print(a+b)"
   ]
  },
  {
   "cell_type": "code",
   "execution_count": 5,
   "id": "aae7a357",
   "metadata": {},
   "outputs": [
    {
     "name": "stdout",
     "output_type": "stream",
     "text": [
      "1\n"
     ]
    }
   ],
   "source": [
    "print(b - a)"
   ]
  },
  {
   "cell_type": "code",
   "execution_count": 6,
   "id": "47f41532",
   "metadata": {},
   "outputs": [
    {
     "name": "stdout",
     "output_type": "stream",
     "text": [
      "12\n"
     ]
    }
   ],
   "source": [
    "print(a*b)"
   ]
  },
  {
   "cell_type": "code",
   "execution_count": null,
   "id": "e266162c",
   "metadata": {},
   "outputs": [],
   "source": []
  }
 ],
 "metadata": {
  "kernelspec": {
   "display_name": "Python 3 (ipykernel)",
   "language": "python",
   "name": "python3"
  },
  "language_info": {
   "codemirror_mode": {
    "name": "ipython",
    "version": 3
   },
   "file_extension": ".py",
   "mimetype": "text/x-python",
   "name": "python",
   "nbconvert_exporter": "python",
   "pygments_lexer": "ipython3",
   "version": "3.9.7"
  }
 },
 "nbformat": 4,
 "nbformat_minor": 5
}
